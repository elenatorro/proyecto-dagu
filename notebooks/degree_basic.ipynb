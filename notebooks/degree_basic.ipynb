{
 "cells": [
  {
   "cell_type": "code",
   "execution_count": 1,
   "metadata": {},
   "outputs": [],
   "source": [
    "DEGREE_NAME = 'grado_en_ingenieria_de_datos'\n",
    "UNIVERSITY_NAME = ''"
   ]
  },
  {
   "cell_type": "code",
   "execution_count": 2,
   "metadata": {},
   "outputs": [],
   "source": [
    "DEGREE_COLUMNS = ['code',\n",
    "'university',\n",
    "'name',\n",
    "'summary',\n",
    "'area',\n",
    "'years',\n",
    "'num_credits',\n",
    "'num_places',\n",
    "'faculty',\n",
    "'url',\n",
    "'price_1',\n",
    "'price_2',\n",
    "'price_3',\n",
    "'price_4',\n",
    "'total_min_price',\n",
    "'admission_mark',\n",
    "'profile',\n",
    "'opportunities',\n",
    "'learning_mode',\n",
    "'mobility_program',\n",
    "'working_practices',\n",
    "'basic_skills',\n",
    "'specific_skills',\n",
    "'transversal_skills',\n",
    "'double_degree',\n",
    "'schedule',\n",
    "'subjects',\n",
    "'languages',\n",
    "'mentions'\n",
    "]"
   ]
  },
  {
   "cell_type": "code",
   "execution_count": null,
   "metadata": {},
   "outputs": [],
   "source": [
    "DEGREE_DATA=DEGREE_DATA = {\n",
    "    'code': 0,\n",
    "    'university': UNIVERSITY_NAME,\n",
    "    'name': DEGREE_NAME,\n",
    "    'summary': '''\n",
    "    ''',\n",
    "    'area': '',\n",
    "    'years': 4,\n",
    "    'num_credits': 240,\n",
    "    'num_places': 190,\n",
    "    'faculty': '',\n",
    "    'url': '',\n",
    "    'price_1': 0,\n",
    "    'price_2': 0,\n",
    "    'price_3': 0,\n",
    "    'price_4': 0,\n",
    "    'total_min_price': 240 * 0,\n",
    "    'admission_mark': 0,\n",
    "    'profile': '''\n",
    "    ''',\n",
    "    'opportunities': '''\n",
    "    '''\n",
    "    'learning_mode': 'Presencial',\n",
    "    'mobility_program': '''\n",
    "    ''',\n",
    "    'working_practices': '''\n",
    "    ''',\n",
    "    'basic_skills': '''\n",
    "    ''',\n",
    "    'specific_skills': '''\n",
    "    ''',\n",
    "    'transversal_skills': '''\n",
    "    ''',\n",
    "    'double_degree': False,\n",
    "    'schedule': '',\n",
    "    'subjects': '',\n",
    "    'languages': '',\n",
    "    'mentions': '''\n",
    "    '''\n",
    "}"
   ]
  },
  {
   "cell_type": "code",
   "execution_count": null,
   "metadata": {},
   "outputs": [],
   "source": [
    "degree_df = pd.DataFrame([DEGREE_DATA], columns=DEGREE_COLUMNS)"
   ]
  },
  {
   "cell_type": "code",
   "execution_count": null,
   "metadata": {},
   "outputs": [],
   "source": [
    "degree_df.to_csv('{}.csv'.format(DEGREE_NAME))"
   ]
  }
 ],
 "metadata": {
  "kernelspec": {
   "display_name": "Python 3",
   "language": "python",
   "name": "python3"
  },
  "language_info": {
   "codemirror_mode": {
    "name": "ipython",
    "version": 3
   },
   "file_extension": ".py",
   "mimetype": "text/x-python",
   "name": "python",
   "nbconvert_exporter": "python",
   "pygments_lexer": "ipython3",
   "version": "3.7.7"
  }
 },
 "nbformat": 4,
 "nbformat_minor": 4
}
