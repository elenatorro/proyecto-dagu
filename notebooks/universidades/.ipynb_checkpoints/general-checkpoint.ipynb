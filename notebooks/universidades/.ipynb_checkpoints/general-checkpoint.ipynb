{
 "cells": [
  {
   "cell_type": "markdown",
   "metadata": {},
   "source": [
    "## General"
   ]
  },
  {
   "cell_type": "code",
   "execution_count": null,
   "metadata": {},
   "outputs": [],
   "source": [
    "DEGREE_NAME = 'nombre_del_grado'"
   ]
  },
  {
   "cell_type": "code",
   "execution_count": null,
   "metadata": {},
   "outputs": [],
   "source": [
    "UNIVERSITY_NAME = 'nombre_de_la_universidad'"
   ]
  },
  {
   "cell_type": "code",
   "execution_count": null,
   "metadata": {},
   "outputs": [],
   "source": [
    "DEGREE_URL 'url_del_grado'"
   ]
  },
  {
   "cell_type": "code",
   "execution_count": 1,
   "metadata": {},
   "outputs": [],
   "source": [
    "DEGREE_COLUMNS = ['code',\n",
    "'university',\n",
    "'name',\n",
    "'summary',\n",
    "'area',\n",
    "'years',\n",
    "'num_credits',\n",
    "'num_places',\n",
    "'faculty',\n",
    "'url',\n",
    "'price_1',\n",
    "'price_2',\n",
    "'price_3',\n",
    "'price_4',\n",
    "'total_min_price',\n",
    "'admission_mark',\n",
    "'profile',\n",
    "'opportunities',\n",
    "'learning_mode',\n",
    "'mobility_program',\n",
    "'working_practices',\n",
    "'basic_skills',\n",
    "'specific_skills',\n",
    "'transversal_skills',\n",
    "'double_degree',\n",
    "'schedule',\n",
    "'subjects',\n",
    "'languages',\n",
    "'mentions'\n",
    "]"
   ]
  },
  {
   "cell_type": "code",
   "execution_count": null,
   "metadata": {},
   "outputs": [],
   "source": [
    "SUBJECT_COLUMNS = [\n",
    "    'code',\n",
    "    'name',\n",
    "    'subject_type',\n",
    "    'num_credits',\n",
    "    'period',\n",
    "    'course',\n",
    "    'language',\n",
    "    'content',\n",
    "    'mention',\n",
    "    'url',\n",
    "    'bibliography'\n",
    "]"
   ]
  },
  {
   "cell_type": "code",
   "execution_count": 2,
   "metadata": {},
   "outputs": [],
   "source": [
    "subject_types = 'Formación Básica, Obligatoria, Optativa, Obligatoria-Optativa, Trabajo de Fin de Grado'\n",
    "\n",
    "periods = {\n",
    "    0: 'Anual',\n",
    "    1: 'Primer Semestre',\n",
    "    2: 'Segundo Semestre'\n",
    "}\n",
    "\n",
    "learning_modes = 'Presencial, Online, A distancia, Semipresencial'"
   ]
  },
  {
   "cell_type": "markdown",
   "metadata": {},
   "source": [
    "## Leer PDF\n",
    "\n",
    "Un ejemplo simple de qué herramienta usar para leer pdfs.\n",
    "\n",
    "> Nota: aún no tengo ningún ejemplo haciendo a scrapping a un grado con todas sus asignaturas en pdf, lo incluiré aquí cuando lo tenga."
   ]
  },
  {
   "cell_type": "code",
   "execution_count": 111,
   "metadata": {},
   "outputs": [],
   "source": [
    "url = 'your_pdf.pdf'"
   ]
  },
  {
   "cell_type": "markdown",
   "metadata": {},
   "source": [
    "### Usando tabula"
   ]
  },
  {
   "cell_type": "code",
   "execution_count": null,
   "metadata": {},
   "outputs": [],
   "source": [
    "import tabula\n",
    "\n",
    "df = tabula.read_pdf(url, pages='all', stream=True)\n",
    "df"
   ]
  },
  {
   "cell_type": "markdown",
   "metadata": {},
   "source": [
    "### Usando requests + pdftotext"
   ]
  },
  {
   "cell_type": "code",
   "execution_count": 113,
   "metadata": {},
   "outputs": [],
   "source": [
    "import requests\n",
    "import pdftotext\n",
    "\n",
    "def read_subject_pdf(url):\n",
    "    page = requests.get(url)\n",
    "    subject_text = ''\n",
    "\n",
    "    open('subject.pdf', 'wb').write(page.content)\n",
    "    \n",
    "    with open(\"subject.pdf\", \"rb\") as f:\n",
    "        pdf = pdftotext.PDF(f)\n",
    "        \n",
    "    for page in pdf:\n",
    "        subject_text += page\n",
    "\n",
    "    return subject_text"
   ]
  },
  {
   "cell_type": "code",
   "execution_count": 114,
   "metadata": {},
   "outputs": [],
   "source": [
    "def find_between(s, first, last):\n",
    "    try:\n",
    "        start = s.index( first ) + len( first )\n",
    "        end = s.index( last, start )\n",
    "        return s[start:end]\n",
    "    except ValueError:\n",
    "        return \"\""
   ]
  },
  {
   "cell_type": "code",
   "execution_count": 115,
   "metadata": {},
   "outputs": [],
   "source": [
    "subject_text = read_subject_pdf(url)"
   ]
  },
  {
   "cell_type": "code",
   "execution_count": 116,
   "metadata": {},
   "outputs": [],
   "source": [
    "contenidos = find_between(subject_text, 'CONTENIDOS', 'METODOLOGÍA DOCENTE Y ACTIVIDADES FORMATIVAS')"
   ]
  },
  {
   "cell_type": "code",
   "execution_count": null,
   "metadata": {},
   "outputs": [],
   "source": [
    "print(contenidos)"
   ]
  },
  {
   "cell_type": "code",
   "execution_count": null,
   "metadata": {},
   "outputs": [],
   "source": [
    "print(subject_text)"
   ]
  },
  {
   "cell_type": "markdown",
   "metadata": {},
   "source": [
    "## Leer web"
   ]
  },
  {
   "cell_type": "markdown",
   "metadata": {},
   "source": [
    "### Usando requests + beautifulsoup"
   ]
  },
  {
   "cell_type": "code",
   "execution_count": null,
   "metadata": {},
   "outputs": [],
   "source": [
    "import requests\n",
    "from bs4 import BeautifulSoup\n",
    "import pandas as pd\n",
    "\n",
    "subjects_list = []"
   ]
  }
 ],
 "metadata": {
  "kernelspec": {
   "display_name": "Python 3",
   "language": "python",
   "name": "python3"
  },
  "language_info": {
   "codemirror_mode": {
    "name": "ipython",
    "version": 3
   },
   "file_extension": ".py",
   "mimetype": "text/x-python",
   "name": "python",
   "nbconvert_exporter": "python",
   "pygments_lexer": "ipython3",
   "version": "3.7.7"
  }
 },
 "nbformat": 4,
 "nbformat_minor": 4
}
