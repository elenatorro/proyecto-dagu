{
 "cells": [
  {
   "cell_type": "markdown",
   "metadata": {},
   "source": [
    "## General"
   ]
  },
  {
   "cell_type": "code",
   "execution_count": null,
   "metadata": {},
   "outputs": [],
   "source": [
    "DEGREE_NAME = 'nombre_del_grado'"
   ]
  },
  {
   "cell_type": "code",
   "execution_count": null,
   "metadata": {},
   "outputs": [],
   "source": [
    "UNIVERSITY_NAME = 'nombre_de_la_universidad'"
   ]
  },
  {
   "cell_type": "code",
   "execution_count": null,
   "metadata": {},
   "outputs": [],
   "source": [
    "DEGREE_URL 'url_del_grado'"
   ]
  },
  {
   "cell_type": "code",
   "execution_count": 1,
   "metadata": {},
   "outputs": [],
   "source": [
    "DEGREE_COLUMNS = ['code',\n",
    "'university',\n",
    "'name',\n",
    "'summary',\n",
    "'area',\n",
    "'years',\n",
    "'num_credits',\n",
    "'num_places',\n",
    "'faculty',\n",
    "'url',\n",
    "'price_1',\n",
    "'price_2',\n",
    "'price_3',\n",
    "'price_4',\n",
    "'total_min_price',\n",
    "'admission_mark',\n",
    "'profile',\n",
    "'opportunities',\n",
    "'learning_mode',\n",
    "'mobility_program',\n",
    "'working_practices',\n",
    "'basic_skills',\n",
    "'specific_skills',\n",
    "'transversal_skills',\n",
    "'double_degree',\n",
    "'schedule',\n",
    "'subjects',\n",
    "'languages',\n",
    "'mentions'\n",
    "]"
   ]
  },
  {
   "cell_type": "code",
   "execution_count": null,
   "metadata": {},
   "outputs": [],
   "source": [
    "SUBJECT_COLUMNS = [\n",
    "    'code',\n",
    "    'name',\n",
    "    'subject_type',\n",
    "    'num_credits',\n",
    "    'period',\n",
    "    'course',\n",
    "    'language',\n",
    "    'content',\n",
    "    'mention',\n",
    "    'url',\n",
    "    'bibliography'\n",
    "]"
   ]
  },
  {
   "cell_type": "code",
   "execution_count": 2,
   "metadata": {},
   "outputs": [],
   "source": [
    "subject_types = 'Formación Básica, Obligatoria, Optativa, Obligatoria-Optativa, Trabajo de Fin de Grado'\n",
    "\n",
    "periods = {\n",
    "    0: 'Anual',\n",
    "    1: 'Primer Semestre',\n",
    "    2: 'Segundo Semestre'\n",
    "}\n",
    "\n",
    "learning_modes = 'Presencial, Online, A distancia, Semipresencial'"
   ]
  },
  {
   "cell_type": "markdown",
   "metadata": {},
   "source": [
    "## Leer PDF\n",
    "\n",
    "Un ejemplo simple de qué herramienta usar para leer pdfs.\n",
    "\n",
    "> Nota: aún no tengo ningún ejemplo haciendo a scrapping a un grado con todas sus asignaturas en pdf, lo incluiré aquí cuando lo tenga."
   ]
  },
  {
   "cell_type": "code",
   "execution_count": 111,
   "metadata": {},
   "outputs": [],
   "source": [
    "url = 'your_pdf.pdf'"
   ]
  },
  {
   "cell_type": "markdown",
   "metadata": {},
   "source": [
    "### Usando tabula"
   ]
  },
  {
   "cell_type": "code",
   "execution_count": null,
   "metadata": {},
   "outputs": [],
   "source": [
    "import tabula\n",
    "\n",
    "df = tabula.read_pdf(url, pages='all', stream=True)\n",
    "df"
   ]
  },
  {
   "cell_type": "markdown",
   "metadata": {},
   "source": [
    "### Usando requests + pdftotext"
   ]
  },
  {
   "cell_type": "code",
   "execution_count": 113,
   "metadata": {},
   "outputs": [],
   "source": [
    "import requests\n",
    "import pdftotext\n",
    "\n",
    "def read_subject_pdf(url):\n",
    "    page = requests.get(url)\n",
    "    subject_text = ''\n",
    "\n",
    "    open('subject.pdf', 'wb').write(page.content)\n",
    "    \n",
    "    with open(\"subject.pdf\", \"rb\") as f:\n",
    "        pdf = pdftotext.PDF(f)\n",
    "        \n",
    "    for page in pdf:\n",
    "        subject_text += page\n",
    "\n",
    "    return subject_text"
   ]
  },
  {
   "cell_type": "code",
   "execution_count": 114,
   "metadata": {},
   "outputs": [],
   "source": [
    "def find_between(s, first, last):\n",
    "    try:\n",
    "        start = s.index( first ) + len( first )\n",
    "        end = s.index( last, start )\n",
    "        return s[start:end]\n",
    "    except ValueError:\n",
    "        return \"\""
   ]
  },
  {
   "cell_type": "code",
   "execution_count": 115,
   "metadata": {},
   "outputs": [],
   "source": [
    "subject_text = read_subject_pdf(url)"
   ]
  },
  {
   "cell_type": "code",
   "execution_count": 116,
   "metadata": {},
   "outputs": [],
   "source": [
    "contenidos = find_between(subject_text, 'CONTENIDOS', 'METODOLOGÍA DOCENTE Y ACTIVIDADES FORMATIVAS')"
   ]
  },
  {
   "cell_type": "code",
   "execution_count": null,
   "metadata": {},
   "outputs": [],
   "source": [
    "print(contenidos)"
   ]
  },
  {
   "cell_type": "code",
   "execution_count": null,
   "metadata": {},
   "outputs": [],
   "source": [
    "print(subject_text)"
   ]
  },
  {
   "cell_type": "markdown",
   "metadata": {},
   "source": [
    "## Leer web"
   ]
  },
  {
   "cell_type": "markdown",
   "metadata": {},
   "source": [
    "### Usando requests + beautifulsoup"
   ]
  },
  {
   "cell_type": "code",
   "execution_count": null,
   "metadata": {},
   "outputs": [],
   "source": [
    "import requests\n",
    "from bs4 import BeautifulSoup\n",
    "import pandas as pd\n",
    "\n",
    "subjects_list = []"
   ]
  },
  {
   "cell_type": "code",
   "execution_count": null,
   "metadata": {},
   "outputs": [],
   "source": [
    "def get_subject(url):\n",
    "    page = requests.get(url, verify=False)\n",
    "    soup = BeautifulSoup(page.content, 'html.parser')\n",
    "    \n",
    "    name = soup.select('.assignaturaInfo > h2')[0].getText(strip=True)\n",
    "    code = soup.select('.codi_assignatura')[0].getText().split(': ')[1]\n",
    "    num_credits = int(soup.select('.credits')[0].getText().split(': ')[1])\n",
    "    \n",
    "    subject = soup.select('.relacions > table > tbody > tr > td')[1].getText(strip=True)\n",
    "    course = int(soup.select('.relacions > table > tbody > tr > td')[2].getText())\n",
    "    period = int(soup.select('.relacions > table > tbody > tr > td')[3].getText())\n",
    "    subject_type = SUBJECT_TYPE[subject] or '?'\n",
    "\n",
    "    languages = []\n",
    "\n",
    "    if soup.select('.idiomes > dl > dd')[1].getText(strip=True) != 'No':\n",
    "        languages.append('Inglés')\n",
    "    \n",
    "    if soup.select('.idiomes > dl > dd')[2].getText(strip=True) != 'No':\n",
    "        languages.append('Catalán')\n",
    "    \n",
    "    if soup.select('.idiomes > dl > dd')[3].getText(strip=True) != 'No':\n",
    "        languages.append('Español')\n",
    "\n",
    "    language = ', '.join(languages)\n",
    "    content = soup.select('.continguts')[0].getText(strip=True)\n",
    "    bibliography = soup.select('.bibliografia')[0].getText(strip=True)\n",
    "    \n",
    "    subject_data = {\n",
    "     'code': code,\n",
    "     'name': name,\n",
    "     'subject_type': subject_type,\n",
    "     'num_credits': num_credits,\n",
    "     'period': period,\n",
    "     'course': course,\n",
    "     'language': language,\n",
    "     'content': content,\n",
    "     'mention': '',\n",
    "     'url': url,\n",
    "     'bibliography': bibliography\n",
    "    }\n",
    "    \n",
    "    subjects_list.append(subject_data)"
   ]
  }
 ],
 "metadata": {
  "kernelspec": {
   "display_name": "Python 3",
   "language": "python",
   "name": "python3"
  },
  "language_info": {
   "codemirror_mode": {
    "name": "ipython",
    "version": 3
   },
   "file_extension": ".py",
   "mimetype": "text/x-python",
   "name": "python",
   "nbconvert_exporter": "python",
   "pygments_lexer": "ipython3",
   "version": "3.7.7"
  }
 },
 "nbformat": 4,
 "nbformat_minor": 4
}
