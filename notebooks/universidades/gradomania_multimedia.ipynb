{
 "cells": [
  {
   "cell_type": "code",
   "execution_count": 1,
   "metadata": {},
   "outputs": [],
   "source": [
    "import requests\n",
    "from bs4 import BeautifulSoup\n",
    "import pandas as pd"
   ]
  },
  {
   "cell_type": "code",
   "execution_count": 2,
   "metadata": {},
   "outputs": [],
   "source": [
    "DEGREE_COLUMNS = [\n",
    "    'university',\n",
    "    'name',\n",
    "    'university_url',\n",
    "    'modality',\n",
    "    'price',\n",
    "    'location',\n",
    "    'credits'\n",
    "]\n",
    "\n",
    "TYPE_NAME = 'grados_multimedia'"
   ]
  },
  {
   "cell_type": "code",
   "execution_count": 3,
   "metadata": {},
   "outputs": [],
   "source": [
    "LISTA_GRADOS_URL = 'https://www.gradomania.com/index.php?texto_busqueda=multimedia&pagina=cursos'"
   ]
  },
  {
   "cell_type": "code",
   "execution_count": 4,
   "metadata": {},
   "outputs": [],
   "source": [
    "PATH = 'https://www.gradomania.com/'"
   ]
  },
  {
   "cell_type": "code",
   "execution_count": 5,
   "metadata": {},
   "outputs": [],
   "source": [
    "DEGREE_LIST = []\n",
    "DEGREE_ERRORS = []"
   ]
  },
  {
   "cell_type": "code",
   "execution_count": 6,
   "metadata": {},
   "outputs": [],
   "source": [
    "def get_text(value):\n",
    "    return value[0].getText(strip=True) if len(value) else ''"
   ]
  },
  {
   "cell_type": "code",
   "execution_count": 7,
   "metadata": {},
   "outputs": [],
   "source": [
    "def get_degree(url):\n",
    "    page = requests.get(url, verify=False)\n",
    "    soup = BeautifulSoup(page.content, 'html.parser')\n",
    "\n",
    "    try:\n",
    "        name = soup.select('.valor.titulacion')[0].getText(strip=True)\n",
    "        university = soup.select('.valor.imparte')[0].getText(strip=True)\n",
    "        university_url = soup.select('.valor.imparte a')[0].get('href')\n",
    "        modality = soup.select('.valor.modalidad')[0].getText(strip=True)\n",
    "        price = soup.select('.valor.precio')[0].getText(strip=True)\n",
    "        location = soup.select('.valor.lugar')[0].getText(strip=True)\n",
    "        credits = soup.select('.valor.duracion')\n",
    "\n",
    "        degree_data = {\n",
    "            'name': name,\n",
    "            'university': university,\n",
    "            'university_url': university_url,\n",
    "            'modality': modality,\n",
    "            'price': price,\n",
    "            'location': location,\n",
    "            'credits': get_text(credits)\n",
    "        }\n",
    "\n",
    "        DEGREE_LIST.append(degree_data)\n",
    "    except:\n",
    "        DEGREE_ERRORS.append(url)"
   ]
  },
  {
   "cell_type": "code",
   "execution_count": 8,
   "metadata": {},
   "outputs": [],
   "source": [
    "def get_degrees(url):\n",
    "    page = requests.get(url, verify=False)\n",
    "    soup = BeautifulSoup(page.content, 'html.parser')\n",
    "    \n",
    "    degrees = soup.select('.ficha_evento_texto > article > a:last-of-type')\n",
    "\n",
    "    for degree in degrees:\n",
    "        degree_url = degree.get('href')\n",
    "        get_degree(degree_url)"
   ]
  },
  {
   "cell_type": "code",
   "execution_count": 9,
   "metadata": {},
   "outputs": [],
   "source": [
    "def get_degree_pages(url):\n",
    "    page = requests.get(url, verify=False)\n",
    "    soup = BeautifulSoup(page.content, 'html.parser')\n",
    "    \n",
    "    lista = soup.select('.paginador_lista ul > li > a')\n",
    "    \n",
    "    if len(lista):\n",
    "        for elem in lista:\n",
    "            page_url = elem.get('href')\n",
    "            get_degrees(PATH + page_url)\n",
    "    else:\n",
    "        get_degrees(url)"
   ]
  },
  {
   "cell_type": "code",
   "execution_count": 10,
   "metadata": {},
   "outputs": [
    {
     "name": "stderr",
     "output_type": "stream",
     "text": [
      "/Users/elenatorro/.local/share/virtualenvs/unknowniversity-5YM2mFLK/lib/python3.7/site-packages/urllib3/connectionpool.py:986: InsecureRequestWarning: Unverified HTTPS request is being made to host 'www.gradomania.com'. Adding certificate verification is strongly advised. See: https://urllib3.readthedocs.io/en/latest/advanced-usage.html#ssl-warnings\n",
      "  InsecureRequestWarning,\n",
      "/Users/elenatorro/.local/share/virtualenvs/unknowniversity-5YM2mFLK/lib/python3.7/site-packages/urllib3/connectionpool.py:986: InsecureRequestWarning: Unverified HTTPS request is being made to host 'www.gradomania.com'. Adding certificate verification is strongly advised. See: https://urllib3.readthedocs.io/en/latest/advanced-usage.html#ssl-warnings\n",
      "  InsecureRequestWarning,\n",
      "/Users/elenatorro/.local/share/virtualenvs/unknowniversity-5YM2mFLK/lib/python3.7/site-packages/urllib3/connectionpool.py:986: InsecureRequestWarning: Unverified HTTPS request is being made to host 'www.gradomania.com'. Adding certificate verification is strongly advised. See: https://urllib3.readthedocs.io/en/latest/advanced-usage.html#ssl-warnings\n",
      "  InsecureRequestWarning,\n",
      "/Users/elenatorro/.local/share/virtualenvs/unknowniversity-5YM2mFLK/lib/python3.7/site-packages/urllib3/connectionpool.py:986: InsecureRequestWarning: Unverified HTTPS request is being made to host 'www.gradomania.com'. Adding certificate verification is strongly advised. See: https://urllib3.readthedocs.io/en/latest/advanced-usage.html#ssl-warnings\n",
      "  InsecureRequestWarning,\n",
      "/Users/elenatorro/.local/share/virtualenvs/unknowniversity-5YM2mFLK/lib/python3.7/site-packages/urllib3/connectionpool.py:986: InsecureRequestWarning: Unverified HTTPS request is being made to host 'www.gradomania.com'. Adding certificate verification is strongly advised. See: https://urllib3.readthedocs.io/en/latest/advanced-usage.html#ssl-warnings\n",
      "  InsecureRequestWarning,\n",
      "/Users/elenatorro/.local/share/virtualenvs/unknowniversity-5YM2mFLK/lib/python3.7/site-packages/urllib3/connectionpool.py:986: InsecureRequestWarning: Unverified HTTPS request is being made to host 'www.gradomania.com'. Adding certificate verification is strongly advised. See: https://urllib3.readthedocs.io/en/latest/advanced-usage.html#ssl-warnings\n",
      "  InsecureRequestWarning,\n",
      "/Users/elenatorro/.local/share/virtualenvs/unknowniversity-5YM2mFLK/lib/python3.7/site-packages/urllib3/connectionpool.py:986: InsecureRequestWarning: Unverified HTTPS request is being made to host 'www.gradomania.com'. Adding certificate verification is strongly advised. See: https://urllib3.readthedocs.io/en/latest/advanced-usage.html#ssl-warnings\n",
      "  InsecureRequestWarning,\n",
      "/Users/elenatorro/.local/share/virtualenvs/unknowniversity-5YM2mFLK/lib/python3.7/site-packages/urllib3/connectionpool.py:986: InsecureRequestWarning: Unverified HTTPS request is being made to host 'www.gradomania.com'. Adding certificate verification is strongly advised. See: https://urllib3.readthedocs.io/en/latest/advanced-usage.html#ssl-warnings\n",
      "  InsecureRequestWarning,\n",
      "/Users/elenatorro/.local/share/virtualenvs/unknowniversity-5YM2mFLK/lib/python3.7/site-packages/urllib3/connectionpool.py:986: InsecureRequestWarning: Unverified HTTPS request is being made to host 'www.gradomania.com'. Adding certificate verification is strongly advised. See: https://urllib3.readthedocs.io/en/latest/advanced-usage.html#ssl-warnings\n",
      "  InsecureRequestWarning,\n",
      "/Users/elenatorro/.local/share/virtualenvs/unknowniversity-5YM2mFLK/lib/python3.7/site-packages/urllib3/connectionpool.py:986: InsecureRequestWarning: Unverified HTTPS request is being made to host 'www.gradomania.com'. Adding certificate verification is strongly advised. See: https://urllib3.readthedocs.io/en/latest/advanced-usage.html#ssl-warnings\n",
      "  InsecureRequestWarning,\n",
      "/Users/elenatorro/.local/share/virtualenvs/unknowniversity-5YM2mFLK/lib/python3.7/site-packages/urllib3/connectionpool.py:986: InsecureRequestWarning: Unverified HTTPS request is being made to host 'www.gradomania.com'. Adding certificate verification is strongly advised. See: https://urllib3.readthedocs.io/en/latest/advanced-usage.html#ssl-warnings\n",
      "  InsecureRequestWarning,\n",
      "/Users/elenatorro/.local/share/virtualenvs/unknowniversity-5YM2mFLK/lib/python3.7/site-packages/urllib3/connectionpool.py:986: InsecureRequestWarning: Unverified HTTPS request is being made to host 'www.gradomania.com'. Adding certificate verification is strongly advised. See: https://urllib3.readthedocs.io/en/latest/advanced-usage.html#ssl-warnings\n",
      "  InsecureRequestWarning,\n",
      "/Users/elenatorro/.local/share/virtualenvs/unknowniversity-5YM2mFLK/lib/python3.7/site-packages/urllib3/connectionpool.py:986: InsecureRequestWarning: Unverified HTTPS request is being made to host 'www.gradomania.com'. Adding certificate verification is strongly advised. See: https://urllib3.readthedocs.io/en/latest/advanced-usage.html#ssl-warnings\n",
      "  InsecureRequestWarning,\n",
      "/Users/elenatorro/.local/share/virtualenvs/unknowniversity-5YM2mFLK/lib/python3.7/site-packages/urllib3/connectionpool.py:986: InsecureRequestWarning: Unverified HTTPS request is being made to host 'www.gradomania.com'. Adding certificate verification is strongly advised. See: https://urllib3.readthedocs.io/en/latest/advanced-usage.html#ssl-warnings\n",
      "  InsecureRequestWarning,\n",
      "/Users/elenatorro/.local/share/virtualenvs/unknowniversity-5YM2mFLK/lib/python3.7/site-packages/urllib3/connectionpool.py:986: InsecureRequestWarning: Unverified HTTPS request is being made to host 'www.gradomania.com'. Adding certificate verification is strongly advised. See: https://urllib3.readthedocs.io/en/latest/advanced-usage.html#ssl-warnings\n",
      "  InsecureRequestWarning,\n",
      "/Users/elenatorro/.local/share/virtualenvs/unknowniversity-5YM2mFLK/lib/python3.7/site-packages/urllib3/connectionpool.py:986: InsecureRequestWarning: Unverified HTTPS request is being made to host 'www.gradomania.com'. Adding certificate verification is strongly advised. See: https://urllib3.readthedocs.io/en/latest/advanced-usage.html#ssl-warnings\n",
      "  InsecureRequestWarning,\n",
      "/Users/elenatorro/.local/share/virtualenvs/unknowniversity-5YM2mFLK/lib/python3.7/site-packages/urllib3/connectionpool.py:986: InsecureRequestWarning: Unverified HTTPS request is being made to host 'www.gradomania.com'. Adding certificate verification is strongly advised. See: https://urllib3.readthedocs.io/en/latest/advanced-usage.html#ssl-warnings\n",
      "  InsecureRequestWarning,\n",
      "/Users/elenatorro/.local/share/virtualenvs/unknowniversity-5YM2mFLK/lib/python3.7/site-packages/urllib3/connectionpool.py:986: InsecureRequestWarning: Unverified HTTPS request is being made to host 'www.gradomania.com'. Adding certificate verification is strongly advised. See: https://urllib3.readthedocs.io/en/latest/advanced-usage.html#ssl-warnings\n",
      "  InsecureRequestWarning,\n",
      "/Users/elenatorro/.local/share/virtualenvs/unknowniversity-5YM2mFLK/lib/python3.7/site-packages/urllib3/connectionpool.py:986: InsecureRequestWarning: Unverified HTTPS request is being made to host 'www.gradomania.com'. Adding certificate verification is strongly advised. See: https://urllib3.readthedocs.io/en/latest/advanced-usage.html#ssl-warnings\n",
      "  InsecureRequestWarning,\n",
      "/Users/elenatorro/.local/share/virtualenvs/unknowniversity-5YM2mFLK/lib/python3.7/site-packages/urllib3/connectionpool.py:986: InsecureRequestWarning: Unverified HTTPS request is being made to host 'www.gradomania.com'. Adding certificate verification is strongly advised. See: https://urllib3.readthedocs.io/en/latest/advanced-usage.html#ssl-warnings\n",
      "  InsecureRequestWarning,\n",
      "/Users/elenatorro/.local/share/virtualenvs/unknowniversity-5YM2mFLK/lib/python3.7/site-packages/urllib3/connectionpool.py:986: InsecureRequestWarning: Unverified HTTPS request is being made to host 'www.gradomania.com'. Adding certificate verification is strongly advised. See: https://urllib3.readthedocs.io/en/latest/advanced-usage.html#ssl-warnings\n",
      "  InsecureRequestWarning,\n",
      "/Users/elenatorro/.local/share/virtualenvs/unknowniversity-5YM2mFLK/lib/python3.7/site-packages/urllib3/connectionpool.py:986: InsecureRequestWarning: Unverified HTTPS request is being made to host 'www.gradomania.com'. Adding certificate verification is strongly advised. See: https://urllib3.readthedocs.io/en/latest/advanced-usage.html#ssl-warnings\n",
      "  InsecureRequestWarning,\n"
     ]
    },
    {
     "name": "stderr",
     "output_type": "stream",
     "text": [
      "/Users/elenatorro/.local/share/virtualenvs/unknowniversity-5YM2mFLK/lib/python3.7/site-packages/urllib3/connectionpool.py:986: InsecureRequestWarning: Unverified HTTPS request is being made to host 'www.gradomania.com'. Adding certificate verification is strongly advised. See: https://urllib3.readthedocs.io/en/latest/advanced-usage.html#ssl-warnings\n",
      "  InsecureRequestWarning,\n",
      "/Users/elenatorro/.local/share/virtualenvs/unknowniversity-5YM2mFLK/lib/python3.7/site-packages/urllib3/connectionpool.py:986: InsecureRequestWarning: Unverified HTTPS request is being made to host 'www.gradomania.com'. Adding certificate verification is strongly advised. See: https://urllib3.readthedocs.io/en/latest/advanced-usage.html#ssl-warnings\n",
      "  InsecureRequestWarning,\n",
      "/Users/elenatorro/.local/share/virtualenvs/unknowniversity-5YM2mFLK/lib/python3.7/site-packages/urllib3/connectionpool.py:986: InsecureRequestWarning: Unverified HTTPS request is being made to host 'www.gradomania.com'. Adding certificate verification is strongly advised. See: https://urllib3.readthedocs.io/en/latest/advanced-usage.html#ssl-warnings\n",
      "  InsecureRequestWarning,\n",
      "/Users/elenatorro/.local/share/virtualenvs/unknowniversity-5YM2mFLK/lib/python3.7/site-packages/urllib3/connectionpool.py:986: InsecureRequestWarning: Unverified HTTPS request is being made to host 'www.gradomania.com'. Adding certificate verification is strongly advised. See: https://urllib3.readthedocs.io/en/latest/advanced-usage.html#ssl-warnings\n",
      "  InsecureRequestWarning,\n",
      "/Users/elenatorro/.local/share/virtualenvs/unknowniversity-5YM2mFLK/lib/python3.7/site-packages/urllib3/connectionpool.py:986: InsecureRequestWarning: Unverified HTTPS request is being made to host 'www.gradomania.com'. Adding certificate verification is strongly advised. See: https://urllib3.readthedocs.io/en/latest/advanced-usage.html#ssl-warnings\n",
      "  InsecureRequestWarning,\n",
      "/Users/elenatorro/.local/share/virtualenvs/unknowniversity-5YM2mFLK/lib/python3.7/site-packages/urllib3/connectionpool.py:986: InsecureRequestWarning: Unverified HTTPS request is being made to host 'www.gradomania.com'. Adding certificate verification is strongly advised. See: https://urllib3.readthedocs.io/en/latest/advanced-usage.html#ssl-warnings\n",
      "  InsecureRequestWarning,\n",
      "/Users/elenatorro/.local/share/virtualenvs/unknowniversity-5YM2mFLK/lib/python3.7/site-packages/urllib3/connectionpool.py:986: InsecureRequestWarning: Unverified HTTPS request is being made to host 'www.gradomania.com'. Adding certificate verification is strongly advised. See: https://urllib3.readthedocs.io/en/latest/advanced-usage.html#ssl-warnings\n",
      "  InsecureRequestWarning,\n",
      "/Users/elenatorro/.local/share/virtualenvs/unknowniversity-5YM2mFLK/lib/python3.7/site-packages/urllib3/connectionpool.py:986: InsecureRequestWarning: Unverified HTTPS request is being made to host 'www.gradomania.com'. Adding certificate verification is strongly advised. See: https://urllib3.readthedocs.io/en/latest/advanced-usage.html#ssl-warnings\n",
      "  InsecureRequestWarning,\n",
      "/Users/elenatorro/.local/share/virtualenvs/unknowniversity-5YM2mFLK/lib/python3.7/site-packages/urllib3/connectionpool.py:986: InsecureRequestWarning: Unverified HTTPS request is being made to host 'www.gradomania.com'. Adding certificate verification is strongly advised. See: https://urllib3.readthedocs.io/en/latest/advanced-usage.html#ssl-warnings\n",
      "  InsecureRequestWarning,\n",
      "/Users/elenatorro/.local/share/virtualenvs/unknowniversity-5YM2mFLK/lib/python3.7/site-packages/urllib3/connectionpool.py:986: InsecureRequestWarning: Unverified HTTPS request is being made to host 'www.gradomania.com'. Adding certificate verification is strongly advised. See: https://urllib3.readthedocs.io/en/latest/advanced-usage.html#ssl-warnings\n",
      "  InsecureRequestWarning,\n",
      "/Users/elenatorro/.local/share/virtualenvs/unknowniversity-5YM2mFLK/lib/python3.7/site-packages/urllib3/connectionpool.py:986: InsecureRequestWarning: Unverified HTTPS request is being made to host 'www.gradomania.com'. Adding certificate verification is strongly advised. See: https://urllib3.readthedocs.io/en/latest/advanced-usage.html#ssl-warnings\n",
      "  InsecureRequestWarning,\n",
      "/Users/elenatorro/.local/share/virtualenvs/unknowniversity-5YM2mFLK/lib/python3.7/site-packages/urllib3/connectionpool.py:986: InsecureRequestWarning: Unverified HTTPS request is being made to host 'www.gradomania.com'. Adding certificate verification is strongly advised. See: https://urllib3.readthedocs.io/en/latest/advanced-usage.html#ssl-warnings\n",
      "  InsecureRequestWarning,\n",
      "/Users/elenatorro/.local/share/virtualenvs/unknowniversity-5YM2mFLK/lib/python3.7/site-packages/urllib3/connectionpool.py:986: InsecureRequestWarning: Unverified HTTPS request is being made to host 'www.gradomania.com'. Adding certificate verification is strongly advised. See: https://urllib3.readthedocs.io/en/latest/advanced-usage.html#ssl-warnings\n",
      "  InsecureRequestWarning,\n",
      "/Users/elenatorro/.local/share/virtualenvs/unknowniversity-5YM2mFLK/lib/python3.7/site-packages/urllib3/connectionpool.py:986: InsecureRequestWarning: Unverified HTTPS request is being made to host 'www.gradomania.com'. Adding certificate verification is strongly advised. See: https://urllib3.readthedocs.io/en/latest/advanced-usage.html#ssl-warnings\n",
      "  InsecureRequestWarning,\n",
      "/Users/elenatorro/.local/share/virtualenvs/unknowniversity-5YM2mFLK/lib/python3.7/site-packages/urllib3/connectionpool.py:986: InsecureRequestWarning: Unverified HTTPS request is being made to host 'www.gradomania.com'. Adding certificate verification is strongly advised. See: https://urllib3.readthedocs.io/en/latest/advanced-usage.html#ssl-warnings\n",
      "  InsecureRequestWarning,\n"
     ]
    }
   ],
   "source": [
    "get_degree_pages(LISTA_GRADOS_URL)"
   ]
  },
  {
   "cell_type": "code",
   "execution_count": 11,
   "metadata": {},
   "outputs": [],
   "source": [
    "degrees_df = pd.DataFrame(DEGREE_LIST, columns=DEGREE_COLUMNS)"
   ]
  },
  {
   "cell_type": "code",
   "execution_count": 12,
   "metadata": {},
   "outputs": [
    {
     "data": {
      "text/html": [
       "<div>\n",
       "<style scoped>\n",
       "    .dataframe tbody tr th:only-of-type {\n",
       "        vertical-align: middle;\n",
       "    }\n",
       "\n",
       "    .dataframe tbody tr th {\n",
       "        vertical-align: top;\n",
       "    }\n",
       "\n",
       "    .dataframe thead th {\n",
       "        text-align: right;\n",
       "    }\n",
       "</style>\n",
       "<table border=\"1\" class=\"dataframe\">\n",
       "  <thead>\n",
       "    <tr style=\"text-align: right;\">\n",
       "      <th></th>\n",
       "      <th>university</th>\n",
       "      <th>name</th>\n",
       "      <th>university_url</th>\n",
       "      <th>modality</th>\n",
       "      <th>price</th>\n",
       "      <th>location</th>\n",
       "      <th>credits</th>\n",
       "    </tr>\n",
       "  </thead>\n",
       "  <tbody>\n",
       "    <tr>\n",
       "      <th>0</th>\n",
       "      <td>Facultad de Artes y Comunicación (Villaviciosa...</td>\n",
       "      <td>Doble Grado: Arte + Diseño. (Menciones: Multim...</td>\n",
       "      <td>https://www.gradomania.com/facultad-de-artes-y...</td>\n",
       "      <td>Presencial</td>\n",
       "      <td>Información no disponible</td>\n",
       "      <td>C/ Tajo s/nVillaviciosa de Odón (Madrid) 28670...</td>\n",
       "      <td>360 ECTS</td>\n",
       "    </tr>\n",
       "    <tr>\n",
       "      <th>1</th>\n",
       "      <td>Escola Tècnica Superior d'Enginyeria - Univers...</td>\n",
       "      <td>Título Oficial de Grado en Ingeniería Multimedia.</td>\n",
       "      <td>https://www.gradomania.com/escola-tecnica-supe...</td>\n",
       "      <td>Presencial</td>\n",
       "      <td>Información no disponible</td>\n",
       "      <td>Camino Vera, s/nValencia / València 46020España</td>\n",
       "      <td>240 ECTS</td>\n",
       "    </tr>\n",
       "    <tr>\n",
       "      <th>2</th>\n",
       "      <td>Facultad de Diseño ESNE - ESNE Escuela Univers...</td>\n",
       "      <td>Grado Universitario en Diseño Multimedia y Grá...</td>\n",
       "      <td>https://www.gradomania.com/facultad-de-diseno-...</td>\n",
       "      <td>Presencial</td>\n",
       "      <td>Información no disponible</td>\n",
       "      <td>Madrid 28016España</td>\n",
       "      <td></td>\n",
       "    </tr>\n",
       "    <tr>\n",
       "      <th>3</th>\n",
       "      <td>Facultad de Artes y Comunicación (Villaviciosa...</td>\n",
       "      <td>Doble Grado: Comunicación Audiovisual y Multim...</td>\n",
       "      <td>https://www.gradomania.com/facultad-de-artes-y...</td>\n",
       "      <td>Presencial</td>\n",
       "      <td>Información no disponible</td>\n",
       "      <td>C/ Tajo s/nVillaviciosa de Odón (Madrid) 28670...</td>\n",
       "      <td>360 ECTS</td>\n",
       "    </tr>\n",
       "    <tr>\n",
       "      <th>4</th>\n",
       "      <td>Facultad de Artes y Comunicación (Villaviciosa...</td>\n",
       "      <td>Doble Grado: Comunicación Audiovisual y Multim...</td>\n",
       "      <td>https://www.gradomania.com/facultad-de-artes-y...</td>\n",
       "      <td>Presencial</td>\n",
       "      <td>Información no disponible</td>\n",
       "      <td>C/ Tajo s/nVillaviciosa de Odón (Madrid) 28670...</td>\n",
       "      <td>386 ECTS</td>\n",
       "    </tr>\n",
       "  </tbody>\n",
       "</table>\n",
       "</div>"
      ],
      "text/plain": [
       "                                          university  \\\n",
       "0  Facultad de Artes y Comunicación (Villaviciosa...   \n",
       "1  Escola Tècnica Superior d'Enginyeria - Univers...   \n",
       "2  Facultad de Diseño ESNE - ESNE Escuela Univers...   \n",
       "3  Facultad de Artes y Comunicación (Villaviciosa...   \n",
       "4  Facultad de Artes y Comunicación (Villaviciosa...   \n",
       "\n",
       "                                                name  \\\n",
       "0  Doble Grado: Arte + Diseño. (Menciones: Multim...   \n",
       "1  Título Oficial de Grado en Ingeniería Multimedia.   \n",
       "2  Grado Universitario en Diseño Multimedia y Grá...   \n",
       "3  Doble Grado: Comunicación Audiovisual y Multim...   \n",
       "4  Doble Grado: Comunicación Audiovisual y Multim...   \n",
       "\n",
       "                                      university_url    modality  \\\n",
       "0  https://www.gradomania.com/facultad-de-artes-y...  Presencial   \n",
       "1  https://www.gradomania.com/escola-tecnica-supe...  Presencial   \n",
       "2  https://www.gradomania.com/facultad-de-diseno-...  Presencial   \n",
       "3  https://www.gradomania.com/facultad-de-artes-y...  Presencial   \n",
       "4  https://www.gradomania.com/facultad-de-artes-y...  Presencial   \n",
       "\n",
       "                       price  \\\n",
       "0  Información no disponible   \n",
       "1  Información no disponible   \n",
       "2  Información no disponible   \n",
       "3  Información no disponible   \n",
       "4  Información no disponible   \n",
       "\n",
       "                                            location   credits  \n",
       "0  C/ Tajo s/nVillaviciosa de Odón (Madrid) 28670...  360 ECTS  \n",
       "1    Camino Vera, s/nValencia / València 46020España  240 ECTS  \n",
       "2                                 Madrid 28016España            \n",
       "3  C/ Tajo s/nVillaviciosa de Odón (Madrid) 28670...  360 ECTS  \n",
       "4  C/ Tajo s/nVillaviciosa de Odón (Madrid) 28670...  386 ECTS  "
      ]
     },
     "execution_count": 12,
     "metadata": {},
     "output_type": "execute_result"
    }
   ],
   "source": [
    "degrees_df.head()"
   ]
  },
  {
   "cell_type": "code",
   "execution_count": 13,
   "metadata": {},
   "outputs": [],
   "source": [
    "degrees_df.to_csv('{}.csv'.format(TYPE_NAME), index=False)"
   ]
  },
  {
   "cell_type": "code",
   "execution_count": 14,
   "metadata": {},
   "outputs": [
    {
     "data": {
      "text/plain": [
       "['https://www.gradomania.com/grado-en-audiovisual-y-multimedia-girona-91153_q08.html',\n",
       " 'https://www.gradomania.com/grado-en-audiovisual-y-multimedia-girona-91153_q08.html']"
      ]
     },
     "execution_count": 14,
     "metadata": {},
     "output_type": "execute_result"
    }
   ],
   "source": [
    "DEGREE_ERRORS"
   ]
  },
  {
   "cell_type": "code",
   "execution_count": null,
   "metadata": {},
   "outputs": [],
   "source": []
  }
 ],
 "metadata": {
  "kernelspec": {
   "display_name": "Python 3",
   "language": "python",
   "name": "python3"
  },
  "language_info": {
   "codemirror_mode": {
    "name": "ipython",
    "version": 3
   },
   "file_extension": ".py",
   "mimetype": "text/x-python",
   "name": "python",
   "nbconvert_exporter": "python",
   "pygments_lexer": "ipython3",
   "version": "3.7.7"
  }
 },
 "nbformat": 4,
 "nbformat_minor": 4
}
