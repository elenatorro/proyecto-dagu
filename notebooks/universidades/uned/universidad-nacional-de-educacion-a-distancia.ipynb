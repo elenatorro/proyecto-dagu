{
 "cells": [
  {
   "cell_type": "markdown",
   "metadata": {},
   "source": [
    "# Degrees"
   ]
  },
  {
   "cell_type": "code",
   "execution_count": 1,
   "metadata": {},
   "outputs": [],
   "source": [
    "import requests\n",
    "from bs4 import BeautifulSoup\n",
    "import pandas as pd"
   ]
  },
  {
   "cell_type": "code",
   "execution_count": 2,
   "metadata": {},
   "outputs": [],
   "source": [
    "BASE_URL = 'https://portal.uned.es/portal{0}'\n",
    "DEGREES_URL = 'https://portal.uned.es/portal/page?_pageid=93,1643102&_dad=portal&_schema=PORTAL'\n",
    "DEGREE_URL = 'https://portal.uned.es/portal/pls/portal/url/page/UNED_MAIN/GRADOS/{0}'\n",
    "UNIVERSITY_NAME = 'universidad-nacional-de-educacion-a-distancia-grados'\n",
    "\n",
    "SUBJECT_COLUMNS = [\n",
    "    'code',\n",
    "    'name',\n",
    "    'url',\n",
    "    'subject_type',\n",
    "    'credits',\n",
    "    'period',\n",
    "    'course_number'\n",
    "]\n",
    "\n",
    "DEGREE_COLUMNS = [\n",
    "    'code',\n",
    "    'name',\n",
    "    'university',\n",
    "    'area',\n",
    "    'faculty',\n",
    "    'url',\n",
    "    'price_1',\n",
    "    'price_2',\n",
    "    'price_3',\n",
    "    'price_4',\n",
    "    'content',\n",
    "    'skills',\n",
    "    'profile',\n",
    "    'opportunities',\n",
    "    'num_subjects',\n",
    "    'capacity',\n",
    "    'min_grade',\n",
    "    'description',\n",
    "    ''\n",
    "]"
   ]
  },
  {
   "cell_type": "code",
   "execution_count": 3,
   "metadata": {},
   "outputs": [],
   "source": [
    "# http://portal.uned.es/pls/portal/docs/PAGE/UNED_MAIN/INFORMACIONGENERAL/PDF'S/PRECIOS-GRADOSUE2019-20.PDF\n",
    "\n",
    "PRICES = {\n",
    "    'GRADO EN MATEMÁTICAS': [13.39, 18.97, 41.74, 57.55],\n",
    "    'GRADO EN LENGUA Y LITERATURA ESPAÑOLAS': [13.00, 18.97, 41.74, 57.55],\n",
    "    'GRADO EN ESTUDIOS INGLESES: LENGUA, LITERATURA Y CULTURA': [13.00, 18.97, 41.74, 57.55],\n",
    "    'GRADO EN CIENCIA POLÍTICA Y DE LA ADMINISTRACIÓN': [13.00, 18.97, 41.74, 57.55],\n",
    "    'GRADO EN DERECHO': [13.00, 18.97, 41.74, 57.55],\n",
    "    'GRADO EN SOCIOLOGÍA': [13.00, 18.97, 41.74, 57.55],\n",
    "    'GRADO EN CC. JURÍDICAS DE LAS ADMINISTRACIONES PÚBLICAS': [13.00, 18.97, 41.74, 57.55],\n",
    "    'GRADO EN GEOGRAFÍA E HISTORIA': [13.00, 18.97, 41.74, 57.55],\n",
    "    'GRADO EN HISTORIA DEL ARTE': [13.00, 18.97, 41.74, 57.55],\n",
    "    'GRADO EN FILOSOFÍA': [13.00, 18.97, 41.74, 57.55],\n",
    "    'GRADO EN ANTROPOLOGÍA SOCIAL Y CULTURAL': [13.00, 18.97, 41.74, 57.55],\n",
    "    'GRADO EN TRABAJO SOCIAL': [13.20, 22.95, 50.49, 69.62],\n",
    "    'GRADO EN ADMINISTRACIÓN Y DIRECCIÓN DE EMPRESAS': [13.20, 20.89, 47.09, 64.84],\n",
    "    'GRADO EN ECONOMÍA': [13.20, 20.89, 47.09, 64.84],\n",
    "    'GRADO EN TURISMO': [13.20, 20.89, 47.09, 64.84],\n",
    "    'GRADO EN PSICOLOGÍA': [15.95, 22.95, 50.49, 69.62],\n",
    "    'GRADO EN CRIMINOLOGÍA': [15.95, 22.95, 50.49, 69.62],\n",
    "    'GRADO EN PEDAGOGÍA': [14.80, 22.95, 50.49, 69.62],\n",
    "    'GRADO EN EDUCACIÓN SOCIAL': [14.80, 22.95, 50.49, 69.62],\n",
    "    'GRADO EN QUÍMICA': [20.48, 30.60, 67.32, 92.82],\n",
    "    'GRADO EN FÍSICA': [20.48, 30.60, 67.32, 92.82],\n",
    "    'GRADO EN CIENCIAS AMBIENTALES': [20.48, 30.60, 67.32, 92.82],\n",
    "    'GRADO EN ING. EN  ELECTRÓNICA INDUSTRIAL Y AUTOMÁTICA': [21.60, 30.60, 67.32, 92.82],\n",
    "    'GRADO EN INGENIERÍA ELÉCTRICA': [21.60, 30.60, 67.32, 92.82],\n",
    "    'GRADO EN INGENIERÍA MECÁNICA': [21.60, 30.60, 67.32, 92.82],\n",
    "    'GRADO EN INGENIERÍA EN TECNOLOGÍAS INDUSTRIALES': [21.60, 30.60, 67.32, 92.82],\n",
    "    'GRADO EN INGENIERÍA INFORMÁTICA': [21.60, 30.60, 67.32, 92.82],\n",
    "    'GRADO EN INGENIERÍA EN TECNOLOGÍAS DE LA INFORMACIÓN': [21.60, 30.60, 67.32, 92.82]\n",
    "}"
   ]
  },
  {
   "cell_type": "code",
   "execution_count": 4,
   "metadata": {},
   "outputs": [],
   "source": [
    "page = requests.get(DEGREES_URL)\n",
    "soup = BeautifulSoup(page.content, 'html.parser')"
   ]
  },
  {
   "cell_type": "code",
   "execution_count": 5,
   "metadata": {},
   "outputs": [],
   "source": [
    "def get_degree_list(soup):\n",
    "    degree_areas = list(map(lambda x: x.getText(), soup.select('.tabla_grados > table > thead > tr > th')))\n",
    "    degree_tables = soup.select('.tabla_grados > table')\n",
    "    degree_list = []\n",
    "\n",
    "    for index, degree_table in enumerate(degree_tables):\n",
    "        area = degree_areas[index]\n",
    "\n",
    "        degree_data = degree_table.select('tbody')\n",
    "        for degree_row in degree_data:\n",
    "            for degree_cell in degree_row.find_all(True):\n",
    "                row = degree_cell.find_all('td')\n",
    "                if (len(row)):\n",
    "                    code = row[0].getText()\n",
    "                    name = row[1].getText()\n",
    "                    url = DEGREE_URL.format(code)\n",
    "                    faculty = row[2].getText()\n",
    "\n",
    "                    degree_data = [code, name, UNIVERSITY_NAME, area, faculty, url]\n",
    "                    \n",
    "                    for price in PRICES[name]:\n",
    "                            degree_data.append(price)\n",
    "\n",
    "                    degree_list.append(degree_data)\n",
    "\n",
    "    return degree_list"
   ]
  },
  {
   "cell_type": "code",
   "execution_count": 6,
   "metadata": {},
   "outputs": [],
   "source": [
    "def set_url_base(url):\n",
    "    return BASE_URL.format(url)"
   ]
  },
  {
   "cell_type": "code",
   "execution_count": 7,
   "metadata": {},
   "outputs": [],
   "source": [
    "def get_degree_content(soup):\n",
    "    return soup.select('.contenido_texto')[0].get_text().replace(u'\\xa0', u'').replace(u'\\xad', u'').replace(u'\\n', u' ')"
   ]
  },
  {
   "cell_type": "code",
   "execution_count": 8,
   "metadata": {},
   "outputs": [],
   "source": [
    "def get_degree_info_links(soup):\n",
    "    return soup.select('.menu_guia > ul > li > a')\n",
    "\n",
    "def get_degree_data_links(soup):\n",
    "    return soup.select('#plan_estudios > li > a')\n",
    "\n",
    "def get_degree_links(soup):\n",
    "    links = {}\n",
    "    info_links = get_degree_info_links(soup)\n",
    "    data_links = get_degree_data_links(soup)\n",
    "    \n",
    "    links['skills_url'] = set_url_base(info_links[2].get('href'));\n",
    "    links['profile_url'] = set_url_base(info_links[3].get('href'));\n",
    "    links['opportunities_url'] = set_url_base(info_links[5].get('href'));\n",
    "    links['subjects_url'] = set_url_base(data_links[1].get('href'));\n",
    "\n",
    "    return links"
   ]
  },
  {
   "cell_type": "code",
   "execution_count": 9,
   "metadata": {},
   "outputs": [],
   "source": [
    "def get_degree_soups(degree_list):\n",
    "    degree_soups = []\n",
    "\n",
    "    for degree in degree_list:\n",
    "        page = requests.get(degree[5])\n",
    "        degree_soups.append(BeautifulSoup(page.content, 'html.parser'))\n",
    "    \n",
    "    return degree_soups"
   ]
  },
  {
   "cell_type": "markdown",
   "metadata": {},
   "source": [
    "### Skills"
   ]
  },
  {
   "cell_type": "code",
   "execution_count": 10,
   "metadata": {},
   "outputs": [],
   "source": [
    "def get_degree_skills(degree):\n",
    "    page = requests.get(degree['skills_url'])\n",
    "    soup = BeautifulSoup(page.content, 'html.parser')\n",
    "    degree['skills'] = get_degree_content(soup)\n",
    "    \n",
    "    return degree"
   ]
  },
  {
   "cell_type": "markdown",
   "metadata": {},
   "source": [
    "### Profile"
   ]
  },
  {
   "cell_type": "code",
   "execution_count": 11,
   "metadata": {},
   "outputs": [],
   "source": [
    "def get_degree_profile(degree):\n",
    "    page = requests.get(degree['profile_url'])\n",
    "    soup = BeautifulSoup(page.content, 'html.parser')\n",
    "    degree['profile'] = get_degree_content(soup)\n",
    "    \n",
    "    return degree"
   ]
  },
  {
   "cell_type": "markdown",
   "metadata": {},
   "source": [
    "### Opportunities"
   ]
  },
  {
   "cell_type": "code",
   "execution_count": 12,
   "metadata": {},
   "outputs": [],
   "source": [
    "def get_degree_opportunities(degree):\n",
    "    page = requests.get(degree['opportunities_url'])\n",
    "    soup = BeautifulSoup(page.content, 'html.parser')\n",
    "    degree['opportunities'] = get_degree_content(soup)\n",
    "\n",
    "    return degree"
   ]
  },
  {
   "cell_type": "markdown",
   "metadata": {},
   "source": [
    "### Subjects"
   ]
  },
  {
   "cell_type": "code",
   "execution_count": 13,
   "metadata": {},
   "outputs": [],
   "source": [
    "def set_degree_subjects(tables):\n",
    "    course_list = []\n",
    "    course_number = 0\n",
    "\n",
    "    for table in tables:\n",
    "        course_number += 1\n",
    "        courses = table.select('tbody')\n",
    "        for course in courses:\n",
    "            for course_cell in course.find_all('tr'):\n",
    "                if 'class' in course_cell.attrs:\n",
    "                    if 'hidden-xs' not in course_cell['class']:\n",
    "                        semester = course_cell.select('td')[0].get_text(strip=True).replace(u'\\xa0', u'')\n",
    "                else:\n",
    "                    cells = course_cell.find_all('td', {'headers': True})\n",
    "                    \n",
    "                    if (len(cells)):\n",
    "                        code = cells[0].get_text(strip=True)\n",
    "                        name = cells[1].get_text(strip=True)\n",
    "                        url = set_url_base(cells[1].select('a')[0].get('href').replace(u' ', u'').replace(u'\\r', u'').replace(u'\\n', u''))\n",
    "                        subject_type = cells[2].get_text(strip=True)\n",
    "                        credits = cells[3].get_text(strip=True)\n",
    "\n",
    "                        course_list.append([code, name, url, subject_type, credits, semester, course_number])\n",
    "\n",
    "    return course_list\n",
    "\n",
    "def get_degree_subjects(links):\n",
    "    page = requests.get(links['subjects_url'])\n",
    "    soup = BeautifulSoup(page.content, 'html.parser')\n",
    "    tables = soup.select('.plegatabla.tabla_asignaturas')\n",
    "\n",
    "    return set_degree_subjects(tables)"
   ]
  },
  {
   "cell_type": "code",
   "execution_count": 14,
   "metadata": {},
   "outputs": [],
   "source": [
    "def get_degree_info(soup):\n",
    "    links = get_degree_links(soup)\n",
    "    skills = get_degree_skills(links)\n",
    "    profile = get_degree_profile(links)\n",
    "    opportunities = get_degree_opportunities(links)\n",
    "    \n",
    "    return [skills, profile, opportunities]"
   ]
  },
  {
   "cell_type": "code",
   "execution_count": 15,
   "metadata": {},
   "outputs": [],
   "source": [
    "def save_degree(degree_soups, degree_list):\n",
    "    for index, soup in enumerate(degree_soups):\n",
    "        links = get_degree_links(soup)\n",
    "        content = get_degree_content(soup)\n",
    "        skills = get_degree_skills(links)\n",
    "        profile = get_degree_profile(links)\n",
    "        opportunities = get_degree_opportunities(links)\n",
    "        subjects = get_degree_subjects(links)\n",
    "\n",
    "        degree_list[index].append(content)\n",
    "        degree_list[index].append(skills)\n",
    "        degree_list[index].append(profile)\n",
    "        degree_list[index].append(opportunities)\n",
    "        degree_list[index].append(len(subjects))\n",
    "\n",
    "        degree_subjects_df = pd.DataFrame(subjects, columns=SUBJECT_COLUMNS)\n",
    "        degree_subjects_df.to_csv('{0}-degree-{1}.csv'.format(UNIVERSITY_NAME, degree_list[index][0]))\n",
    "\n",
    "    degrees_df = pd.DataFrame(degree_list, columns=DEGREE_COLUMNS)\n",
    "    degrees_df.to_csv('{0}.csv'.format(UNIVERSITY_NAME))"
   ]
  },
  {
   "cell_type": "code",
   "execution_count": 16,
   "metadata": {},
   "outputs": [],
   "source": [
    "degree_list = get_degree_list(soup)\n",
    "degree_soups = get_degree_soups(degree_list)\n",
    "\n",
    "save_degree(degree_soups, degree_list)"
   ]
  }
 ],
 "metadata": {
  "kernelspec": {
   "display_name": "Python 3",
   "language": "python",
   "name": "python3"
  },
  "language_info": {
   "codemirror_mode": {
    "name": "ipython",
    "version": 3
   },
   "file_extension": ".py",
   "mimetype": "text/x-python",
   "name": "python",
   "nbconvert_exporter": "python",
   "pygments_lexer": "ipython3",
   "version": "3.7.7"
  }
 },
 "nbformat": 4,
 "nbformat_minor": 4
}
