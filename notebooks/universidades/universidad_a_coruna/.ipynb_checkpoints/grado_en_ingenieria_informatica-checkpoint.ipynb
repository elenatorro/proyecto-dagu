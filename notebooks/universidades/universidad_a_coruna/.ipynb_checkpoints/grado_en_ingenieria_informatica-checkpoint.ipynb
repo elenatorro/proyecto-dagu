{
 "cells": [
  {
   "cell_type": "code",
   "execution_count": 1,
   "metadata": {},
   "outputs": [],
   "source": [
    "DEGREE_NAME = 'grado_en_ingenieria_informatica'\n",
    "UNIVERSITY_NAME = 'universidad_a_coruna'"
   ]
  },
  {
   "cell_type": "code",
   "execution_count": 61,
   "metadata": {},
   "outputs": [],
   "source": [
    "import requests\n",
    "from bs4 import BeautifulSoup\n",
    "import pandas as pd\n",
    "\n",
    "SUBJECT_TYPE = {\n",
    "    'FB': 'Formación Básica',\n",
    "    'O': 'Obligatoria',\n",
    "    'P': 'Optativa',\n",
    "    'O-P': 'Optativa, Obligatoria',\n",
    "    'TFG': 'Trabajo Fin de Grado'\n",
    "}\n",
    "\n",
    "COURSE_NUMBER = {\n",
    "    'Primero': 1,\n",
    "    'Segundo': 2,\n",
    "    'Tercero': 3,\n",
    "    'Cuarto': 4,\n",
    "    'Anual': 0\n",
    "}\n",
    "\n",
    "subjects_list = []"
   ]
  },
  {
   "cell_type": "code",
   "execution_count": 62,
   "metadata": {},
   "outputs": [],
   "source": [
    "def get_subject(url, bibliography_url):\n",
    "    page = requests.get(url, verify=False)\n",
    "    soup = BeautifulSoup(page.content, 'html.parser')\n",
    "    \n",
    "    mainfons = soup.select('td.mainfons2')\n",
    "    \n",
    "    if len(mainfons):\n",
    "        name = soup.select('td.mainfons2')[0].getText(strip=True)\n",
    "        code = soup.select('td.mainfons2')[1].getText(strip=True)\n",
    "        period = int(soup.select('td.mainfons2')[4].getText(strip=True).replace('º cuatrimestre', ''))\n",
    "        course = COURSE_NUMBER[soup.select('td.mainfons2')[5].getText(strip=True)]\n",
    "        subject_type = soup.select('td.mainfons2')[6].getText(strip=True)\n",
    "        num_credits = int(soup.select('td.mainfons2')[7].getText(strip=True))\n",
    "\n",
    "        language = 'Español, Gallego'\n",
    "\n",
    "        content = soup.select('table')[13].getText().replace('Tema Subtema', '')\n",
    "\n",
    "        bibliography_page = requests.get(bibliography_url, verify=False)\n",
    "        bibliography_soup = BeautifulSoup(bibliography_page.content, 'html.parser')\n",
    "\n",
    "        bibliography = bibliography_soup.select('table')[13].getText()\n",
    "\n",
    "        subject_data = {\n",
    "         'code': code,\n",
    "         'name': name,\n",
    "         'subject_type': subject_type,\n",
    "         'num_credits': num_credits,\n",
    "         'period': period,\n",
    "         'course': course,\n",
    "         'language': language,\n",
    "         'content': content,\n",
    "         'mention': '',\n",
    "         'url': url,\n",
    "         'bibliography': bibliography\n",
    "        }\n",
    "\n",
    "        subjects_list.append(subject_data)"
   ]
  },
  {
   "cell_type": "code",
   "execution_count": 63,
   "metadata": {},
   "outputs": [],
   "source": [
    "def get_subjects(url):\n",
    "    page = requests.get(url)\n",
    "    soup = BeautifulSoup(page.content, 'html.parser')\n",
    "\n",
    "    subjects = soup.select('.tab-content tbody tr td a')\n",
    "\n",
    "    for subject in subjects:\n",
    "        url = subject.get('href')\n",
    "        print(url)\n",
    "        if 'pdf' not in url and 'http' in url:\n",
    "            subject_url = subject.get('href') + '&fitxa_apartat=3&idioma_assig=cast'\n",
    "            bibliography_url = subject.get('href') + '&fitxa_apartat=8&idioma_assig=cast'\n",
    "\n",
    "            get_subject(subject_url, bibliography_url)"
   ]
  },
  {
   "cell_type": "code",
   "execution_count": 64,
   "metadata": {},
   "outputs": [
    {
     "name": "stdout",
     "output_type": "stream",
     "text": [
      "/es/subject/614G01V01/614G01001/2019\n",
      "https://guiadocente.udc.es/guia_docent/index.php?centre=614&ensenyament=614G01&assignatura=614G01001&any_academic=2019_20&idioma=cast\n"
     ]
    },
    {
     "name": "stderr",
     "output_type": "stream",
     "text": [
      "/Users/elenatorro/.local/share/virtualenvs/notebooks-EjoTTmKj/lib/python3.7/site-packages/urllib3/connectionpool.py:986: InsecureRequestWarning: Unverified HTTPS request is being made to host 'guiadocente.udc.es'. Adding certificate verification is strongly advised. See: https://urllib3.readthedocs.io/en/latest/advanced-usage.html#ssl-warnings\n",
      "  InsecureRequestWarning,\n",
      "/Users/elenatorro/.local/share/virtualenvs/notebooks-EjoTTmKj/lib/python3.7/site-packages/urllib3/connectionpool.py:986: InsecureRequestWarning: Unverified HTTPS request is being made to host 'guiadocente.udc.es'. Adding certificate verification is strongly advised. See: https://urllib3.readthedocs.io/en/latest/advanced-usage.html#ssl-warnings\n",
      "  InsecureRequestWarning,\n"
     ]
    },
    {
     "name": "stdout",
     "output_type": "stream",
     "text": [
      "/es/subject/614G01V01/614G01002/2019\n",
      "https://guiadocente.udc.es/guia_docent/index.php?centre=614&ensenyament=614G01&assignatura=614G01002&any_academic=2019_20&idioma=cast\n"
     ]
    },
    {
     "name": "stderr",
     "output_type": "stream",
     "text": [
      "/Users/elenatorro/.local/share/virtualenvs/notebooks-EjoTTmKj/lib/python3.7/site-packages/urllib3/connectionpool.py:986: InsecureRequestWarning: Unverified HTTPS request is being made to host 'guiadocente.udc.es'. Adding certificate verification is strongly advised. See: https://urllib3.readthedocs.io/en/latest/advanced-usage.html#ssl-warnings\n",
      "  InsecureRequestWarning,\n",
      "/Users/elenatorro/.local/share/virtualenvs/notebooks-EjoTTmKj/lib/python3.7/site-packages/urllib3/connectionpool.py:986: InsecureRequestWarning: Unverified HTTPS request is being made to host 'guiadocente.udc.es'. Adding certificate verification is strongly advised. See: https://urllib3.readthedocs.io/en/latest/advanced-usage.html#ssl-warnings\n",
      "  InsecureRequestWarning,\n"
     ]
    },
    {
     "name": "stdout",
     "output_type": "stream",
     "text": [
      "/es/subject/614G01V01/614G01003/2019\n",
      "https://guiadocente.udc.es/guia_docent/index.php?centre=614&ensenyament=614G01&assignatura=614G01003&any_academic=2019_20&idioma=cast\n"
     ]
    },
    {
     "name": "stderr",
     "output_type": "stream",
     "text": [
      "/Users/elenatorro/.local/share/virtualenvs/notebooks-EjoTTmKj/lib/python3.7/site-packages/urllib3/connectionpool.py:986: InsecureRequestWarning: Unverified HTTPS request is being made to host 'guiadocente.udc.es'. Adding certificate verification is strongly advised. See: https://urllib3.readthedocs.io/en/latest/advanced-usage.html#ssl-warnings\n",
      "  InsecureRequestWarning,\n",
      "/Users/elenatorro/.local/share/virtualenvs/notebooks-EjoTTmKj/lib/python3.7/site-packages/urllib3/connectionpool.py:986: InsecureRequestWarning: Unverified HTTPS request is being made to host 'guiadocente.udc.es'. Adding certificate verification is strongly advised. See: https://urllib3.readthedocs.io/en/latest/advanced-usage.html#ssl-warnings\n",
      "  InsecureRequestWarning,\n"
     ]
    },
    {
     "name": "stdout",
     "output_type": "stream",
     "text": [
      "/es/subject/614G01V01/614G01004/2019\n",
      "https://guiadocente.udc.es/guia_docent/index.php?centre=614&ensenyament=614G01&assignatura=614G01004&any_academic=2019_20&idioma=cast\n"
     ]
    },
    {
     "name": "stderr",
     "output_type": "stream",
     "text": [
      "/Users/elenatorro/.local/share/virtualenvs/notebooks-EjoTTmKj/lib/python3.7/site-packages/urllib3/connectionpool.py:986: InsecureRequestWarning: Unverified HTTPS request is being made to host 'guiadocente.udc.es'. Adding certificate verification is strongly advised. See: https://urllib3.readthedocs.io/en/latest/advanced-usage.html#ssl-warnings\n",
      "  InsecureRequestWarning,\n",
      "/Users/elenatorro/.local/share/virtualenvs/notebooks-EjoTTmKj/lib/python3.7/site-packages/urllib3/connectionpool.py:986: InsecureRequestWarning: Unverified HTTPS request is being made to host 'guiadocente.udc.es'. Adding certificate verification is strongly advised. See: https://urllib3.readthedocs.io/en/latest/advanced-usage.html#ssl-warnings\n",
      "  InsecureRequestWarning,\n"
     ]
    },
    {
     "name": "stdout",
     "output_type": "stream",
     "text": [
      "/es/subject/614G01V01/614G01009/2019\n",
      "https://guiadocente.udc.es/guia_docent/index.php?centre=614&ensenyament=614G01&assignatura=614G01009&any_academic=2019_20&idioma=cast\n"
     ]
    },
    {
     "name": "stderr",
     "output_type": "stream",
     "text": [
      "/Users/elenatorro/.local/share/virtualenvs/notebooks-EjoTTmKj/lib/python3.7/site-packages/urllib3/connectionpool.py:986: InsecureRequestWarning: Unverified HTTPS request is being made to host 'guiadocente.udc.es'. Adding certificate verification is strongly advised. See: https://urllib3.readthedocs.io/en/latest/advanced-usage.html#ssl-warnings\n",
      "  InsecureRequestWarning,\n",
      "/Users/elenatorro/.local/share/virtualenvs/notebooks-EjoTTmKj/lib/python3.7/site-packages/urllib3/connectionpool.py:986: InsecureRequestWarning: Unverified HTTPS request is being made to host 'guiadocente.udc.es'. Adding certificate verification is strongly advised. See: https://urllib3.readthedocs.io/en/latest/advanced-usage.html#ssl-warnings\n",
      "  InsecureRequestWarning,\n"
     ]
    },
    {
     "name": "stdout",
     "output_type": "stream",
     "text": [
      "https://adendasgadu.udc.es/614G01009.pdf\n",
      "/es/subject/614G01V01/614G01005/2019\n",
      "https://guiadocente.udc.es/guia_docent/index.php?centre=614&ensenyament=614G01&assignatura=614G01005&any_academic=2019_20&idioma=cast\n"
     ]
    },
    {
     "name": "stderr",
     "output_type": "stream",
     "text": [
      "/Users/elenatorro/.local/share/virtualenvs/notebooks-EjoTTmKj/lib/python3.7/site-packages/urllib3/connectionpool.py:986: InsecureRequestWarning: Unverified HTTPS request is being made to host 'guiadocente.udc.es'. Adding certificate verification is strongly advised. See: https://urllib3.readthedocs.io/en/latest/advanced-usage.html#ssl-warnings\n",
      "  InsecureRequestWarning,\n",
      "/Users/elenatorro/.local/share/virtualenvs/notebooks-EjoTTmKj/lib/python3.7/site-packages/urllib3/connectionpool.py:986: InsecureRequestWarning: Unverified HTTPS request is being made to host 'guiadocente.udc.es'. Adding certificate verification is strongly advised. See: https://urllib3.readthedocs.io/en/latest/advanced-usage.html#ssl-warnings\n",
      "  InsecureRequestWarning,\n"
     ]
    },
    {
     "name": "stdout",
     "output_type": "stream",
     "text": [
      "https://adendasgadu.udc.es/614G01005.pdf\n",
      "/es/subject/614G01V01/614G01006/2019\n",
      "https://guiadocente.udc.es/guia_docent/index.php?centre=614&ensenyament=614G01&assignatura=614G01006&any_academic=2019_20&idioma=cast\n"
     ]
    },
    {
     "name": "stderr",
     "output_type": "stream",
     "text": [
      "/Users/elenatorro/.local/share/virtualenvs/notebooks-EjoTTmKj/lib/python3.7/site-packages/urllib3/connectionpool.py:986: InsecureRequestWarning: Unverified HTTPS request is being made to host 'guiadocente.udc.es'. Adding certificate verification is strongly advised. See: https://urllib3.readthedocs.io/en/latest/advanced-usage.html#ssl-warnings\n",
      "  InsecureRequestWarning,\n",
      "/Users/elenatorro/.local/share/virtualenvs/notebooks-EjoTTmKj/lib/python3.7/site-packages/urllib3/connectionpool.py:986: InsecureRequestWarning: Unverified HTTPS request is being made to host 'guiadocente.udc.es'. Adding certificate verification is strongly advised. See: https://urllib3.readthedocs.io/en/latest/advanced-usage.html#ssl-warnings\n",
      "  InsecureRequestWarning,\n"
     ]
    },
    {
     "name": "stdout",
     "output_type": "stream",
     "text": [
      "https://adendasgadu.udc.es/614G01006.pdf\n",
      "/es/subject/614G01V01/614G01007/2019\n",
      "https://guiadocente.udc.es/guia_docent/index.php?centre=614&ensenyament=614G01&assignatura=614G01007&any_academic=2019_20&idioma=cast\n"
     ]
    },
    {
     "name": "stderr",
     "output_type": "stream",
     "text": [
      "/Users/elenatorro/.local/share/virtualenvs/notebooks-EjoTTmKj/lib/python3.7/site-packages/urllib3/connectionpool.py:986: InsecureRequestWarning: Unverified HTTPS request is being made to host 'guiadocente.udc.es'. Adding certificate verification is strongly advised. See: https://urllib3.readthedocs.io/en/latest/advanced-usage.html#ssl-warnings\n",
      "  InsecureRequestWarning,\n",
      "/Users/elenatorro/.local/share/virtualenvs/notebooks-EjoTTmKj/lib/python3.7/site-packages/urllib3/connectionpool.py:986: InsecureRequestWarning: Unverified HTTPS request is being made to host 'guiadocente.udc.es'. Adding certificate verification is strongly advised. See: https://urllib3.readthedocs.io/en/latest/advanced-usage.html#ssl-warnings\n",
      "  InsecureRequestWarning,\n"
     ]
    },
    {
     "name": "stdout",
     "output_type": "stream",
     "text": [
      "https://adendasgadu.udc.es/614G01007.pdf\n",
      "/es/subject/614G01V01/614G01008/2019\n",
      "https://guiadocente.udc.es/guia_docent/index.php?centre=614&ensenyament=614G01&assignatura=614G01008&any_academic=2019_20&idioma=cast\n"
     ]
    },
    {
     "name": "stderr",
     "output_type": "stream",
     "text": [
      "/Users/elenatorro/.local/share/virtualenvs/notebooks-EjoTTmKj/lib/python3.7/site-packages/urllib3/connectionpool.py:986: InsecureRequestWarning: Unverified HTTPS request is being made to host 'guiadocente.udc.es'. Adding certificate verification is strongly advised. See: https://urllib3.readthedocs.io/en/latest/advanced-usage.html#ssl-warnings\n",
      "  InsecureRequestWarning,\n",
      "/Users/elenatorro/.local/share/virtualenvs/notebooks-EjoTTmKj/lib/python3.7/site-packages/urllib3/connectionpool.py:986: InsecureRequestWarning: Unverified HTTPS request is being made to host 'guiadocente.udc.es'. Adding certificate verification is strongly advised. See: https://urllib3.readthedocs.io/en/latest/advanced-usage.html#ssl-warnings\n",
      "  InsecureRequestWarning,\n"
     ]
    },
    {
     "name": "stdout",
     "output_type": "stream",
     "text": [
      "https://adendasgadu.udc.es/614G01008.pdf\n",
      "/es/subject/614G01V01/614G01010/2019\n",
      "https://guiadocente.udc.es/guia_docent/index.php?centre=614&ensenyament=614G01&assignatura=614G01010&any_academic=2019_20&idioma=cast\n"
     ]
    },
    {
     "name": "stderr",
     "output_type": "stream",
     "text": [
      "/Users/elenatorro/.local/share/virtualenvs/notebooks-EjoTTmKj/lib/python3.7/site-packages/urllib3/connectionpool.py:986: InsecureRequestWarning: Unverified HTTPS request is being made to host 'guiadocente.udc.es'. Adding certificate verification is strongly advised. See: https://urllib3.readthedocs.io/en/latest/advanced-usage.html#ssl-warnings\n",
      "  InsecureRequestWarning,\n",
      "/Users/elenatorro/.local/share/virtualenvs/notebooks-EjoTTmKj/lib/python3.7/site-packages/urllib3/connectionpool.py:986: InsecureRequestWarning: Unverified HTTPS request is being made to host 'guiadocente.udc.es'. Adding certificate verification is strongly advised. See: https://urllib3.readthedocs.io/en/latest/advanced-usage.html#ssl-warnings\n",
      "  InsecureRequestWarning,\n"
     ]
    },
    {
     "name": "stdout",
     "output_type": "stream",
     "text": [
      "https://adendasgadu.udc.es/614G01010.pdf\n",
      "/es/subject/614G01V01/614G01011/2019\n",
      "https://guiadocente.udc.es/guia_docent/index.php?centre=614&ensenyament=614G01&assignatura=614G01011&any_academic=2019_20&idioma=cast\n"
     ]
    },
    {
     "name": "stderr",
     "output_type": "stream",
     "text": [
      "/Users/elenatorro/.local/share/virtualenvs/notebooks-EjoTTmKj/lib/python3.7/site-packages/urllib3/connectionpool.py:986: InsecureRequestWarning: Unverified HTTPS request is being made to host 'guiadocente.udc.es'. Adding certificate verification is strongly advised. See: https://urllib3.readthedocs.io/en/latest/advanced-usage.html#ssl-warnings\n",
      "  InsecureRequestWarning,\n",
      "/Users/elenatorro/.local/share/virtualenvs/notebooks-EjoTTmKj/lib/python3.7/site-packages/urllib3/connectionpool.py:986: InsecureRequestWarning: Unverified HTTPS request is being made to host 'guiadocente.udc.es'. Adding certificate verification is strongly advised. See: https://urllib3.readthedocs.io/en/latest/advanced-usage.html#ssl-warnings\n",
      "  InsecureRequestWarning,\n"
     ]
    },
    {
     "name": "stdout",
     "output_type": "stream",
     "text": [
      "/es/subject/614G01V01/614G01012/2019\n",
      "https://guiadocente.udc.es/guia_docent/index.php?centre=614&ensenyament=614G01&assignatura=614G01012&any_academic=2019_20&idioma=cast\n"
     ]
    },
    {
     "name": "stderr",
     "output_type": "stream",
     "text": [
      "/Users/elenatorro/.local/share/virtualenvs/notebooks-EjoTTmKj/lib/python3.7/site-packages/urllib3/connectionpool.py:986: InsecureRequestWarning: Unverified HTTPS request is being made to host 'guiadocente.udc.es'. Adding certificate verification is strongly advised. See: https://urllib3.readthedocs.io/en/latest/advanced-usage.html#ssl-warnings\n",
      "  InsecureRequestWarning,\n",
      "/Users/elenatorro/.local/share/virtualenvs/notebooks-EjoTTmKj/lib/python3.7/site-packages/urllib3/connectionpool.py:986: InsecureRequestWarning: Unverified HTTPS request is being made to host 'guiadocente.udc.es'. Adding certificate verification is strongly advised. See: https://urllib3.readthedocs.io/en/latest/advanced-usage.html#ssl-warnings\n",
      "  InsecureRequestWarning,\n"
     ]
    },
    {
     "name": "stdout",
     "output_type": "stream",
     "text": [
      "/es/subject/614G01V01/614G01014/2019\n",
      "https://guiadocente.udc.es/guia_docent/index.php?centre=614&ensenyament=614G01&assignatura=614G01014&any_academic=2019_20&idioma=cast\n"
     ]
    },
    {
     "name": "stderr",
     "output_type": "stream",
     "text": [
      "/Users/elenatorro/.local/share/virtualenvs/notebooks-EjoTTmKj/lib/python3.7/site-packages/urllib3/connectionpool.py:986: InsecureRequestWarning: Unverified HTTPS request is being made to host 'guiadocente.udc.es'. Adding certificate verification is strongly advised. See: https://urllib3.readthedocs.io/en/latest/advanced-usage.html#ssl-warnings\n",
      "  InsecureRequestWarning,\n",
      "/Users/elenatorro/.local/share/virtualenvs/notebooks-EjoTTmKj/lib/python3.7/site-packages/urllib3/connectionpool.py:986: InsecureRequestWarning: Unverified HTTPS request is being made to host 'guiadocente.udc.es'. Adding certificate verification is strongly advised. See: https://urllib3.readthedocs.io/en/latest/advanced-usage.html#ssl-warnings\n",
      "  InsecureRequestWarning,\n"
     ]
    },
    {
     "name": "stdout",
     "output_type": "stream",
     "text": [
      "/es/subject/614G01V01/614G01015/2019\n",
      "https://guiadocente.udc.es/guia_docent/index.php?centre=614&ensenyament=614G01&assignatura=614G01015&any_academic=2019_20&idioma=cast\n"
     ]
    },
    {
     "name": "stderr",
     "output_type": "stream",
     "text": [
      "/Users/elenatorro/.local/share/virtualenvs/notebooks-EjoTTmKj/lib/python3.7/site-packages/urllib3/connectionpool.py:986: InsecureRequestWarning: Unverified HTTPS request is being made to host 'guiadocente.udc.es'. Adding certificate verification is strongly advised. See: https://urllib3.readthedocs.io/en/latest/advanced-usage.html#ssl-warnings\n",
      "  InsecureRequestWarning,\n",
      "/Users/elenatorro/.local/share/virtualenvs/notebooks-EjoTTmKj/lib/python3.7/site-packages/urllib3/connectionpool.py:986: InsecureRequestWarning: Unverified HTTPS request is being made to host 'guiadocente.udc.es'. Adding certificate verification is strongly advised. See: https://urllib3.readthedocs.io/en/latest/advanced-usage.html#ssl-warnings\n",
      "  InsecureRequestWarning,\n"
     ]
    },
    {
     "name": "stdout",
     "output_type": "stream",
     "text": [
      "https://adendasgadu.udc.es/614G01015.pdf\n",
      "/es/subject/614G01V01/614G01016/2019\n",
      "https://guiadocente.udc.es/guia_docent/index.php?centre=614&ensenyament=614G01&assignatura=614G01016&any_academic=2019_20&idioma=cast\n"
     ]
    },
    {
     "name": "stderr",
     "output_type": "stream",
     "text": [
      "/Users/elenatorro/.local/share/virtualenvs/notebooks-EjoTTmKj/lib/python3.7/site-packages/urllib3/connectionpool.py:986: InsecureRequestWarning: Unverified HTTPS request is being made to host 'guiadocente.udc.es'. Adding certificate verification is strongly advised. See: https://urllib3.readthedocs.io/en/latest/advanced-usage.html#ssl-warnings\n",
      "  InsecureRequestWarning,\n",
      "/Users/elenatorro/.local/share/virtualenvs/notebooks-EjoTTmKj/lib/python3.7/site-packages/urllib3/connectionpool.py:986: InsecureRequestWarning: Unverified HTTPS request is being made to host 'guiadocente.udc.es'. Adding certificate verification is strongly advised. See: https://urllib3.readthedocs.io/en/latest/advanced-usage.html#ssl-warnings\n",
      "  InsecureRequestWarning,\n"
     ]
    },
    {
     "name": "stdout",
     "output_type": "stream",
     "text": [
      "/es/subject/614G01V01/614G01013/2019\n",
      "https://guiadocente.udc.es/guia_docent/index.php?centre=614&ensenyament=614G01&assignatura=614G01013&any_academic=2019_20&idioma=cast\n"
     ]
    },
    {
     "name": "stderr",
     "output_type": "stream",
     "text": [
      "/Users/elenatorro/.local/share/virtualenvs/notebooks-EjoTTmKj/lib/python3.7/site-packages/urllib3/connectionpool.py:986: InsecureRequestWarning: Unverified HTTPS request is being made to host 'guiadocente.udc.es'. Adding certificate verification is strongly advised. See: https://urllib3.readthedocs.io/en/latest/advanced-usage.html#ssl-warnings\n",
      "  InsecureRequestWarning,\n",
      "/Users/elenatorro/.local/share/virtualenvs/notebooks-EjoTTmKj/lib/python3.7/site-packages/urllib3/connectionpool.py:986: InsecureRequestWarning: Unverified HTTPS request is being made to host 'guiadocente.udc.es'. Adding certificate verification is strongly advised. See: https://urllib3.readthedocs.io/en/latest/advanced-usage.html#ssl-warnings\n",
      "  InsecureRequestWarning,\n"
     ]
    },
    {
     "name": "stdout",
     "output_type": "stream",
     "text": [
      "https://adendasgadu.udc.es/614G01013.pdf\n",
      "/es/subject/614G01V01/614G01017/2019\n",
      "https://guiadocente.udc.es/guia_docent/index.php?centre=614&ensenyament=614G01&assignatura=614G01017&any_academic=2019_20&idioma=cast\n"
     ]
    },
    {
     "name": "stderr",
     "output_type": "stream",
     "text": [
      "/Users/elenatorro/.local/share/virtualenvs/notebooks-EjoTTmKj/lib/python3.7/site-packages/urllib3/connectionpool.py:986: InsecureRequestWarning: Unverified HTTPS request is being made to host 'guiadocente.udc.es'. Adding certificate verification is strongly advised. See: https://urllib3.readthedocs.io/en/latest/advanced-usage.html#ssl-warnings\n",
      "  InsecureRequestWarning,\n",
      "/Users/elenatorro/.local/share/virtualenvs/notebooks-EjoTTmKj/lib/python3.7/site-packages/urllib3/connectionpool.py:986: InsecureRequestWarning: Unverified HTTPS request is being made to host 'guiadocente.udc.es'. Adding certificate verification is strongly advised. See: https://urllib3.readthedocs.io/en/latest/advanced-usage.html#ssl-warnings\n",
      "  InsecureRequestWarning,\n"
     ]
    },
    {
     "name": "stdout",
     "output_type": "stream",
     "text": [
      "https://adendasgadu.udc.es/614G01017.pdf\n",
      "/es/subject/614G01V01/614G01018/2019\n",
      "https://guiadocente.udc.es/guia_docent/index.php?centre=614&ensenyament=614G01&assignatura=614G01018&any_academic=2019_20&idioma=cast\n"
     ]
    },
    {
     "name": "stderr",
     "output_type": "stream",
     "text": [
      "/Users/elenatorro/.local/share/virtualenvs/notebooks-EjoTTmKj/lib/python3.7/site-packages/urllib3/connectionpool.py:986: InsecureRequestWarning: Unverified HTTPS request is being made to host 'guiadocente.udc.es'. Adding certificate verification is strongly advised. See: https://urllib3.readthedocs.io/en/latest/advanced-usage.html#ssl-warnings\n",
      "  InsecureRequestWarning,\n",
      "/Users/elenatorro/.local/share/virtualenvs/notebooks-EjoTTmKj/lib/python3.7/site-packages/urllib3/connectionpool.py:986: InsecureRequestWarning: Unverified HTTPS request is being made to host 'guiadocente.udc.es'. Adding certificate verification is strongly advised. See: https://urllib3.readthedocs.io/en/latest/advanced-usage.html#ssl-warnings\n",
      "  InsecureRequestWarning,\n"
     ]
    },
    {
     "name": "stdout",
     "output_type": "stream",
     "text": [
      "https://adendasgadu.udc.es/614G01018.pdf\n",
      "/es/subject/614G01V01/614G01019/2019\n",
      "https://guiadocente.udc.es/guia_docent/index.php?centre=614&ensenyament=614G01&assignatura=614G01019&any_academic=2019_20&idioma=cast\n"
     ]
    },
    {
     "name": "stderr",
     "output_type": "stream",
     "text": [
      "/Users/elenatorro/.local/share/virtualenvs/notebooks-EjoTTmKj/lib/python3.7/site-packages/urllib3/connectionpool.py:986: InsecureRequestWarning: Unverified HTTPS request is being made to host 'guiadocente.udc.es'. Adding certificate verification is strongly advised. See: https://urllib3.readthedocs.io/en/latest/advanced-usage.html#ssl-warnings\n",
      "  InsecureRequestWarning,\n",
      "/Users/elenatorro/.local/share/virtualenvs/notebooks-EjoTTmKj/lib/python3.7/site-packages/urllib3/connectionpool.py:986: InsecureRequestWarning: Unverified HTTPS request is being made to host 'guiadocente.udc.es'. Adding certificate verification is strongly advised. See: https://urllib3.readthedocs.io/en/latest/advanced-usage.html#ssl-warnings\n",
      "  InsecureRequestWarning,\n"
     ]
    },
    {
     "name": "stdout",
     "output_type": "stream",
     "text": [
      "https://adendasgadu.udc.es/614G01019.pdf\n",
      "/es/subject/614G01V01/614G01020/2019\n",
      "https://guiadocente.udc.es/guia_docent/index.php?centre=614&ensenyament=614G01&assignatura=614G01020&any_academic=2019_20&idioma=cast\n"
     ]
    },
    {
     "name": "stderr",
     "output_type": "stream",
     "text": [
      "/Users/elenatorro/.local/share/virtualenvs/notebooks-EjoTTmKj/lib/python3.7/site-packages/urllib3/connectionpool.py:986: InsecureRequestWarning: Unverified HTTPS request is being made to host 'guiadocente.udc.es'. Adding certificate verification is strongly advised. See: https://urllib3.readthedocs.io/en/latest/advanced-usage.html#ssl-warnings\n",
      "  InsecureRequestWarning,\n",
      "/Users/elenatorro/.local/share/virtualenvs/notebooks-EjoTTmKj/lib/python3.7/site-packages/urllib3/connectionpool.py:986: InsecureRequestWarning: Unverified HTTPS request is being made to host 'guiadocente.udc.es'. Adding certificate verification is strongly advised. See: https://urllib3.readthedocs.io/en/latest/advanced-usage.html#ssl-warnings\n",
      "  InsecureRequestWarning,\n"
     ]
    },
    {
     "name": "stdout",
     "output_type": "stream",
     "text": [
      "https://adendasgadu.udc.es/614G01020.pdf\n",
      "/es/subject/614G01V01/614G01021/2019\n",
      "https://guiadocente.udc.es/guia_docent/index.php?centre=614&ensenyament=614G01&assignatura=614G01021&any_academic=2019_20&idioma=cast\n"
     ]
    },
    {
     "name": "stderr",
     "output_type": "stream",
     "text": [
      "/Users/elenatorro/.local/share/virtualenvs/notebooks-EjoTTmKj/lib/python3.7/site-packages/urllib3/connectionpool.py:986: InsecureRequestWarning: Unverified HTTPS request is being made to host 'guiadocente.udc.es'. Adding certificate verification is strongly advised. See: https://urllib3.readthedocs.io/en/latest/advanced-usage.html#ssl-warnings\n",
      "  InsecureRequestWarning,\n",
      "/Users/elenatorro/.local/share/virtualenvs/notebooks-EjoTTmKj/lib/python3.7/site-packages/urllib3/connectionpool.py:986: InsecureRequestWarning: Unverified HTTPS request is being made to host 'guiadocente.udc.es'. Adding certificate verification is strongly advised. See: https://urllib3.readthedocs.io/en/latest/advanced-usage.html#ssl-warnings\n",
      "  InsecureRequestWarning,\n"
     ]
    },
    {
     "name": "stdout",
     "output_type": "stream",
     "text": [
      "/es/subject/614G01V01/614G01022/2019\n",
      "https://guiadocente.udc.es/guia_docent/index.php?centre=614&ensenyament=614G01&assignatura=614G01022&any_academic=2019_20&idioma=cast\n"
     ]
    },
    {
     "name": "stderr",
     "output_type": "stream",
     "text": [
      "/Users/elenatorro/.local/share/virtualenvs/notebooks-EjoTTmKj/lib/python3.7/site-packages/urllib3/connectionpool.py:986: InsecureRequestWarning: Unverified HTTPS request is being made to host 'guiadocente.udc.es'. Adding certificate verification is strongly advised. See: https://urllib3.readthedocs.io/en/latest/advanced-usage.html#ssl-warnings\n",
      "  InsecureRequestWarning,\n",
      "/Users/elenatorro/.local/share/virtualenvs/notebooks-EjoTTmKj/lib/python3.7/site-packages/urllib3/connectionpool.py:986: InsecureRequestWarning: Unverified HTTPS request is being made to host 'guiadocente.udc.es'. Adding certificate verification is strongly advised. See: https://urllib3.readthedocs.io/en/latest/advanced-usage.html#ssl-warnings\n",
      "  InsecureRequestWarning,\n"
     ]
    },
    {
     "name": "stdout",
     "output_type": "stream",
     "text": [
      "/es/subject/614G01V01/614G01023/2019\n",
      "https://guiadocente.udc.es/guia_docent/index.php?centre=614&ensenyament=614G01&assignatura=614G01023&any_academic=2019_20&idioma=cast\n"
     ]
    },
    {
     "name": "stderr",
     "output_type": "stream",
     "text": [
      "/Users/elenatorro/.local/share/virtualenvs/notebooks-EjoTTmKj/lib/python3.7/site-packages/urllib3/connectionpool.py:986: InsecureRequestWarning: Unverified HTTPS request is being made to host 'guiadocente.udc.es'. Adding certificate verification is strongly advised. See: https://urllib3.readthedocs.io/en/latest/advanced-usage.html#ssl-warnings\n",
      "  InsecureRequestWarning,\n",
      "/Users/elenatorro/.local/share/virtualenvs/notebooks-EjoTTmKj/lib/python3.7/site-packages/urllib3/connectionpool.py:986: InsecureRequestWarning: Unverified HTTPS request is being made to host 'guiadocente.udc.es'. Adding certificate verification is strongly advised. See: https://urllib3.readthedocs.io/en/latest/advanced-usage.html#ssl-warnings\n",
      "  InsecureRequestWarning,\n"
     ]
    },
    {
     "name": "stdout",
     "output_type": "stream",
     "text": [
      "/es/subject/614G01V01/614G01024/2019\n",
      "https://guiadocente.udc.es/guia_docent/index.php?centre=614&ensenyament=614G01&assignatura=614G01024&any_academic=2019_20&idioma=cast\n"
     ]
    },
    {
     "name": "stderr",
     "output_type": "stream",
     "text": [
      "/Users/elenatorro/.local/share/virtualenvs/notebooks-EjoTTmKj/lib/python3.7/site-packages/urllib3/connectionpool.py:986: InsecureRequestWarning: Unverified HTTPS request is being made to host 'guiadocente.udc.es'. Adding certificate verification is strongly advised. See: https://urllib3.readthedocs.io/en/latest/advanced-usage.html#ssl-warnings\n",
      "  InsecureRequestWarning,\n",
      "/Users/elenatorro/.local/share/virtualenvs/notebooks-EjoTTmKj/lib/python3.7/site-packages/urllib3/connectionpool.py:986: InsecureRequestWarning: Unverified HTTPS request is being made to host 'guiadocente.udc.es'. Adding certificate verification is strongly advised. See: https://urllib3.readthedocs.io/en/latest/advanced-usage.html#ssl-warnings\n",
      "  InsecureRequestWarning,\n"
     ]
    },
    {
     "name": "stdout",
     "output_type": "stream",
     "text": [
      "/es/subject/614G01V01/614G01025/2019\n",
      "https://guiadocente.udc.es/guia_docent/index.php?centre=614&ensenyament=614G01&assignatura=614G01025&any_academic=2019_20&idioma=cast\n"
     ]
    },
    {
     "name": "stderr",
     "output_type": "stream",
     "text": [
      "/Users/elenatorro/.local/share/virtualenvs/notebooks-EjoTTmKj/lib/python3.7/site-packages/urllib3/connectionpool.py:986: InsecureRequestWarning: Unverified HTTPS request is being made to host 'guiadocente.udc.es'. Adding certificate verification is strongly advised. See: https://urllib3.readthedocs.io/en/latest/advanced-usage.html#ssl-warnings\n",
      "  InsecureRequestWarning,\n",
      "/Users/elenatorro/.local/share/virtualenvs/notebooks-EjoTTmKj/lib/python3.7/site-packages/urllib3/connectionpool.py:986: InsecureRequestWarning: Unverified HTTPS request is being made to host 'guiadocente.udc.es'. Adding certificate verification is strongly advised. See: https://urllib3.readthedocs.io/en/latest/advanced-usage.html#ssl-warnings\n",
      "  InsecureRequestWarning,\n"
     ]
    },
    {
     "name": "stdout",
     "output_type": "stream",
     "text": [
      "/es/subject/614G01V01/614G01026/2019\n",
      "https://guiadocente.udc.es/guia_docent/index.php?centre=614&ensenyament=614G01&assignatura=614G01026&any_academic=2019_20&idioma=cast\n"
     ]
    },
    {
     "name": "stderr",
     "output_type": "stream",
     "text": [
      "/Users/elenatorro/.local/share/virtualenvs/notebooks-EjoTTmKj/lib/python3.7/site-packages/urllib3/connectionpool.py:986: InsecureRequestWarning: Unverified HTTPS request is being made to host 'guiadocente.udc.es'. Adding certificate verification is strongly advised. See: https://urllib3.readthedocs.io/en/latest/advanced-usage.html#ssl-warnings\n",
      "  InsecureRequestWarning,\n",
      "/Users/elenatorro/.local/share/virtualenvs/notebooks-EjoTTmKj/lib/python3.7/site-packages/urllib3/connectionpool.py:986: InsecureRequestWarning: Unverified HTTPS request is being made to host 'guiadocente.udc.es'. Adding certificate verification is strongly advised. See: https://urllib3.readthedocs.io/en/latest/advanced-usage.html#ssl-warnings\n",
      "  InsecureRequestWarning,\n"
     ]
    },
    {
     "name": "stdout",
     "output_type": "stream",
     "text": [
      "https://adendasgadu.udc.es/614G01026.pdf\n",
      "/es/subject/614G01V01/614G01027/2019\n",
      "https://guiadocente.udc.es/guia_docent/index.php?centre=614&ensenyament=614G01&assignatura=614G01027&any_academic=2019_20&idioma=cast\n"
     ]
    },
    {
     "name": "stderr",
     "output_type": "stream",
     "text": [
      "/Users/elenatorro/.local/share/virtualenvs/notebooks-EjoTTmKj/lib/python3.7/site-packages/urllib3/connectionpool.py:986: InsecureRequestWarning: Unverified HTTPS request is being made to host 'guiadocente.udc.es'. Adding certificate verification is strongly advised. See: https://urllib3.readthedocs.io/en/latest/advanced-usage.html#ssl-warnings\n",
      "  InsecureRequestWarning,\n",
      "/Users/elenatorro/.local/share/virtualenvs/notebooks-EjoTTmKj/lib/python3.7/site-packages/urllib3/connectionpool.py:986: InsecureRequestWarning: Unverified HTTPS request is being made to host 'guiadocente.udc.es'. Adding certificate verification is strongly advised. See: https://urllib3.readthedocs.io/en/latest/advanced-usage.html#ssl-warnings\n",
      "  InsecureRequestWarning,\n"
     ]
    },
    {
     "name": "stdout",
     "output_type": "stream",
     "text": [
      "https://adendasgadu.udc.es/614G01027.pdf\n",
      "/es/subject/614G01V01/614G01028/2019\n",
      "https://guiadocente.udc.es/guia_docent/index.php?centre=614&ensenyament=614G01&assignatura=614G01028&any_academic=2019_20&idioma=cast\n"
     ]
    },
    {
     "name": "stderr",
     "output_type": "stream",
     "text": [
      "/Users/elenatorro/.local/share/virtualenvs/notebooks-EjoTTmKj/lib/python3.7/site-packages/urllib3/connectionpool.py:986: InsecureRequestWarning: Unverified HTTPS request is being made to host 'guiadocente.udc.es'. Adding certificate verification is strongly advised. See: https://urllib3.readthedocs.io/en/latest/advanced-usage.html#ssl-warnings\n",
      "  InsecureRequestWarning,\n",
      "/Users/elenatorro/.local/share/virtualenvs/notebooks-EjoTTmKj/lib/python3.7/site-packages/urllib3/connectionpool.py:986: InsecureRequestWarning: Unverified HTTPS request is being made to host 'guiadocente.udc.es'. Adding certificate verification is strongly advised. See: https://urllib3.readthedocs.io/en/latest/advanced-usage.html#ssl-warnings\n",
      "  InsecureRequestWarning,\n"
     ]
    },
    {
     "name": "stdout",
     "output_type": "stream",
     "text": [
      "https://adendasgadu.udc.es/614G01028.pdf\n",
      "/es/subject/614G01V01/614G01029/2019\n",
      "https://guiadocente.udc.es/guia_docent/index.php?centre=614&ensenyament=614G01&assignatura=614G01029&any_academic=2019_20&idioma=cast\n"
     ]
    },
    {
     "name": "stderr",
     "output_type": "stream",
     "text": [
      "/Users/elenatorro/.local/share/virtualenvs/notebooks-EjoTTmKj/lib/python3.7/site-packages/urllib3/connectionpool.py:986: InsecureRequestWarning: Unverified HTTPS request is being made to host 'guiadocente.udc.es'. Adding certificate verification is strongly advised. See: https://urllib3.readthedocs.io/en/latest/advanced-usage.html#ssl-warnings\n",
      "  InsecureRequestWarning,\n",
      "/Users/elenatorro/.local/share/virtualenvs/notebooks-EjoTTmKj/lib/python3.7/site-packages/urllib3/connectionpool.py:986: InsecureRequestWarning: Unverified HTTPS request is being made to host 'guiadocente.udc.es'. Adding certificate verification is strongly advised. See: https://urllib3.readthedocs.io/en/latest/advanced-usage.html#ssl-warnings\n",
      "  InsecureRequestWarning,\n"
     ]
    },
    {
     "name": "stdout",
     "output_type": "stream",
     "text": [
      "https://adendasgadu.udc.es/614G01029.pdf\n",
      "/es/subject/614G01V01/614G01030/2019\n",
      "https://guiadocente.udc.es/guia_docent/index.php?centre=614&ensenyament=614G01&assignatura=614G01030&any_academic=2019_20&idioma=cast\n"
     ]
    },
    {
     "name": "stderr",
     "output_type": "stream",
     "text": [
      "/Users/elenatorro/.local/share/virtualenvs/notebooks-EjoTTmKj/lib/python3.7/site-packages/urllib3/connectionpool.py:986: InsecureRequestWarning: Unverified HTTPS request is being made to host 'guiadocente.udc.es'. Adding certificate verification is strongly advised. See: https://urllib3.readthedocs.io/en/latest/advanced-usage.html#ssl-warnings\n",
      "  InsecureRequestWarning,\n",
      "/Users/elenatorro/.local/share/virtualenvs/notebooks-EjoTTmKj/lib/python3.7/site-packages/urllib3/connectionpool.py:986: InsecureRequestWarning: Unverified HTTPS request is being made to host 'guiadocente.udc.es'. Adding certificate verification is strongly advised. See: https://urllib3.readthedocs.io/en/latest/advanced-usage.html#ssl-warnings\n",
      "  InsecureRequestWarning,\n"
     ]
    },
    {
     "name": "stdout",
     "output_type": "stream",
     "text": [
      "https://adendasgadu.udc.es/614G01030.pdf\n",
      "/es/subject/614G01V01/614G01031/2019\n",
      "https://guiadocente.udc.es/guia_docent/index.php?centre=614&ensenyament=614G01&assignatura=614G01031&any_academic=2019_20&idioma=cast\n"
     ]
    },
    {
     "name": "stderr",
     "output_type": "stream",
     "text": [
      "/Users/elenatorro/.local/share/virtualenvs/notebooks-EjoTTmKj/lib/python3.7/site-packages/urllib3/connectionpool.py:986: InsecureRequestWarning: Unverified HTTPS request is being made to host 'guiadocente.udc.es'. Adding certificate verification is strongly advised. See: https://urllib3.readthedocs.io/en/latest/advanced-usage.html#ssl-warnings\n",
      "  InsecureRequestWarning,\n",
      "/Users/elenatorro/.local/share/virtualenvs/notebooks-EjoTTmKj/lib/python3.7/site-packages/urllib3/connectionpool.py:986: InsecureRequestWarning: Unverified HTTPS request is being made to host 'guiadocente.udc.es'. Adding certificate verification is strongly advised. See: https://urllib3.readthedocs.io/en/latest/advanced-usage.html#ssl-warnings\n",
      "  InsecureRequestWarning,\n"
     ]
    },
    {
     "name": "stdout",
     "output_type": "stream",
     "text": [
      "https://adendasgadu.udc.es/614G01031.pdf\n",
      "/es/subject/614G01V01/614G01032/2019\n",
      "https://guiadocente.udc.es/guia_docent/index.php?centre=614&ensenyament=614G01&assignatura=614G01032&any_academic=2019_20&idioma=cast\n"
     ]
    },
    {
     "name": "stderr",
     "output_type": "stream",
     "text": [
      "/Users/elenatorro/.local/share/virtualenvs/notebooks-EjoTTmKj/lib/python3.7/site-packages/urllib3/connectionpool.py:986: InsecureRequestWarning: Unverified HTTPS request is being made to host 'guiadocente.udc.es'. Adding certificate verification is strongly advised. See: https://urllib3.readthedocs.io/en/latest/advanced-usage.html#ssl-warnings\n",
      "  InsecureRequestWarning,\n",
      "/Users/elenatorro/.local/share/virtualenvs/notebooks-EjoTTmKj/lib/python3.7/site-packages/urllib3/connectionpool.py:986: InsecureRequestWarning: Unverified HTTPS request is being made to host 'guiadocente.udc.es'. Adding certificate verification is strongly advised. See: https://urllib3.readthedocs.io/en/latest/advanced-usage.html#ssl-warnings\n",
      "  InsecureRequestWarning,\n"
     ]
    },
    {
     "name": "stdout",
     "output_type": "stream",
     "text": [
      "https://adendasgadu.udc.es/614G01032.pdf\n",
      "/es/subject/614G01V01/614G01033/2019\n",
      "https://guiadocente.udc.es/guia_docent/index.php?centre=614&ensenyament=614G01&assignatura=614G01033&any_academic=2019_20&idioma=cast\n"
     ]
    },
    {
     "name": "stderr",
     "output_type": "stream",
     "text": [
      "/Users/elenatorro/.local/share/virtualenvs/notebooks-EjoTTmKj/lib/python3.7/site-packages/urllib3/connectionpool.py:986: InsecureRequestWarning: Unverified HTTPS request is being made to host 'guiadocente.udc.es'. Adding certificate verification is strongly advised. See: https://urllib3.readthedocs.io/en/latest/advanced-usage.html#ssl-warnings\n",
      "  InsecureRequestWarning,\n",
      "/Users/elenatorro/.local/share/virtualenvs/notebooks-EjoTTmKj/lib/python3.7/site-packages/urllib3/connectionpool.py:986: InsecureRequestWarning: Unverified HTTPS request is being made to host 'guiadocente.udc.es'. Adding certificate verification is strongly advised. See: https://urllib3.readthedocs.io/en/latest/advanced-usage.html#ssl-warnings\n",
      "  InsecureRequestWarning,\n"
     ]
    },
    {
     "name": "stdout",
     "output_type": "stream",
     "text": [
      "https://adendasgadu.udc.es/614G01033.pdf\n",
      "/es/subject/614G01V01/614G01034/2019\n",
      "https://guiadocente.udc.es/guia_docent/index.php?centre=614&ensenyament=614G01&assignatura=614G01034&any_academic=2019_20&idioma=cast\n"
     ]
    },
    {
     "name": "stderr",
     "output_type": "stream",
     "text": [
      "/Users/elenatorro/.local/share/virtualenvs/notebooks-EjoTTmKj/lib/python3.7/site-packages/urllib3/connectionpool.py:986: InsecureRequestWarning: Unverified HTTPS request is being made to host 'guiadocente.udc.es'. Adding certificate verification is strongly advised. See: https://urllib3.readthedocs.io/en/latest/advanced-usage.html#ssl-warnings\n",
      "  InsecureRequestWarning,\n",
      "/Users/elenatorro/.local/share/virtualenvs/notebooks-EjoTTmKj/lib/python3.7/site-packages/urllib3/connectionpool.py:986: InsecureRequestWarning: Unverified HTTPS request is being made to host 'guiadocente.udc.es'. Adding certificate verification is strongly advised. See: https://urllib3.readthedocs.io/en/latest/advanced-usage.html#ssl-warnings\n",
      "  InsecureRequestWarning,\n"
     ]
    },
    {
     "name": "stdout",
     "output_type": "stream",
     "text": [
      "https://adendasgadu.udc.es/614G01034.pdf\n",
      "/es/subject/614G01V01/614G01035/2019\n",
      "https://guiadocente.udc.es/guia_docent/index.php?centre=614&ensenyament=614G01&assignatura=614G01035&any_academic=2019_20&idioma=cast\n"
     ]
    },
    {
     "name": "stderr",
     "output_type": "stream",
     "text": [
      "/Users/elenatorro/.local/share/virtualenvs/notebooks-EjoTTmKj/lib/python3.7/site-packages/urllib3/connectionpool.py:986: InsecureRequestWarning: Unverified HTTPS request is being made to host 'guiadocente.udc.es'. Adding certificate verification is strongly advised. See: https://urllib3.readthedocs.io/en/latest/advanced-usage.html#ssl-warnings\n",
      "  InsecureRequestWarning,\n",
      "/Users/elenatorro/.local/share/virtualenvs/notebooks-EjoTTmKj/lib/python3.7/site-packages/urllib3/connectionpool.py:986: InsecureRequestWarning: Unverified HTTPS request is being made to host 'guiadocente.udc.es'. Adding certificate verification is strongly advised. See: https://urllib3.readthedocs.io/en/latest/advanced-usage.html#ssl-warnings\n",
      "  InsecureRequestWarning,\n"
     ]
    },
    {
     "name": "stdout",
     "output_type": "stream",
     "text": [
      "https://adendasgadu.udc.es/614G01035.pdf\n",
      "/es/subject/614G01V01/614G01036/2019\n",
      "https://guiadocente.udc.es/guia_docent/index.php?centre=614&ensenyament=614G01&assignatura=614G01036&any_academic=2019_20&idioma=cast\n"
     ]
    },
    {
     "name": "stderr",
     "output_type": "stream",
     "text": [
      "/Users/elenatorro/.local/share/virtualenvs/notebooks-EjoTTmKj/lib/python3.7/site-packages/urllib3/connectionpool.py:986: InsecureRequestWarning: Unverified HTTPS request is being made to host 'guiadocente.udc.es'. Adding certificate verification is strongly advised. See: https://urllib3.readthedocs.io/en/latest/advanced-usage.html#ssl-warnings\n",
      "  InsecureRequestWarning,\n",
      "/Users/elenatorro/.local/share/virtualenvs/notebooks-EjoTTmKj/lib/python3.7/site-packages/urllib3/connectionpool.py:986: InsecureRequestWarning: Unverified HTTPS request is being made to host 'guiadocente.udc.es'. Adding certificate verification is strongly advised. See: https://urllib3.readthedocs.io/en/latest/advanced-usage.html#ssl-warnings\n",
      "  InsecureRequestWarning,\n"
     ]
    },
    {
     "name": "stdout",
     "output_type": "stream",
     "text": [
      "https://adendasgadu.udc.es/614G01036.pdf\n",
      "/es/subject/614G01V01/614G01037/2019\n",
      "https://guiadocente.udc.es/guia_docent/index.php?centre=614&ensenyament=614G01&assignatura=614G01037&any_academic=2019_20&idioma=cast\n"
     ]
    },
    {
     "name": "stderr",
     "output_type": "stream",
     "text": [
      "/Users/elenatorro/.local/share/virtualenvs/notebooks-EjoTTmKj/lib/python3.7/site-packages/urllib3/connectionpool.py:986: InsecureRequestWarning: Unverified HTTPS request is being made to host 'guiadocente.udc.es'. Adding certificate verification is strongly advised. See: https://urllib3.readthedocs.io/en/latest/advanced-usage.html#ssl-warnings\n",
      "  InsecureRequestWarning,\n",
      "/Users/elenatorro/.local/share/virtualenvs/notebooks-EjoTTmKj/lib/python3.7/site-packages/urllib3/connectionpool.py:986: InsecureRequestWarning: Unverified HTTPS request is being made to host 'guiadocente.udc.es'. Adding certificate verification is strongly advised. See: https://urllib3.readthedocs.io/en/latest/advanced-usage.html#ssl-warnings\n",
      "  InsecureRequestWarning,\n"
     ]
    },
    {
     "name": "stdout",
     "output_type": "stream",
     "text": [
      "https://adendasgadu.udc.es/614G01037.pdf\n",
      "/es/subject/614G01V01/614G01038/2019\n",
      "https://guiadocente.udc.es/guia_docent/index.php?centre=614&ensenyament=614G01&assignatura=614G01038&any_academic=2019_20&idioma=cast\n"
     ]
    },
    {
     "name": "stderr",
     "output_type": "stream",
     "text": [
      "/Users/elenatorro/.local/share/virtualenvs/notebooks-EjoTTmKj/lib/python3.7/site-packages/urllib3/connectionpool.py:986: InsecureRequestWarning: Unverified HTTPS request is being made to host 'guiadocente.udc.es'. Adding certificate verification is strongly advised. See: https://urllib3.readthedocs.io/en/latest/advanced-usage.html#ssl-warnings\n",
      "  InsecureRequestWarning,\n",
      "/Users/elenatorro/.local/share/virtualenvs/notebooks-EjoTTmKj/lib/python3.7/site-packages/urllib3/connectionpool.py:986: InsecureRequestWarning: Unverified HTTPS request is being made to host 'guiadocente.udc.es'. Adding certificate verification is strongly advised. See: https://urllib3.readthedocs.io/en/latest/advanced-usage.html#ssl-warnings\n",
      "  InsecureRequestWarning,\n"
     ]
    },
    {
     "name": "stdout",
     "output_type": "stream",
     "text": [
      "https://adendasgadu.udc.es/614G01038.pdf\n",
      "/es/subject/614G01V01/614G01039/2019\n",
      "https://guiadocente.udc.es/guia_docent/index.php?centre=614&ensenyament=614G01&assignatura=614G01039&any_academic=2019_20&idioma=cast\n"
     ]
    },
    {
     "name": "stderr",
     "output_type": "stream",
     "text": [
      "/Users/elenatorro/.local/share/virtualenvs/notebooks-EjoTTmKj/lib/python3.7/site-packages/urllib3/connectionpool.py:986: InsecureRequestWarning: Unverified HTTPS request is being made to host 'guiadocente.udc.es'. Adding certificate verification is strongly advised. See: https://urllib3.readthedocs.io/en/latest/advanced-usage.html#ssl-warnings\n",
      "  InsecureRequestWarning,\n",
      "/Users/elenatorro/.local/share/virtualenvs/notebooks-EjoTTmKj/lib/python3.7/site-packages/urllib3/connectionpool.py:986: InsecureRequestWarning: Unverified HTTPS request is being made to host 'guiadocente.udc.es'. Adding certificate verification is strongly advised. See: https://urllib3.readthedocs.io/en/latest/advanced-usage.html#ssl-warnings\n",
      "  InsecureRequestWarning,\n"
     ]
    },
    {
     "name": "stdout",
     "output_type": "stream",
     "text": [
      "https://adendasgadu.udc.es/614G01039.pdf\n",
      "/es/subject/614G01V01/614G01040/2019\n",
      "https://guiadocente.udc.es/guia_docent/index.php?centre=614&ensenyament=614G01&assignatura=614G01040&any_academic=2019_20&idioma=cast\n"
     ]
    },
    {
     "name": "stderr",
     "output_type": "stream",
     "text": [
      "/Users/elenatorro/.local/share/virtualenvs/notebooks-EjoTTmKj/lib/python3.7/site-packages/urllib3/connectionpool.py:986: InsecureRequestWarning: Unverified HTTPS request is being made to host 'guiadocente.udc.es'. Adding certificate verification is strongly advised. See: https://urllib3.readthedocs.io/en/latest/advanced-usage.html#ssl-warnings\n",
      "  InsecureRequestWarning,\n",
      "/Users/elenatorro/.local/share/virtualenvs/notebooks-EjoTTmKj/lib/python3.7/site-packages/urllib3/connectionpool.py:986: InsecureRequestWarning: Unverified HTTPS request is being made to host 'guiadocente.udc.es'. Adding certificate verification is strongly advised. See: https://urllib3.readthedocs.io/en/latest/advanced-usage.html#ssl-warnings\n",
      "  InsecureRequestWarning,\n"
     ]
    },
    {
     "name": "stdout",
     "output_type": "stream",
     "text": [
      "https://adendasgadu.udc.es/614G01040.pdf\n",
      "/es/subject/614G01V01/614G01041/2019\n",
      "https://guiadocente.udc.es/guia_docent/index.php?centre=614&ensenyament=614G01&assignatura=614G01041&any_academic=2019_20&idioma=cast\n"
     ]
    },
    {
     "name": "stderr",
     "output_type": "stream",
     "text": [
      "/Users/elenatorro/.local/share/virtualenvs/notebooks-EjoTTmKj/lib/python3.7/site-packages/urllib3/connectionpool.py:986: InsecureRequestWarning: Unverified HTTPS request is being made to host 'guiadocente.udc.es'. Adding certificate verification is strongly advised. See: https://urllib3.readthedocs.io/en/latest/advanced-usage.html#ssl-warnings\n",
      "  InsecureRequestWarning,\n",
      "/Users/elenatorro/.local/share/virtualenvs/notebooks-EjoTTmKj/lib/python3.7/site-packages/urllib3/connectionpool.py:986: InsecureRequestWarning: Unverified HTTPS request is being made to host 'guiadocente.udc.es'. Adding certificate verification is strongly advised. See: https://urllib3.readthedocs.io/en/latest/advanced-usage.html#ssl-warnings\n",
      "  InsecureRequestWarning,\n"
     ]
    },
    {
     "name": "stdout",
     "output_type": "stream",
     "text": [
      "https://adendasgadu.udc.es/614G01041.pdf\n",
      "/es/subject/614G01V01/614G01042/2019\n",
      "https://guiadocente.udc.es/guia_docent/index.php?centre=614&ensenyament=614G01&assignatura=614G01042&any_academic=2019_20&idioma=cast\n"
     ]
    },
    {
     "name": "stderr",
     "output_type": "stream",
     "text": [
      "/Users/elenatorro/.local/share/virtualenvs/notebooks-EjoTTmKj/lib/python3.7/site-packages/urllib3/connectionpool.py:986: InsecureRequestWarning: Unverified HTTPS request is being made to host 'guiadocente.udc.es'. Adding certificate verification is strongly advised. See: https://urllib3.readthedocs.io/en/latest/advanced-usage.html#ssl-warnings\n",
      "  InsecureRequestWarning,\n",
      "/Users/elenatorro/.local/share/virtualenvs/notebooks-EjoTTmKj/lib/python3.7/site-packages/urllib3/connectionpool.py:986: InsecureRequestWarning: Unverified HTTPS request is being made to host 'guiadocente.udc.es'. Adding certificate verification is strongly advised. See: https://urllib3.readthedocs.io/en/latest/advanced-usage.html#ssl-warnings\n",
      "  InsecureRequestWarning,\n"
     ]
    },
    {
     "name": "stdout",
     "output_type": "stream",
     "text": [
      "https://adendasgadu.udc.es/614G01042.pdf\n",
      "/es/subject/614G01V01/614G01043/2019\n",
      "https://guiadocente.udc.es/guia_docent/index.php?centre=614&ensenyament=614G01&assignatura=614G01043&any_academic=2019_20&idioma=cast\n"
     ]
    },
    {
     "name": "stderr",
     "output_type": "stream",
     "text": [
      "/Users/elenatorro/.local/share/virtualenvs/notebooks-EjoTTmKj/lib/python3.7/site-packages/urllib3/connectionpool.py:986: InsecureRequestWarning: Unverified HTTPS request is being made to host 'guiadocente.udc.es'. Adding certificate verification is strongly advised. See: https://urllib3.readthedocs.io/en/latest/advanced-usage.html#ssl-warnings\n",
      "  InsecureRequestWarning,\n",
      "/Users/elenatorro/.local/share/virtualenvs/notebooks-EjoTTmKj/lib/python3.7/site-packages/urllib3/connectionpool.py:986: InsecureRequestWarning: Unverified HTTPS request is being made to host 'guiadocente.udc.es'. Adding certificate verification is strongly advised. See: https://urllib3.readthedocs.io/en/latest/advanced-usage.html#ssl-warnings\n",
      "  InsecureRequestWarning,\n"
     ]
    },
    {
     "name": "stdout",
     "output_type": "stream",
     "text": [
      "https://adendasgadu.udc.es/614G01043.pdf\n",
      "/es/subject/614G01V01/614G01044/2019\n",
      "https://guiadocente.udc.es/guia_docent/index.php?centre=614&ensenyament=614G01&assignatura=614G01044&any_academic=2019_20&idioma=cast\n"
     ]
    },
    {
     "name": "stderr",
     "output_type": "stream",
     "text": [
      "/Users/elenatorro/.local/share/virtualenvs/notebooks-EjoTTmKj/lib/python3.7/site-packages/urllib3/connectionpool.py:986: InsecureRequestWarning: Unverified HTTPS request is being made to host 'guiadocente.udc.es'. Adding certificate verification is strongly advised. See: https://urllib3.readthedocs.io/en/latest/advanced-usage.html#ssl-warnings\n",
      "  InsecureRequestWarning,\n",
      "/Users/elenatorro/.local/share/virtualenvs/notebooks-EjoTTmKj/lib/python3.7/site-packages/urllib3/connectionpool.py:986: InsecureRequestWarning: Unverified HTTPS request is being made to host 'guiadocente.udc.es'. Adding certificate verification is strongly advised. See: https://urllib3.readthedocs.io/en/latest/advanced-usage.html#ssl-warnings\n",
      "  InsecureRequestWarning,\n"
     ]
    },
    {
     "name": "stdout",
     "output_type": "stream",
     "text": [
      "https://adendasgadu.udc.es/614G01044.pdf\n",
      "/es/subject/614G01V01/614G01045/2019\n",
      "https://guiadocente.udc.es/guia_docent/index.php?centre=614&ensenyament=614G01&assignatura=614G01045&any_academic=2019_20&idioma=cast\n"
     ]
    },
    {
     "name": "stderr",
     "output_type": "stream",
     "text": [
      "/Users/elenatorro/.local/share/virtualenvs/notebooks-EjoTTmKj/lib/python3.7/site-packages/urllib3/connectionpool.py:986: InsecureRequestWarning: Unverified HTTPS request is being made to host 'guiadocente.udc.es'. Adding certificate verification is strongly advised. See: https://urllib3.readthedocs.io/en/latest/advanced-usage.html#ssl-warnings\n",
      "  InsecureRequestWarning,\n",
      "/Users/elenatorro/.local/share/virtualenvs/notebooks-EjoTTmKj/lib/python3.7/site-packages/urllib3/connectionpool.py:986: InsecureRequestWarning: Unverified HTTPS request is being made to host 'guiadocente.udc.es'. Adding certificate verification is strongly advised. See: https://urllib3.readthedocs.io/en/latest/advanced-usage.html#ssl-warnings\n",
      "  InsecureRequestWarning,\n"
     ]
    },
    {
     "name": "stdout",
     "output_type": "stream",
     "text": [
      "https://adendasgadu.udc.es/614G01045.pdf\n",
      "/es/subject/614G01V01/614G01046/2019\n",
      "https://guiadocente.udc.es/guia_docent/index.php?centre=614&ensenyament=614G01&assignatura=614G01046&any_academic=2019_20&idioma=cast\n"
     ]
    },
    {
     "name": "stderr",
     "output_type": "stream",
     "text": [
      "/Users/elenatorro/.local/share/virtualenvs/notebooks-EjoTTmKj/lib/python3.7/site-packages/urllib3/connectionpool.py:986: InsecureRequestWarning: Unverified HTTPS request is being made to host 'guiadocente.udc.es'. Adding certificate verification is strongly advised. See: https://urllib3.readthedocs.io/en/latest/advanced-usage.html#ssl-warnings\n",
      "  InsecureRequestWarning,\n",
      "/Users/elenatorro/.local/share/virtualenvs/notebooks-EjoTTmKj/lib/python3.7/site-packages/urllib3/connectionpool.py:986: InsecureRequestWarning: Unverified HTTPS request is being made to host 'guiadocente.udc.es'. Adding certificate verification is strongly advised. See: https://urllib3.readthedocs.io/en/latest/advanced-usage.html#ssl-warnings\n",
      "  InsecureRequestWarning,\n"
     ]
    },
    {
     "name": "stdout",
     "output_type": "stream",
     "text": [
      "https://adendasgadu.udc.es/614G01046.pdf\n",
      "/es/subject/614G01V01/614G01047/2019\n",
      "https://guiadocente.udc.es/guia_docent/index.php?centre=614&ensenyament=614G01&assignatura=614G01047&any_academic=2019_20&idioma=cast\n"
     ]
    },
    {
     "name": "stderr",
     "output_type": "stream",
     "text": [
      "/Users/elenatorro/.local/share/virtualenvs/notebooks-EjoTTmKj/lib/python3.7/site-packages/urllib3/connectionpool.py:986: InsecureRequestWarning: Unverified HTTPS request is being made to host 'guiadocente.udc.es'. Adding certificate verification is strongly advised. See: https://urllib3.readthedocs.io/en/latest/advanced-usage.html#ssl-warnings\n",
      "  InsecureRequestWarning,\n",
      "/Users/elenatorro/.local/share/virtualenvs/notebooks-EjoTTmKj/lib/python3.7/site-packages/urllib3/connectionpool.py:986: InsecureRequestWarning: Unverified HTTPS request is being made to host 'guiadocente.udc.es'. Adding certificate verification is strongly advised. See: https://urllib3.readthedocs.io/en/latest/advanced-usage.html#ssl-warnings\n",
      "  InsecureRequestWarning,\n"
     ]
    },
    {
     "name": "stdout",
     "output_type": "stream",
     "text": [
      "https://adendasgadu.udc.es/614G01047.pdf\n",
      "/es/subject/614G01V01/614G01048/2019\n",
      "https://guiadocente.udc.es/guia_docent/index.php?centre=614&ensenyament=614G01&assignatura=614G01048&any_academic=2019_20&idioma=cast\n"
     ]
    },
    {
     "name": "stderr",
     "output_type": "stream",
     "text": [
      "/Users/elenatorro/.local/share/virtualenvs/notebooks-EjoTTmKj/lib/python3.7/site-packages/urllib3/connectionpool.py:986: InsecureRequestWarning: Unverified HTTPS request is being made to host 'guiadocente.udc.es'. Adding certificate verification is strongly advised. See: https://urllib3.readthedocs.io/en/latest/advanced-usage.html#ssl-warnings\n",
      "  InsecureRequestWarning,\n",
      "/Users/elenatorro/.local/share/virtualenvs/notebooks-EjoTTmKj/lib/python3.7/site-packages/urllib3/connectionpool.py:986: InsecureRequestWarning: Unverified HTTPS request is being made to host 'guiadocente.udc.es'. Adding certificate verification is strongly advised. See: https://urllib3.readthedocs.io/en/latest/advanced-usage.html#ssl-warnings\n",
      "  InsecureRequestWarning,\n"
     ]
    },
    {
     "name": "stdout",
     "output_type": "stream",
     "text": [
      "https://adendasgadu.udc.es/614G01048.pdf\n",
      "/es/subject/614G01V01/614G01049/2019\n",
      "https://guiadocente.udc.es/guia_docent/index.php?centre=614&ensenyament=614G01&assignatura=614G01049&any_academic=2019_20&idioma=cast\n"
     ]
    },
    {
     "name": "stderr",
     "output_type": "stream",
     "text": [
      "/Users/elenatorro/.local/share/virtualenvs/notebooks-EjoTTmKj/lib/python3.7/site-packages/urllib3/connectionpool.py:986: InsecureRequestWarning: Unverified HTTPS request is being made to host 'guiadocente.udc.es'. Adding certificate verification is strongly advised. See: https://urllib3.readthedocs.io/en/latest/advanced-usage.html#ssl-warnings\n",
      "  InsecureRequestWarning,\n",
      "/Users/elenatorro/.local/share/virtualenvs/notebooks-EjoTTmKj/lib/python3.7/site-packages/urllib3/connectionpool.py:986: InsecureRequestWarning: Unverified HTTPS request is being made to host 'guiadocente.udc.es'. Adding certificate verification is strongly advised. See: https://urllib3.readthedocs.io/en/latest/advanced-usage.html#ssl-warnings\n",
      "  InsecureRequestWarning,\n"
     ]
    },
    {
     "name": "stdout",
     "output_type": "stream",
     "text": [
      "https://adendasgadu.udc.es/614G01049.pdf\n",
      "/es/subject/614G01V01/614G01050/2019\n",
      "https://guiadocente.udc.es/guia_docent/index.php?centre=614&ensenyament=614G01&assignatura=614G01050&any_academic=2019_20&idioma=cast\n"
     ]
    },
    {
     "name": "stderr",
     "output_type": "stream",
     "text": [
      "/Users/elenatorro/.local/share/virtualenvs/notebooks-EjoTTmKj/lib/python3.7/site-packages/urllib3/connectionpool.py:986: InsecureRequestWarning: Unverified HTTPS request is being made to host 'guiadocente.udc.es'. Adding certificate verification is strongly advised. See: https://urllib3.readthedocs.io/en/latest/advanced-usage.html#ssl-warnings\n",
      "  InsecureRequestWarning,\n",
      "/Users/elenatorro/.local/share/virtualenvs/notebooks-EjoTTmKj/lib/python3.7/site-packages/urllib3/connectionpool.py:986: InsecureRequestWarning: Unverified HTTPS request is being made to host 'guiadocente.udc.es'. Adding certificate verification is strongly advised. See: https://urllib3.readthedocs.io/en/latest/advanced-usage.html#ssl-warnings\n",
      "  InsecureRequestWarning,\n"
     ]
    },
    {
     "name": "stdout",
     "output_type": "stream",
     "text": [
      "https://adendasgadu.udc.es/614G01050.pdf\n",
      "/es/subject/614G01V01/614G01051/2019\n",
      "https://guiadocente.udc.es/guia_docent/index.php?centre=614&ensenyament=614G01&assignatura=614G01051&any_academic=2019_20&idioma=cast\n"
     ]
    },
    {
     "name": "stderr",
     "output_type": "stream",
     "text": [
      "/Users/elenatorro/.local/share/virtualenvs/notebooks-EjoTTmKj/lib/python3.7/site-packages/urllib3/connectionpool.py:986: InsecureRequestWarning: Unverified HTTPS request is being made to host 'guiadocente.udc.es'. Adding certificate verification is strongly advised. See: https://urllib3.readthedocs.io/en/latest/advanced-usage.html#ssl-warnings\n",
      "  InsecureRequestWarning,\n",
      "/Users/elenatorro/.local/share/virtualenvs/notebooks-EjoTTmKj/lib/python3.7/site-packages/urllib3/connectionpool.py:986: InsecureRequestWarning: Unverified HTTPS request is being made to host 'guiadocente.udc.es'. Adding certificate verification is strongly advised. See: https://urllib3.readthedocs.io/en/latest/advanced-usage.html#ssl-warnings\n",
      "  InsecureRequestWarning,\n"
     ]
    },
    {
     "name": "stdout",
     "output_type": "stream",
     "text": [
      "/es/subject/614G01V01/614G01052/2019\n",
      "https://guiadocente.udc.es/guia_docent/index.php?centre=614&ensenyament=614G01&assignatura=614G01052&any_academic=2019_20&idioma=cast\n"
     ]
    },
    {
     "name": "stderr",
     "output_type": "stream",
     "text": [
      "/Users/elenatorro/.local/share/virtualenvs/notebooks-EjoTTmKj/lib/python3.7/site-packages/urllib3/connectionpool.py:986: InsecureRequestWarning: Unverified HTTPS request is being made to host 'guiadocente.udc.es'. Adding certificate verification is strongly advised. See: https://urllib3.readthedocs.io/en/latest/advanced-usage.html#ssl-warnings\n",
      "  InsecureRequestWarning,\n",
      "/Users/elenatorro/.local/share/virtualenvs/notebooks-EjoTTmKj/lib/python3.7/site-packages/urllib3/connectionpool.py:986: InsecureRequestWarning: Unverified HTTPS request is being made to host 'guiadocente.udc.es'. Adding certificate verification is strongly advised. See: https://urllib3.readthedocs.io/en/latest/advanced-usage.html#ssl-warnings\n",
      "  InsecureRequestWarning,\n"
     ]
    },
    {
     "name": "stdout",
     "output_type": "stream",
     "text": [
      "https://adendasgadu.udc.es/614G01052.pdf\n",
      "/es/subject/614G01V01/614G01053/2019\n",
      "https://guiadocente.udc.es/guia_docent/index.php?centre=614&ensenyament=614G01&assignatura=614G01053&any_academic=2019_20&idioma=cast\n"
     ]
    },
    {
     "name": "stderr",
     "output_type": "stream",
     "text": [
      "/Users/elenatorro/.local/share/virtualenvs/notebooks-EjoTTmKj/lib/python3.7/site-packages/urllib3/connectionpool.py:986: InsecureRequestWarning: Unverified HTTPS request is being made to host 'guiadocente.udc.es'. Adding certificate verification is strongly advised. See: https://urllib3.readthedocs.io/en/latest/advanced-usage.html#ssl-warnings\n",
      "  InsecureRequestWarning,\n",
      "/Users/elenatorro/.local/share/virtualenvs/notebooks-EjoTTmKj/lib/python3.7/site-packages/urllib3/connectionpool.py:986: InsecureRequestWarning: Unverified HTTPS request is being made to host 'guiadocente.udc.es'. Adding certificate verification is strongly advised. See: https://urllib3.readthedocs.io/en/latest/advanced-usage.html#ssl-warnings\n",
      "  InsecureRequestWarning,\n"
     ]
    },
    {
     "name": "stdout",
     "output_type": "stream",
     "text": [
      "https://adendasgadu.udc.es/614G01053.pdf\n",
      "/es/subject/614G01V01/614G01054/2019\n",
      "https://guiadocente.udc.es/guia_docent/index.php?centre=614&ensenyament=614G01&assignatura=614G01054&any_academic=2019_20&idioma=cast\n"
     ]
    },
    {
     "name": "stderr",
     "output_type": "stream",
     "text": [
      "/Users/elenatorro/.local/share/virtualenvs/notebooks-EjoTTmKj/lib/python3.7/site-packages/urllib3/connectionpool.py:986: InsecureRequestWarning: Unverified HTTPS request is being made to host 'guiadocente.udc.es'. Adding certificate verification is strongly advised. See: https://urllib3.readthedocs.io/en/latest/advanced-usage.html#ssl-warnings\n",
      "  InsecureRequestWarning,\n",
      "/Users/elenatorro/.local/share/virtualenvs/notebooks-EjoTTmKj/lib/python3.7/site-packages/urllib3/connectionpool.py:986: InsecureRequestWarning: Unverified HTTPS request is being made to host 'guiadocente.udc.es'. Adding certificate verification is strongly advised. See: https://urllib3.readthedocs.io/en/latest/advanced-usage.html#ssl-warnings\n",
      "  InsecureRequestWarning,\n"
     ]
    },
    {
     "name": "stdout",
     "output_type": "stream",
     "text": [
      "/es/subject/614G01V01/614G01057/2019\n",
      "https://guiadocente.udc.es/guia_docent/index.php?centre=614&ensenyament=614G01&assignatura=614G01057&any_academic=2019_20&idioma=cast\n"
     ]
    },
    {
     "name": "stderr",
     "output_type": "stream",
     "text": [
      "/Users/elenatorro/.local/share/virtualenvs/notebooks-EjoTTmKj/lib/python3.7/site-packages/urllib3/connectionpool.py:986: InsecureRequestWarning: Unverified HTTPS request is being made to host 'guiadocente.udc.es'. Adding certificate verification is strongly advised. See: https://urllib3.readthedocs.io/en/latest/advanced-usage.html#ssl-warnings\n",
      "  InsecureRequestWarning,\n",
      "/Users/elenatorro/.local/share/virtualenvs/notebooks-EjoTTmKj/lib/python3.7/site-packages/urllib3/connectionpool.py:986: InsecureRequestWarning: Unverified HTTPS request is being made to host 'guiadocente.udc.es'. Adding certificate verification is strongly advised. See: https://urllib3.readthedocs.io/en/latest/advanced-usage.html#ssl-warnings\n",
      "  InsecureRequestWarning,\n"
     ]
    },
    {
     "name": "stdout",
     "output_type": "stream",
     "text": [
      "/es/subject/614G01V01/614G01058/2019\n",
      "https://guiadocente.udc.es/guia_docent/index.php?centre=614&ensenyament=614G01&assignatura=614G01058&any_academic=2019_20&idioma=cast\n"
     ]
    },
    {
     "name": "stderr",
     "output_type": "stream",
     "text": [
      "/Users/elenatorro/.local/share/virtualenvs/notebooks-EjoTTmKj/lib/python3.7/site-packages/urllib3/connectionpool.py:986: InsecureRequestWarning: Unverified HTTPS request is being made to host 'guiadocente.udc.es'. Adding certificate verification is strongly advised. See: https://urllib3.readthedocs.io/en/latest/advanced-usage.html#ssl-warnings\n",
      "  InsecureRequestWarning,\n",
      "/Users/elenatorro/.local/share/virtualenvs/notebooks-EjoTTmKj/lib/python3.7/site-packages/urllib3/connectionpool.py:986: InsecureRequestWarning: Unverified HTTPS request is being made to host 'guiadocente.udc.es'. Adding certificate verification is strongly advised. See: https://urllib3.readthedocs.io/en/latest/advanced-usage.html#ssl-warnings\n",
      "  InsecureRequestWarning,\n"
     ]
    },
    {
     "name": "stdout",
     "output_type": "stream",
     "text": [
      "https://adendasgadu.udc.es/614G01058.pdf\n",
      "/es/subject/614G01V01/614G01059/2019\n",
      "https://guiadocente.udc.es/guia_docent/index.php?centre=614&ensenyament=614G01&assignatura=614G01059&any_academic=2019_20&idioma=cast\n"
     ]
    },
    {
     "name": "stderr",
     "output_type": "stream",
     "text": [
      "/Users/elenatorro/.local/share/virtualenvs/notebooks-EjoTTmKj/lib/python3.7/site-packages/urllib3/connectionpool.py:986: InsecureRequestWarning: Unverified HTTPS request is being made to host 'guiadocente.udc.es'. Adding certificate verification is strongly advised. See: https://urllib3.readthedocs.io/en/latest/advanced-usage.html#ssl-warnings\n",
      "  InsecureRequestWarning,\n",
      "/Users/elenatorro/.local/share/virtualenvs/notebooks-EjoTTmKj/lib/python3.7/site-packages/urllib3/connectionpool.py:986: InsecureRequestWarning: Unverified HTTPS request is being made to host 'guiadocente.udc.es'. Adding certificate verification is strongly advised. See: https://urllib3.readthedocs.io/en/latest/advanced-usage.html#ssl-warnings\n",
      "  InsecureRequestWarning,\n"
     ]
    },
    {
     "name": "stdout",
     "output_type": "stream",
     "text": [
      "https://adendasgadu.udc.es/614G01059.pdf\n",
      "/es/subject/614G01V01/614G01060/2019\n",
      "https://guiadocente.udc.es/guia_docent/index.php?centre=614&ensenyament=614G01&assignatura=614G01060&any_academic=2019_20&idioma=cast\n"
     ]
    },
    {
     "name": "stderr",
     "output_type": "stream",
     "text": [
      "/Users/elenatorro/.local/share/virtualenvs/notebooks-EjoTTmKj/lib/python3.7/site-packages/urllib3/connectionpool.py:986: InsecureRequestWarning: Unverified HTTPS request is being made to host 'guiadocente.udc.es'. Adding certificate verification is strongly advised. See: https://urllib3.readthedocs.io/en/latest/advanced-usage.html#ssl-warnings\n",
      "  InsecureRequestWarning,\n",
      "/Users/elenatorro/.local/share/virtualenvs/notebooks-EjoTTmKj/lib/python3.7/site-packages/urllib3/connectionpool.py:986: InsecureRequestWarning: Unverified HTTPS request is being made to host 'guiadocente.udc.es'. Adding certificate verification is strongly advised. See: https://urllib3.readthedocs.io/en/latest/advanced-usage.html#ssl-warnings\n",
      "  InsecureRequestWarning,\n"
     ]
    },
    {
     "name": "stdout",
     "output_type": "stream",
     "text": [
      "https://adendasgadu.udc.es/614G01060.pdf\n",
      "/es/subject/614G01V01/614G01061/2019\n",
      "https://guiadocente.udc.es/guia_docent/index.php?centre=614&ensenyament=614G01&assignatura=614G01061&any_academic=2019_20&idioma=cast\n"
     ]
    },
    {
     "name": "stderr",
     "output_type": "stream",
     "text": [
      "/Users/elenatorro/.local/share/virtualenvs/notebooks-EjoTTmKj/lib/python3.7/site-packages/urllib3/connectionpool.py:986: InsecureRequestWarning: Unverified HTTPS request is being made to host 'guiadocente.udc.es'. Adding certificate verification is strongly advised. See: https://urllib3.readthedocs.io/en/latest/advanced-usage.html#ssl-warnings\n",
      "  InsecureRequestWarning,\n",
      "/Users/elenatorro/.local/share/virtualenvs/notebooks-EjoTTmKj/lib/python3.7/site-packages/urllib3/connectionpool.py:986: InsecureRequestWarning: Unverified HTTPS request is being made to host 'guiadocente.udc.es'. Adding certificate verification is strongly advised. See: https://urllib3.readthedocs.io/en/latest/advanced-usage.html#ssl-warnings\n",
      "  InsecureRequestWarning,\n"
     ]
    },
    {
     "name": "stdout",
     "output_type": "stream",
     "text": [
      "/es/subject/614G01V01/614G01064/2019\n",
      "https://guiadocente.udc.es/guia_docent/index.php?centre=614&ensenyament=614G01&assignatura=614G01064&any_academic=2019_20&idioma=cast\n"
     ]
    },
    {
     "name": "stderr",
     "output_type": "stream",
     "text": [
      "/Users/elenatorro/.local/share/virtualenvs/notebooks-EjoTTmKj/lib/python3.7/site-packages/urllib3/connectionpool.py:986: InsecureRequestWarning: Unverified HTTPS request is being made to host 'guiadocente.udc.es'. Adding certificate verification is strongly advised. See: https://urllib3.readthedocs.io/en/latest/advanced-usage.html#ssl-warnings\n",
      "  InsecureRequestWarning,\n",
      "/Users/elenatorro/.local/share/virtualenvs/notebooks-EjoTTmKj/lib/python3.7/site-packages/urllib3/connectionpool.py:986: InsecureRequestWarning: Unverified HTTPS request is being made to host 'guiadocente.udc.es'. Adding certificate verification is strongly advised. See: https://urllib3.readthedocs.io/en/latest/advanced-usage.html#ssl-warnings\n",
      "  InsecureRequestWarning,\n"
     ]
    },
    {
     "name": "stdout",
     "output_type": "stream",
     "text": [
      "https://adendasgadu.udc.es/614G01064.pdf\n",
      "/es/subject/614G01V01/614G01065/2019\n",
      "https://guiadocente.udc.es/guia_docent/index.php?centre=614&ensenyament=614G01&assignatura=614G01065&any_academic=2019_20&idioma=cast\n"
     ]
    },
    {
     "name": "stderr",
     "output_type": "stream",
     "text": [
      "/Users/elenatorro/.local/share/virtualenvs/notebooks-EjoTTmKj/lib/python3.7/site-packages/urllib3/connectionpool.py:986: InsecureRequestWarning: Unverified HTTPS request is being made to host 'guiadocente.udc.es'. Adding certificate verification is strongly advised. See: https://urllib3.readthedocs.io/en/latest/advanced-usage.html#ssl-warnings\n",
      "  InsecureRequestWarning,\n",
      "/Users/elenatorro/.local/share/virtualenvs/notebooks-EjoTTmKj/lib/python3.7/site-packages/urllib3/connectionpool.py:986: InsecureRequestWarning: Unverified HTTPS request is being made to host 'guiadocente.udc.es'. Adding certificate verification is strongly advised. See: https://urllib3.readthedocs.io/en/latest/advanced-usage.html#ssl-warnings\n",
      "  InsecureRequestWarning,\n"
     ]
    },
    {
     "name": "stdout",
     "output_type": "stream",
     "text": [
      "https://adendasgadu.udc.es/614G01065.pdf\n",
      "/es/subject/614G01V01/614G01066/2019\n",
      "https://guiadocente.udc.es/guia_docent/index.php?centre=614&ensenyament=614G01&assignatura=614G01066&any_academic=2019_20&idioma=cast\n"
     ]
    },
    {
     "name": "stderr",
     "output_type": "stream",
     "text": [
      "/Users/elenatorro/.local/share/virtualenvs/notebooks-EjoTTmKj/lib/python3.7/site-packages/urllib3/connectionpool.py:986: InsecureRequestWarning: Unverified HTTPS request is being made to host 'guiadocente.udc.es'. Adding certificate verification is strongly advised. See: https://urllib3.readthedocs.io/en/latest/advanced-usage.html#ssl-warnings\n",
      "  InsecureRequestWarning,\n",
      "/Users/elenatorro/.local/share/virtualenvs/notebooks-EjoTTmKj/lib/python3.7/site-packages/urllib3/connectionpool.py:986: InsecureRequestWarning: Unverified HTTPS request is being made to host 'guiadocente.udc.es'. Adding certificate verification is strongly advised. See: https://urllib3.readthedocs.io/en/latest/advanced-usage.html#ssl-warnings\n",
      "  InsecureRequestWarning,\n"
     ]
    },
    {
     "name": "stdout",
     "output_type": "stream",
     "text": [
      "https://adendasgadu.udc.es/614G01066.pdf\n",
      "/es/subject/614G01V01/614G01067/2019\n",
      "https://guiadocente.udc.es/guia_docent/index.php?centre=614&ensenyament=614G01&assignatura=614G01067&any_academic=2019_20&idioma=cast\n"
     ]
    },
    {
     "name": "stderr",
     "output_type": "stream",
     "text": [
      "/Users/elenatorro/.local/share/virtualenvs/notebooks-EjoTTmKj/lib/python3.7/site-packages/urllib3/connectionpool.py:986: InsecureRequestWarning: Unverified HTTPS request is being made to host 'guiadocente.udc.es'. Adding certificate verification is strongly advised. See: https://urllib3.readthedocs.io/en/latest/advanced-usage.html#ssl-warnings\n",
      "  InsecureRequestWarning,\n",
      "/Users/elenatorro/.local/share/virtualenvs/notebooks-EjoTTmKj/lib/python3.7/site-packages/urllib3/connectionpool.py:986: InsecureRequestWarning: Unverified HTTPS request is being made to host 'guiadocente.udc.es'. Adding certificate verification is strongly advised. See: https://urllib3.readthedocs.io/en/latest/advanced-usage.html#ssl-warnings\n",
      "  InsecureRequestWarning,\n"
     ]
    },
    {
     "name": "stdout",
     "output_type": "stream",
     "text": [
      "https://adendasgadu.udc.es/614G01067.pdf\n",
      "/es/subject/614G01V01/614G01068/2019\n",
      "https://guiadocente.udc.es/guia_docent/index.php?centre=614&ensenyament=614G01&assignatura=614G01068&any_academic=2019_20&idioma=cast\n"
     ]
    },
    {
     "name": "stderr",
     "output_type": "stream",
     "text": [
      "/Users/elenatorro/.local/share/virtualenvs/notebooks-EjoTTmKj/lib/python3.7/site-packages/urllib3/connectionpool.py:986: InsecureRequestWarning: Unverified HTTPS request is being made to host 'guiadocente.udc.es'. Adding certificate verification is strongly advised. See: https://urllib3.readthedocs.io/en/latest/advanced-usage.html#ssl-warnings\n",
      "  InsecureRequestWarning,\n",
      "/Users/elenatorro/.local/share/virtualenvs/notebooks-EjoTTmKj/lib/python3.7/site-packages/urllib3/connectionpool.py:986: InsecureRequestWarning: Unverified HTTPS request is being made to host 'guiadocente.udc.es'. Adding certificate verification is strongly advised. See: https://urllib3.readthedocs.io/en/latest/advanced-usage.html#ssl-warnings\n",
      "  InsecureRequestWarning,\n"
     ]
    },
    {
     "name": "stdout",
     "output_type": "stream",
     "text": [
      "/es/subject/614G01V01/614G01072/2019\n",
      "https://guiadocente.udc.es/guia_docent/index.php?centre=614&ensenyament=614G01&assignatura=614G01072&any_academic=2019_20&idioma=cast\n"
     ]
    },
    {
     "name": "stderr",
     "output_type": "stream",
     "text": [
      "/Users/elenatorro/.local/share/virtualenvs/notebooks-EjoTTmKj/lib/python3.7/site-packages/urllib3/connectionpool.py:986: InsecureRequestWarning: Unverified HTTPS request is being made to host 'guiadocente.udc.es'. Adding certificate verification is strongly advised. See: https://urllib3.readthedocs.io/en/latest/advanced-usage.html#ssl-warnings\n",
      "  InsecureRequestWarning,\n",
      "/Users/elenatorro/.local/share/virtualenvs/notebooks-EjoTTmKj/lib/python3.7/site-packages/urllib3/connectionpool.py:986: InsecureRequestWarning: Unverified HTTPS request is being made to host 'guiadocente.udc.es'. Adding certificate verification is strongly advised. See: https://urllib3.readthedocs.io/en/latest/advanced-usage.html#ssl-warnings\n",
      "  InsecureRequestWarning,\n"
     ]
    },
    {
     "name": "stdout",
     "output_type": "stream",
     "text": [
      "https://adendasgadu.udc.es/614G01072.pdf\n",
      "/es/subject/614G01V01/614G01073/2019\n",
      "https://guiadocente.udc.es/guia_docent/index.php?centre=614&ensenyament=614G01&assignatura=614G01073&any_academic=2019_20&idioma=cast\n"
     ]
    },
    {
     "name": "stderr",
     "output_type": "stream",
     "text": [
      "/Users/elenatorro/.local/share/virtualenvs/notebooks-EjoTTmKj/lib/python3.7/site-packages/urllib3/connectionpool.py:986: InsecureRequestWarning: Unverified HTTPS request is being made to host 'guiadocente.udc.es'. Adding certificate verification is strongly advised. See: https://urllib3.readthedocs.io/en/latest/advanced-usage.html#ssl-warnings\n",
      "  InsecureRequestWarning,\n",
      "/Users/elenatorro/.local/share/virtualenvs/notebooks-EjoTTmKj/lib/python3.7/site-packages/urllib3/connectionpool.py:986: InsecureRequestWarning: Unverified HTTPS request is being made to host 'guiadocente.udc.es'. Adding certificate verification is strongly advised. See: https://urllib3.readthedocs.io/en/latest/advanced-usage.html#ssl-warnings\n",
      "  InsecureRequestWarning,\n"
     ]
    },
    {
     "name": "stdout",
     "output_type": "stream",
     "text": [
      "https://adendasgadu.udc.es/614G01073.pdf\n",
      "/es/subject/614G01V01/614G01074/2019\n",
      "https://guiadocente.udc.es/guia_docent/index.php?centre=614&ensenyament=614G01&assignatura=614G01074&any_academic=2019_20&idioma=cast\n"
     ]
    },
    {
     "name": "stderr",
     "output_type": "stream",
     "text": [
      "/Users/elenatorro/.local/share/virtualenvs/notebooks-EjoTTmKj/lib/python3.7/site-packages/urllib3/connectionpool.py:986: InsecureRequestWarning: Unverified HTTPS request is being made to host 'guiadocente.udc.es'. Adding certificate verification is strongly advised. See: https://urllib3.readthedocs.io/en/latest/advanced-usage.html#ssl-warnings\n",
      "  InsecureRequestWarning,\n",
      "/Users/elenatorro/.local/share/virtualenvs/notebooks-EjoTTmKj/lib/python3.7/site-packages/urllib3/connectionpool.py:986: InsecureRequestWarning: Unverified HTTPS request is being made to host 'guiadocente.udc.es'. Adding certificate verification is strongly advised. See: https://urllib3.readthedocs.io/en/latest/advanced-usage.html#ssl-warnings\n",
      "  InsecureRequestWarning,\n"
     ]
    },
    {
     "name": "stdout",
     "output_type": "stream",
     "text": [
      "https://adendasgadu.udc.es/614G01074.pdf\n",
      "/es/subject/614G01V01/614G01075/2019\n",
      "https://guiadocente.udc.es/guia_docent/index.php?centre=614&ensenyament=614G01&assignatura=614G01075&any_academic=2019_20&idioma=cast\n"
     ]
    },
    {
     "name": "stderr",
     "output_type": "stream",
     "text": [
      "/Users/elenatorro/.local/share/virtualenvs/notebooks-EjoTTmKj/lib/python3.7/site-packages/urllib3/connectionpool.py:986: InsecureRequestWarning: Unverified HTTPS request is being made to host 'guiadocente.udc.es'. Adding certificate verification is strongly advised. See: https://urllib3.readthedocs.io/en/latest/advanced-usage.html#ssl-warnings\n",
      "  InsecureRequestWarning,\n",
      "/Users/elenatorro/.local/share/virtualenvs/notebooks-EjoTTmKj/lib/python3.7/site-packages/urllib3/connectionpool.py:986: InsecureRequestWarning: Unverified HTTPS request is being made to host 'guiadocente.udc.es'. Adding certificate verification is strongly advised. See: https://urllib3.readthedocs.io/en/latest/advanced-usage.html#ssl-warnings\n",
      "  InsecureRequestWarning,\n"
     ]
    },
    {
     "name": "stdout",
     "output_type": "stream",
     "text": [
      "/es/subject/614G01V01/614G01079/2019\n",
      "https://guiadocente.udc.es/guia_docent/index.php?centre=614&ensenyament=614G01&assignatura=614G01079&any_academic=2019_20&idioma=cast\n"
     ]
    },
    {
     "name": "stderr",
     "output_type": "stream",
     "text": [
      "/Users/elenatorro/.local/share/virtualenvs/notebooks-EjoTTmKj/lib/python3.7/site-packages/urllib3/connectionpool.py:986: InsecureRequestWarning: Unverified HTTPS request is being made to host 'guiadocente.udc.es'. Adding certificate verification is strongly advised. See: https://urllib3.readthedocs.io/en/latest/advanced-usage.html#ssl-warnings\n",
      "  InsecureRequestWarning,\n",
      "/Users/elenatorro/.local/share/virtualenvs/notebooks-EjoTTmKj/lib/python3.7/site-packages/urllib3/connectionpool.py:986: InsecureRequestWarning: Unverified HTTPS request is being made to host 'guiadocente.udc.es'. Adding certificate verification is strongly advised. See: https://urllib3.readthedocs.io/en/latest/advanced-usage.html#ssl-warnings\n",
      "  InsecureRequestWarning,\n"
     ]
    },
    {
     "name": "stdout",
     "output_type": "stream",
     "text": [
      "/es/subject/614G01V01/614G01080/2019\n",
      "https://guiadocente.udc.es/guia_docent/index.php?centre=614&ensenyament=614G01&assignatura=614G01080&any_academic=2019_20&idioma=cast\n"
     ]
    },
    {
     "name": "stderr",
     "output_type": "stream",
     "text": [
      "/Users/elenatorro/.local/share/virtualenvs/notebooks-EjoTTmKj/lib/python3.7/site-packages/urllib3/connectionpool.py:986: InsecureRequestWarning: Unverified HTTPS request is being made to host 'guiadocente.udc.es'. Adding certificate verification is strongly advised. See: https://urllib3.readthedocs.io/en/latest/advanced-usage.html#ssl-warnings\n",
      "  InsecureRequestWarning,\n",
      "/Users/elenatorro/.local/share/virtualenvs/notebooks-EjoTTmKj/lib/python3.7/site-packages/urllib3/connectionpool.py:986: InsecureRequestWarning: Unverified HTTPS request is being made to host 'guiadocente.udc.es'. Adding certificate verification is strongly advised. See: https://urllib3.readthedocs.io/en/latest/advanced-usage.html#ssl-warnings\n",
      "  InsecureRequestWarning,\n"
     ]
    },
    {
     "name": "stdout",
     "output_type": "stream",
     "text": [
      "/es/subject/614G01V01/614G01081/2019\n",
      "https://guiadocente.udc.es/guia_docent/index.php?centre=614&ensenyament=614G01&assignatura=614G01081&any_academic=2019_20&idioma=cast\n"
     ]
    },
    {
     "name": "stderr",
     "output_type": "stream",
     "text": [
      "/Users/elenatorro/.local/share/virtualenvs/notebooks-EjoTTmKj/lib/python3.7/site-packages/urllib3/connectionpool.py:986: InsecureRequestWarning: Unverified HTTPS request is being made to host 'guiadocente.udc.es'. Adding certificate verification is strongly advised. See: https://urllib3.readthedocs.io/en/latest/advanced-usage.html#ssl-warnings\n",
      "  InsecureRequestWarning,\n",
      "/Users/elenatorro/.local/share/virtualenvs/notebooks-EjoTTmKj/lib/python3.7/site-packages/urllib3/connectionpool.py:986: InsecureRequestWarning: Unverified HTTPS request is being made to host 'guiadocente.udc.es'. Adding certificate verification is strongly advised. See: https://urllib3.readthedocs.io/en/latest/advanced-usage.html#ssl-warnings\n",
      "  InsecureRequestWarning,\n"
     ]
    },
    {
     "name": "stdout",
     "output_type": "stream",
     "text": [
      "https://adendasgadu.udc.es/614G01081.pdf\n",
      "/es/subject/614G01V01/614G01082/2019\n",
      "https://guiadocente.udc.es/guia_docent/index.php?centre=614&ensenyament=614G01&assignatura=614G01082&any_academic=2019_20&idioma=cast\n"
     ]
    },
    {
     "name": "stderr",
     "output_type": "stream",
     "text": [
      "/Users/elenatorro/.local/share/virtualenvs/notebooks-EjoTTmKj/lib/python3.7/site-packages/urllib3/connectionpool.py:986: InsecureRequestWarning: Unverified HTTPS request is being made to host 'guiadocente.udc.es'. Adding certificate verification is strongly advised. See: https://urllib3.readthedocs.io/en/latest/advanced-usage.html#ssl-warnings\n",
      "  InsecureRequestWarning,\n",
      "/Users/elenatorro/.local/share/virtualenvs/notebooks-EjoTTmKj/lib/python3.7/site-packages/urllib3/connectionpool.py:986: InsecureRequestWarning: Unverified HTTPS request is being made to host 'guiadocente.udc.es'. Adding certificate verification is strongly advised. See: https://urllib3.readthedocs.io/en/latest/advanced-usage.html#ssl-warnings\n",
      "  InsecureRequestWarning,\n"
     ]
    },
    {
     "name": "stdout",
     "output_type": "stream",
     "text": [
      "/es/subject/614G01V01/614G01123/2019\n",
      "/es/subject/614G01V01/614G01062/2019\n",
      "https://guiadocente.udc.es/guia_docent/index.php?centre=614&ensenyament=614G01&assignatura=614G01062&any_academic=2019_20&idioma=cast\n"
     ]
    },
    {
     "name": "stderr",
     "output_type": "stream",
     "text": [
      "/Users/elenatorro/.local/share/virtualenvs/notebooks-EjoTTmKj/lib/python3.7/site-packages/urllib3/connectionpool.py:986: InsecureRequestWarning: Unverified HTTPS request is being made to host 'guiadocente.udc.es'. Adding certificate verification is strongly advised. See: https://urllib3.readthedocs.io/en/latest/advanced-usage.html#ssl-warnings\n",
      "  InsecureRequestWarning,\n",
      "/Users/elenatorro/.local/share/virtualenvs/notebooks-EjoTTmKj/lib/python3.7/site-packages/urllib3/connectionpool.py:986: InsecureRequestWarning: Unverified HTTPS request is being made to host 'guiadocente.udc.es'. Adding certificate verification is strongly advised. See: https://urllib3.readthedocs.io/en/latest/advanced-usage.html#ssl-warnings\n",
      "  InsecureRequestWarning,\n"
     ]
    },
    {
     "name": "stdout",
     "output_type": "stream",
     "text": [
      "https://adendasgadu.udc.es/614G01062.pdf\n",
      "/es/subject/614G01V01/614G01087/2019\n",
      "https://guiadocente.udc.es/guia_docent/index.php?centre=614&ensenyament=614G01&assignatura=614G01087&any_academic=2019_20&idioma=cast\n"
     ]
    },
    {
     "name": "stderr",
     "output_type": "stream",
     "text": [
      "/Users/elenatorro/.local/share/virtualenvs/notebooks-EjoTTmKj/lib/python3.7/site-packages/urllib3/connectionpool.py:986: InsecureRequestWarning: Unverified HTTPS request is being made to host 'guiadocente.udc.es'. Adding certificate verification is strongly advised. See: https://urllib3.readthedocs.io/en/latest/advanced-usage.html#ssl-warnings\n",
      "  InsecureRequestWarning,\n",
      "/Users/elenatorro/.local/share/virtualenvs/notebooks-EjoTTmKj/lib/python3.7/site-packages/urllib3/connectionpool.py:986: InsecureRequestWarning: Unverified HTTPS request is being made to host 'guiadocente.udc.es'. Adding certificate verification is strongly advised. See: https://urllib3.readthedocs.io/en/latest/advanced-usage.html#ssl-warnings\n",
      "  InsecureRequestWarning,\n"
     ]
    },
    {
     "name": "stdout",
     "output_type": "stream",
     "text": [
      "https://adendasgadu.udc.es/614G01087.pdf\n",
      "/es/subject/614G01V01/614G01092/2019\n",
      "https://guiadocente.udc.es/guia_docent/index.php?centre=614&ensenyament=614G01&assignatura=614G01092&any_academic=2019_20&idioma=cast\n"
     ]
    },
    {
     "name": "stderr",
     "output_type": "stream",
     "text": [
      "/Users/elenatorro/.local/share/virtualenvs/notebooks-EjoTTmKj/lib/python3.7/site-packages/urllib3/connectionpool.py:986: InsecureRequestWarning: Unverified HTTPS request is being made to host 'guiadocente.udc.es'. Adding certificate verification is strongly advised. See: https://urllib3.readthedocs.io/en/latest/advanced-usage.html#ssl-warnings\n",
      "  InsecureRequestWarning,\n",
      "/Users/elenatorro/.local/share/virtualenvs/notebooks-EjoTTmKj/lib/python3.7/site-packages/urllib3/connectionpool.py:986: InsecureRequestWarning: Unverified HTTPS request is being made to host 'guiadocente.udc.es'. Adding certificate verification is strongly advised. See: https://urllib3.readthedocs.io/en/latest/advanced-usage.html#ssl-warnings\n",
      "  InsecureRequestWarning,\n"
     ]
    },
    {
     "name": "stdout",
     "output_type": "stream",
     "text": [
      "https://adendasgadu.udc.es/614G01092.pdf\n",
      "/es/subject/614G01V01/614G01093/2019\n",
      "https://guiadocente.udc.es/guia_docent/index.php?centre=614&ensenyament=614G01&assignatura=614G01093&any_academic=2019_20&idioma=cast\n"
     ]
    },
    {
     "name": "stderr",
     "output_type": "stream",
     "text": [
      "/Users/elenatorro/.local/share/virtualenvs/notebooks-EjoTTmKj/lib/python3.7/site-packages/urllib3/connectionpool.py:986: InsecureRequestWarning: Unverified HTTPS request is being made to host 'guiadocente.udc.es'. Adding certificate verification is strongly advised. See: https://urllib3.readthedocs.io/en/latest/advanced-usage.html#ssl-warnings\n",
      "  InsecureRequestWarning,\n",
      "/Users/elenatorro/.local/share/virtualenvs/notebooks-EjoTTmKj/lib/python3.7/site-packages/urllib3/connectionpool.py:986: InsecureRequestWarning: Unverified HTTPS request is being made to host 'guiadocente.udc.es'. Adding certificate verification is strongly advised. See: https://urllib3.readthedocs.io/en/latest/advanced-usage.html#ssl-warnings\n",
      "  InsecureRequestWarning,\n"
     ]
    },
    {
     "name": "stdout",
     "output_type": "stream",
     "text": [
      "https://adendasgadu.udc.es/614G01093.pdf\n",
      "/es/subject/614G01V01/614G01098/2019\n",
      "https://guiadocente.udc.es/guia_docent/index.php?centre=614&ensenyament=614G01&assignatura=614G01098&any_academic=2019_20&idioma=cast\n"
     ]
    },
    {
     "name": "stderr",
     "output_type": "stream",
     "text": [
      "/Users/elenatorro/.local/share/virtualenvs/notebooks-EjoTTmKj/lib/python3.7/site-packages/urllib3/connectionpool.py:986: InsecureRequestWarning: Unverified HTTPS request is being made to host 'guiadocente.udc.es'. Adding certificate verification is strongly advised. See: https://urllib3.readthedocs.io/en/latest/advanced-usage.html#ssl-warnings\n",
      "  InsecureRequestWarning,\n",
      "/Users/elenatorro/.local/share/virtualenvs/notebooks-EjoTTmKj/lib/python3.7/site-packages/urllib3/connectionpool.py:986: InsecureRequestWarning: Unverified HTTPS request is being made to host 'guiadocente.udc.es'. Adding certificate verification is strongly advised. See: https://urllib3.readthedocs.io/en/latest/advanced-usage.html#ssl-warnings\n",
      "  InsecureRequestWarning,\n"
     ]
    },
    {
     "name": "stdout",
     "output_type": "stream",
     "text": [
      "https://adendasgadu.udc.es/614G01098.pdf\n",
      "/es/subject/614G01V01/614G01099/2019\n",
      "https://guiadocente.udc.es/guia_docent/index.php?centre=614&ensenyament=614G01&assignatura=614G01099&any_academic=2019_20&idioma=cast\n"
     ]
    },
    {
     "name": "stderr",
     "output_type": "stream",
     "text": [
      "/Users/elenatorro/.local/share/virtualenvs/notebooks-EjoTTmKj/lib/python3.7/site-packages/urllib3/connectionpool.py:986: InsecureRequestWarning: Unverified HTTPS request is being made to host 'guiadocente.udc.es'. Adding certificate verification is strongly advised. See: https://urllib3.readthedocs.io/en/latest/advanced-usage.html#ssl-warnings\n",
      "  InsecureRequestWarning,\n",
      "/Users/elenatorro/.local/share/virtualenvs/notebooks-EjoTTmKj/lib/python3.7/site-packages/urllib3/connectionpool.py:986: InsecureRequestWarning: Unverified HTTPS request is being made to host 'guiadocente.udc.es'. Adding certificate verification is strongly advised. See: https://urllib3.readthedocs.io/en/latest/advanced-usage.html#ssl-warnings\n",
      "  InsecureRequestWarning,\n"
     ]
    },
    {
     "name": "stdout",
     "output_type": "stream",
     "text": [
      "https://adendasgadu.udc.es/614G01099.pdf\n",
      "/es/subject/614G01V01/614G01106/2019\n",
      "https://guiadocente.udc.es/guia_docent/index.php?centre=614&ensenyament=614G01&assignatura=614G01106&any_academic=2019_20&idioma=cast\n"
     ]
    },
    {
     "name": "stderr",
     "output_type": "stream",
     "text": [
      "/Users/elenatorro/.local/share/virtualenvs/notebooks-EjoTTmKj/lib/python3.7/site-packages/urllib3/connectionpool.py:986: InsecureRequestWarning: Unverified HTTPS request is being made to host 'guiadocente.udc.es'. Adding certificate verification is strongly advised. See: https://urllib3.readthedocs.io/en/latest/advanced-usage.html#ssl-warnings\n",
      "  InsecureRequestWarning,\n",
      "/Users/elenatorro/.local/share/virtualenvs/notebooks-EjoTTmKj/lib/python3.7/site-packages/urllib3/connectionpool.py:986: InsecureRequestWarning: Unverified HTTPS request is being made to host 'guiadocente.udc.es'. Adding certificate verification is strongly advised. See: https://urllib3.readthedocs.io/en/latest/advanced-usage.html#ssl-warnings\n",
      "  InsecureRequestWarning,\n"
     ]
    },
    {
     "name": "stdout",
     "output_type": "stream",
     "text": [
      "https://adendasgadu.udc.es/614G01106.pdf\n",
      "/es/subject/614G01V01/614G01107/2019\n",
      "https://guiadocente.udc.es/guia_docent/index.php?centre=614&ensenyament=614G01&assignatura=614G01107&any_academic=2019_20&idioma=cast\n"
     ]
    },
    {
     "name": "stderr",
     "output_type": "stream",
     "text": [
      "/Users/elenatorro/.local/share/virtualenvs/notebooks-EjoTTmKj/lib/python3.7/site-packages/urllib3/connectionpool.py:986: InsecureRequestWarning: Unverified HTTPS request is being made to host 'guiadocente.udc.es'. Adding certificate verification is strongly advised. See: https://urllib3.readthedocs.io/en/latest/advanced-usage.html#ssl-warnings\n",
      "  InsecureRequestWarning,\n",
      "/Users/elenatorro/.local/share/virtualenvs/notebooks-EjoTTmKj/lib/python3.7/site-packages/urllib3/connectionpool.py:986: InsecureRequestWarning: Unverified HTTPS request is being made to host 'guiadocente.udc.es'. Adding certificate verification is strongly advised. See: https://urllib3.readthedocs.io/en/latest/advanced-usage.html#ssl-warnings\n",
      "  InsecureRequestWarning,\n"
     ]
    },
    {
     "name": "stdout",
     "output_type": "stream",
     "text": [
      "https://adendasgadu.udc.es/614G01107.pdf\n",
      "/es/subject/614G01V01/614G01112/2019\n",
      "https://guiadocente.udc.es/guia_docent/index.php?centre=614&ensenyament=614G01&assignatura=614G01112&any_academic=2019_20&idioma=cast\n"
     ]
    },
    {
     "name": "stderr",
     "output_type": "stream",
     "text": [
      "/Users/elenatorro/.local/share/virtualenvs/notebooks-EjoTTmKj/lib/python3.7/site-packages/urllib3/connectionpool.py:986: InsecureRequestWarning: Unverified HTTPS request is being made to host 'guiadocente.udc.es'. Adding certificate verification is strongly advised. See: https://urllib3.readthedocs.io/en/latest/advanced-usage.html#ssl-warnings\n",
      "  InsecureRequestWarning,\n",
      "/Users/elenatorro/.local/share/virtualenvs/notebooks-EjoTTmKj/lib/python3.7/site-packages/urllib3/connectionpool.py:986: InsecureRequestWarning: Unverified HTTPS request is being made to host 'guiadocente.udc.es'. Adding certificate verification is strongly advised. See: https://urllib3.readthedocs.io/en/latest/advanced-usage.html#ssl-warnings\n",
      "  InsecureRequestWarning,\n"
     ]
    },
    {
     "name": "stdout",
     "output_type": "stream",
     "text": [
      "https://adendasgadu.udc.es/614G01112.pdf\n",
      "/es/subject/614G01V01/614G01113/2019\n",
      "https://guiadocente.udc.es/guia_docent/index.php?centre=614&ensenyament=614G01&assignatura=614G01113&any_academic=2019_20&idioma=cast\n"
     ]
    },
    {
     "name": "stderr",
     "output_type": "stream",
     "text": [
      "/Users/elenatorro/.local/share/virtualenvs/notebooks-EjoTTmKj/lib/python3.7/site-packages/urllib3/connectionpool.py:986: InsecureRequestWarning: Unverified HTTPS request is being made to host 'guiadocente.udc.es'. Adding certificate verification is strongly advised. See: https://urllib3.readthedocs.io/en/latest/advanced-usage.html#ssl-warnings\n",
      "  InsecureRequestWarning,\n",
      "/Users/elenatorro/.local/share/virtualenvs/notebooks-EjoTTmKj/lib/python3.7/site-packages/urllib3/connectionpool.py:986: InsecureRequestWarning: Unverified HTTPS request is being made to host 'guiadocente.udc.es'. Adding certificate verification is strongly advised. See: https://urllib3.readthedocs.io/en/latest/advanced-usage.html#ssl-warnings\n",
      "  InsecureRequestWarning,\n"
     ]
    },
    {
     "name": "stdout",
     "output_type": "stream",
     "text": [
      "https://adendasgadu.udc.es/614G01113.pdf\n",
      "/es/subject/614G01V01/614G01118/2019\n",
      "https://guiadocente.udc.es/guia_docent/index.php?centre=614&ensenyament=614G01&assignatura=614G01118&any_academic=2019_20&idioma=cast\n"
     ]
    },
    {
     "name": "stderr",
     "output_type": "stream",
     "text": [
      "/Users/elenatorro/.local/share/virtualenvs/notebooks-EjoTTmKj/lib/python3.7/site-packages/urllib3/connectionpool.py:986: InsecureRequestWarning: Unverified HTTPS request is being made to host 'guiadocente.udc.es'. Adding certificate verification is strongly advised. See: https://urllib3.readthedocs.io/en/latest/advanced-usage.html#ssl-warnings\n",
      "  InsecureRequestWarning,\n",
      "/Users/elenatorro/.local/share/virtualenvs/notebooks-EjoTTmKj/lib/python3.7/site-packages/urllib3/connectionpool.py:986: InsecureRequestWarning: Unverified HTTPS request is being made to host 'guiadocente.udc.es'. Adding certificate verification is strongly advised. See: https://urllib3.readthedocs.io/en/latest/advanced-usage.html#ssl-warnings\n",
      "  InsecureRequestWarning,\n"
     ]
    },
    {
     "name": "stdout",
     "output_type": "stream",
     "text": [
      "https://adendasgadu.udc.es/614G01118.pdf\n",
      "/es/subject/614G01V01/614G01120/2019\n",
      "https://guiadocente.udc.es/guia_docent/index.php?centre=614&ensenyament=614G01&assignatura=614G01120&any_academic=2019_20&idioma=cast\n"
     ]
    },
    {
     "name": "stderr",
     "output_type": "stream",
     "text": [
      "/Users/elenatorro/.local/share/virtualenvs/notebooks-EjoTTmKj/lib/python3.7/site-packages/urllib3/connectionpool.py:986: InsecureRequestWarning: Unverified HTTPS request is being made to host 'guiadocente.udc.es'. Adding certificate verification is strongly advised. See: https://urllib3.readthedocs.io/en/latest/advanced-usage.html#ssl-warnings\n",
      "  InsecureRequestWarning,\n"
     ]
    },
    {
     "name": "stdout",
     "output_type": "stream",
     "text": [
      "https://adendasgadu.udc.es/614G01120.pdf\n"
     ]
    },
    {
     "name": "stderr",
     "output_type": "stream",
     "text": [
      "/Users/elenatorro/.local/share/virtualenvs/notebooks-EjoTTmKj/lib/python3.7/site-packages/urllib3/connectionpool.py:986: InsecureRequestWarning: Unverified HTTPS request is being made to host 'guiadocente.udc.es'. Adding certificate verification is strongly advised. See: https://urllib3.readthedocs.io/en/latest/advanced-usage.html#ssl-warnings\n",
      "  InsecureRequestWarning,\n"
     ]
    }
   ],
   "source": [
    "url = 'https://estudos.udc.es/es/study/detail/614G01V01#plan-structure'\n",
    "\n",
    "get_subjects(url)"
   ]
  },
  {
   "cell_type": "code",
   "execution_count": 65,
   "metadata": {},
   "outputs": [
    {
     "data": {
      "text/plain": [
       "[{'code': '614G01001',\n",
       "  'name': 'Programación I',\n",
       "  'subject_type': 'Formación básica',\n",
       "  'num_credits': 6,\n",
       "  'period': 1,\n",
       "  'course': 1,\n",
       "  'language': 'Español, Gallego',\n",
       "  'content': '1 CONCEPTOS BÁSICOS1.1 Algoritmos1.1.1 Representación de algoritmos1.2 Programas1.2.1 Tipos de programas1.3 Lenguajes de programación1.3.1 Una visión histórica1.3.2 Clasificación de los lenguajes1.3.3 Instrucciones más importantes1.3.4 Propiedades de los lenguajes1.4 Traductores y Compiladores1.5 Estructura de un programa1.6 Elementos de un programa1.6.1 Símbolos predefinidos1.6.2 Símbolos especiales1.6.3 Identificadores1.6.4 Etiquetas1.6.5 Comentarios1.6.6 Directivas1.6.7 Constantes1.6.8 Números1.6.9 Cadenas de carácteres1.6.10 Variables: Declaración e iniciación1.6.11 Variables: Dirección de Memoria1.7 Salida y Entrada1.7.1 Sentencias de salida1.7.2 Sentencias de entrada1.8 Tipos de datos y operadores1.8.1 Tipos de datos1.8.2 Operadores1.8.3 Expresiones2 SENTENCIAS DE CONTROL2.1 Secuencial2.2 Alternativa2.2.1 La sentencia condicional simple2.2.2 La sentencia condicional múltiple2.3 Repetitiva2.3.1 Introducción2.3.2 Variables asociadas a los bucles2.3.3 Funcionamento de los diferentes tipos de bucles2.3.4 Bucle FOR2.3.5 Equivalencia entre bucles2.3.6 Errores en los bucles2.3.7 Diseño de bucles3 ARQUITECTURA DE UN PROGRAMA3.1 Procedimientos3.1 Funciones i Procedimientos3.1.1 Tipos de funciones y procedimientos3.1.2 Parámetros por valor y referencia3.1.3 Parámetros protegidos3.1.4 La pila de activación de procedimientos y funciones3.1.5 Variables globales y locales: Alcance3.1.6 Efectos laterales3.2 Recursividad3.2.1 Naturaleza de la recursividad3.2.2 Recursión infinita4 ESTRUCTURAS SIMPLES DE DATOS4.1 Arrays y Matrices4.1.1 Tipo de dato ARRAY4.1.2 Declaración de un Array4.1.3 Arrays de más de una dimensión4.1.4 Operaciones con Arrays y Matrices4.2  Registros4.2.1 Tipo de dato registro4.2.2 Operaciones con registros4.3 Cadenas de caracteres4.3.1 Cadenas de longitud fija4.3.2 Cadenas de longitud variable4.4 Operaciones básicas sobre Arrays4.4.1 Búsqueda4.4.2 Ordenación5 ENTRADA / SALIDA5.1 Ficheros5.2 Tipos5.3 Operaciones y modos de acceso5.4 Funciones y procedimientos predefinidos específicos',\n",
       "  'mention': '',\n",
       "  'url': 'https://guiadocente.udc.es/guia_docent/index.php?centre=614&ensenyament=614G01&assignatura=614G01001&any_academic=2019_20&idioma=cast&fitxa_apartat=3&idioma_assig=cast',\n",
       "  'bibliography': 'BásicaKernighan, Brian W. Englewood Cliffs  (1988). The C Programming Language. New Jersey. Prentice HallK.N. King (2008). C programming. A modern Approach. Second Edition..James L. Antonakos , Kenneth C. Mansfield  (2004). Programación estructurada en C. Madrid. Prentice-HallLuis Joyanes Aguilar, Ignacio Zahonero Martínez (2005). Programación en C metodología, algoritmos y estructura de datos. Madrid. McGraw-HillJosé R. García-Bermejo Giner (2008). Programación estructurada en C. PearsonLuis Joyanes Aguilar (2011). Fundamentos de programación : algoritmos, estructuras de datos y objetos. Madrid. McGraw-HillComplementáriaGabriela Márquez, Sonia Osorio, Noemí Olvera (2011). Introducción a la Programación Estructurada en C. PearsonAndrés Marzal, Isabel García (2017). Introducción a la Programación con C. Publicacions de la Universitat Jaume I. Servei de Comunicació i PublicacionsLuis Joyanes Aguilar  (2002). Programación en C. libro de problemas. Madrid. McGraw-Hill'},\n",
       " {'code': '614G01002',\n",
       "  'name': 'Informática Básica',\n",
       "  'subject_type': 'Formación básica',\n",
       "  'num_credits': 6,\n",
       "  'period': 1,\n",
       "  'course': 1,\n",
       "  'language': 'Español, Gallego',\n",
       "  'content': 'Principios de la arquitectura de computadoresRepresentación de la informaciónHistoria del hardware computacionalArquitectura de un computadorPrincipios de Sistemas de Gestión de Bases de Datos e Introducción a los Sistemas OperativosIntroducción a los Sistemas OperativosIntroducción a los Sistemas de Gestión de Bases de DatosIntroducción al modelo relacionalIntroducción al SQLPrincipios de Redes de ComunicaciónsRedes: Introducción a Redes de Comunicaciones. Cableado y Topologías. El modelo OSI.  Conceptos básicos de Ethernet. Conceptos básicos de TCP/IP. Configuración de dispositivos finales. Funcionalidad básica de dispositivos de red: Switches y Routers.',\n",
       "  'mention': '',\n",
       "  'url': 'https://guiadocente.udc.es/guia_docent/index.php?centre=614&ensenyament=614G01&assignatura=614G01002&any_academic=2019_20&idioma=cast&fitxa_apartat=3&idioma_assig=cast',\n",
       "  'bibliography': 'BásicaErnesto Ariganello (2009). Reces Cisco. Guía de Estudio para la Certificación CCNA Routing y Switching. RA-MAVicente Trigo Aranda (2010). Del ábaco a Internet. Creaciones CopyrightA. Silberschatz; H. Korth; S. Sudarshan (2006). Fundamentos de Bases de Datos. Mc Graw HillA. Silberschatz; H. Korth; S. Sudarshan (2011). Database System Concepts (6th ed). McGraw-HillElmasri, R.; Navathe, S.  (2007). Fundamentos de Sistemas de Bases de Datos. Addison-WesleyMiles J. Murdocca; Vincent P. Heuring (2002). Principios de arquitectura de computadoras. Prentice-HallAllen B. Tucker, Robert E. Noonan (2001). Programming Languages: Principles and Paradigms. Mc Graw HillCarretero et al. (2007). Sistemas Operativos, una visión aplicada (2ª ed). Mc Graw HillAndrew S. Tanenbaum (2009). Sistemas Operativos Modernos (3ª ed). Prentice-HallAndrew S. Tanenbaum (2009). Modern Operating Systems (3rd ed). Pearson-Prentice HallWendell Odom (2013). CCENT/CCNA ICND1 100-101 Official Cert Guide. Cisco PressComplementáriaW. Stallings (2004). Comunicaciones y Redes de Computadores. Pearson - Prentice HallSilberschatz, A.; Galvin, P.B.; Gagne, G. (2005). Fundamentos de los Sistemas Operativos (7ª ed). Mc Graw HillM. Meyers (2009). Redes. Administración y mantenimiento. Anaya'},\n",
       " {'code': '614G01003',\n",
       "  'name': 'Cálculo',\n",
       "  'subject_type': 'Formación básica',\n",
       "  'num_credits': 6,\n",
       "  'period': 1,\n",
       "  'course': 1,\n",
       "  'language': 'Español, Gallego',\n",
       "  'content': 'Funciones reales de una variable real- Conjuntos de números- Funciones reales de variable real- Funciones elementales- Límite de una función en un punto- Continuidad- Método de bisección- Interpolación de LagrangeCálculo diferencial de funciones reales de una variable real- Derivabilidad- Derivada de funciones elementales- Método de Newton-Raphson- Extremos relativos y absolutos- Teoremas de cálculo diferencial- Aplicaciones inmediatas de la derivación- Derivadas sucesivas- Teorema de Taylor- Derivación implícita y logarítmicaCálculo integral de funciones reales de una variable real- La integral de Riemann- Métodos elementales para el cálculo de primitivas- Integrales impropias- Aplicaciones de la integral- Integración numérica- Introducción a las ecuaciones diferenciales',\n",
       "  'mention': '',\n",
       "  'url': 'https://guiadocente.udc.es/guia_docent/index.php?centre=614&ensenyament=614G01&assignatura=614G01003&any_academic=2019_20&idioma=cast&fitxa_apartat=3&idioma_assig=cast',\n",
       "  'bibliography': 'BásicaR.T. Smith, R.B. Minton (2002). Calculus (Second edition). McGraw-HillJ. Stewart (2001). Cálculo de una variable. Thomson LearningM.T. Iglesias Otero (2011). MatLab para Cálculo en una variable. AndaviraComplementáriaJ. de Burgos (2010). Test de cálculo infinitesimal : (enunciados, respuestas y justificación). Madrd : García-MarotoB.D. Hahn, D.T. Valentine (2007). Essential Matlab for Engineers and Scientistics (3th ed.) . B.H.S. Josa (1992). Cómo iniciarse en la resolución de integrales. EdunsaS. Lantarón Sánchez, B. Llanas Juárez (2010). Matlab y Matemática Computacional . Bellisco EdicionesR. Larson, R. Hostetler, B.H. Edwards (2010). Cálculo Esencial. Cengage LearningC. Neuhauser (2004). Matemáticas para Ciencias. PearsonA.M. Ramos del Olmo, J.M. Rey Cabezas (2017). Matemáticas básicas para el acceso a la universidad. Ediciones Pirámide, Colección Ciencia y TécnicaPágina con applets interactivos:dm.udc.es/elearningBlog existelimite (con ejercicios resueltos):www.existelimite.com'},\n",
       " {'code': '614G01004',\n",
       "  'name': 'Matemática Discreta',\n",
       "  'subject_type': 'Formación básica',\n",
       "  'num_credits': 6,\n",
       "  'period': 1,\n",
       "  'course': 1,\n",
       "  'language': 'Español, Gallego',\n",
       "  'content': '',\n",
       "  'mention': '',\n",
       "  'url': 'https://guiadocente.udc.es/guia_docent/index.php?centre=614&ensenyament=614G01&assignatura=614G01004&any_academic=2019_20&idioma=cast&fitxa_apartat=3&idioma_assig=cast',\n",
       "  'bibliography': ''},\n",
       " {'code': '614G01009',\n",
       "  'name': 'Administración y Gestión de Organizaciones',\n",
       "  'subject_type': 'Formación básica',\n",
       "  'num_credits': 6,\n",
       "  'period': 1,\n",
       "  'course': 1,\n",
       "  'language': 'Español, Gallego',\n",
       "  'content': '1 La empresa y el empresario en la Sociedad Actual.La organización y su entorno: Análisis Económico.La empresa como organización: Tipos de Empresas.Los subsistemas de la empresa.Concepto y funciones del empresario.El plan de empresa y el modelo de negocio.2 El subsistema de Información Contable.Concepto y funciones del sistema de información contable.Conceptos básicos de Contabilidad Financiera.El proceso general de contabilidad.La creación de valor en la empresa.3 Análisis económico-financiero de la empresa.Análisis económico de la empresa.Análisis financiero de la empresa.4 Fundamentos de análisis de las operaciones financieras.Concepto de capital financiero.Leyes financieras clásicas.Rentas financieras.5 El subsistema Financiero: La decisión de inversión.Concepto de inversión.Tipos de inversión.Metodos de evaluación financiera de una inversión.6 El subsistema Financiero: La decisión de financiación.El coste de las fuentes financieras.Fuentes financieras a corto plazo.Fuentes financieras a largo plazo.7 El subsistema Productivo. Los costes en la empresa.El sistema de producción de la empresa: Concepto y funciones.Conceptos básicos de costes.Métodos de asignación de costes.8 El subsistema Comercial.El sistema comercial de la empresa: Concepto y funciones.Decisiones sobre producto, precio, promoción y distribución.9 El subsistema de Recursos Humanos.El sistema de recursos humanos de la empresa: Concepto y funciones.La dirección de recursos humanos.10 El Subsistema de Información Empresarial.La información como activo empresarial.El sistema de información empresarial: Concepto y funciones.Los sistemas de información en la estrategia empresarial.',\n",
       "  'mention': '',\n",
       "  'url': 'https://guiadocente.udc.es/guia_docent/index.php?centre=614&ensenyament=614G01&assignatura=614G01009&any_academic=2019_20&idioma=cast&fitxa_apartat=3&idioma_assig=cast',\n",
       "  'bibliography': 'BásicaSuárez Suárez, A. (2001). Curso de Economía de la Empresa. Editorial PirámideBueno Campos, Eduardo (2004). Curso básico de Economía de la Empresa. Editorial PirámideAmat Salas, Oriol (2008). Contabilidad y finanzas para no financieros. Ediciones DeustoBoedo Vilabella, Lucía (2009). Las fuentes de financiación y su coste: aspectos conceptuales y operativa financiera. Editorial NetbibloBoedo Vilabella, Lucía (2010). Evaluación de un proyecto de inversión en entornos de certeza, riesgo e incertidumbre . Reprografía NoroesteEn el desarrollo de los diferentes temas se utilizarán materiales realizados por los profesores de la asignatura y recursos en línea, como los ofrecidos en la web del IGAPE. Estos materiales y recursos serán incluidos en el Moodle oficial de la asignatura.ComplementáriaSuárez Suárez, A (2005). Decisiones óptimas de inversión y financiación empresarial. Editorial PirámideRemirez Prados, José Antonio (2010). Como entender los datos de la prensa económica. Editorial ESICOmeñaca García, Jesús (2008). Contabilidad General. Ediciones DeustoLaudon, K. (2008). Essentials of Management Information Systems. Prentice-Hall InternationalAguado, J.; Lacalle, M; Cepeda, I (2005). Lecciones básicas de economía. International  Thomson PublishingBlackstaff, Michael (2001). Business and Finance for It People. Springer-Verlag'},\n",
       " {'code': '614G01005',\n",
       "  'name': 'Tecnología Electrónica',\n",
       "  'subject_type': 'Formación básica',\n",
       "  'num_credits': 6,\n",
       "  'period': 2,\n",
       "  'course': 1,\n",
       "  'language': 'Español, Gallego',\n",
       "  'content': 'Tema 1. Circuitos eléctricos1.1 Conceptos básicos de electricidad. Ley de Ohm.1.2 Fuentes de tensión y de corriente. Potencia.1.3 Circuitos eléctricos. Reglas de Kirchhoff.1.4 Teoremas de Circuitos.Tema 2. Carga y descarga del condensador. Amplificadores2.1 Formas de onda. Valores fundamentales.2.2 Comportamiento de los parámetros del condensador en función del tiempo.2.3 Circuito R-C en el dominio del tiempo.2.4 Circuitos R-C integrador y diferenciador.2.5 Fundamentos de amplificadores.Tema 3. Diodos de unión p-n3.1 Principios físicos de los dispositivos semiconductores.3.2 Unión p-n.3.3 Característica V-I del diodo. Modelos lineales del diodo.3.4 Diodos de avalancha. Diodos LED. Fotodiodos.Tema 4. El transistor4.1 El transistor unipolar MOSFET.4.2 Características V-I en fuente común.4.3 Regiones de funcionamiento y modelos equivalentes lineales.4.4 El transistor MOSFET en amplificación y en conmutación.Tema 5. Familias lógicas5.1 Introducción. Características generales de los circuitos digitales.5.2 Inversor CMOS.5.3 Puertas CMOS.5.4 Familias CMOS.',\n",
       "  'mention': '',\n",
       "  'url': 'https://guiadocente.udc.es/guia_docent/index.php?centre=614&ensenyament=614G01&assignatura=614G01005&any_academic=2019_20&idioma=cast&fitxa_apartat=3&idioma_assig=cast',\n",
       "  'bibliography': 'Básica(). .Apuntes de la asignatura. Profesores de la asignatura.Circuitos eléctricos. Schaum. J.A.Edminister. Ed. McGraw Hill.Electrónica. Allan R. Hambley. Ed. Prentice HallElectronics. Allan R. Hambley. Ed. Prentice HallComplementáriaElectricidad Básica. Problemas Resueltos. Julio C. Brégains y Paula M. Castro. Ed. Starbook, ISBN 978-84-15457-25-1, 2012.Electrónica Básica. Problemas Resueltos. Julio C. Brégains y Paula M. Castro. Ed. Starbook, 2012.Introducción al análisis de circuitos. Robert L. Boylestad. Ec. Prentice HallIntroducción al análisis de circuitos. Un enfoque sistémico. Donald E. Scott. Ed. McGraw Hill.Microelectrónica. Circuitos y sistemas analógicos y digitales. Jacob Millman. Ed. Hispano Europea.Circuitos microelectrónicos. Adel S. Sedra y Kenneth C. Smith. Ed. OxfordPrincipios de electrónica. A.P.Malvino. Ed. McGraw-Hill.Electrónica: teoría de circuitos y dispositivos electrónicos. Robert L. Boylestad y Louis Nashelsky. Ed. Prentice Hall.Circuitos electrónicos. Análisis, simulación y diseño. Norbert R. Malik. Ed. Prentice Hall.Circuitos microelectrónicos. Análisis y diseño. M. H. Rashid. Ed. Thomson.'},\n",
       " {'code': '614G01006',\n",
       "  'name': 'Programación II',\n",
       "  'subject_type': 'Formación básica',\n",
       "  'num_credits': 6,\n",
       "  'period': 2,\n",
       "  'course': 1,\n",
       "  'language': 'Español, Gallego',\n",
       "  'content': 'Gestión dinámica da memoriaOrganización dea memoria de un programa.Definición de variables de tipo puntero.Reserva y destrucción dinámica de memoria.Asignación y comparación.Introducción a los Tipos Abstractos de DatosLa  abstracción  en  programación: Concepto, Evolución  a  través  de  la  historia  de  la  programación, TAD  y  Programación  orientada  a  objetos.La  modularidad  en  programación.Tipos  Abstractos  de  Datos: Definición  y  concepto, Diferencias  entre  tipo  de  dato,  estructuras  de  datos  y  TAD, Construcción  de  un  TAD, Ventajas  de  la  abstracción  de  datos.ListasEspecificación informal del TAD Lista.Implementación del TAD Lista.El TAD Lista ordenada: especificación e implementación.Multilistas y listas multiordenadas: concepto, representaciones y usos.PilasEspecificación informal del TAD Pila.Implementación del TAD Pila.Aplicaciones en computación.ColasEspecificación informal del TAD Cola.Implementación del TAD Cola.Variantes de las colas. Colas de prioridad.Aplicaciones en computación.ÁrboresDefinición de árbol y terminologíaTAD Árbol binario: Especificación  informal, Implementación.Recorridos de árboles.Árboles de búsquedaÁrboles binarios de búsqueda.Árboles AVL.',\n",
       "  'mention': '',\n",
       "  'url': 'https://guiadocente.udc.es/guia_docent/index.php?centre=614&ensenyament=614G01&assignatura=614G01006&any_academic=2019_20&idioma=cast&fitxa_apartat=3&idioma_assig=cast',\n",
       "  'bibliography': \"BásicaNarasimha Karumanchi  (2017). Data Structures and Algorithms Made Easy, 5th Edition. CareerMonk PublicationsIgnacio Zahonero y Luis Joyanes Aguilar (2004). Algoritmos y estructuras de datos: Una perspectiva en C.  McGraw-HillKyle Loudon (1999). Mastering Algorithms with C. O'Reilly MediaComplementáriaReema Thareja (2014). Data Structures Using C - Second Edition. Oxford University PressAaron M. Tenenbaum,? Yedidyah Langsam &? Moshe J. Augenstein (1989). Data Structures Using C. Prentice HallRichard F. Gilberg & Behrouz A. Forouzan (2005). Data Structures: A Pseudocode Approach with C (2nd Ed). Cengage LearningIgnacio Zahonero y Luis Joyanes Aguilar (2005). Programación en C. Metodología, Algoritmos y Estructura de Datos, 2º Edición.  McGraw-HillLuis Joyanes Aguilar, Andrés Castillo Sanz, Lucas Sánchez García e Ignacio Zahonero Martínez  (2002). Programación en C. Libro de problemas. McGraw-HillIgnacio Zahonero, Lucas García Sánchez, Luis Joyanes Aguilar y Matilde Fernández Azuela (2005). Estructuras de datos en C (Serie Schaum). McGraw-HillPáxina oficial da contorna de desenvolvemento CLion:https://www.jetbrains.com/clion/\"},\n",
       " {'code': '614G01007',\n",
       "  'name': 'Fundamentos de los Computadores',\n",
       "  'subject_type': 'Formación básica',\n",
       "  'num_credits': 6,\n",
       "  'period': 2,\n",
       "  'course': 1,\n",
       "  'language': 'Español, Gallego',\n",
       "  'content': 'I. Sistemas Digitales- Sistemas Combinacionales- Sistemas SecuencialesII. Estructura, Organización y Funcionamiento de Bloques Funcionales Básicos- Unidad de Procesamiento- Unidad de Control- Sistema de Entrada/Salida',\n",
       "  'mention': '',\n",
       "  'url': 'https://guiadocente.udc.es/guia_docent/index.php?centre=614&ensenyament=614G01&assignatura=614G01007&any_academic=2019_20&idioma=cast&fitxa_apartat=3&idioma_assig=cast',\n",
       "  'bibliography': 'BásicaThomas L. Floyd (2009). Digital Fundamentals (10th Edition). Pearson International EditionDavid A. Patterson, John L. Hennessy (2014). Computer organization and design : the hardware/software interface. Morgan Kaufmann PublishersF. García Carballeira, J. Carretero, J.D. García Sánchez y D. Expósito Singh (2015). Problemas resueltos de estructura de computadores (2ª ed.). ParaninfoJavier García Zubía (2003). Problemas resueltos de electrónica digital . ThomsonComplementáriaDavid M. Harris & Sarah L. Harris (2013). Digital Design and Computer Architecture. Morgan Kaufmann PublishersMiles J. Murdocca y Vicent P. Heuring (2002). Principios de arquitectura de computadoras. Prentice Hall'},\n",
       " {'code': '614G01008',\n",
       "  'name': 'Estadística',\n",
       "  'subject_type': 'Formación básica',\n",
       "  'num_credits': 6,\n",
       "  'period': 2,\n",
       "  'course': 1,\n",
       "  'language': 'Español, Gallego',\n",
       "  'content': 'ProbabilidadDefinición de probabilidad. PropiedadesProbabilidad condicionada. Teorema de BayesVariables aleatoriasVariables aleatorias discretasVariables aleatorias continuasTeorema central del límiteSimulaciónEstadística descriptivaDistribuciones de frecuenciasRepresentaciones gráficasMedidas de posición y de dispersiónInferencia estadísticaIntroducciónEstimación puntualIntervalos de confianzaContrastes de hipótesis paramétricosContrastes de hipótesis no paramétricosRegresión simpleRegresión lineal simpleRegresión no lineal',\n",
       "  'mention': '',\n",
       "  'url': 'https://guiadocente.udc.es/guia_docent/index.php?centre=614&ensenyament=614G01&assignatura=614G01008&any_academic=2019_20&idioma=cast&fitxa_apartat=3&idioma_assig=cast',\n",
       "  'bibliography': 'BásicaCao, R., Francisco, M., Naya, S., Presedo, M.A., Vázquez, M., Vilar, J.A. y Vilar, J.M. (2001). Introducción a la Estadística y sus aplicaciones. Ediciones PirámideEguzkitza Arrizabalaga, J.M. (2014).  Laboratorio de estadística y probabilidad con R. Gami EditorialComplementáriaBlasco Lorenzo, A. y Pérez Díaz, S. (2015). Modelos aleatorios en ingeniería. ParaninfoDevore, J.L. (2005). Probabilidad y Estadística para Ingeniería y Ciencias. ThomsonGonick, L. y Smith, W. (2001). Á estatística ¡en caricaturas!. SGAPEIOHernández, V., Ramos, E. y Yáñez, I. (2007). Probabilidad y sus aplicaciones en Ingeniería Informática. Ediciones AcadémicasHorgan, J.M. (2009). Probability with R. An Introduction with Computer Science Applications. WileyMontgomery, D.C. y Runger, G.C. (2004). Probabilidad y Estadística aplicadas a la Ingeniería. McGraw-HillQuintela del Río, A. (2013). El estadístico accidental. El autorR Development Core Team (2000). Introducción a R. http://www.r-project.org/Ugarte, M.D., Militino, A.F., Arnholt, A.T. (2008). Probability and Statistics with R. Chapman and Hall/CRC'},\n",
       " {'code': '614G01010',\n",
       "  'name': 'Álgebra',\n",
       "  'subject_type': 'Formación básica',\n",
       "  'num_credits': 6,\n",
       "  'period': 2,\n",
       "  'course': 1,\n",
       "  'language': 'Español, Gallego',\n",
       "  'content': 'Tema 1: Aritmética modular y aplicación a la Criptografía.Nociones básicas de aritmética entera. Algoritmo de Euclides. Números primos. Ecuaciones diofánticas lineales. Congruencias. Aritmética modular.Definición de criptosistema. Criptografía clásica. Criptografía simétrica y asimétrica. Ejemplos de criptosistemas.Sistemas de numeración. Criterios de divisibilidad.Tema 2: Sistemas de Ecuaciones Lineales, Matrices y Determinantes.Definición y propiedades de los sistemas de ecuaciones lineales. Sistemas escalonados. Método de Gauss. Matrices. Operaciones con matrices. Reducción a forma escalonada. Matriz invertible. Determinante de una matriz cuadrada, propiedades.Tema 3: Espacios Vectoriales.Definición y propiedades de los espacios vectoriales. Bases y coordenadas. Dimensión. Rango de un conjunto de vectores y rango de una matriz. Cálculo del rango. Cambio de base. Teorema de Rouché-Frobenius.Tema 4: Aplicaciones Lineales.Definición y propiedades de las aplicaciones lineales. Núcleo e imagen de una aplicación lineal. Matriz asociada a una aplicación lineal. Teorema de la dimensión.Tema 5: Códigos Lineales.Definición de códigos lineales. Parámetros de un código lineal. Distancia y peso de Hamming. Matriz generadora, matriz control de paridad. Corrección de errores en códigos lineales. Códigos de Hamming binarios.',\n",
       "  'mention': '',\n",
       "  'url': 'https://guiadocente.udc.es/guia_docent/index.php?centre=614&ensenyament=614G01&assignatura=614G01010&any_academic=2019_20&idioma=cast&fitxa_apartat=3&idioma_assig=cast',\n",
       "  'bibliography': 'BásicaGrossman, S. I. (1996). Álgebra lineal con aplicaciones. McGraw-Hill Interamericana México.Grossman, S. I. (1994). Elementary Linear Algebra with Applications. WileyMerino, L. y Santos, E.  (2006). Álgebra Lineal con Métodos Elementales. Thomson.Cameron, P. J. (1998). Introduction to Algebra. Oxford University Press, Oxford.Rosen, K. H. (2004). Matemática Discreta y sus aplicaciones. McGraw-Hill Interamericana.Rosen, K. H. (2003). Discrete Mathematics and Its Applications. McGraw-HillBiggs, N. L. (1994). Matemática Discreta. Madrid, Vicens Vives.Lay, D. C. (2011). Linear Algebra and Its Applications. PearsonLay, D. C.  (2007). Algebra Lineal y sus Aplicaciones. Prentice HallComplementáriaHernández, E.  (1994). Álgebra y Geometría. Addison-Wesley.Rojo, J. y Martín, I.  (2005). Ejercicios y problemas de Álgebra Lineal. McGraw-Hill.Lidl, R. y Pilz, G. (1998). Applied Abstract Algebra. Nueva York, Springer.Torrecilla Jover, B. (1999). Fermat. El Mago de los Números. Nivola.Van Lint, J. H. (1999). Introduction to Coding Theory. Berlín, Springer.Singh, S. (2000). Los Códigos Secretos. DebateNakos, G. y Joyner, D. (1999). Álgebra lineal con aplicaciones. Thomson.Nakos, G. y Joyner, D. (1998). Linear Algebra with Applications. Brooks Cole Publising'},\n",
       " {'code': '614G01011',\n",
       "  'name': 'Algoritmos',\n",
       "  'subject_type': 'Obligatoria',\n",
       "  'num_credits': 6,\n",
       "  'period': 1,\n",
       "  'course': 2,\n",
       "  'language': 'Español, Gallego',\n",
       "  'content': 'Tema 1Título del tema: Análisis de Algoritmos.Código: T1Presentación: En este primer tema se plantea el análisis de la complejidad de los algoritmos como uno de los principales objetivos del curso.En síntesis, se trata de añadir a los criterios que ya deben resultar familiares, los de estructuración y de corrección de los programas, el de la efi\\x1cciencia de los algoritmos.Unidades de contenido:1. Análisis de la eficiencia de los algoritmos: Notaciones asintóticas, Modelo de computación, Verificación empírica del análisis.2. Cálculo de los tiempos de ejecución: Análisis de los casos peor y medio, Cálculo de la O, Resolución de recurrencias.Tema 2Título del tema: Estructuras de datos.Código: T2Presentación: En este segundo tema se propone una revisión de las estructuras de datos básicas (pilas, listas, colas, árboles, conjuntos y grafos) con el objetivo de estudiar todas las implicaciones que conlleva su uso en cuanto a las complejidades espacial y temporal.Igualmente se profundiza en el estudio de estructuras interesantes desde el punto de vista del tiempo de ejecución: las tablas de dispersión y los montículos, estructura ésta última a la que recurriremos más adelante cuando se trate de implementar mejoras en algoritmos de grafos y algún caso de programación dinámica. La complejidad de la operación de búsqueda puede servir como hilo conductor en buena parte de este tema.Conviene en una introducción de esta parte del curso el insistir en los criterios de estructuración que debemos mantener en el diseño de cualquier aplicación, motivando el uso de tipos de datos abstractos y su consiguiente implementación mediante módulos. El objetivo es dar así las líneas generales de lo que se considera la disciplina de programación que debe exigirse al estudiante para la realización de las prácticas.Unidades de contenido:1. Pilas, colas, listas.2. Árboles, montículos.3. Dispersión (hashing).4. Conjuntos disjuntos.5. Grafos (representación).Tema 3Título del tema: Algoritmos sobre secuencias y conjuntos de datosCódigo: T3Presentación: El problema de la ordenación de una secuencia de elementos se convierte en esta parte del curso en una excusa ideal tanto para estudiar la complejidad de varios tipos de algoritmos como para presentar diferentes estrategias de diseño de algoritmos que se pueden extrapolar para la resolución de otros problemas.Uno de los algoritmos a los que se le dedicará especial atención es a la ordenación rápida, ya que permite introducir la característica fundamental de los algoritmos aleatorios, que se comportan de forma distinta al ejecutarse con una misma entrada. Una consecuencia directa es que el calificativo de peor caso o mejor caso para una entrada deja de tener sentido, aspecto que es importante debatir en clase.Unidades de contenido:1. Algoritmos de búsqueda.2. Algoritmos de ordenación: Inserción, Shell, Montículos (heapsort), Fusión (mergesort), Ordenación Rápida (quicksort).3. Algoritmos aleatorios.Tema 4Título del tema: Algoritmos voracesCódigo: T4Presentación: En este tema se estudian algoritmos ávidos o voraces. Una vez explicada la técnica a través de sus características generales que presentaremos con la ayuda de algún ejemplo, se estudiarán los algoritmos más representativos de esta categoría: los algoritmos de grafos, una solución al problema de la mochila y algún problema deplani\\x1cficación de tareas.Unidades de contenido:1. Problema de la mochila.2. Algoritmos de grafos: Ordenación Topológica, Árbol de recubrimiento mínimo, Caminos mínimos.3. Problemas de plani\\x1cficación de sistemas informáticos.Tema 5Título del tema: Diseño de algoritmos por inducciónCódigo: T5Presentación: En este punto, ya se habrá visto a lo largo del curso varios algoritmos que siguen la estrategia divide y vencerás: ordenación por fusión y ordenación rápida, búsqueda dicotómica, suma de la subsecuencia máxima. . . El trabajo propuesto en la primera unidad de este tema consiste básicamente en generalizar los planteamientos de dicha estrategia identifi\\x1ccando sus distintas características en cada uno de los algoritmos propuestos.En la segunda unidad del tema se plantea usar una estrategia ascendente mediante la búsqueda de una solución general a partir de las soluciones de subproblemas elementales. Desde el punto de vista de la efi\\x1cciencia se cuestionará el uso de técnicas descendentes como divide y vencerás en determinadas situaciones. Mientras que con la opción de la programación dinámica se buscará un compromiso que permita, cuando sea posible, una optimización de la cantidad de memoria requerida por el algoritmo.Unidades de contenido:1. Divide y Vencerás.2. Programación dinámica: Principio de optimalidad, Problema de la mochila.Tema 6Título del tema: Exploración de grafos.Código: T6Presentación: El objetivo de este tema es el de dar una visión más amplia de las aplicaciones de los grafos en el tratamiento de problemas de diversa índole, así como la de no dejar de lado las técnicas algorítmicas ligadas al desarrollo de importantes áreas de la computación como la inteligencia artificial.Los algoritmos de grafos vistos en el tema de algoritmos voraces (T4) coinciden en realizar un recorrido de todos los nodos del grafo. Se insistirá entonces en cómo mejorar los tiempos de ejecución de los algoritmos que se presenten evitando un análisis exhaustivo de todos los nodos.Unidades de contenido:1. Juegos de estrategia.2. Recorridos.3. Algoritmos con retroceso.Tema 7Título del tema: Complejidad Computacional.Código: T7Presentación: En este último tema planteamos un razonamiento sobre el conjunto de los algoritmos capaces de resolver cada tipo de problema. Hablaremos de las complejidades de los problemas, de cotas inferiores para la complejidad de los problemas y de NP-compleción, en definitiva, de las principales técnicas y conceptos que se utilizan en el estudio de la complejidad computacional.Unidades de contenido:1. NP-Completitud, Problemas NP-completos',\n",
       "  'mention': '',\n",
       "  'url': 'https://guiadocente.udc.es/guia_docent/index.php?centre=614&ensenyament=614G01&assignatura=614G01011&any_academic=2019_20&idioma=cast&fitxa_apartat=3&idioma_assig=cast',\n",
       "  'bibliography': 'BásicaG. Brassard y P. Bratley (1997). Fundamentos de Algoritmia. Prentice HallU. Manber (1989). Introduction to Algorithms - A Creative Approach. Addison WesleyM. A. Weiss (1995). Estructuras de Datos y Algoritmos. Addison WesleyComplementáriaR. Sedgewick (1988). Algorithms. Addison WesleyR. Peña Marí (2005). Diseño de Programas. Formalismo y Abstracción. Tercera edición.. Pearson Prentice HallT. H. Cormen, C. E. Leiserson y R. L. Rivest (1990). Introduction to Algorithms. MIT PressB. W. Kernighan y D. M. Ritchie (1991). El lenguaje de programación C, 2ª edición. Prentice HallF. Aguado, F. Gago, M. Ladra, G. Pérez, C. Vidal y A. M. Vieites (2018). Problemas resueltos de Combinatoria. Laboratorio con SageMath. Paraninfo'},\n",
       " {'code': '614G01012',\n",
       "  'name': 'Estructura de Computadores',\n",
       "  'subject_type': 'Obligatoria',\n",
       "  'num_credits': 6,\n",
       "  'period': 1,\n",
       "  'course': 2,\n",
       "  'language': 'Español, Gallego',\n",
       "  'content': '1. Evaluación de prestaciones1. Introducción2. Definición de métricas de rendimiento3. Evaluación y comparación de rendimiento4. Técnicas de medida y bechmarks2. Introducción al paralelismo a nivel de instrucción1. Introducción2. Dependencias y paralelismo a nivel de instrucción3. Riesgos en la ejecución4. Cauce segmentado en el MIPS3.Procesamiento de saltos1. Técnicas estáticas2. Técnicas dinámicas3. Salto retardado4. Sistemas de Memorias1. Introducción2. Memoria principal3. Jerarquía de memoria5. Cachés1. Introducción2. Operación de un sistema caché3. Métrica del rendimiento de una caché4. Técnicas de optimización6. Memoria virtual1. Introducción2. Sistemas paginados3. Sistemas segmentados7. Sistemas de almacentamiento1. Conceptos básicos2. Tipos de dispositivos de almacenamiento3. RAID de discos8. Buses: conexión E/S con CPU/Memoria1. Introducción2. Buses e interconexión3. Ejemplos de buses estándar',\n",
       "  'mention': '',\n",
       "  'url': 'https://guiadocente.udc.es/guia_docent/index.php?centre=614&ensenyament=614G01&assignatura=614G01012&any_academic=2019_20&idioma=cast&fitxa_apartat=3&idioma_assig=cast',\n",
       "  'bibliography': 'BásicaPatterson, D. A. y Hennessy, J. L. (2011). Estructura y Diseño de Computadores. La interfaz hardware/software. RevertéHennessy, J. L. y Patterson, D. A.  (2011). Computer architecture. A quantitative approach. Morgan KaufmannComplementáriaHamacher, C., Vranesic, Z.,  Zaky, S. y Manjikian, N. (2011). Computer Organization and Embedded systems. McGraw-HillPatterson, D. A. y Hennessy, J. L.  (2005). Computer organization and design: The hardware/software interface. Morgan KaufmannStallings, W. (2009). Computer Organization and Architecture: Designing for Performance. Prentice HallKernighan, R. (1991). El lenguaje de programación C. Prentice HallF. García, J. Carretero, J. D. García y D. Expósito (2009). Problemas Resueltos de Estructura de Computadores. Paraninfo'},\n",
       " {'code': '614G01014',\n",
       "  'name': 'Paradigmas de Programación',\n",
       "  'subject_type': 'Obligatoria',\n",
       "  'num_credits': 6,\n",
       "  'period': 1,\n",
       "  'course': 2,\n",
       "  'language': 'Español, Gallego',\n",
       "  'content': '',\n",
       "  'mention': '',\n",
       "  'url': 'https://guiadocente.udc.es/guia_docent/index.php?centre=614&ensenyament=614G01&assignatura=614G01014&any_academic=2019_20&idioma=cast&fitxa_apartat=3&idioma_assig=cast',\n",
       "  'bibliography': ''},\n",
       " {'code': '614G01015',\n",
       "  'name': 'Diseño Software',\n",
       "  'subject_type': 'Obligatoria',\n",
       "  'num_credits': 6,\n",
       "  'period': 1,\n",
       "  'course': 2,\n",
       "  'language': 'Español, Gallego',\n",
       "  'content': '1. Introducción• Diseño software• Análisis y diseño orientado a objetos2. Elementos Básicos de la Orientación a Objetos• Clases y objetos• Identidad de objetos• Estado de objetos• Comportamento de objetos3. Propiedades Básicas de la Orientación a Objetos• Abstracción y encapsulamiento• Modularidad• Jerarquía• Polimorfismo• Tipificación• Ligadura dinámica4. Lenguaje Unificado de Modelado (UML)• Introducción• Bloques básicos del UML• Diseño estático: Diagramas de clases• Diseño dinámico: Diagramas de interacción• Otros diagramas5. Principios de Diseño• Calidad en el diseño• Principios SOLID• Tipos de herencia6. Patrones de Diseño• Introducción a los patrones de diseño• Patrones elementales• Diseños adaptables a los cambios• Diseños débilmente acoplados• Patrones y colecciones de objetos• Otros patrones y principiosPrácticas• Introducción a Java y NetBeans• Pruebas de software• Gestión de excepciones• Uso de un repositorio de código',\n",
       "  'mention': '',\n",
       "  'url': 'https://guiadocente.udc.es/guia_docent/index.php?centre=614&ensenyament=614G01&assignatura=614G01015&any_academic=2019_20&idioma=cast&fitxa_apartat=3&idioma_assig=cast',\n",
       "  'bibliography': \"BásicaSierra, K., Bates, B. (2005). Head First Java. O’ReillySchildt, H. (2018). Java 9. Anaya MultimediaBooch J.; Rumbaugh J. y Jacobson I. (2006). El Lenguaje Unificado de Modelado (2ª ed.) The Unified Modeling Language (2nd ed.). Addison WesleyMartin, R.C. (2004). UML para programadores Java. UML for Java Programmers. PearsonGamma, E.; Helm, R.; Johnson, R. y Vlissides J. (1996). Design Patterns: Elements of Reusable Object-oriented Software.. Addison WesleyComplementáriaEckel, B. (2007). Piensa en Java (4ª ed.). Thinking in Java (4th ed.). Prentice-HallRumbaugh, J.; Jacobson, I. y Booch, J. (2004). The Unified Modeling Language Reference Manual. Addison WesleyBloch, J. (2017). Effective Java (3rd ed.). Addison WesleyMartin, R.C.  (2012). Código limpio : manual de estilo para el desarrollo ágil de software. Anaya MultimediaFreeman, E., Freeman, E., Bates, B. (2004). Head First Design Patterns. O'ReillyGrand M. (2002). Patterns in Java. John Wiley & Sons\"},\n",
       " {'code': '614G01013',\n",
       "  'name': 'Bases de Datos',\n",
       "  'subject_type': 'Obligatoria',\n",
       "  'num_credits': 6,\n",
       "  'period': 2,\n",
       "  'course': 2,\n",
       "  'language': 'Español, Gallego',\n",
       "  'content': 'Bases de datos relacionalesLenguaje SQL: consultas avanzadas, DDL, SQL embebido, vistas.Diseño de Bases de DatosProblemas de diseño (Anomalías)Fases de diseñoNormalizaciónDiseño conceptualPaso de ER a modelo RelacionalSistemas de ficherosFicheros.Índices.Concurrencia y recuperación ante fallosProblemas debidos a la concurrencia y fallosTransaccionesTécnicas de recuperación ante fallosTécnicas de control de la concurrencia',\n",
       "  'mention': '',\n",
       "  'url': 'https://guiadocente.udc.es/guia_docent/index.php?centre=614&ensenyament=614G01&assignatura=614G01013&any_academic=2019_20&idioma=cast&fitxa_apartat=3&idioma_assig=cast',\n",
       "  'bibliography': \"BásicaA. Silberschatz; H. Korth; S. Sudarshan  (2010). Database System Concepts.  McGraw HillElmasri, R.; Navathe, S.  (2011). Database systems: models, languages, design, and application programming.  Addison-WesleyAlan Beaulieu  (2009). Learning SQL (2nd Ed). O'ReillyComplementáriaCuadra, D.; Castro, E.; Iglesias, A. M.; Martínez, P.; Calle, F. J.; de Pablo, C.; Al-Jumaly, H.; Mo (2007). Desarrollo de Bases de Datos: casos prácticos desde el análisis a la implementación. Madrid: Ra-made Miguel, A,; Martínez, P.; Castro, E.; Cavero, M., Cuadra, D.; Iglesias, A. M.; Nieto, C. (2001). Diseño de bases de datos. Problemas resueltos. Madrid: Ra-ma\"},\n",
       " {'code': '614G01017',\n",
       "  'name': 'Redes',\n",
       "  'subject_type': 'Obligatoria',\n",
       "  'num_credits': 6,\n",
       "  'period': 2,\n",
       "  'course': 2,\n",
       "  'language': 'Español, Gallego',\n",
       "  'content': 'IntroducciónRedes de ordenadores e InternetIntroducción a TCP/IPCapa de AplicaciónProtocolos del nivel de aplicación IProtocolos del nivel de aplicación IICapa de TransporteUDP y TCPConexiones TCPIntercambio de datos TCPCapa de RedIP y subredesEnrutamientoICMPIPv6Capa de EnlaceTCP/IP y el nivel de enlaceTecnologías del nivel de enlace',\n",
       "  'mention': '',\n",
       "  'url': 'https://guiadocente.udc.es/guia_docent/index.php?centre=614&ensenyament=614G01&assignatura=614G01017&any_academic=2019_20&idioma=cast&fitxa_apartat=3&idioma_assig=cast',\n",
       "  'bibliography': 'BásicaJames F. Kurose, Keith W. Ross (). Computer Networking. A top-down approach.. Addison WesleyW. Richard Stevens (2011). TCP/IP Illustrated, Vol. 1: The Protocols. Addison WesleyComplementária'},\n",
       " {'code': '614G01018',\n",
       "  'name': 'Concurrencia y Paralelismo',\n",
       "  'subject_type': 'Obligatoria',\n",
       "  'num_credits': 6,\n",
       "  'period': 2,\n",
       "  'course': 2,\n",
       "  'language': 'Español, Gallego',\n",
       "  'content': 'T1. Principios de programación concurrente1.1 Conceptos.1.1.1 Arquitecturas hardware1.1.2 Sistemas operativos1,1.3 Procesos e Threads1.2 Programación Multiproceso (fork/join)1.3 Programación Multithread1.4 Sección crítica.1.5 Exclusión mutua1.6 Instruccións atómicas1.7 Sincronización mediante condicións1.8 Semáforos1.8.1 Mutex1.8.2 Semáforos1.9 Interbloqueo. Prevención, evitación, recuperación.1.10 Inanición.1.11 Comunicación e sincronización1.12 EscalabilidadeT2. Algoritmos concorrentes2.1 Productores/consumidores.2.2 Lectores/escritores2.3 Filósofos ceando2.4 Compartición nulaT3. Principios de programación paralela3.1 Conceptos3.1.1 Niveis de paralelismo3.1.2 Dependencias de datos3.2 Modelo de paso de mensaxes3.2.1 Conceptos básicos3.2.2 Comunicación punto a punto3.2.3 Operacións colectivas3.3 Análise de algoritmos paralelos3.3.1 Medidas de prestacións de algoritmos paralelos3.4 Metodoloxía da programación paralela3.4.1Descomposición en tarefas3.4.2 Asignación de tarefas3.4.3 Técnicas de optimización3.5 Esquemas algorítmicos paralelos3.5.1 Single Process Multiple Data3.5.2 Paradigma Master/slaveT4. Deseño de algoritmos e aplicacións paralelas4.1 Bibliotecas de paso de mensaxes4.2 Casos de estudo4.3 Evaluación de rendemento4.4 Aplicación de técnicas de optimización',\n",
       "  'mention': '',\n",
       "  'url': 'https://guiadocente.udc.es/guia_docent/index.php?centre=614&ensenyament=614G01&assignatura=614G01018&any_academic=2019_20&idioma=cast&fitxa_apartat=3&idioma_assig=cast',\n",
       "  'bibliography': 'BásicaDoug Lea (2000). Concurrent programming in Java design, principles and patterns . Reading, Massachusetts: Addison WesleyJoe Armstrong (2007). Programming Erlang: Software for a Concurrent World. United States: Pragmatic ProgrammersFrancisco Almeida [et al.] (2008). Introducción a la Programación Paralela. Madrid: Paraninfo Cengage LearningPeter S. Pacheco (1997). Parallel Programming with MPI. San Francisco, California : Morgan KauffmanComplementáriaWilkinson, B. y Allen, M.. (1999). Parallel Programming. Techniques and Applications Using Networked Workstations and Parallel Computers. . Upper Saddle River, New Jersey : Prentice Hall,'},\n",
       " {'code': '614G01019',\n",
       "  'name': 'Proceso Software',\n",
       "  'subject_type': 'Obligatoria',\n",
       "  'num_credits': 6,\n",
       "  'period': 2,\n",
       "  'course': 2,\n",
       "  'language': 'Español, Gallego',\n",
       "  'content': '',\n",
       "  'mention': '',\n",
       "  'url': 'https://guiadocente.udc.es/guia_docent/index.php?centre=614&ensenyament=614G01&assignatura=614G01019&any_academic=2019_20&idioma=cast&fitxa_apartat=3&idioma_assig=cast',\n",
       "  'bibliography': ''},\n",
       " {'code': '614G01020',\n",
       "  'name': 'Sistemas Inteligentes',\n",
       "  'subject_type': 'Obligatoria',\n",
       "  'num_credits': 6,\n",
       "  'period': 2,\n",
       "  'course': 2,\n",
       "  'language': 'Español, Gallego',\n",
       "  'content': '1. Introducción1.1 Aspectos históricos1.2 Cuestiones preliminares1.3 Consideraciones generales2. Resolución de Problemas2.1 Introducción a la resolución de problemas en IA2.2 El concepto de “espacio de estados”2.3 Características generales de los procesos de búsqueda2.4 Métodos de búsqueda puros: anchura y profundidad2.5 Estrategias de exploración del espacio de estados3. Representaciones estructuradas del conocimiento3.1 Aspectos generales3.2 Métodos declarativos de representación3.3 Métodos procedimentales de representación3.4 Ejemplos y realización de un caso práctico4. Sistemas de producción4.1 Arquitectura: Base de conocimientos, memoria activa, motor de inferencias.4.2 Dinámica de los sistemas de producción4.3 Ciclo básico de un sistema de producción5. Breve Introducción al Razonamiento en IA5.1 Fundamentos de razonamiento categórico5.2 Fundamentos de razonamiento bayesiano6. Sistemas Conexionistas: Origen y Contexto; Fundamentos Biológicos6.1 Evolución Histórica y Precursores.6.2 Nacimiento de los Sistemas Conexionistas.6.3. Bases Biológicas de los Sistemas Adaptativos6.4. Adquisición y organización de los conocimientos en Sistemas Adaptativos.7. Arquitectura, Alimentación y Aprendizaje de los Sistemas Conexionistas7.1. Elemento de procesado en Sistemas Conexionistas.7.2 Comparación entre el elemento biológico y el formal7.3 Alimentación y Arquitectura de los Sistemas Conexionistas.7.4 Aprendizaje en Sistemas Conexionistas.8. Sistemas Conexionistas con Alimentación Hacia Delante8.1. Adaline8.2. Perceptrón8.3. Aplicaciones9. Otros Modelos de Sistemas Conexionistas9.1  Redes auto-organizativas9.2. Otros modelos auto-organizativos: Crecimiento de redes9.3. Memorias de Hopfield10. Nuevas Aproximaciones en Sistemas de Inteligencia Sub-simbólica10.1 Computación Evolutiva.10.2 Vida Artificial.10.3 Tecnologías NBIC',\n",
       "  'mention': '',\n",
       "  'url': 'https://guiadocente.udc.es/guia_docent/index.php?centre=614&ensenyament=614G01&assignatura=614G01020&any_academic=2019_20&idioma=cast&fitxa_apartat=3&idioma_assig=cast',\n",
       "  'bibliography': 'BásicaRussell & Norvig (2004). Inteligencia artificial: un enfoque moderno. Pearson (2ª ed)Moret et al. (2005). Fundamentos de inteligencia artificial. Servicio de publicaciones de la UDC (2ª ed, 2ª imp)José T. Palma, Roque Marín Morales et al. (2008). Inteligencia artificial - Técnicas, métodos y aplicaciones. McGraw Hill (1ª ed.)TEMAS 6 y 7Cajal, S.: “Textura del SistemaNervioso del Hombre y los Vertebrados”. Tomo I. Ed. Alianza. 1989.Haykin, S.: “Neural Networks: A\\r\\nComprehensive Foundation”. McMillan\\r\\n College Publishing. New York. 1994.Hertz,\\r\\nJ., Krogh, A. &amp; Palmer, R.: “Introduction to the Theory of Neural\\r\\nComputation”. Santa Fe Institute, Addison-Wesley Editores 1991.McCulloch,\\r\\nW. S., and Pitts, W.: “A Logical Calculus of the Ideas Inmanent in the Neural\\r\\nNets”. Buletin of Mathematical Biophysics, vol. 5, pp. 115-137. 1943.Minsky,M. &amp; Papert, S.: “Perceptrons”. Cambridge,MIT Press, 1969.Rosenblueth,\\r\\nA., Wiener, N, and Bigelow, J.: “Behavior, Purpose and Teleology”. Phylosophy\\r\\nof Science nº10, pp. 18-24. 1943.Wiener,\\r\\nN.: “Cibernetics or Control and Communications in the Animals and Machines”.\\r\\nEd. MIT. Press. 1948.TEMAS 8 y 9Hertz,J., Krogh, A. &amp; Palmer, R.: “Introduction to the Theory of NeuralComputation”. Santa Fe Institute, Addison-Wesley Editores 1991.Hopfield,\\r\\nJ. &amp; Tank, D.: “Computing with Neural Circuits” A Model”. Science, vol.\\r\\n233, pp. 625-633. 1986.Kohonen,\\r\\nT.: “Self organizing maps”. Springer Velag. Berlín. Segunda Edición. 1995.Ríos, J.Pazos, A. y otros: “Estructura, Dinámica y Aplicaciones a las Redes NeuronasArtificiales”. Ed. Ceura. Madrid.1991.Isasi P, Galván I. Redes de Neuronas Artificiales. Un enfoque práctico. Prentice Hall. 2004TEMA 10Gestal M, Rivero D et al. Introducción a los Algoritmos Genéticos y la Programación Genética. Servicio de Publicacións da UDC. 2010.Yao, X. “Evolving Artificial Neural Networks”. In:Proc. IEEE, Vol. 87 nº9 1423-1447. 1999.Complementária'},\n",
       " {'code': '614G01021',\n",
       "  'name': 'Gestión de Proyectos',\n",
       "  'subject_type': 'Obligatoria',\n",
       "  'num_credits': 6,\n",
       "  'period': 1,\n",
       "  'course': 3,\n",
       "  'language': 'Español, Gallego',\n",
       "  'content': '',\n",
       "  'mention': '',\n",
       "  'url': 'https://guiadocente.udc.es/guia_docent/index.php?centre=614&ensenyament=614G01&assignatura=614G01021&any_academic=2019_20&idioma=cast&fitxa_apartat=3&idioma_assig=cast',\n",
       "  'bibliography': ''},\n",
       " {'code': '614G01022',\n",
       "  'name': 'Interfaces Hombre Máquina',\n",
       "  'subject_type': 'Obligatoria',\n",
       "  'num_credits': 6,\n",
       "  'period': 1,\n",
       "  'course': 3,\n",
       "  'language': 'Español, Gallego',\n",
       "  'content': '',\n",
       "  'mention': '',\n",
       "  'url': 'https://guiadocente.udc.es/guia_docent/index.php?centre=614&ensenyament=614G01&assignatura=614G01022&any_academic=2019_20&idioma=cast&fitxa_apartat=3&idioma_assig=cast',\n",
       "  'bibliography': ''},\n",
       " {'code': '614G01023',\n",
       "  'name': 'Internet y Sistemas Distribuidos',\n",
       "  'subject_type': 'Obligatoria',\n",
       "  'num_credits': 6,\n",
       "  'period': 1,\n",
       "  'course': 3,\n",
       "  'language': 'Español, Gallego',\n",
       "  'content': '',\n",
       "  'mention': '',\n",
       "  'url': 'https://guiadocente.udc.es/guia_docent/index.php?centre=614&ensenyament=614G01&assignatura=614G01023&any_academic=2019_20&idioma=cast&fitxa_apartat=3&idioma_assig=cast',\n",
       "  'bibliography': ''},\n",
       " {'code': '614G01024',\n",
       "  'name': 'Legislación y Seguridad Informática',\n",
       "  'subject_type': 'Obligatoria',\n",
       "  'num_credits': 6,\n",
       "  'period': 1,\n",
       "  'course': 3,\n",
       "  'language': 'Español, Gallego',\n",
       "  'content': 'Fundamentos y categorías de ataques.La trilogía (\"host discovery\", \"port scanning\", \"fingerprinting\")Ocultación.“Sniffing”.[D]DoS.Seguridad a nivel físico.Monitorización y filtrado en seguridad de la información.Certificados digitales y autoridades de certificación.Auditorias de seguridad.La regulación jurídica de la informática.- Derecho. Elementos y conceptos jurídicos básicos.- Ética profesional y deontología.- Autorregulación. Códigos de conducta, códigos de práctica, códigos tipo.La prestación de servicios y la tutela de los derechos en la sociedad de la información.- La prestación de servicios en la sociedad de la información. Servicios de intermediación. Servicios de certificación.- La contratación electrónica y la contratación informática.- Las comunicaciones comerciales electrónicas.- La firma electrónica.- La Administración electrónica.- La resolución judicial de conflictos.- Las soluciones extrajudiciales. La autorregulación. El arbitraje electrónico.La protección de los datos de carácter personal.- Introducción y delimitaciones conceptuales.- Constitución, derechos fundamentales y protección de datos.- La legislación española de protección de datos de carácter personal. Disposiciones generales. Principios. Sujetos. Derechos. Obligaciones. Medidas de seguridad. Procedimientos.- Autorregulación y protección de datos personales.- Criminalidad informática y datos personales.Temario Prácticas.- Seguridad (fundamentos y configuraciones básicas).- Categorías de ataques e identificación de recursos.- Autoridades de certificación- Auditorías de seguridad.',\n",
       "  'mention': '',\n",
       "  'url': 'https://guiadocente.udc.es/guia_docent/index.php?centre=614&ensenyament=614G01&assignatura=614G01024&any_academic=2019_20&idioma=cast&fitxa_apartat=3&idioma_assig=cast',\n",
       "  'bibliography': 'BásicaA. Santos del Riego (). Legislación [Protección] y Seguridad de la Información. http://psi-udc.blogspot.comdebian.org (). Debian. http://www.debian.org/yolinux (). yolinux. http://www.yolinux.com/Packet Storm (). Packet Storm. http://packetstormsecurity.org/(). Criptored. http://www.criptored.upm.es/Miguel PEGUERA POCH (coord.) (2010). Principio de Derecho de la sociedad de la información. Cizur Menor: AranzadiJosé APARICIO SALOM (2009). Estudio sobre la Ley Orgánica de protección de datos de carácter personal. Pamplona: AranzadiLorenzo COTINO, Julián VLAERO (coords.) (2010). Administración electrónica. Valencia: Tirant lo BlanchJosé Luis PIÑAR MAÑAS (dir.) (2011). electrónica y ciudadanos. Madrid: CivitasManuel CASTELLS (2009). Comunicación y poder. Madrid: AlianzaMiguel Ángel DAVARA RODRÍGUEZ (2008). Manual de Derecho informático. Pamplona: AranzadiAntonio TRONCOSO (2010). La protección de datos personales. En busca del equilibrio. Valencia: Tirant lo BlanchGonzalo F. GÁLLEGO HIGUERAS (2010). Código de Derecho informático y de las nuevas tecnologías. Madrid: CivitasJavier ORDUÑA, Gonzalo AGUILERA (dir.) (2009). Comercio, Administración y Registros electrónicos. Madrid: CivitasWillian Stallings (2014). Network Security Essentials. Applications and Standards. Prentice HallComplementária(). Security Focus. http://www.securityfocus.com/(). Common Vulnerabilities and Exposures (CVE). http://www.cve.mitre.org/(). NIST Computer Security Division. http://csrc.nist.gov/(). CERT:Computer Emergence Response Team. http://www.cert.org(). AntiOnline. http://www.antionline.com/(). Delitos Informáticos. http://www.delitosinformaticos.com/(). (in)secure magazine. http://www.net-security.org/insecure-archive.php(). Linux Journal. http://www.linuxjournal.com/(). Security art work. http://www.securityartwork.com/(). Security by default. http://www.securitybydefault.com/Pekka HIMANEN (2002). La ética del hacker y el espíritu de la era de la información. Barcelona, DestinoLawrence LESSIG (2001). El código y otras leyes del ciberespacio. Madrid, TaurusJusto GÓMEZ NAVAJAS (2005). La protección de los datos personales. Cizur Menor, Thomson CivitasFernando MIRÓ LLINARES (2005). Internet y delitos contra la propiedad intelectual. Valencia: Tirant lo BlanchAntoni FARRIOLS I SOLA (2006). La protección de datos de carácter personal en los centros de trabajo. Madrid: CincaPedro DE MIGUEL ASENSIO (2011). Derecho privado de internet. Madrid: CivitasEsther MORÓN LERMA (2002). Internet y Derecho penal. Pamplona: Aranzadi'},\n",
       " {'code': '614G01025',\n",
       "  'name': 'Gestión de Infraestructuras',\n",
       "  'subject_type': 'Obligatoria',\n",
       "  'num_credits': 6,\n",
       "  'period': 1,\n",
       "  'course': 3,\n",
       "  'language': 'Español, Gallego',\n",
       "  'content': '',\n",
       "  'mention': '',\n",
       "  'url': 'https://guiadocente.udc.es/guia_docent/index.php?centre=614&ensenyament=614G01&assignatura=614G01025&any_academic=2019_20&idioma=cast&fitxa_apartat=3&idioma_assig=cast',\n",
       "  'bibliography': ''},\n",
       " {'code': '614G01026',\n",
       "  'name': 'Arquitectura del Software',\n",
       "  'subject_type': 'Optativa',\n",
       "  'num_credits': 6,\n",
       "  'period': 2,\n",
       "  'course': 3,\n",
       "  'language': 'Español, Gallego',\n",
       "  'content': \"Concepto de arquitectura softwareDefinición de arquitectura softwareEstructuras y vistas-  Notación--    C4--    Estándar IEEE 1471Ciclo de vida y negocio de la arquitectura softwareModelos y arquitecturas de referenciaParámetros de calidad en arquitectura softwareTipos de arquitecturas-  Arquitectura en capas-  Arquitectura de repositorio-  Arquitectura cliente/servidor (orientada a servicios)-  Arquitectura 'pipe and filter' (basada en componentes)-  Arquitecturas distribuidas--    Arquitecturas maestro/esclavo--    Arquitecturas cliente/servidor multicapa--    Arquitecturas P2P-  Otras arquitecturas--    Sistemas embebidos--    Sistemas orientados a aspectosDiseño e integración de componentes. Patrones arquitecturales.Estrategias de diseñoPatrones de arquitecturaReutilización-  Sistemas COTS y legacy-  Estilos de integración--    Transferencia de ficheros--    Compartición de fuentes de datos--    Invocación de procedimientos remotos--    Paso de mensajesReconstrucción / reingeniería de sistemasTrazabilidad y pruebas de integraciónProceso de integraciónVerificación y pruebas de integración-   Pruebas funcionales-   Pruebas no funcionalesValidación y usabilidad\",\n",
       "  'mention': '',\n",
       "  'url': 'https://guiadocente.udc.es/guia_docent/index.php?centre=614&ensenyament=614G01&assignatura=614G01026&any_academic=2019_20&idioma=cast&fitxa_apartat=3&idioma_assig=cast',\n",
       "  'bibliography': \"BásicaSommerville, Ian (2011). Ingeniería de software. Addison WesleyHohpe, Gregor (2004). Enterprise integration patterns designing, building and deploying messaging solutions. Addison-WesleyClements, Paul [et al.] (2003). Documenting software architectures : views and beyond. Addison-WesleyBass, Len [et al.] (2003). Software architecture in practice. Addison-WesleyFowler, Martin (2003). Patterns of enterprise application architecture. Addison-WesleyBraude, Eric J. (2001). Software engineering an object-oriented perspective. John Wiley & SonsSchmidt, Douglas [et al.] (2000). Pattern-oriented software architecture. John Wiley & SonsHébert, Fred (2013).  \\tLearn you some Erlang for great good : a beginner's guide. No Starch PressBruce A. Tate [et al.] (2014).  \\tSeven more languages in seven weeks : languages that are shaping the future. The Pragmatic BoolshelfComplementária\"},\n",
       " {'code': '614G01027',\n",
       "  'name': 'Ingeniería de Requisitos',\n",
       "  'subject_type': 'Optativa',\n",
       "  'num_credits': 6,\n",
       "  'period': 2,\n",
       "  'course': 3,\n",
       "  'language': 'Español, Gallego',\n",
       "  'content': '',\n",
       "  'mention': '',\n",
       "  'url': 'https://guiadocente.udc.es/guia_docent/index.php?centre=614&ensenyament=614G01&assignatura=614G01027&any_academic=2019_20&idioma=cast&fitxa_apartat=3&idioma_assig=cast',\n",
       "  'bibliography': ''},\n",
       " {'code': '614G01028',\n",
       "  'name': 'Aseguramiento de la Calidad',\n",
       "  'subject_type': 'Optativa',\n",
       "  'num_credits': 6,\n",
       "  'period': 2,\n",
       "  'course': 3,\n",
       "  'language': 'Español, Gallego',\n",
       "  'content': '',\n",
       "  'mention': '',\n",
       "  'url': 'https://guiadocente.udc.es/guia_docent/index.php?centre=614&ensenyament=614G01&assignatura=614G01028&any_academic=2019_20&idioma=cast&fitxa_apartat=3&idioma_assig=cast',\n",
       "  'bibliography': ''},\n",
       " {'code': '614G01029',\n",
       "  'name': 'Bases de Datos Avanzadas',\n",
       "  'subject_type': 'Optativa',\n",
       "  'num_credits': 6,\n",
       "  'period': 2,\n",
       "  'course': 3,\n",
       "  'language': 'Español, Gallego',\n",
       "  'content': '',\n",
       "  'mention': '',\n",
       "  'url': 'https://guiadocente.udc.es/guia_docent/index.php?centre=614&ensenyament=614G01&assignatura=614G01029&any_academic=2019_20&idioma=cast&fitxa_apartat=3&idioma_assig=cast',\n",
       "  'bibliography': ''},\n",
       " {'code': '614G01030',\n",
       "  'name': 'Programación Avanzada',\n",
       "  'subject_type': 'Optativa',\n",
       "  'num_credits': 6,\n",
       "  'period': 2,\n",
       "  'course': 3,\n",
       "  'language': 'Español, Gallego',\n",
       "  'content': '',\n",
       "  'mention': '',\n",
       "  'url': 'https://guiadocente.udc.es/guia_docent/index.php?centre=614&ensenyament=614G01&assignatura=614G01030&any_academic=2019_20&idioma=cast&fitxa_apartat=3&idioma_assig=cast',\n",
       "  'bibliography': ''},\n",
       " {'code': '614G01031',\n",
       "  'name': 'Codiseño Hardware/software',\n",
       "  'subject_type': 'Optativa',\n",
       "  'num_credits': 6,\n",
       "  'period': 2,\n",
       "  'course': 3,\n",
       "  'language': 'Español, Gallego',\n",
       "  'content': 'Fundamentos y Plataformas para codiseño hardware/softwareDefinición de codiseñoHardware de aplicación específica y reconfigurableCodiseño Hardware/SoftwareModelado transaccional y de flujo de datosModelado con precisión temporalModelos de flujo de datos y de controlModelado e implementación del flujo de datosAnálisis de los flujos de control y de datosProcesadores programables de aplicación específicaAceleradores y coprocesadoresSistemas en un chip (SoC)',\n",
       "  'mention': '',\n",
       "  'url': 'https://guiadocente.udc.es/guia_docent/index.php?centre=614&ensenyament=614G01&assignatura=614G01031&any_academic=2019_20&idioma=cast&fitxa_apartat=3&idioma_assig=cast',\n",
       "  'bibliography': \"BásicaPatrick R. Schaumont (2010). A Practical Introduction to Hardware/Software Codesign. SpringerDavid C. Black e Jack Donovan  (2004). SystemC: From the ground up . Kluwer Academic PublishersPeter J. Ashenden e Jim Lewis (2008). The Designer's Guide to VHDL, Third Edition (Systems on Silicon). Morgan KaufmannComplementáriaJayaram Bhasker  (1999). A VHDL Primer . Prentice HallWayne Wolf (). Computers as Components, 2nd edition. Principles of Embedded Computing System Design. Morgan Kaufmann\"},\n",
       " {'code': '614G01032',\n",
       "  'name': 'Dispositivos Hardware e Interfaces',\n",
       "  'subject_type': 'Optativa',\n",
       "  'num_credits': 6,\n",
       "  'period': 2,\n",
       "  'course': 3,\n",
       "  'language': 'Español, Gallego',\n",
       "  'content': '',\n",
       "  'mention': '',\n",
       "  'url': 'https://guiadocente.udc.es/guia_docent/index.php?centre=614&ensenyament=614G01&assignatura=614G01032&any_academic=2019_20&idioma=cast&fitxa_apartat=3&idioma_assig=cast',\n",
       "  'bibliography': ''},\n",
       " {'code': '614G01033',\n",
       "  'name': 'Arquitectura de Computadores',\n",
       "  'subject_type': 'Optativa',\n",
       "  'num_credits': 6,\n",
       "  'period': 2,\n",
       "  'course': 3,\n",
       "  'language': 'Español, Gallego',\n",
       "  'content': '',\n",
       "  'mention': '',\n",
       "  'url': 'https://guiadocente.udc.es/guia_docent/index.php?centre=614&ensenyament=614G01&assignatura=614G01033&any_academic=2019_20&idioma=cast&fitxa_apartat=3&idioma_assig=cast',\n",
       "  'bibliography': ''},\n",
       " {'code': '614G01034',\n",
       "  'name': 'Software de Comunicaciones',\n",
       "  'subject_type': 'Optativa',\n",
       "  'num_credits': 6,\n",
       "  'period': 2,\n",
       "  'course': 3,\n",
       "  'language': 'Español, Gallego',\n",
       "  'content': '',\n",
       "  'mention': '',\n",
       "  'url': 'https://guiadocente.udc.es/guia_docent/index.php?centre=614&ensenyament=614G01&assignatura=614G01034&any_academic=2019_20&idioma=cast&fitxa_apartat=3&idioma_assig=cast',\n",
       "  'bibliography': ''},\n",
       " {'code': '614G01035',\n",
       "  'name': 'Procesamiento Digital de la Información',\n",
       "  'subject_type': 'Optativa',\n",
       "  'num_credits': 6,\n",
       "  'period': 2,\n",
       "  'course': 3,\n",
       "  'language': 'Español, Gallego',\n",
       "  'content': '',\n",
       "  'mention': '',\n",
       "  'url': 'https://guiadocente.udc.es/guia_docent/index.php?centre=614&ensenyament=614G01&assignatura=614G01035&any_academic=2019_20&idioma=cast&fitxa_apartat=3&idioma_assig=cast',\n",
       "  'bibliography': ''},\n",
       " {'code': '614G01036',\n",
       "  'name': 'Representación del Conocimiento y Razonamiento Automático',\n",
       "  'subject_type': 'Optativa',\n",
       "  'num_credits': 6,\n",
       "  'period': 2,\n",
       "  'course': 3,\n",
       "  'language': 'Español, Gallego',\n",
       "  'content': '',\n",
       "  'mention': '',\n",
       "  'url': 'https://guiadocente.udc.es/guia_docent/index.php?centre=614&ensenyament=614G01&assignatura=614G01036&any_academic=2019_20&idioma=cast&fitxa_apartat=3&idioma_assig=cast',\n",
       "  'bibliography': ''},\n",
       " {'code': '614G01038',\n",
       "  'name': 'Aprendizaje Automático',\n",
       "  'subject_type': 'Optativa',\n",
       "  'num_credits': 6,\n",
       "  'period': 2,\n",
       "  'course': 3,\n",
       "  'language': 'Español, Gallego',\n",
       "  'content': '',\n",
       "  'mention': '',\n",
       "  'url': 'https://guiadocente.udc.es/guia_docent/index.php?centre=614&ensenyament=614G01&assignatura=614G01038&any_academic=2019_20&idioma=cast&fitxa_apartat=3&idioma_assig=cast',\n",
       "  'bibliography': ''},\n",
       " {'code': '614G01039',\n",
       "  'name': 'Teoría de la computación',\n",
       "  'subject_type': 'Optativa',\n",
       "  'num_credits': 6,\n",
       "  'period': 2,\n",
       "  'course': 3,\n",
       "  'language': 'Español, Gallego',\n",
       "  'content': '',\n",
       "  'mention': '',\n",
       "  'url': 'https://guiadocente.udc.es/guia_docent/index.php?centre=614&ensenyament=614G01&assignatura=614G01039&any_academic=2019_20&idioma=cast&fitxa_apartat=3&idioma_assig=cast',\n",
       "  'bibliography': ''},\n",
       " {'code': '614G01040',\n",
       "  'name': 'Recuperación de la Información',\n",
       "  'subject_type': 'Optativa',\n",
       "  'num_credits': 6,\n",
       "  'period': 2,\n",
       "  'course': 3,\n",
       "  'language': 'Español, Gallego',\n",
       "  'content': '',\n",
       "  'mention': '',\n",
       "  'url': 'https://guiadocente.udc.es/guia_docent/index.php?centre=614&ensenyament=614G01&assignatura=614G01040&any_academic=2019_20&idioma=cast&fitxa_apartat=3&idioma_assig=cast',\n",
       "  'bibliography': ''},\n",
       " {'code': '614G01041',\n",
       "  'name': 'Análisis y Desarrollo de los Sistemas de Información',\n",
       "  'subject_type': 'Optativa',\n",
       "  'num_credits': 6,\n",
       "  'period': 2,\n",
       "  'course': 3,\n",
       "  'language': 'Español, Gallego',\n",
       "  'content': '',\n",
       "  'mention': '',\n",
       "  'url': 'https://guiadocente.udc.es/guia_docent/index.php?centre=614&ensenyament=614G01&assignatura=614G01041&any_academic=2019_20&idioma=cast&fitxa_apartat=3&idioma_assig=cast',\n",
       "  'bibliography': ''},\n",
       " {'code': '614G01042',\n",
       "  'name': 'Gestión de Proceso de Negocio',\n",
       "  'subject_type': 'Optativa',\n",
       "  'num_credits': 6,\n",
       "  'period': 2,\n",
       "  'course': 3,\n",
       "  'language': 'Español, Gallego',\n",
       "  'content': '',\n",
       "  'mention': '',\n",
       "  'url': 'https://guiadocente.udc.es/guia_docent/index.php?centre=614&ensenyament=614G01&assignatura=614G01042&any_academic=2019_20&idioma=cast&fitxa_apartat=3&idioma_assig=cast',\n",
       "  'bibliography': ''},\n",
       " {'code': '614G01043',\n",
       "  'name': 'Explotación de Almacenes de Datos',\n",
       "  'subject_type': 'Optativa',\n",
       "  'num_credits': 6,\n",
       "  'period': 2,\n",
       "  'course': 3,\n",
       "  'language': 'Español, Gallego',\n",
       "  'content': 'Conceptos de Bases de DatosIntroducción a la Inteligencia de Negocio y al Data WarehouseDiseño de Data WarehouseMinería de Datos',\n",
       "  'mention': '',\n",
       "  'url': 'https://guiadocente.udc.es/guia_docent/index.php?centre=614&ensenyament=614G01&assignatura=614G01043&any_academic=2019_20&idioma=cast&fitxa_apartat=3&idioma_assig=cast',\n",
       "  'bibliography': 'BásicaKimball, R.; Ross, M (2013). The Data Warehouse Toolkit, 3rd edition. WileyKimball, R.; Ross, M.; Thornthwaite, W.; Mundy, J.; Becker, B.  (2008). The Data Warehouse Lifecycle Toolkit, 2nd edition. John Wiley and SonsInmon, W. H.  (2002). Building the Data Warehouse, 3nd edition. WileySharda, R. Delen, D.; Turban, E. (2014). Business Intelligence: A managerial perspective on analytics. Prentice HallTan, P.; Steinbach, M.; Kumar, V. (2006). Introduction to Data Mining . Addison-WesleyWilliams, G. (2011). Data Mining with Rattle and R. SpringerComplementáriaInmon, W. H.; Strauss, D.; Neushloss, G.  (2008). The Architecture for the Next Generation of Data Warehousing . Morgan KaufmanGolfarelli, M.; Rizzi, S.  (2009). Data Warehouse Design: Modern Principles and Methodologies . McGraw-HillMazón López, N.; Pardillo Vela, J.; Trujillo Mondejar. J. C.  (2011). Diseño y explotación de almacenes de datos . Editorial Club UniversitarioElmasri, R.; Navathe, S. (2011). Fundamentals of Database Systems. Addison-WesleyGarcía-Molina, H.; Ullman, J.; Widom, J. (2009). Database System. The complete book.. Prentice Hall'},\n",
       " {'code': '614G01044',\n",
       "  'name': 'Calidad en Sistemas de Información',\n",
       "  'subject_type': 'Optativa',\n",
       "  'num_credits': 6,\n",
       "  'period': 2,\n",
       "  'course': 3,\n",
       "  'language': 'Español, Gallego',\n",
       "  'content': 'Tema 1: Introducción al Control de Calidad de Sistemas de Información.Concepto, necesidad, requisitos.Niveles y Tareas de QA.Sistemas de Control de Calidad (QMS) .Planificación de QA y revisiones de calidad.Tema 2: El proceso de una Auditoría  de Sistemas de InformaciónConcepto, necesidad, funciones.Análisis de riesgos.Controles internos.Planificación de auditoría y evidencias de auditoría.Ejecución de una auditoría.Tema 3: IT Governance (Gobierno Tecnológico)Concepto y  necesidad.Estrategias de Sistemas de Información frente a estrategias corporativas.Marcos: COBIT.Auditoría de estructuras de IT governance.Control de riesgos.Tema 4: Protección de activos de Sistemas de Información.Concepto y necesidad.Protección de Sistemas de Información.Protección lógica y aplicada de Sistemas de Información.Seguridad física y de entorno.Auditoría de marcos de control de seguridad.Tema 5: Continuidad del negocio y recuperación ante situaciones de desastre.Conceptos generales.Plan de continuidad y componentes.Auditoría del plan de continuidad.Tema 6: Aspectos Legales en Sistemas de Información.Normativa legal españolaProtección de datos.',\n",
       "  'mention': '',\n",
       "  'url': 'https://guiadocente.udc.es/guia_docent/index.php?centre=614&ensenyament=614G01&assignatura=614G01044&any_academic=2019_20&idioma=cast&fitxa_apartat=3&idioma_assig=cast',\n",
       "  'bibliography': 'BásicaSandra Senft y Frederick Gallegos (2008). Information Technology Control and Audit. Auerbach Publishers IncChris Davis, Mike Schiller, Kevin Wheeler (2006).  IT Auditing: Using Controls to Protect Information Assets.  McGraw-HillISACA (2012). Cobit 5: A Business Framework for the Governance and Management of Enterprise IT..ISACA (). http://www.isaca.org.Mario G. Piattini Velthuis, Félix O. García Rubio, Ignacio García Rodríguez de Guzmán, Francisco J.  (2015). Calidad de sistemas de información 2nd ed. RAMAComplementária'},\n",
       " {'code': '614G01045',\n",
       "  'name': 'Modelado Avanzado de Información',\n",
       "  'subject_type': 'Optativa',\n",
       "  'num_credits': 6,\n",
       "  'period': 2,\n",
       "  'course': 3,\n",
       "  'language': 'Español, Gallego',\n",
       "  'content': '',\n",
       "  'mention': '',\n",
       "  'url': 'https://guiadocente.udc.es/guia_docent/index.php?centre=614&ensenyament=614G01&assignatura=614G01045&any_academic=2019_20&idioma=cast&fitxa_apartat=3&idioma_assig=cast',\n",
       "  'bibliography': ''},\n",
       " {'code': '614G01046',\n",
       "  'name': 'Calidad en la Gestion TIC',\n",
       "  'subject_type': 'Optativa',\n",
       "  'num_credits': 6,\n",
       "  'period': 2,\n",
       "  'course': 3,\n",
       "  'language': 'Español, Gallego',\n",
       "  'content': 'IntroducciónOrganizaciónes y TICGestión de serviciosBuenas prácticas de gestión de serviciosConceptos generalesIntroducción a ITIL v3El ciclo de vida de un servicioCiclo de vida de un servicioEstrategia del servicioDiseño del servicioTransición del servicioOperación del servicioMejora continua del servicioDiseño de serviciosConceptos genéricos y definicionesPrincipios clave y modelosProcesosTransición de serviciosConceptos genéricos y definicionesPrincipios clave y modelosProcesosOperación de seviciosConceptos genéricos y definicionesPrincipios claves y modelosProcesosFuncionesEstrategia de serviciosIntroducciónProcesosMejora continua de serviciosPrincipios clave y modelosProcesos',\n",
       "  'mention': '',\n",
       "  'url': 'https://guiadocente.udc.es/guia_docent/index.php?centre=614&ensenyament=614G01&assignatura=614G01046&any_academic=2019_20&idioma=cast&fitxa_apartat=3&idioma_assig=cast',\n",
       "  'bibliography': 'BásicaOffice of Government Commerce (2012). Passing your ITIL Foundation exam. The Stationery OfficeBrady Orand (2011). Foundations of IT Service management with ITIL 2011. CreateSpacePeter Farenden (2011). ITIL for dummies. Oxford : John Wiley &amp; SonsComplementáriaCabinet Office (2011). ITIL Service Strategy. TSO (The Stationery Office)Cabinet Office (2011). ITIL Service Design. TSO (The Stationery Office)Cabinet Office (2011). ITIL Service Transition. TSO (The Stationery Office)Cabinet Office (2011). ITIL Service Operation. TSO (The Stationery Office)Cabinet Office (2011). ITIL Continual Service Improvement. TSO (The Stationery Office)'},\n",
       " {'code': '614G01047',\n",
       "  'name': 'Administración de Sistemas Operativos',\n",
       "  'subject_type': 'Optativa',\n",
       "  'num_credits': 6,\n",
       "  'period': 2,\n",
       "  'course': 3,\n",
       "  'language': 'Español, Gallego',\n",
       "  'content': '',\n",
       "  'mention': '',\n",
       "  'url': 'https://guiadocente.udc.es/guia_docent/index.php?centre=614&ensenyament=614G01&assignatura=614G01047&any_academic=2019_20&idioma=cast&fitxa_apartat=3&idioma_assig=cast',\n",
       "  'bibliography': ''},\n",
       " {'code': '614G01048',\n",
       "  'name': 'Administración de Redes',\n",
       "  'subject_type': 'Optativa',\n",
       "  'num_credits': 6,\n",
       "  'period': 2,\n",
       "  'course': 3,\n",
       "  'language': 'Español, Gallego',\n",
       "  'content': '',\n",
       "  'mention': '',\n",
       "  'url': 'https://guiadocente.udc.es/guia_docent/index.php?centre=614&ensenyament=614G01&assignatura=614G01048&any_academic=2019_20&idioma=cast&fitxa_apartat=3&idioma_assig=cast',\n",
       "  'bibliography': ''},\n",
       " {'code': '614G01049',\n",
       "  'name': 'Programación Integrativa',\n",
       "  'subject_type': 'Optativa',\n",
       "  'num_credits': 6,\n",
       "  'period': 2,\n",
       "  'course': 3,\n",
       "  'language': 'Español, Gallego',\n",
       "  'content': '',\n",
       "  'mention': '',\n",
       "  'url': 'https://guiadocente.udc.es/guia_docent/index.php?centre=614&ensenyament=614G01&assignatura=614G01049&any_academic=2019_20&idioma=cast&fitxa_apartat=3&idioma_assig=cast',\n",
       "  'bibliography': ''},\n",
       " {'code': '614G01050',\n",
       "  'name': 'Administración de Bases de Datos',\n",
       "  'subject_type': 'Optativa',\n",
       "  'num_credits': 6,\n",
       "  'period': 2,\n",
       "  'course': 3,\n",
       "  'language': 'Español, Gallego',\n",
       "  'content': '',\n",
       "  'mention': '',\n",
       "  'url': 'https://guiadocente.udc.es/guia_docent/index.php?centre=614&ensenyament=614G01&assignatura=614G01050&any_academic=2019_20&idioma=cast&fitxa_apartat=3&idioma_assig=cast',\n",
       "  'bibliography': ''},\n",
       " {'code': '614G01051',\n",
       "  'name': 'Metodologías de Desarrollo',\n",
       "  'subject_type': 'Optativa',\n",
       "  'num_credits': 6,\n",
       "  'period': 2,\n",
       "  'course': 4,\n",
       "  'language': 'Español, Gallego',\n",
       "  'content': '',\n",
       "  'mention': '',\n",
       "  'url': 'https://guiadocente.udc.es/guia_docent/index.php?centre=614&ensenyament=614G01&assignatura=614G01051&any_academic=2019_20&idioma=cast&fitxa_apartat=3&idioma_assig=cast',\n",
       "  'bibliography': ''},\n",
       " {'code': '614G01052',\n",
       "  'name': 'Marcos de Desarrollo',\n",
       "  'subject_type': 'Optativa',\n",
       "  'num_credits': 6,\n",
       "  'period': 1,\n",
       "  'course': 4,\n",
       "  'language': 'Español, Gallego',\n",
       "  'content': '',\n",
       "  'mention': '',\n",
       "  'url': 'https://guiadocente.udc.es/guia_docent/index.php?centre=614&ensenyament=614G01&assignatura=614G01052&any_academic=2019_20&idioma=cast&fitxa_apartat=3&idioma_assig=cast',\n",
       "  'bibliography': ''},\n",
       " {'code': '614G01053',\n",
       "  'name': 'Validación y Verificación del Software',\n",
       "  'subject_type': 'Optativa',\n",
       "  'num_credits': 6,\n",
       "  'period': 1,\n",
       "  'course': 4,\n",
       "  'language': 'Español, Gallego',\n",
       "  'content': 'Bloque I: Validación de softwareI.1 Especificación, diseño y ejecución de pruebasI1.1. Niveles y tipos de pruebasI1.2. Propiedades y trazabilidad de requisitosI1.3. AutomatizaciónI.2 Gestión de pruebas: planificación, evaluación, métricas y revisionesBloque II: Métodos formales y razonamiento automáticoII.1 Introducción: Deducción natural y cálculo de secuentesII.2 Prueba automática utilizando PVSII.3 ¿Qué és y para que se utiliza un probador de teoremas?II.4 Lenguaje de especificación de PVS: Tipos, expresiones, teorías, subtipadoII.5 Probador PVS: tácticas, recursión, razonamiento ecuacionalBloque III: Comprobación por modelos (model checking)III.1 Introducción a las lógicas modales temporalesIII.2 Especificación de propiedades: deadlocks, safety, liveness, fairnessIII.3 Funcionamiento de un comprobador por modelosIII.4 Introducción al manejo de una herramienta de model checking',\n",
       "  'mention': '',\n",
       "  'url': 'https://guiadocente.udc.es/guia_docent/index.php?centre=614&ensenyament=614G01&assignatura=614G01053&any_academic=2019_20&idioma=cast&fitxa_apartat=3&idioma_assig=cast',\n",
       "  'bibliography': 'BásicaMordechai Ben-Ari (2012). Mathematical Logic for Computer Science. SpringerRon Patton (2001). Software testing. SamsPeter Farrell-Vinay (2008). Manage software testing. AuerbachKent Beck (2002). Test Driven Development (By Example). Addison-WesleyHébert, Fred (2019). Property-based testing with PropEr, Erlang, and Elixir : find bugs before your users do. The Pragmatic BookshelfGerard J. Holzmann (2003). The SPIN model checker: primer and reference manual. Addison-WesleyMordechai Ben-Ari (2001). Mathematical Logic for Computer Science. SpringerZohar Manna and Amir Pnueli (1991). The Temporal Logic of Reactive and Concurrent Systems. Specification. SpringerZohar Manna and Amir Pnueli (1995). The Temporal Logic of Reactive and Concurrent Systems. Safety. SpringerComplementária'},\n",
       " {'code': '614G01054',\n",
       "  'name': 'Herramientas de Desarrollo',\n",
       "  'subject_type': 'Optativa',\n",
       "  'num_credits': 6,\n",
       "  'period': 1,\n",
       "  'course': 4,\n",
       "  'language': 'Español, Gallego',\n",
       "  'content': '',\n",
       "  'mention': '',\n",
       "  'url': 'https://guiadocente.udc.es/guia_docent/index.php?centre=614&ensenyament=614G01&assignatura=614G01054&any_academic=2019_20&idioma=cast&fitxa_apartat=3&idioma_assig=cast',\n",
       "  'bibliography': ''},\n",
       " {'code': '614G01057',\n",
       "  'name': 'Métodos Estadísticos',\n",
       "  'subject_type': 'Optativa',\n",
       "  'num_credits': 6,\n",
       "  'period': 1,\n",
       "  'course': 4,\n",
       "  'language': 'Español, Gallego',\n",
       "  'content': '',\n",
       "  'mention': '',\n",
       "  'url': 'https://guiadocente.udc.es/guia_docent/index.php?centre=614&ensenyament=614G01&assignatura=614G01057&any_academic=2019_20&idioma=cast&fitxa_apartat=3&idioma_assig=cast',\n",
       "  'bibliography': ''},\n",
       " {'code': '614G01058',\n",
       "  'name': 'Programación de Sistemas',\n",
       "  'subject_type': 'Optativa',\n",
       "  'num_credits': 6,\n",
       "  'period': 1,\n",
       "  'course': 4,\n",
       "  'language': 'Español, Gallego',\n",
       "  'content': '1.1. Introducción a la Programación de SistemasIntroducción a la Programación de SistemasPresentación de la asignatura1.2. Introducción a AndroidHistoria y evoluciónArquitectura y característicasComponentes principalesManifiesto1.3. Herramientas de desarrolloInstalación del SDK y Android StudioAplicación básica y estructura de una aplicaciónDepuración y testingRecursos de aplicaciones2.1. Actividades, Fragmentos e IntentsActividades y ciclo de vidaIntents explícitos e implícitosPaso de parámetrosFragmentos estáticos y dinámicosComunicación entre fragmentos2.2. Interfaz de usuarioLayouts y VistasEventosNotificacionesMenúes y ToolBarDiálogosListas y Adaptadores2.3. Trabajando en segundo planoServicios locales y remotosBroadcast ReceiversHilos, tareas y mensajesJobsAppWidgets3.1. Arquitecturas de aplicacionesTipos de arquitecturasDistribución en capasIntercambios3.2. Persistencia de datosPreferenciasFicheros internos y externosBase de datos: SQL y ROOMProveedor de Contenidos3.3. InterconexiónComunicacionesConexión vía PostProtocolos: XML y JSONServicios de red avanzados4.1. Servicios del sistema y SensoresServicios del sistemaConectividadServicios wifi y teléfonoSensores4.2. Localización y MapasLocalizaciónMapas (librería Google Maps)Servicios de localización4.3. DistribuciónPublicaciónPermisosMonetización y PublicidadOptimización',\n",
       "  'mention': '',\n",
       "  'url': 'https://guiadocente.udc.es/guia_docent/index.php?centre=614&ensenyament=614G01&assignatura=614G01058&any_academic=2019_20&idioma=cast&fitxa_apartat=3&idioma_assig=cast',\n",
       "  'bibliography': \"BásicaWie Meng Lee (2012). Android 4 Desarrollo de aplicaciones.  Wrox (Anaya Multimedia)Jesús Tomás Gironés (2012). El gran libro de Android. MarcomboReto Meier (2016). Professional Android. WRoxJoan Ribas Lequerica  (2014). Manual imprescindible de desarrollo de aplicaciones para Android. Anaya MultimediaErik Hellman (2013). Android Programming: Pushing the Limits. WileyScott McCracken (2012). Android. Curso de desarrollo de aplicaciones. InforbookJoseph Annuzzi, Lauren Darcey y Shane Conder (2015). Introduction to Android Application Development. Android Essentials. Addison-WesleyComplementáriaLauren Darcey y Shane Conder (2012). Android Application development in 24 hours. SAMSJoshua J. Drake , Zach Lanier , Collin Mulliner , Pau Oliva Fora, Stephen A. Ridley , Georg Wichersk (2014). Android Hacker's Handbook. WileyJoan Ribas Lequerica (2012). Desarrollo de aplicaciones para Android. AnayaJosé Enrique Amaro Soriano (2012). Android. Programación de dispositivos móviles a través de ejemplos. MarcomboAnders Goransson (2014). Efficient Android Threading: Asynchronous Processing Techniques for Android Applications. O'Reilly Media\"},\n",
       " {'code': '614G01059',\n",
       "  'name': 'Ingeniería de Infraestructuras Informáticas',\n",
       "  'subject_type': 'Optativa',\n",
       "  'num_credits': 6,\n",
       "  'period': 1,\n",
       "  'course': 4,\n",
       "  'language': 'Español, Gallego',\n",
       "  'content': '',\n",
       "  'mention': '',\n",
       "  'url': 'https://guiadocente.udc.es/guia_docent/index.php?centre=614&ensenyament=614G01&assignatura=614G01059&any_academic=2019_20&idioma=cast&fitxa_apartat=3&idioma_assig=cast',\n",
       "  'bibliography': ''},\n",
       " {'code': '614G01060',\n",
       "  'name': 'Sistemas Empotrados',\n",
       "  'subject_type': 'Optativa',\n",
       "  'num_credits': 6,\n",
       "  'period': 1,\n",
       "  'course': 4,\n",
       "  'language': 'Español, Gallego',\n",
       "  'content': '',\n",
       "  'mention': '',\n",
       "  'url': 'https://guiadocente.udc.es/guia_docent/index.php?centre=614&ensenyament=614G01&assignatura=614G01060&any_academic=2019_20&idioma=cast&fitxa_apartat=3&idioma_assig=cast',\n",
       "  'bibliography': ''},\n",
       " {'code': '614G01061',\n",
       "  'name': 'Redes Mobiles y Sin cables',\n",
       "  'subject_type': 'Optativa',\n",
       "  'num_credits': 6,\n",
       "  'period': 1,\n",
       "  'course': 4,\n",
       "  'language': 'Español, Gallego',\n",
       "  'content': '',\n",
       "  'mention': '',\n",
       "  'url': 'https://guiadocente.udc.es/guia_docent/index.php?centre=614&ensenyament=614G01&assignatura=614G01061&any_academic=2019_20&idioma=cast&fitxa_apartat=3&idioma_assig=cast',\n",
       "  'bibliography': ''},\n",
       " {'code': '614G01064',\n",
       "  'name': 'Métodos Numéricos para la Informática',\n",
       "  'subject_type': 'Optativa',\n",
       "  'num_credits': 6,\n",
       "  'period': 1,\n",
       "  'course': 4,\n",
       "  'language': 'Español, Gallego',\n",
       "  'content': '',\n",
       "  'mention': '',\n",
       "  'url': 'https://guiadocente.udc.es/guia_docent/index.php?centre=614&ensenyament=614G01&assignatura=614G01064&any_academic=2019_20&idioma=cast&fitxa_apartat=3&idioma_assig=cast',\n",
       "  'bibliography': ''},\n",
       " {'code': '614G01065',\n",
       "  'name': 'Diseño de los Lenguajes de Programación',\n",
       "  'subject_type': 'Optativa',\n",
       "  'num_credits': 6,\n",
       "  'period': 1,\n",
       "  'course': 4,\n",
       "  'language': 'Español, Gallego',\n",
       "  'content': 'Formalización de los sistemas de tiposSemántica operacional, denotacional y axiómáticaIntroducción al lambda cálculoLambda cálculo tipadoLenguajes orientados a objetosFundamentos de diseño de lenguajes orientados a objetosProblemas de tipado de los lenguajes orientados a objetosPrincipios de diseño de lenguajes de programciónNombres, ámbito y ligazónFlujo de controlTipos de datosSubrutinasComputabilidad y complejidadComputabilidad y lambda cálculoClases de complejidad',\n",
       "  'mention': '',\n",
       "  'url': 'https://guiadocente.udc.es/guia_docent/index.php?centre=614&ensenyament=614G01&assignatura=614G01065&any_academic=2019_20&idioma=cast&fitxa_apartat=3&idioma_assig=cast',\n",
       "  'bibliography': 'BásicaBenjamin C. Pierce (2002). Types and Programming Languages. The MIT Press, Cambridge, MAKim B. Bruce (2002). Foundations of Object-Oriented Languages: Types and Semantics. The MIT Press, Cambridge, MAMichael L. Scott (2009). Programming Language Pragmatics. Third edition. Morgan Kaufmann Publishers, Burlington, MAFortnow, Lance (2013). P, NP, and the search for the impossible. Princeton University PressComplementáriaFranklyn A. Turbak and David K. Gifford (2008). Design Concepts in Programming Languages. MIT Press, Cambridge, MARobert W. Sebesta (2010). Concepts of Programming Languages. PearsonDavid A. Watt (2004). Programming Language Design Concepts. John Wiley and sons, Chichester, West Suusex, England'},\n",
       " {'code': '614G01066',\n",
       "  'name': 'Computación Gráfica y Visualización',\n",
       "  'subject_type': 'Optativa',\n",
       "  'num_credits': 6,\n",
       "  'period': 1,\n",
       "  'course': 4,\n",
       "  'language': 'Español, Gallego',\n",
       "  'content': '',\n",
       "  'mention': '',\n",
       "  'url': 'https://guiadocente.udc.es/guia_docent/index.php?centre=614&ensenyament=614G01&assignatura=614G01066&any_academic=2019_20&idioma=cast&fitxa_apartat=3&idioma_assig=cast',\n",
       "  'bibliography': ''},\n",
       " {'code': '614G01067',\n",
       "  'name': 'Procesamiento de Lenguajes',\n",
       "  'subject_type': 'Optativa',\n",
       "  'num_credits': 6,\n",
       "  'period': 1,\n",
       "  'course': 4,\n",
       "  'language': 'Español, Gallego',\n",
       "  'content': '',\n",
       "  'mention': '',\n",
       "  'url': 'https://guiadocente.udc.es/guia_docent/index.php?centre=614&ensenyament=614G01&assignatura=614G01067&any_academic=2019_20&idioma=cast&fitxa_apartat=3&idioma_assig=cast',\n",
       "  'bibliography': ''},\n",
       " {'code': '614G01068',\n",
       "  'name': 'Visión Artificial',\n",
       "  'subject_type': 'Optativa',\n",
       "  'num_credits': 6,\n",
       "  'period': 1,\n",
       "  'course': 4,\n",
       "  'language': 'Español, Gallego',\n",
       "  'content': '',\n",
       "  'mention': '',\n",
       "  'url': 'https://guiadocente.udc.es/guia_docent/index.php?centre=614&ensenyament=614G01&assignatura=614G01068&any_academic=2019_20&idioma=cast&fitxa_apartat=3&idioma_assig=cast',\n",
       "  'bibliography': ''},\n",
       " {'code': '614G01072',\n",
       "  'name': 'Integración de Datos',\n",
       "  'subject_type': 'Optativa',\n",
       "  'num_credits': 6,\n",
       "  'period': 1,\n",
       "  'course': 4,\n",
       "  'language': 'Español, Gallego',\n",
       "  'content': '',\n",
       "  'mention': '',\n",
       "  'url': 'https://guiadocente.udc.es/guia_docent/index.php?centre=614&ensenyament=614G01&assignatura=614G01072&any_academic=2019_20&idioma=cast&fitxa_apartat=3&idioma_assig=cast',\n",
       "  'bibliography': ''},\n",
       " {'code': '614G01073',\n",
       "  'name': 'Sistemas de Información Empresarial',\n",
       "  'subject_type': 'Optativa',\n",
       "  'num_credits': 6,\n",
       "  'period': 1,\n",
       "  'course': 4,\n",
       "  'language': 'Español, Gallego',\n",
       "  'content': '',\n",
       "  'mention': '',\n",
       "  'url': 'https://guiadocente.udc.es/guia_docent/index.php?centre=614&ensenyament=614G01&assignatura=614G01073&any_academic=2019_20&idioma=cast&fitxa_apartat=3&idioma_assig=cast',\n",
       "  'bibliography': ''},\n",
       " {'code': '614G01074',\n",
       "  'name': 'Sectores de Negocio',\n",
       "  'subject_type': 'Optativa',\n",
       "  'num_credits': 6,\n",
       "  'period': 1,\n",
       "  'course': 4,\n",
       "  'language': 'Español, Gallego',\n",
       "  'content': '',\n",
       "  'mention': '',\n",
       "  'url': 'https://guiadocente.udc.es/guia_docent/index.php?centre=614&ensenyament=614G01&assignatura=614G01074&any_academic=2019_20&idioma=cast&fitxa_apartat=3&idioma_assig=cast',\n",
       "  'bibliography': ''},\n",
       " {'code': '614G01075',\n",
       "  'name': 'Arquitectura de los sistemas de Información',\n",
       "  'subject_type': 'Optativa',\n",
       "  'num_credits': 6,\n",
       "  'period': 1,\n",
       "  'course': 4,\n",
       "  'language': 'Español, Gallego',\n",
       "  'content': '',\n",
       "  'mention': '',\n",
       "  'url': 'https://guiadocente.udc.es/guia_docent/index.php?centre=614&ensenyament=614G01&assignatura=614G01075&any_academic=2019_20&idioma=cast&fitxa_apartat=3&idioma_assig=cast',\n",
       "  'bibliography': ''},\n",
       " {'code': '614G01079',\n",
       "  'name': 'Seguridad en los sistemas Informáticos',\n",
       "  'subject_type': 'Optativa',\n",
       "  'num_credits': 6,\n",
       "  'period': 1,\n",
       "  'course': 4,\n",
       "  'language': 'Español, Gallego',\n",
       "  'content': '',\n",
       "  'mention': '',\n",
       "  'url': 'https://guiadocente.udc.es/guia_docent/index.php?centre=614&ensenyament=614G01&assignatura=614G01079&any_academic=2019_20&idioma=cast&fitxa_apartat=3&idioma_assig=cast',\n",
       "  'bibliography': ''},\n",
       " {'code': '614G01080',\n",
       "  'name': 'Integración de Aplicaciones',\n",
       "  'subject_type': 'Optativa',\n",
       "  'num_credits': 6,\n",
       "  'period': 1,\n",
       "  'course': 4,\n",
       "  'language': 'Español, Gallego',\n",
       "  'content': '',\n",
       "  'mention': '',\n",
       "  'url': 'https://guiadocente.udc.es/guia_docent/index.php?centre=614&ensenyament=614G01&assignatura=614G01080&any_academic=2019_20&idioma=cast&fitxa_apartat=3&idioma_assig=cast',\n",
       "  'bibliography': ''},\n",
       " {'code': '614G01081',\n",
       "  'name': 'Servicios Multimedia',\n",
       "  'subject_type': 'Optativa',\n",
       "  'num_credits': 6,\n",
       "  'period': 1,\n",
       "  'course': 4,\n",
       "  'language': 'Español, Gallego',\n",
       "  'content': '',\n",
       "  'mention': '',\n",
       "  'url': 'https://guiadocente.udc.es/guia_docent/index.php?centre=614&ensenyament=614G01&assignatura=614G01081&any_academic=2019_20&idioma=cast&fitxa_apartat=3&idioma_assig=cast',\n",
       "  'bibliography': ''},\n",
       " {'code': '614G01082',\n",
       "  'name': 'Diseño de Redes',\n",
       "  'subject_type': 'Optativa',\n",
       "  'num_credits': 6,\n",
       "  'period': 1,\n",
       "  'course': 4,\n",
       "  'language': 'Español, Gallego',\n",
       "  'content': '',\n",
       "  'mention': '',\n",
       "  'url': 'https://guiadocente.udc.es/guia_docent/index.php?centre=614&ensenyament=614G01&assignatura=614G01082&any_academic=2019_20&idioma=cast&fitxa_apartat=3&idioma_assig=cast',\n",
       "  'bibliography': ''},\n",
       " {'code': '614G01062',\n",
       "  'name': 'Contornos Inmersivos, Interactivos y de entretenimiento',\n",
       "  'subject_type': 'Optativa',\n",
       "  'num_credits': 6,\n",
       "  'period': 2,\n",
       "  'course': 4,\n",
       "  'language': 'Español, Gallego',\n",
       "  'content': '1. Introducción1. Introducción2. Programación de videojuegos y animaciones2.1. Introducción2.2. Perspectiva histórica2.3. Programación en 2D2.4. Motores 3D2.5. Inteligencia artificial en juegos2.6. Desarrollo multiplataforma3. Contornos Inmersivos e de Visualización avanzada3.1 Realidad Virtual3.2 Realidad Aumentada3.3 Multiversos4. Periféricos4.1. Periféricos',\n",
       "  'mention': '',\n",
       "  'url': 'https://guiadocente.udc.es/guia_docent/index.php?centre=614&ensenyament=614G01&assignatura=614G01062&any_academic=2019_20&idioma=cast&fitxa_apartat=3&idioma_assig=cast',\n",
       "  'bibliography': 'BásicaIan Millington (). Artificial Intelligence for Games. ElsevierWill Goldstone (2011). Unity Game Development Essentials. Packt PublishingNinad Sathaye (2010). Python Multimedia: Beginners Guide. Packt PublishingJuan José Domínguez (2011). Tecnología Digital y Realidad Virtual.Stephen Cawood, Mark Fiala (2008). Augmented reality: a practical guide.Mat Buckland (2005). Programming Game AI by Example. Wordware Publishing Inc.Complementária'},\n",
       " {'code': '614G01087',\n",
       "  'name': 'Proyectos de Desarrollo Software',\n",
       "  'subject_type': 'Optativa',\n",
       "  'num_credits': 6,\n",
       "  'period': 2,\n",
       "  'course': 4,\n",
       "  'language': 'Español, Gallego',\n",
       "  'content': '',\n",
       "  'mention': '',\n",
       "  'url': 'https://guiadocente.udc.es/guia_docent/index.php?centre=614&ensenyament=614G01&assignatura=614G01087&any_academic=2019_20&idioma=cast&fitxa_apartat=3&idioma_assig=cast',\n",
       "  'bibliography': '- “Metrics and models in software quality engineering”.\\r\\n  Stephen H. Kan. Addison-Wesley.- Software Engineering Institute:\\r\\n  http://www.sei.cmu.edu/.- International\\r\\n  Function Point Users’ Group (IFPUG): http://www.ifpug.org.- Peopleware Productivite Projects and Teams. Third Edition (2013). Tom DeMarco y Timothy Lister. Dorset House Publishing.- Practical Softwre Project Estimation. 3rd. Edition (2010). ISBSG. McGraw-Hill.'},\n",
       " {'code': '614G01092',\n",
       "  'name': 'Trabajo Fin de Grado. especialidad ingeniería del Software',\n",
       "  'subject_type': 'Obligatoria',\n",
       "  'num_credits': 12,\n",
       "  'period': 2,\n",
       "  'course': 4,\n",
       "  'language': 'Español, Gallego',\n",
       "  'content': '',\n",
       "  'mention': '',\n",
       "  'url': 'https://guiadocente.udc.es/guia_docent/index.php?centre=614&ensenyament=614G01&assignatura=614G01092&any_academic=2019_20&idioma=cast&fitxa_apartat=3&idioma_assig=cast',\n",
       "  'bibliography': ''},\n",
       " {'code': '614G01093',\n",
       "  'name': 'Administración de Infraestructuras Informáticas',\n",
       "  'subject_type': 'Optativa',\n",
       "  'num_credits': 6,\n",
       "  'period': 2,\n",
       "  'course': 4,\n",
       "  'language': 'Español, Gallego',\n",
       "  'content': '',\n",
       "  'mention': '',\n",
       "  'url': 'https://guiadocente.udc.es/guia_docent/index.php?centre=614&ensenyament=614G01&assignatura=614G01093&any_academic=2019_20&idioma=cast&fitxa_apartat=3&idioma_assig=cast',\n",
       "  'bibliography': ''},\n",
       " {'code': '614G01098',\n",
       "  'name': 'Robótica',\n",
       "  'subject_type': 'Optativa',\n",
       "  'num_credits': 6,\n",
       "  'period': 2,\n",
       "  'course': 4,\n",
       "  'language': 'Español, Gallego',\n",
       "  'content': 'Introducción a la robótica autónoma¿Qué es un robot autónomo?HistoriaSensores y actuadoresComportamientosPlanificaciónAprendizaje y evoluciónElementos de un sistema robóticoSistema robóticoActuadores e efectoresSensoresArquitecturas de controlRobótica basada en comportamientoAntecedentesArquitecturas de control clásicasArquitecturas de controlRobótica basada en conocimientoConocimientoRobótica tradicional deliberativaNavegaciónAproximaciones híbridasPrincipales arquitecturas híbridasRobótica cognitivaRobótica evolutivaTécnicas evolutivasAplicación a la robóticaAprendizaje en robótica autónomaAprendizaje en sistemas de clasificaciónAprendizaje por refuerzo: Q-learningCombinación de aprendizaje por refuerzo y conexionista',\n",
       "  'mention': '',\n",
       "  'url': 'https://guiadocente.udc.es/guia_docent/index.php?centre=614&ensenyament=614G01&assignatura=614G01098&any_academic=2019_20&idioma=cast&fitxa_apartat=3&idioma_assig=cast',\n",
       "  'bibliography': 'BásicaSantos, J., Duro, R.J. (2005). Evolución Artificial y Robótica Autónoma. RA-MAArkin, R.C.  (1998). Behavior Based Robotics. MIT PressMataric, Maja J. (2007). The Robotics Primer. MIT PressBekey, A. (2005). Autonomous Robots. MIT Press<!--[if gte mso 10]>\\r\\n<style>\\r\\n /* Style Definitions */\\r\\n table.MsoNormalTable\\r\\n\\t{mso-style-name:\"Tabla normal\";\\r\\n\\tmso-tstyle-rowband-size:0;\\r\\n\\tmso-tstyle-colband-size:0;\\r\\n\\tmso-style-noshow:yes;\\r\\n\\tmso-style-priority:99;\\r\\n\\tmso-style-qformat:yes;\\r\\n\\tmso-style-parent:\"\";\\r\\n\\tmso-padding-alt:0cm 5.4pt 0cm 5.4pt;\\r\\n\\tmso-para-margin:0cm;\\r\\n\\tmso-para-margin-bottom:.0001pt;\\r\\n\\tmso-pagination:widow-orphan;\\r\\n\\tfont-size:11.0pt;\\r\\n\\tfont-family:\"Calibri\",\"sans-serif\";\\r\\n\\tmso-ascii-font-family:Calibri;\\r\\n\\tmso-ascii-theme-font:minor-latin;\\r\\n\\tmso-fareast-font-family:\"Times New Roman\";\\r\\n\\tmso-fareast-theme-font:minor-fareast;\\r\\n\\tmso-hansi-font-family:Calibri;\\r\\n\\tmso-hansi-theme-font:minor-latin;\\r\\n\\tmso-bidi-font-family:\"Times New Roman\";\\r\\n\\tmso-bidi-theme-font:minor-bidi;}&nbsp;ComplementáriaSantos, J. (2007).  Vida Artificial. Realizaciones Computacionales. ServicioPublicaciones UDCNolfi, S., Floreano, D. (2000). Evolutionary Robotics. MIT PressFloreano, D. and Mattiussi, C.  (2008). Bio-Inspired Artificial Intelligence. Tema 7. MIT PressPfeifer, R. and Scheier, C.  (1999). Understanding Intelligence. MIT PressSalido, J.  (2009). Cibernética aplicada. Robots educativos. Ra-MaSutton, R.S., Burton A.G. (1998). Reinforcement Learning. MIT PressThurn, S., Burgard, W., Fox, D. (2005). Probabilistic Robotics. MIT Press<!--[if gte mso 10]>\\r\\n<style>\\r\\n /* Style Definitions */\\r\\n table.MsoNormalTable\\r\\n\\t{mso-style-name:\"Tabla normal\";\\r\\n\\tmso-tstyle-rowband-size:0;\\r\\n\\tmso-tstyle-colband-size:0;\\r\\n\\tmso-style-noshow:yes;\\r\\n\\tmso-style-priority:99;\\r\\n\\tmso-style-qformat:yes;\\r\\n\\tmso-style-parent:\"\";\\r\\n\\tmso-padding-alt:0cm 5.4pt 0cm 5.4pt;\\r\\n\\tmso-para-margin:0cm;\\r\\n\\tmso-para-margin-bottom:.0001pt;\\r\\n\\tmso-pagination:widow-orphan;\\r\\n\\tfont-size:11.0pt;\\r\\n\\tfont-family:\"Calibri\",\"sans-serif\";\\r\\n\\tmso-ascii-font-family:Calibri;\\r\\n\\tmso-ascii-theme-font:minor-latin;\\r\\n\\tmso-fareast-font-family:\"Times New Roman\";\\r\\n\\tmso-fareast-theme-font:minor-fareast;\\r\\n\\tmso-hansi-font-family:Calibri;\\r\\n\\tmso-hansi-theme-font:minor-latin;\\r\\n\\tmso-bidi-font-family:\"Times New Roman\";\\r\\n\\tmso-bidi-theme-font:minor-bidi;}&nbsp;'},\n",
       " {'code': '614G01099',\n",
       "  'name': 'Trabajo Fin de Grado. Especialidad Ingeniería de Computadores',\n",
       "  'subject_type': 'Obligatoria',\n",
       "  'num_credits': 12,\n",
       "  'period': 2,\n",
       "  'course': 4,\n",
       "  'language': 'Español, Gallego',\n",
       "  'content': '',\n",
       "  'mention': '',\n",
       "  'url': 'https://guiadocente.udc.es/guia_docent/index.php?centre=614&ensenyament=614G01&assignatura=614G01099&any_academic=2019_20&idioma=cast&fitxa_apartat=3&idioma_assig=cast',\n",
       "  'bibliography': ''},\n",
       " {'code': '614G01106',\n",
       "  'name': 'Trabajo Fin de Grado. Especialidad Computación.',\n",
       "  'subject_type': 'Obligatoria',\n",
       "  'num_credits': 12,\n",
       "  'period': 2,\n",
       "  'course': 4,\n",
       "  'language': 'Español, Gallego',\n",
       "  'content': '',\n",
       "  'mention': '',\n",
       "  'url': 'https://guiadocente.udc.es/guia_docent/index.php?centre=614&ensenyament=614G01&assignatura=614G01106&any_academic=2019_20&idioma=cast&fitxa_apartat=3&idioma_assig=cast',\n",
       "  'bibliography': ''},\n",
       " {'code': '614G01107',\n",
       "  'name': 'Planificación de Sistemas de Información',\n",
       "  'subject_type': 'Optativa',\n",
       "  'num_credits': 6,\n",
       "  'period': 2,\n",
       "  'course': 4,\n",
       "  'language': 'Español, Gallego',\n",
       "  'content': '',\n",
       "  'mention': '',\n",
       "  'url': 'https://guiadocente.udc.es/guia_docent/index.php?centre=614&ensenyament=614G01&assignatura=614G01107&any_academic=2019_20&idioma=cast&fitxa_apartat=3&idioma_assig=cast',\n",
       "  'bibliography': ''},\n",
       " {'code': '614G01112',\n",
       "  'name': 'Trabajo Fin de Grado. Especialidad Sistemas de Información',\n",
       "  'subject_type': 'Obligatoria',\n",
       "  'num_credits': 12,\n",
       "  'period': 2,\n",
       "  'course': 4,\n",
       "  'language': 'Español, Gallego',\n",
       "  'content': '',\n",
       "  'mention': '',\n",
       "  'url': 'https://guiadocente.udc.es/guia_docent/index.php?centre=614&ensenyament=614G01&assignatura=614G01112&any_academic=2019_20&idioma=cast&fitxa_apartat=3&idioma_assig=cast',\n",
       "  'bibliography': ''},\n",
       " {'code': '614G01113',\n",
       "  'name': 'Administración de Infraestructuras y Sistemas Informáticos',\n",
       "  'subject_type': 'Optativa',\n",
       "  'num_credits': 6,\n",
       "  'period': 2,\n",
       "  'course': 4,\n",
       "  'language': 'Español, Gallego',\n",
       "  'content': '',\n",
       "  'mention': '',\n",
       "  'url': 'https://guiadocente.udc.es/guia_docent/index.php?centre=614&ensenyament=614G01&assignatura=614G01113&any_academic=2019_20&idioma=cast&fitxa_apartat=3&idioma_assig=cast',\n",
       "  'bibliography': ''},\n",
       " {'code': '614G01118',\n",
       "  'name': 'Trabajo Fin de Grado. Especialidad Tecnología de la Información',\n",
       "  'subject_type': 'Obligatoria',\n",
       "  'num_credits': 12,\n",
       "  'period': 2,\n",
       "  'course': 4,\n",
       "  'language': 'Español, Gallego',\n",
       "  'content': '',\n",
       "  'mention': '',\n",
       "  'url': 'https://guiadocente.udc.es/guia_docent/index.php?centre=614&ensenyament=614G01&assignatura=614G01118&any_academic=2019_20&idioma=cast&fitxa_apartat=3&idioma_assig=cast',\n",
       "  'bibliography': ''}]"
      ]
     },
     "execution_count": 65,
     "metadata": {},
     "output_type": "execute_result"
    }
   ],
   "source": [
    "subjects_list"
   ]
  },
  {
   "cell_type": "code",
   "execution_count": 66,
   "metadata": {},
   "outputs": [
    {
     "data": {
      "text/plain": [
       "81"
      ]
     },
     "execution_count": 66,
     "metadata": {},
     "output_type": "execute_result"
    }
   ],
   "source": [
    "len(subjects_list)"
   ]
  },
  {
   "cell_type": "code",
   "execution_count": null,
   "metadata": {},
   "outputs": [],
   "source": []
  }
 ],
 "metadata": {
  "kernelspec": {
   "display_name": "Python 3",
   "language": "python",
   "name": "python3"
  },
  "language_info": {
   "codemirror_mode": {
    "name": "ipython",
    "version": 3
   },
   "file_extension": ".py",
   "mimetype": "text/x-python",
   "name": "python",
   "nbconvert_exporter": "python",
   "pygments_lexer": "ipython3",
   "version": "3.7.7"
  }
 },
 "nbformat": 4,
 "nbformat_minor": 4
}
