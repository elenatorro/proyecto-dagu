{
 "cells": [
  {
   "cell_type": "code",
   "execution_count": 1,
   "metadata": {},
   "outputs": [],
   "source": [
    "DEGREE_NAME = 'grado_en_ingenieria_informatica'\n",
    "UNIVERSITY_NAME = 'universidad_a_coruna'"
   ]
  },
  {
   "cell_type": "code",
   "execution_count": 2,
   "metadata": {},
   "outputs": [],
   "source": [
    "import requests\n",
    "from bs4 import BeautifulSoup\n",
    "import pandas as pd\n",
    "\n",
    "SUBJECT_TYPE = {\n",
    "    'FB': 'Formación Básica',\n",
    "    'O': 'Obligatoria',\n",
    "    'P': 'Optativa',\n",
    "    'O-P': 'Optativa, Obligatoria',\n",
    "    'TFG': 'Trabajo Fin de Grado'\n",
    "}\n",
    "\n",
    "COURSE_NUMBER = {\n",
    "    'Primero': 1,\n",
    "    'Segundo': 2,\n",
    "    'Tercero': 3,\n",
    "    'Cuarto': 4,\n",
    "    'Anual': 0\n",
    "}\n",
    "\n",
    "subjects_list = []"
   ]
  },
  {
   "cell_type": "code",
   "execution_count": 3,
   "metadata": {},
   "outputs": [],
   "source": [
    "def get_subject(url, bibliography_url):\n",
    "    page = requests.get(url, verify=False)\n",
    "    soup = BeautifulSoup(page.content, 'html.parser')\n",
    "    \n",
    "    mainfons = soup.select('td.mainfons2')\n",
    "    \n",
    "    if len(mainfons):\n",
    "        name = soup.select('td.mainfons2')[0].getText(strip=True)\n",
    "        code = soup.select('td.mainfons2')[1].getText(strip=True)\n",
    "        period = int(soup.select('td.mainfons2')[4].getText(strip=True).replace('º cuatrimestre', ''))\n",
    "        course = COURSE_NUMBER[soup.select('td.mainfons2')[5].getText(strip=True)]\n",
    "        subject_type = soup.select('td.mainfons2')[6].getText(strip=True)\n",
    "        num_credits = int(soup.select('td.mainfons2')[7].getText(strip=True))\n",
    "\n",
    "        language = 'Español, Gallego'\n",
    "\n",
    "        content = soup.select('table')[13].getText().replace('Tema Subtema', '')\n",
    "\n",
    "        bibliography_page = requests.get(bibliography_url, verify=False)\n",
    "        bibliography_soup = BeautifulSoup(bibliography_page.content, 'html.parser')\n",
    "\n",
    "        bibliography = bibliography_soup.select('table')[13].getText()\n",
    "\n",
    "        subject_data = {\n",
    "         'code': code,\n",
    "         'name': name,\n",
    "         'subject_type': subject_type,\n",
    "         'num_credits': num_credits,\n",
    "         'period': period,\n",
    "         'course': course,\n",
    "         'language': language,\n",
    "         'content': content,\n",
    "         'mention': '',\n",
    "         'url': url,\n",
    "         'bibliography': bibliography\n",
    "        }\n",
    "\n",
    "        subjects_list.append(subject_data)"
   ]
  },
  {
   "cell_type": "code",
   "execution_count": 4,
   "metadata": {},
   "outputs": [],
   "source": [
    "def get_subjects(url):\n",
    "    page = requests.get(url)\n",
    "    soup = BeautifulSoup(page.content, 'html.parser')\n",
    "\n",
    "    subjects = soup.select('.tab-content tbody tr td a')\n",
    "\n",
    "    for subject in subjects:\n",
    "        url = subject.get('href')\n",
    "        if 'pdf' not in url and 'http' in url:\n",
    "            subject_url = subject.get('href') + '&fitxa_apartat=3&idioma_assig=cast'\n",
    "            bibliography_url = subject.get('href') + '&fitxa_apartat=8&idioma_assig=cast'\n",
    "\n",
    "            get_subject(subject_url, bibliography_url)"
   ]
  },
  {
   "cell_type": "code",
   "execution_count": 5,
   "metadata": {},
   "outputs": [
    {
     "name": "stdout",
     "output_type": "stream",
     "text": [
      "/es/subject/614G01V01/614G01001/2019\n",
      "https://guiadocente.udc.es/guia_docent/index.php?centre=614&ensenyament=614G01&assignatura=614G01001&any_academic=2019_20&idioma=cast\n"
     ]
    },
    {
     "name": "stderr",
     "output_type": "stream",
     "text": [
      "/Users/elenatorro/.local/share/virtualenvs/notebooks-EjoTTmKj/lib/python3.7/site-packages/urllib3/connectionpool.py:986: InsecureRequestWarning: Unverified HTTPS request is being made to host 'guiadocente.udc.es'. Adding certificate verification is strongly advised. See: https://urllib3.readthedocs.io/en/latest/advanced-usage.html#ssl-warnings\n",
      "  InsecureRequestWarning,\n",
      "/Users/elenatorro/.local/share/virtualenvs/notebooks-EjoTTmKj/lib/python3.7/site-packages/urllib3/connectionpool.py:986: InsecureRequestWarning: Unverified HTTPS request is being made to host 'guiadocente.udc.es'. Adding certificate verification is strongly advised. See: https://urllib3.readthedocs.io/en/latest/advanced-usage.html#ssl-warnings\n",
      "  InsecureRequestWarning,\n"
     ]
    },
    {
     "name": "stdout",
     "output_type": "stream",
     "text": [
      "/es/subject/614G01V01/614G01002/2019\n",
      "https://guiadocente.udc.es/guia_docent/index.php?centre=614&ensenyament=614G01&assignatura=614G01002&any_academic=2019_20&idioma=cast\n"
     ]
    },
    {
     "name": "stderr",
     "output_type": "stream",
     "text": [
      "/Users/elenatorro/.local/share/virtualenvs/notebooks-EjoTTmKj/lib/python3.7/site-packages/urllib3/connectionpool.py:986: InsecureRequestWarning: Unverified HTTPS request is being made to host 'guiadocente.udc.es'. Adding certificate verification is strongly advised. See: https://urllib3.readthedocs.io/en/latest/advanced-usage.html#ssl-warnings\n",
      "  InsecureRequestWarning,\n",
      "/Users/elenatorro/.local/share/virtualenvs/notebooks-EjoTTmKj/lib/python3.7/site-packages/urllib3/connectionpool.py:986: InsecureRequestWarning: Unverified HTTPS request is being made to host 'guiadocente.udc.es'. Adding certificate verification is strongly advised. See: https://urllib3.readthedocs.io/en/latest/advanced-usage.html#ssl-warnings\n",
      "  InsecureRequestWarning,\n"
     ]
    },
    {
     "name": "stdout",
     "output_type": "stream",
     "text": [
      "/es/subject/614G01V01/614G01003/2019\n",
      "https://guiadocente.udc.es/guia_docent/index.php?centre=614&ensenyament=614G01&assignatura=614G01003&any_academic=2019_20&idioma=cast\n"
     ]
    },
    {
     "name": "stderr",
     "output_type": "stream",
     "text": [
      "/Users/elenatorro/.local/share/virtualenvs/notebooks-EjoTTmKj/lib/python3.7/site-packages/urllib3/connectionpool.py:986: InsecureRequestWarning: Unverified HTTPS request is being made to host 'guiadocente.udc.es'. Adding certificate verification is strongly advised. See: https://urllib3.readthedocs.io/en/latest/advanced-usage.html#ssl-warnings\n",
      "  InsecureRequestWarning,\n",
      "/Users/elenatorro/.local/share/virtualenvs/notebooks-EjoTTmKj/lib/python3.7/site-packages/urllib3/connectionpool.py:986: InsecureRequestWarning: Unverified HTTPS request is being made to host 'guiadocente.udc.es'. Adding certificate verification is strongly advised. See: https://urllib3.readthedocs.io/en/latest/advanced-usage.html#ssl-warnings\n",
      "  InsecureRequestWarning,\n"
     ]
    },
    {
     "name": "stdout",
     "output_type": "stream",
     "text": [
      "/es/subject/614G01V01/614G01004/2019\n",
      "https://guiadocente.udc.es/guia_docent/index.php?centre=614&ensenyament=614G01&assignatura=614G01004&any_academic=2019_20&idioma=cast\n"
     ]
    },
    {
     "name": "stderr",
     "output_type": "stream",
     "text": [
      "/Users/elenatorro/.local/share/virtualenvs/notebooks-EjoTTmKj/lib/python3.7/site-packages/urllib3/connectionpool.py:986: InsecureRequestWarning: Unverified HTTPS request is being made to host 'guiadocente.udc.es'. Adding certificate verification is strongly advised. See: https://urllib3.readthedocs.io/en/latest/advanced-usage.html#ssl-warnings\n",
      "  InsecureRequestWarning,\n",
      "/Users/elenatorro/.local/share/virtualenvs/notebooks-EjoTTmKj/lib/python3.7/site-packages/urllib3/connectionpool.py:986: InsecureRequestWarning: Unverified HTTPS request is being made to host 'guiadocente.udc.es'. Adding certificate verification is strongly advised. See: https://urllib3.readthedocs.io/en/latest/advanced-usage.html#ssl-warnings\n",
      "  InsecureRequestWarning,\n"
     ]
    },
    {
     "name": "stdout",
     "output_type": "stream",
     "text": [
      "/es/subject/614G01V01/614G01009/2019\n",
      "https://guiadocente.udc.es/guia_docent/index.php?centre=614&ensenyament=614G01&assignatura=614G01009&any_academic=2019_20&idioma=cast\n"
     ]
    },
    {
     "name": "stderr",
     "output_type": "stream",
     "text": [
      "/Users/elenatorro/.local/share/virtualenvs/notebooks-EjoTTmKj/lib/python3.7/site-packages/urllib3/connectionpool.py:986: InsecureRequestWarning: Unverified HTTPS request is being made to host 'guiadocente.udc.es'. Adding certificate verification is strongly advised. See: https://urllib3.readthedocs.io/en/latest/advanced-usage.html#ssl-warnings\n",
      "  InsecureRequestWarning,\n",
      "/Users/elenatorro/.local/share/virtualenvs/notebooks-EjoTTmKj/lib/python3.7/site-packages/urllib3/connectionpool.py:986: InsecureRequestWarning: Unverified HTTPS request is being made to host 'guiadocente.udc.es'. Adding certificate verification is strongly advised. See: https://urllib3.readthedocs.io/en/latest/advanced-usage.html#ssl-warnings\n",
      "  InsecureRequestWarning,\n"
     ]
    },
    {
     "name": "stdout",
     "output_type": "stream",
     "text": [
      "https://adendasgadu.udc.es/614G01009.pdf\n",
      "/es/subject/614G01V01/614G01005/2019\n",
      "https://guiadocente.udc.es/guia_docent/index.php?centre=614&ensenyament=614G01&assignatura=614G01005&any_academic=2019_20&idioma=cast\n"
     ]
    },
    {
     "name": "stderr",
     "output_type": "stream",
     "text": [
      "/Users/elenatorro/.local/share/virtualenvs/notebooks-EjoTTmKj/lib/python3.7/site-packages/urllib3/connectionpool.py:986: InsecureRequestWarning: Unverified HTTPS request is being made to host 'guiadocente.udc.es'. Adding certificate verification is strongly advised. See: https://urllib3.readthedocs.io/en/latest/advanced-usage.html#ssl-warnings\n",
      "  InsecureRequestWarning,\n",
      "/Users/elenatorro/.local/share/virtualenvs/notebooks-EjoTTmKj/lib/python3.7/site-packages/urllib3/connectionpool.py:986: InsecureRequestWarning: Unverified HTTPS request is being made to host 'guiadocente.udc.es'. Adding certificate verification is strongly advised. See: https://urllib3.readthedocs.io/en/latest/advanced-usage.html#ssl-warnings\n",
      "  InsecureRequestWarning,\n"
     ]
    },
    {
     "name": "stdout",
     "output_type": "stream",
     "text": [
      "https://adendasgadu.udc.es/614G01005.pdf\n",
      "/es/subject/614G01V01/614G01006/2019\n",
      "https://guiadocente.udc.es/guia_docent/index.php?centre=614&ensenyament=614G01&assignatura=614G01006&any_academic=2019_20&idioma=cast\n"
     ]
    },
    {
     "name": "stderr",
     "output_type": "stream",
     "text": [
      "/Users/elenatorro/.local/share/virtualenvs/notebooks-EjoTTmKj/lib/python3.7/site-packages/urllib3/connectionpool.py:986: InsecureRequestWarning: Unverified HTTPS request is being made to host 'guiadocente.udc.es'. Adding certificate verification is strongly advised. See: https://urllib3.readthedocs.io/en/latest/advanced-usage.html#ssl-warnings\n",
      "  InsecureRequestWarning,\n",
      "/Users/elenatorro/.local/share/virtualenvs/notebooks-EjoTTmKj/lib/python3.7/site-packages/urllib3/connectionpool.py:986: InsecureRequestWarning: Unverified HTTPS request is being made to host 'guiadocente.udc.es'. Adding certificate verification is strongly advised. See: https://urllib3.readthedocs.io/en/latest/advanced-usage.html#ssl-warnings\n",
      "  InsecureRequestWarning,\n"
     ]
    },
    {
     "name": "stdout",
     "output_type": "stream",
     "text": [
      "https://adendasgadu.udc.es/614G01006.pdf\n",
      "/es/subject/614G01V01/614G01007/2019\n",
      "https://guiadocente.udc.es/guia_docent/index.php?centre=614&ensenyament=614G01&assignatura=614G01007&any_academic=2019_20&idioma=cast\n"
     ]
    },
    {
     "name": "stderr",
     "output_type": "stream",
     "text": [
      "/Users/elenatorro/.local/share/virtualenvs/notebooks-EjoTTmKj/lib/python3.7/site-packages/urllib3/connectionpool.py:986: InsecureRequestWarning: Unverified HTTPS request is being made to host 'guiadocente.udc.es'. Adding certificate verification is strongly advised. See: https://urllib3.readthedocs.io/en/latest/advanced-usage.html#ssl-warnings\n",
      "  InsecureRequestWarning,\n",
      "/Users/elenatorro/.local/share/virtualenvs/notebooks-EjoTTmKj/lib/python3.7/site-packages/urllib3/connectionpool.py:986: InsecureRequestWarning: Unverified HTTPS request is being made to host 'guiadocente.udc.es'. Adding certificate verification is strongly advised. See: https://urllib3.readthedocs.io/en/latest/advanced-usage.html#ssl-warnings\n",
      "  InsecureRequestWarning,\n"
     ]
    },
    {
     "name": "stdout",
     "output_type": "stream",
     "text": [
      "https://adendasgadu.udc.es/614G01007.pdf\n",
      "/es/subject/614G01V01/614G01008/2019\n",
      "https://guiadocente.udc.es/guia_docent/index.php?centre=614&ensenyament=614G01&assignatura=614G01008&any_academic=2019_20&idioma=cast\n"
     ]
    },
    {
     "name": "stderr",
     "output_type": "stream",
     "text": [
      "/Users/elenatorro/.local/share/virtualenvs/notebooks-EjoTTmKj/lib/python3.7/site-packages/urllib3/connectionpool.py:986: InsecureRequestWarning: Unverified HTTPS request is being made to host 'guiadocente.udc.es'. Adding certificate verification is strongly advised. See: https://urllib3.readthedocs.io/en/latest/advanced-usage.html#ssl-warnings\n",
      "  InsecureRequestWarning,\n",
      "/Users/elenatorro/.local/share/virtualenvs/notebooks-EjoTTmKj/lib/python3.7/site-packages/urllib3/connectionpool.py:986: InsecureRequestWarning: Unverified HTTPS request is being made to host 'guiadocente.udc.es'. Adding certificate verification is strongly advised. See: https://urllib3.readthedocs.io/en/latest/advanced-usage.html#ssl-warnings\n",
      "  InsecureRequestWarning,\n"
     ]
    },
    {
     "name": "stdout",
     "output_type": "stream",
     "text": [
      "https://adendasgadu.udc.es/614G01008.pdf\n",
      "/es/subject/614G01V01/614G01010/2019\n",
      "https://guiadocente.udc.es/guia_docent/index.php?centre=614&ensenyament=614G01&assignatura=614G01010&any_academic=2019_20&idioma=cast\n"
     ]
    },
    {
     "name": "stderr",
     "output_type": "stream",
     "text": [
      "/Users/elenatorro/.local/share/virtualenvs/notebooks-EjoTTmKj/lib/python3.7/site-packages/urllib3/connectionpool.py:986: InsecureRequestWarning: Unverified HTTPS request is being made to host 'guiadocente.udc.es'. Adding certificate verification is strongly advised. See: https://urllib3.readthedocs.io/en/latest/advanced-usage.html#ssl-warnings\n",
      "  InsecureRequestWarning,\n",
      "/Users/elenatorro/.local/share/virtualenvs/notebooks-EjoTTmKj/lib/python3.7/site-packages/urllib3/connectionpool.py:986: InsecureRequestWarning: Unverified HTTPS request is being made to host 'guiadocente.udc.es'. Adding certificate verification is strongly advised. See: https://urllib3.readthedocs.io/en/latest/advanced-usage.html#ssl-warnings\n",
      "  InsecureRequestWarning,\n"
     ]
    },
    {
     "name": "stdout",
     "output_type": "stream",
     "text": [
      "https://adendasgadu.udc.es/614G01010.pdf\n",
      "/es/subject/614G01V01/614G01011/2019\n",
      "https://guiadocente.udc.es/guia_docent/index.php?centre=614&ensenyament=614G01&assignatura=614G01011&any_academic=2019_20&idioma=cast\n"
     ]
    },
    {
     "name": "stderr",
     "output_type": "stream",
     "text": [
      "/Users/elenatorro/.local/share/virtualenvs/notebooks-EjoTTmKj/lib/python3.7/site-packages/urllib3/connectionpool.py:986: InsecureRequestWarning: Unverified HTTPS request is being made to host 'guiadocente.udc.es'. Adding certificate verification is strongly advised. See: https://urllib3.readthedocs.io/en/latest/advanced-usage.html#ssl-warnings\n",
      "  InsecureRequestWarning,\n",
      "/Users/elenatorro/.local/share/virtualenvs/notebooks-EjoTTmKj/lib/python3.7/site-packages/urllib3/connectionpool.py:986: InsecureRequestWarning: Unverified HTTPS request is being made to host 'guiadocente.udc.es'. Adding certificate verification is strongly advised. See: https://urllib3.readthedocs.io/en/latest/advanced-usage.html#ssl-warnings\n",
      "  InsecureRequestWarning,\n"
     ]
    },
    {
     "name": "stdout",
     "output_type": "stream",
     "text": [
      "/es/subject/614G01V01/614G01012/2019\n",
      "https://guiadocente.udc.es/guia_docent/index.php?centre=614&ensenyament=614G01&assignatura=614G01012&any_academic=2019_20&idioma=cast\n"
     ]
    },
    {
     "name": "stderr",
     "output_type": "stream",
     "text": [
      "/Users/elenatorro/.local/share/virtualenvs/notebooks-EjoTTmKj/lib/python3.7/site-packages/urllib3/connectionpool.py:986: InsecureRequestWarning: Unverified HTTPS request is being made to host 'guiadocente.udc.es'. Adding certificate verification is strongly advised. See: https://urllib3.readthedocs.io/en/latest/advanced-usage.html#ssl-warnings\n",
      "  InsecureRequestWarning,\n",
      "/Users/elenatorro/.local/share/virtualenvs/notebooks-EjoTTmKj/lib/python3.7/site-packages/urllib3/connectionpool.py:986: InsecureRequestWarning: Unverified HTTPS request is being made to host 'guiadocente.udc.es'. Adding certificate verification is strongly advised. See: https://urllib3.readthedocs.io/en/latest/advanced-usage.html#ssl-warnings\n",
      "  InsecureRequestWarning,\n"
     ]
    },
    {
     "name": "stdout",
     "output_type": "stream",
     "text": [
      "/es/subject/614G01V01/614G01014/2019\n",
      "https://guiadocente.udc.es/guia_docent/index.php?centre=614&ensenyament=614G01&assignatura=614G01014&any_academic=2019_20&idioma=cast\n"
     ]
    },
    {
     "name": "stderr",
     "output_type": "stream",
     "text": [
      "/Users/elenatorro/.local/share/virtualenvs/notebooks-EjoTTmKj/lib/python3.7/site-packages/urllib3/connectionpool.py:986: InsecureRequestWarning: Unverified HTTPS request is being made to host 'guiadocente.udc.es'. Adding certificate verification is strongly advised. See: https://urllib3.readthedocs.io/en/latest/advanced-usage.html#ssl-warnings\n",
      "  InsecureRequestWarning,\n",
      "/Users/elenatorro/.local/share/virtualenvs/notebooks-EjoTTmKj/lib/python3.7/site-packages/urllib3/connectionpool.py:986: InsecureRequestWarning: Unverified HTTPS request is being made to host 'guiadocente.udc.es'. Adding certificate verification is strongly advised. See: https://urllib3.readthedocs.io/en/latest/advanced-usage.html#ssl-warnings\n",
      "  InsecureRequestWarning,\n"
     ]
    },
    {
     "name": "stdout",
     "output_type": "stream",
     "text": [
      "/es/subject/614G01V01/614G01015/2019\n",
      "https://guiadocente.udc.es/guia_docent/index.php?centre=614&ensenyament=614G01&assignatura=614G01015&any_academic=2019_20&idioma=cast\n"
     ]
    },
    {
     "name": "stderr",
     "output_type": "stream",
     "text": [
      "/Users/elenatorro/.local/share/virtualenvs/notebooks-EjoTTmKj/lib/python3.7/site-packages/urllib3/connectionpool.py:986: InsecureRequestWarning: Unverified HTTPS request is being made to host 'guiadocente.udc.es'. Adding certificate verification is strongly advised. See: https://urllib3.readthedocs.io/en/latest/advanced-usage.html#ssl-warnings\n",
      "  InsecureRequestWarning,\n",
      "/Users/elenatorro/.local/share/virtualenvs/notebooks-EjoTTmKj/lib/python3.7/site-packages/urllib3/connectionpool.py:986: InsecureRequestWarning: Unverified HTTPS request is being made to host 'guiadocente.udc.es'. Adding certificate verification is strongly advised. See: https://urllib3.readthedocs.io/en/latest/advanced-usage.html#ssl-warnings\n",
      "  InsecureRequestWarning,\n"
     ]
    },
    {
     "name": "stdout",
     "output_type": "stream",
     "text": [
      "https://adendasgadu.udc.es/614G01015.pdf\n",
      "/es/subject/614G01V01/614G01016/2019\n",
      "https://guiadocente.udc.es/guia_docent/index.php?centre=614&ensenyament=614G01&assignatura=614G01016&any_academic=2019_20&idioma=cast\n"
     ]
    },
    {
     "name": "stderr",
     "output_type": "stream",
     "text": [
      "/Users/elenatorro/.local/share/virtualenvs/notebooks-EjoTTmKj/lib/python3.7/site-packages/urllib3/connectionpool.py:986: InsecureRequestWarning: Unverified HTTPS request is being made to host 'guiadocente.udc.es'. Adding certificate verification is strongly advised. See: https://urllib3.readthedocs.io/en/latest/advanced-usage.html#ssl-warnings\n",
      "  InsecureRequestWarning,\n",
      "/Users/elenatorro/.local/share/virtualenvs/notebooks-EjoTTmKj/lib/python3.7/site-packages/urllib3/connectionpool.py:986: InsecureRequestWarning: Unverified HTTPS request is being made to host 'guiadocente.udc.es'. Adding certificate verification is strongly advised. See: https://urllib3.readthedocs.io/en/latest/advanced-usage.html#ssl-warnings\n",
      "  InsecureRequestWarning,\n"
     ]
    },
    {
     "name": "stdout",
     "output_type": "stream",
     "text": [
      "/es/subject/614G01V01/614G01013/2019\n",
      "https://guiadocente.udc.es/guia_docent/index.php?centre=614&ensenyament=614G01&assignatura=614G01013&any_academic=2019_20&idioma=cast\n"
     ]
    },
    {
     "name": "stderr",
     "output_type": "stream",
     "text": [
      "/Users/elenatorro/.local/share/virtualenvs/notebooks-EjoTTmKj/lib/python3.7/site-packages/urllib3/connectionpool.py:986: InsecureRequestWarning: Unverified HTTPS request is being made to host 'guiadocente.udc.es'. Adding certificate verification is strongly advised. See: https://urllib3.readthedocs.io/en/latest/advanced-usage.html#ssl-warnings\n",
      "  InsecureRequestWarning,\n",
      "/Users/elenatorro/.local/share/virtualenvs/notebooks-EjoTTmKj/lib/python3.7/site-packages/urllib3/connectionpool.py:986: InsecureRequestWarning: Unverified HTTPS request is being made to host 'guiadocente.udc.es'. Adding certificate verification is strongly advised. See: https://urllib3.readthedocs.io/en/latest/advanced-usage.html#ssl-warnings\n",
      "  InsecureRequestWarning,\n"
     ]
    },
    {
     "name": "stdout",
     "output_type": "stream",
     "text": [
      "https://adendasgadu.udc.es/614G01013.pdf\n",
      "/es/subject/614G01V01/614G01017/2019\n",
      "https://guiadocente.udc.es/guia_docent/index.php?centre=614&ensenyament=614G01&assignatura=614G01017&any_academic=2019_20&idioma=cast\n"
     ]
    },
    {
     "name": "stderr",
     "output_type": "stream",
     "text": [
      "/Users/elenatorro/.local/share/virtualenvs/notebooks-EjoTTmKj/lib/python3.7/site-packages/urllib3/connectionpool.py:986: InsecureRequestWarning: Unverified HTTPS request is being made to host 'guiadocente.udc.es'. Adding certificate verification is strongly advised. See: https://urllib3.readthedocs.io/en/latest/advanced-usage.html#ssl-warnings\n",
      "  InsecureRequestWarning,\n",
      "/Users/elenatorro/.local/share/virtualenvs/notebooks-EjoTTmKj/lib/python3.7/site-packages/urllib3/connectionpool.py:986: InsecureRequestWarning: Unverified HTTPS request is being made to host 'guiadocente.udc.es'. Adding certificate verification is strongly advised. See: https://urllib3.readthedocs.io/en/latest/advanced-usage.html#ssl-warnings\n",
      "  InsecureRequestWarning,\n"
     ]
    },
    {
     "name": "stdout",
     "output_type": "stream",
     "text": [
      "https://adendasgadu.udc.es/614G01017.pdf\n",
      "/es/subject/614G01V01/614G01018/2019\n",
      "https://guiadocente.udc.es/guia_docent/index.php?centre=614&ensenyament=614G01&assignatura=614G01018&any_academic=2019_20&idioma=cast\n"
     ]
    },
    {
     "name": "stderr",
     "output_type": "stream",
     "text": [
      "/Users/elenatorro/.local/share/virtualenvs/notebooks-EjoTTmKj/lib/python3.7/site-packages/urllib3/connectionpool.py:986: InsecureRequestWarning: Unverified HTTPS request is being made to host 'guiadocente.udc.es'. Adding certificate verification is strongly advised. See: https://urllib3.readthedocs.io/en/latest/advanced-usage.html#ssl-warnings\n",
      "  InsecureRequestWarning,\n",
      "/Users/elenatorro/.local/share/virtualenvs/notebooks-EjoTTmKj/lib/python3.7/site-packages/urllib3/connectionpool.py:986: InsecureRequestWarning: Unverified HTTPS request is being made to host 'guiadocente.udc.es'. Adding certificate verification is strongly advised. See: https://urllib3.readthedocs.io/en/latest/advanced-usage.html#ssl-warnings\n",
      "  InsecureRequestWarning,\n"
     ]
    },
    {
     "name": "stdout",
     "output_type": "stream",
     "text": [
      "https://adendasgadu.udc.es/614G01018.pdf\n",
      "/es/subject/614G01V01/614G01019/2019\n",
      "https://guiadocente.udc.es/guia_docent/index.php?centre=614&ensenyament=614G01&assignatura=614G01019&any_academic=2019_20&idioma=cast\n"
     ]
    },
    {
     "name": "stderr",
     "output_type": "stream",
     "text": [
      "/Users/elenatorro/.local/share/virtualenvs/notebooks-EjoTTmKj/lib/python3.7/site-packages/urllib3/connectionpool.py:986: InsecureRequestWarning: Unverified HTTPS request is being made to host 'guiadocente.udc.es'. Adding certificate verification is strongly advised. See: https://urllib3.readthedocs.io/en/latest/advanced-usage.html#ssl-warnings\n",
      "  InsecureRequestWarning,\n",
      "/Users/elenatorro/.local/share/virtualenvs/notebooks-EjoTTmKj/lib/python3.7/site-packages/urllib3/connectionpool.py:986: InsecureRequestWarning: Unverified HTTPS request is being made to host 'guiadocente.udc.es'. Adding certificate verification is strongly advised. See: https://urllib3.readthedocs.io/en/latest/advanced-usage.html#ssl-warnings\n",
      "  InsecureRequestWarning,\n"
     ]
    },
    {
     "name": "stdout",
     "output_type": "stream",
     "text": [
      "https://adendasgadu.udc.es/614G01019.pdf\n",
      "/es/subject/614G01V01/614G01020/2019\n",
      "https://guiadocente.udc.es/guia_docent/index.php?centre=614&ensenyament=614G01&assignatura=614G01020&any_academic=2019_20&idioma=cast\n"
     ]
    },
    {
     "name": "stderr",
     "output_type": "stream",
     "text": [
      "/Users/elenatorro/.local/share/virtualenvs/notebooks-EjoTTmKj/lib/python3.7/site-packages/urllib3/connectionpool.py:986: InsecureRequestWarning: Unverified HTTPS request is being made to host 'guiadocente.udc.es'. Adding certificate verification is strongly advised. See: https://urllib3.readthedocs.io/en/latest/advanced-usage.html#ssl-warnings\n",
      "  InsecureRequestWarning,\n",
      "/Users/elenatorro/.local/share/virtualenvs/notebooks-EjoTTmKj/lib/python3.7/site-packages/urllib3/connectionpool.py:986: InsecureRequestWarning: Unverified HTTPS request is being made to host 'guiadocente.udc.es'. Adding certificate verification is strongly advised. See: https://urllib3.readthedocs.io/en/latest/advanced-usage.html#ssl-warnings\n",
      "  InsecureRequestWarning,\n"
     ]
    },
    {
     "name": "stdout",
     "output_type": "stream",
     "text": [
      "https://adendasgadu.udc.es/614G01020.pdf\n",
      "/es/subject/614G01V01/614G01021/2019\n",
      "https://guiadocente.udc.es/guia_docent/index.php?centre=614&ensenyament=614G01&assignatura=614G01021&any_academic=2019_20&idioma=cast\n"
     ]
    },
    {
     "name": "stderr",
     "output_type": "stream",
     "text": [
      "/Users/elenatorro/.local/share/virtualenvs/notebooks-EjoTTmKj/lib/python3.7/site-packages/urllib3/connectionpool.py:986: InsecureRequestWarning: Unverified HTTPS request is being made to host 'guiadocente.udc.es'. Adding certificate verification is strongly advised. See: https://urllib3.readthedocs.io/en/latest/advanced-usage.html#ssl-warnings\n",
      "  InsecureRequestWarning,\n",
      "/Users/elenatorro/.local/share/virtualenvs/notebooks-EjoTTmKj/lib/python3.7/site-packages/urllib3/connectionpool.py:986: InsecureRequestWarning: Unverified HTTPS request is being made to host 'guiadocente.udc.es'. Adding certificate verification is strongly advised. See: https://urllib3.readthedocs.io/en/latest/advanced-usage.html#ssl-warnings\n",
      "  InsecureRequestWarning,\n"
     ]
    },
    {
     "name": "stdout",
     "output_type": "stream",
     "text": [
      "/es/subject/614G01V01/614G01022/2019\n",
      "https://guiadocente.udc.es/guia_docent/index.php?centre=614&ensenyament=614G01&assignatura=614G01022&any_academic=2019_20&idioma=cast\n"
     ]
    },
    {
     "name": "stderr",
     "output_type": "stream",
     "text": [
      "/Users/elenatorro/.local/share/virtualenvs/notebooks-EjoTTmKj/lib/python3.7/site-packages/urllib3/connectionpool.py:986: InsecureRequestWarning: Unverified HTTPS request is being made to host 'guiadocente.udc.es'. Adding certificate verification is strongly advised. See: https://urllib3.readthedocs.io/en/latest/advanced-usage.html#ssl-warnings\n",
      "  InsecureRequestWarning,\n",
      "/Users/elenatorro/.local/share/virtualenvs/notebooks-EjoTTmKj/lib/python3.7/site-packages/urllib3/connectionpool.py:986: InsecureRequestWarning: Unverified HTTPS request is being made to host 'guiadocente.udc.es'. Adding certificate verification is strongly advised. See: https://urllib3.readthedocs.io/en/latest/advanced-usage.html#ssl-warnings\n",
      "  InsecureRequestWarning,\n"
     ]
    },
    {
     "name": "stdout",
     "output_type": "stream",
     "text": [
      "/es/subject/614G01V01/614G01023/2019\n",
      "https://guiadocente.udc.es/guia_docent/index.php?centre=614&ensenyament=614G01&assignatura=614G01023&any_academic=2019_20&idioma=cast\n"
     ]
    },
    {
     "name": "stderr",
     "output_type": "stream",
     "text": [
      "/Users/elenatorro/.local/share/virtualenvs/notebooks-EjoTTmKj/lib/python3.7/site-packages/urllib3/connectionpool.py:986: InsecureRequestWarning: Unverified HTTPS request is being made to host 'guiadocente.udc.es'. Adding certificate verification is strongly advised. See: https://urllib3.readthedocs.io/en/latest/advanced-usage.html#ssl-warnings\n",
      "  InsecureRequestWarning,\n",
      "/Users/elenatorro/.local/share/virtualenvs/notebooks-EjoTTmKj/lib/python3.7/site-packages/urllib3/connectionpool.py:986: InsecureRequestWarning: Unverified HTTPS request is being made to host 'guiadocente.udc.es'. Adding certificate verification is strongly advised. See: https://urllib3.readthedocs.io/en/latest/advanced-usage.html#ssl-warnings\n",
      "  InsecureRequestWarning,\n"
     ]
    },
    {
     "name": "stdout",
     "output_type": "stream",
     "text": [
      "/es/subject/614G01V01/614G01024/2019\n",
      "https://guiadocente.udc.es/guia_docent/index.php?centre=614&ensenyament=614G01&assignatura=614G01024&any_academic=2019_20&idioma=cast\n"
     ]
    },
    {
     "name": "stderr",
     "output_type": "stream",
     "text": [
      "/Users/elenatorro/.local/share/virtualenvs/notebooks-EjoTTmKj/lib/python3.7/site-packages/urllib3/connectionpool.py:986: InsecureRequestWarning: Unverified HTTPS request is being made to host 'guiadocente.udc.es'. Adding certificate verification is strongly advised. See: https://urllib3.readthedocs.io/en/latest/advanced-usage.html#ssl-warnings\n",
      "  InsecureRequestWarning,\n",
      "/Users/elenatorro/.local/share/virtualenvs/notebooks-EjoTTmKj/lib/python3.7/site-packages/urllib3/connectionpool.py:986: InsecureRequestWarning: Unverified HTTPS request is being made to host 'guiadocente.udc.es'. Adding certificate verification is strongly advised. See: https://urllib3.readthedocs.io/en/latest/advanced-usage.html#ssl-warnings\n",
      "  InsecureRequestWarning,\n"
     ]
    },
    {
     "name": "stdout",
     "output_type": "stream",
     "text": [
      "/es/subject/614G01V01/614G01025/2019\n",
      "https://guiadocente.udc.es/guia_docent/index.php?centre=614&ensenyament=614G01&assignatura=614G01025&any_academic=2019_20&idioma=cast\n"
     ]
    },
    {
     "name": "stderr",
     "output_type": "stream",
     "text": [
      "/Users/elenatorro/.local/share/virtualenvs/notebooks-EjoTTmKj/lib/python3.7/site-packages/urllib3/connectionpool.py:986: InsecureRequestWarning: Unverified HTTPS request is being made to host 'guiadocente.udc.es'. Adding certificate verification is strongly advised. See: https://urllib3.readthedocs.io/en/latest/advanced-usage.html#ssl-warnings\n",
      "  InsecureRequestWarning,\n",
      "/Users/elenatorro/.local/share/virtualenvs/notebooks-EjoTTmKj/lib/python3.7/site-packages/urllib3/connectionpool.py:986: InsecureRequestWarning: Unverified HTTPS request is being made to host 'guiadocente.udc.es'. Adding certificate verification is strongly advised. See: https://urllib3.readthedocs.io/en/latest/advanced-usage.html#ssl-warnings\n",
      "  InsecureRequestWarning,\n"
     ]
    },
    {
     "name": "stdout",
     "output_type": "stream",
     "text": [
      "/es/subject/614G01V01/614G01026/2019\n",
      "https://guiadocente.udc.es/guia_docent/index.php?centre=614&ensenyament=614G01&assignatura=614G01026&any_academic=2019_20&idioma=cast\n"
     ]
    },
    {
     "name": "stderr",
     "output_type": "stream",
     "text": [
      "/Users/elenatorro/.local/share/virtualenvs/notebooks-EjoTTmKj/lib/python3.7/site-packages/urllib3/connectionpool.py:986: InsecureRequestWarning: Unverified HTTPS request is being made to host 'guiadocente.udc.es'. Adding certificate verification is strongly advised. See: https://urllib3.readthedocs.io/en/latest/advanced-usage.html#ssl-warnings\n",
      "  InsecureRequestWarning,\n",
      "/Users/elenatorro/.local/share/virtualenvs/notebooks-EjoTTmKj/lib/python3.7/site-packages/urllib3/connectionpool.py:986: InsecureRequestWarning: Unverified HTTPS request is being made to host 'guiadocente.udc.es'. Adding certificate verification is strongly advised. See: https://urllib3.readthedocs.io/en/latest/advanced-usage.html#ssl-warnings\n",
      "  InsecureRequestWarning,\n"
     ]
    },
    {
     "name": "stdout",
     "output_type": "stream",
     "text": [
      "https://adendasgadu.udc.es/614G01026.pdf\n",
      "/es/subject/614G01V01/614G01027/2019\n",
      "https://guiadocente.udc.es/guia_docent/index.php?centre=614&ensenyament=614G01&assignatura=614G01027&any_academic=2019_20&idioma=cast\n"
     ]
    },
    {
     "name": "stderr",
     "output_type": "stream",
     "text": [
      "/Users/elenatorro/.local/share/virtualenvs/notebooks-EjoTTmKj/lib/python3.7/site-packages/urllib3/connectionpool.py:986: InsecureRequestWarning: Unverified HTTPS request is being made to host 'guiadocente.udc.es'. Adding certificate verification is strongly advised. See: https://urllib3.readthedocs.io/en/latest/advanced-usage.html#ssl-warnings\n",
      "  InsecureRequestWarning,\n",
      "/Users/elenatorro/.local/share/virtualenvs/notebooks-EjoTTmKj/lib/python3.7/site-packages/urllib3/connectionpool.py:986: InsecureRequestWarning: Unverified HTTPS request is being made to host 'guiadocente.udc.es'. Adding certificate verification is strongly advised. See: https://urllib3.readthedocs.io/en/latest/advanced-usage.html#ssl-warnings\n",
      "  InsecureRequestWarning,\n"
     ]
    },
    {
     "name": "stdout",
     "output_type": "stream",
     "text": [
      "https://adendasgadu.udc.es/614G01027.pdf\n",
      "/es/subject/614G01V01/614G01028/2019\n",
      "https://guiadocente.udc.es/guia_docent/index.php?centre=614&ensenyament=614G01&assignatura=614G01028&any_academic=2019_20&idioma=cast\n"
     ]
    },
    {
     "name": "stderr",
     "output_type": "stream",
     "text": [
      "/Users/elenatorro/.local/share/virtualenvs/notebooks-EjoTTmKj/lib/python3.7/site-packages/urllib3/connectionpool.py:986: InsecureRequestWarning: Unverified HTTPS request is being made to host 'guiadocente.udc.es'. Adding certificate verification is strongly advised. See: https://urllib3.readthedocs.io/en/latest/advanced-usage.html#ssl-warnings\n",
      "  InsecureRequestWarning,\n",
      "/Users/elenatorro/.local/share/virtualenvs/notebooks-EjoTTmKj/lib/python3.7/site-packages/urllib3/connectionpool.py:986: InsecureRequestWarning: Unverified HTTPS request is being made to host 'guiadocente.udc.es'. Adding certificate verification is strongly advised. See: https://urllib3.readthedocs.io/en/latest/advanced-usage.html#ssl-warnings\n",
      "  InsecureRequestWarning,\n"
     ]
    },
    {
     "name": "stdout",
     "output_type": "stream",
     "text": [
      "https://adendasgadu.udc.es/614G01028.pdf\n",
      "/es/subject/614G01V01/614G01029/2019\n",
      "https://guiadocente.udc.es/guia_docent/index.php?centre=614&ensenyament=614G01&assignatura=614G01029&any_academic=2019_20&idioma=cast\n"
     ]
    },
    {
     "name": "stderr",
     "output_type": "stream",
     "text": [
      "/Users/elenatorro/.local/share/virtualenvs/notebooks-EjoTTmKj/lib/python3.7/site-packages/urllib3/connectionpool.py:986: InsecureRequestWarning: Unverified HTTPS request is being made to host 'guiadocente.udc.es'. Adding certificate verification is strongly advised. See: https://urllib3.readthedocs.io/en/latest/advanced-usage.html#ssl-warnings\n",
      "  InsecureRequestWarning,\n",
      "/Users/elenatorro/.local/share/virtualenvs/notebooks-EjoTTmKj/lib/python3.7/site-packages/urllib3/connectionpool.py:986: InsecureRequestWarning: Unverified HTTPS request is being made to host 'guiadocente.udc.es'. Adding certificate verification is strongly advised. See: https://urllib3.readthedocs.io/en/latest/advanced-usage.html#ssl-warnings\n",
      "  InsecureRequestWarning,\n"
     ]
    },
    {
     "name": "stdout",
     "output_type": "stream",
     "text": [
      "https://adendasgadu.udc.es/614G01029.pdf\n",
      "/es/subject/614G01V01/614G01030/2019\n",
      "https://guiadocente.udc.es/guia_docent/index.php?centre=614&ensenyament=614G01&assignatura=614G01030&any_academic=2019_20&idioma=cast\n"
     ]
    },
    {
     "name": "stderr",
     "output_type": "stream",
     "text": [
      "/Users/elenatorro/.local/share/virtualenvs/notebooks-EjoTTmKj/lib/python3.7/site-packages/urllib3/connectionpool.py:986: InsecureRequestWarning: Unverified HTTPS request is being made to host 'guiadocente.udc.es'. Adding certificate verification is strongly advised. See: https://urllib3.readthedocs.io/en/latest/advanced-usage.html#ssl-warnings\n",
      "  InsecureRequestWarning,\n",
      "/Users/elenatorro/.local/share/virtualenvs/notebooks-EjoTTmKj/lib/python3.7/site-packages/urllib3/connectionpool.py:986: InsecureRequestWarning: Unverified HTTPS request is being made to host 'guiadocente.udc.es'. Adding certificate verification is strongly advised. See: https://urllib3.readthedocs.io/en/latest/advanced-usage.html#ssl-warnings\n",
      "  InsecureRequestWarning,\n"
     ]
    },
    {
     "name": "stdout",
     "output_type": "stream",
     "text": [
      "https://adendasgadu.udc.es/614G01030.pdf\n",
      "/es/subject/614G01V01/614G01031/2019\n",
      "https://guiadocente.udc.es/guia_docent/index.php?centre=614&ensenyament=614G01&assignatura=614G01031&any_academic=2019_20&idioma=cast\n"
     ]
    },
    {
     "name": "stderr",
     "output_type": "stream",
     "text": [
      "/Users/elenatorro/.local/share/virtualenvs/notebooks-EjoTTmKj/lib/python3.7/site-packages/urllib3/connectionpool.py:986: InsecureRequestWarning: Unverified HTTPS request is being made to host 'guiadocente.udc.es'. Adding certificate verification is strongly advised. See: https://urllib3.readthedocs.io/en/latest/advanced-usage.html#ssl-warnings\n",
      "  InsecureRequestWarning,\n",
      "/Users/elenatorro/.local/share/virtualenvs/notebooks-EjoTTmKj/lib/python3.7/site-packages/urllib3/connectionpool.py:986: InsecureRequestWarning: Unverified HTTPS request is being made to host 'guiadocente.udc.es'. Adding certificate verification is strongly advised. See: https://urllib3.readthedocs.io/en/latest/advanced-usage.html#ssl-warnings\n",
      "  InsecureRequestWarning,\n"
     ]
    },
    {
     "name": "stdout",
     "output_type": "stream",
     "text": [
      "https://adendasgadu.udc.es/614G01031.pdf\n",
      "/es/subject/614G01V01/614G01032/2019\n",
      "https://guiadocente.udc.es/guia_docent/index.php?centre=614&ensenyament=614G01&assignatura=614G01032&any_academic=2019_20&idioma=cast\n"
     ]
    },
    {
     "name": "stderr",
     "output_type": "stream",
     "text": [
      "/Users/elenatorro/.local/share/virtualenvs/notebooks-EjoTTmKj/lib/python3.7/site-packages/urllib3/connectionpool.py:986: InsecureRequestWarning: Unverified HTTPS request is being made to host 'guiadocente.udc.es'. Adding certificate verification is strongly advised. See: https://urllib3.readthedocs.io/en/latest/advanced-usage.html#ssl-warnings\n",
      "  InsecureRequestWarning,\n",
      "/Users/elenatorro/.local/share/virtualenvs/notebooks-EjoTTmKj/lib/python3.7/site-packages/urllib3/connectionpool.py:986: InsecureRequestWarning: Unverified HTTPS request is being made to host 'guiadocente.udc.es'. Adding certificate verification is strongly advised. See: https://urllib3.readthedocs.io/en/latest/advanced-usage.html#ssl-warnings\n",
      "  InsecureRequestWarning,\n"
     ]
    },
    {
     "name": "stdout",
     "output_type": "stream",
     "text": [
      "https://adendasgadu.udc.es/614G01032.pdf\n",
      "/es/subject/614G01V01/614G01033/2019\n",
      "https://guiadocente.udc.es/guia_docent/index.php?centre=614&ensenyament=614G01&assignatura=614G01033&any_academic=2019_20&idioma=cast\n"
     ]
    },
    {
     "name": "stderr",
     "output_type": "stream",
     "text": [
      "/Users/elenatorro/.local/share/virtualenvs/notebooks-EjoTTmKj/lib/python3.7/site-packages/urllib3/connectionpool.py:986: InsecureRequestWarning: Unverified HTTPS request is being made to host 'guiadocente.udc.es'. Adding certificate verification is strongly advised. See: https://urllib3.readthedocs.io/en/latest/advanced-usage.html#ssl-warnings\n",
      "  InsecureRequestWarning,\n",
      "/Users/elenatorro/.local/share/virtualenvs/notebooks-EjoTTmKj/lib/python3.7/site-packages/urllib3/connectionpool.py:986: InsecureRequestWarning: Unverified HTTPS request is being made to host 'guiadocente.udc.es'. Adding certificate verification is strongly advised. See: https://urllib3.readthedocs.io/en/latest/advanced-usage.html#ssl-warnings\n",
      "  InsecureRequestWarning,\n"
     ]
    },
    {
     "name": "stdout",
     "output_type": "stream",
     "text": [
      "https://adendasgadu.udc.es/614G01033.pdf\n",
      "/es/subject/614G01V01/614G01034/2019\n",
      "https://guiadocente.udc.es/guia_docent/index.php?centre=614&ensenyament=614G01&assignatura=614G01034&any_academic=2019_20&idioma=cast\n"
     ]
    },
    {
     "name": "stderr",
     "output_type": "stream",
     "text": [
      "/Users/elenatorro/.local/share/virtualenvs/notebooks-EjoTTmKj/lib/python3.7/site-packages/urllib3/connectionpool.py:986: InsecureRequestWarning: Unverified HTTPS request is being made to host 'guiadocente.udc.es'. Adding certificate verification is strongly advised. See: https://urllib3.readthedocs.io/en/latest/advanced-usage.html#ssl-warnings\n",
      "  InsecureRequestWarning,\n",
      "/Users/elenatorro/.local/share/virtualenvs/notebooks-EjoTTmKj/lib/python3.7/site-packages/urllib3/connectionpool.py:986: InsecureRequestWarning: Unverified HTTPS request is being made to host 'guiadocente.udc.es'. Adding certificate verification is strongly advised. See: https://urllib3.readthedocs.io/en/latest/advanced-usage.html#ssl-warnings\n",
      "  InsecureRequestWarning,\n"
     ]
    },
    {
     "name": "stdout",
     "output_type": "stream",
     "text": [
      "https://adendasgadu.udc.es/614G01034.pdf\n",
      "/es/subject/614G01V01/614G01035/2019\n",
      "https://guiadocente.udc.es/guia_docent/index.php?centre=614&ensenyament=614G01&assignatura=614G01035&any_academic=2019_20&idioma=cast\n"
     ]
    },
    {
     "name": "stderr",
     "output_type": "stream",
     "text": [
      "/Users/elenatorro/.local/share/virtualenvs/notebooks-EjoTTmKj/lib/python3.7/site-packages/urllib3/connectionpool.py:986: InsecureRequestWarning: Unverified HTTPS request is being made to host 'guiadocente.udc.es'. Adding certificate verification is strongly advised. See: https://urllib3.readthedocs.io/en/latest/advanced-usage.html#ssl-warnings\n",
      "  InsecureRequestWarning,\n",
      "/Users/elenatorro/.local/share/virtualenvs/notebooks-EjoTTmKj/lib/python3.7/site-packages/urllib3/connectionpool.py:986: InsecureRequestWarning: Unverified HTTPS request is being made to host 'guiadocente.udc.es'. Adding certificate verification is strongly advised. See: https://urllib3.readthedocs.io/en/latest/advanced-usage.html#ssl-warnings\n",
      "  InsecureRequestWarning,\n"
     ]
    },
    {
     "name": "stdout",
     "output_type": "stream",
     "text": [
      "https://adendasgadu.udc.es/614G01035.pdf\n",
      "/es/subject/614G01V01/614G01036/2019\n",
      "https://guiadocente.udc.es/guia_docent/index.php?centre=614&ensenyament=614G01&assignatura=614G01036&any_academic=2019_20&idioma=cast\n"
     ]
    },
    {
     "name": "stderr",
     "output_type": "stream",
     "text": [
      "/Users/elenatorro/.local/share/virtualenvs/notebooks-EjoTTmKj/lib/python3.7/site-packages/urllib3/connectionpool.py:986: InsecureRequestWarning: Unverified HTTPS request is being made to host 'guiadocente.udc.es'. Adding certificate verification is strongly advised. See: https://urllib3.readthedocs.io/en/latest/advanced-usage.html#ssl-warnings\n",
      "  InsecureRequestWarning,\n",
      "/Users/elenatorro/.local/share/virtualenvs/notebooks-EjoTTmKj/lib/python3.7/site-packages/urllib3/connectionpool.py:986: InsecureRequestWarning: Unverified HTTPS request is being made to host 'guiadocente.udc.es'. Adding certificate verification is strongly advised. See: https://urllib3.readthedocs.io/en/latest/advanced-usage.html#ssl-warnings\n",
      "  InsecureRequestWarning,\n"
     ]
    },
    {
     "name": "stdout",
     "output_type": "stream",
     "text": [
      "https://adendasgadu.udc.es/614G01036.pdf\n",
      "/es/subject/614G01V01/614G01037/2019\n",
      "https://guiadocente.udc.es/guia_docent/index.php?centre=614&ensenyament=614G01&assignatura=614G01037&any_academic=2019_20&idioma=cast\n"
     ]
    },
    {
     "name": "stderr",
     "output_type": "stream",
     "text": [
      "/Users/elenatorro/.local/share/virtualenvs/notebooks-EjoTTmKj/lib/python3.7/site-packages/urllib3/connectionpool.py:986: InsecureRequestWarning: Unverified HTTPS request is being made to host 'guiadocente.udc.es'. Adding certificate verification is strongly advised. See: https://urllib3.readthedocs.io/en/latest/advanced-usage.html#ssl-warnings\n",
      "  InsecureRequestWarning,\n",
      "/Users/elenatorro/.local/share/virtualenvs/notebooks-EjoTTmKj/lib/python3.7/site-packages/urllib3/connectionpool.py:986: InsecureRequestWarning: Unverified HTTPS request is being made to host 'guiadocente.udc.es'. Adding certificate verification is strongly advised. See: https://urllib3.readthedocs.io/en/latest/advanced-usage.html#ssl-warnings\n",
      "  InsecureRequestWarning,\n"
     ]
    },
    {
     "name": "stdout",
     "output_type": "stream",
     "text": [
      "https://adendasgadu.udc.es/614G01037.pdf\n",
      "/es/subject/614G01V01/614G01038/2019\n",
      "https://guiadocente.udc.es/guia_docent/index.php?centre=614&ensenyament=614G01&assignatura=614G01038&any_academic=2019_20&idioma=cast\n"
     ]
    },
    {
     "name": "stderr",
     "output_type": "stream",
     "text": [
      "/Users/elenatorro/.local/share/virtualenvs/notebooks-EjoTTmKj/lib/python3.7/site-packages/urllib3/connectionpool.py:986: InsecureRequestWarning: Unverified HTTPS request is being made to host 'guiadocente.udc.es'. Adding certificate verification is strongly advised. See: https://urllib3.readthedocs.io/en/latest/advanced-usage.html#ssl-warnings\n",
      "  InsecureRequestWarning,\n",
      "/Users/elenatorro/.local/share/virtualenvs/notebooks-EjoTTmKj/lib/python3.7/site-packages/urllib3/connectionpool.py:986: InsecureRequestWarning: Unverified HTTPS request is being made to host 'guiadocente.udc.es'. Adding certificate verification is strongly advised. See: https://urllib3.readthedocs.io/en/latest/advanced-usage.html#ssl-warnings\n",
      "  InsecureRequestWarning,\n"
     ]
    },
    {
     "name": "stdout",
     "output_type": "stream",
     "text": [
      "https://adendasgadu.udc.es/614G01038.pdf\n",
      "/es/subject/614G01V01/614G01039/2019\n",
      "https://guiadocente.udc.es/guia_docent/index.php?centre=614&ensenyament=614G01&assignatura=614G01039&any_academic=2019_20&idioma=cast\n"
     ]
    },
    {
     "name": "stderr",
     "output_type": "stream",
     "text": [
      "/Users/elenatorro/.local/share/virtualenvs/notebooks-EjoTTmKj/lib/python3.7/site-packages/urllib3/connectionpool.py:986: InsecureRequestWarning: Unverified HTTPS request is being made to host 'guiadocente.udc.es'. Adding certificate verification is strongly advised. See: https://urllib3.readthedocs.io/en/latest/advanced-usage.html#ssl-warnings\n",
      "  InsecureRequestWarning,\n",
      "/Users/elenatorro/.local/share/virtualenvs/notebooks-EjoTTmKj/lib/python3.7/site-packages/urllib3/connectionpool.py:986: InsecureRequestWarning: Unverified HTTPS request is being made to host 'guiadocente.udc.es'. Adding certificate verification is strongly advised. See: https://urllib3.readthedocs.io/en/latest/advanced-usage.html#ssl-warnings\n",
      "  InsecureRequestWarning,\n"
     ]
    },
    {
     "name": "stdout",
     "output_type": "stream",
     "text": [
      "https://adendasgadu.udc.es/614G01039.pdf\n",
      "/es/subject/614G01V01/614G01040/2019\n",
      "https://guiadocente.udc.es/guia_docent/index.php?centre=614&ensenyament=614G01&assignatura=614G01040&any_academic=2019_20&idioma=cast\n"
     ]
    },
    {
     "name": "stderr",
     "output_type": "stream",
     "text": [
      "/Users/elenatorro/.local/share/virtualenvs/notebooks-EjoTTmKj/lib/python3.7/site-packages/urllib3/connectionpool.py:986: InsecureRequestWarning: Unverified HTTPS request is being made to host 'guiadocente.udc.es'. Adding certificate verification is strongly advised. See: https://urllib3.readthedocs.io/en/latest/advanced-usage.html#ssl-warnings\n",
      "  InsecureRequestWarning,\n",
      "/Users/elenatorro/.local/share/virtualenvs/notebooks-EjoTTmKj/lib/python3.7/site-packages/urllib3/connectionpool.py:986: InsecureRequestWarning: Unverified HTTPS request is being made to host 'guiadocente.udc.es'. Adding certificate verification is strongly advised. See: https://urllib3.readthedocs.io/en/latest/advanced-usage.html#ssl-warnings\n",
      "  InsecureRequestWarning,\n"
     ]
    },
    {
     "name": "stdout",
     "output_type": "stream",
     "text": [
      "https://adendasgadu.udc.es/614G01040.pdf\n",
      "/es/subject/614G01V01/614G01041/2019\n",
      "https://guiadocente.udc.es/guia_docent/index.php?centre=614&ensenyament=614G01&assignatura=614G01041&any_academic=2019_20&idioma=cast\n"
     ]
    },
    {
     "name": "stderr",
     "output_type": "stream",
     "text": [
      "/Users/elenatorro/.local/share/virtualenvs/notebooks-EjoTTmKj/lib/python3.7/site-packages/urllib3/connectionpool.py:986: InsecureRequestWarning: Unverified HTTPS request is being made to host 'guiadocente.udc.es'. Adding certificate verification is strongly advised. See: https://urllib3.readthedocs.io/en/latest/advanced-usage.html#ssl-warnings\n",
      "  InsecureRequestWarning,\n",
      "/Users/elenatorro/.local/share/virtualenvs/notebooks-EjoTTmKj/lib/python3.7/site-packages/urllib3/connectionpool.py:986: InsecureRequestWarning: Unverified HTTPS request is being made to host 'guiadocente.udc.es'. Adding certificate verification is strongly advised. See: https://urllib3.readthedocs.io/en/latest/advanced-usage.html#ssl-warnings\n",
      "  InsecureRequestWarning,\n"
     ]
    },
    {
     "name": "stdout",
     "output_type": "stream",
     "text": [
      "https://adendasgadu.udc.es/614G01041.pdf\n",
      "/es/subject/614G01V01/614G01042/2019\n",
      "https://guiadocente.udc.es/guia_docent/index.php?centre=614&ensenyament=614G01&assignatura=614G01042&any_academic=2019_20&idioma=cast\n"
     ]
    },
    {
     "name": "stderr",
     "output_type": "stream",
     "text": [
      "/Users/elenatorro/.local/share/virtualenvs/notebooks-EjoTTmKj/lib/python3.7/site-packages/urllib3/connectionpool.py:986: InsecureRequestWarning: Unverified HTTPS request is being made to host 'guiadocente.udc.es'. Adding certificate verification is strongly advised. See: https://urllib3.readthedocs.io/en/latest/advanced-usage.html#ssl-warnings\n",
      "  InsecureRequestWarning,\n",
      "/Users/elenatorro/.local/share/virtualenvs/notebooks-EjoTTmKj/lib/python3.7/site-packages/urllib3/connectionpool.py:986: InsecureRequestWarning: Unverified HTTPS request is being made to host 'guiadocente.udc.es'. Adding certificate verification is strongly advised. See: https://urllib3.readthedocs.io/en/latest/advanced-usage.html#ssl-warnings\n",
      "  InsecureRequestWarning,\n"
     ]
    },
    {
     "name": "stdout",
     "output_type": "stream",
     "text": [
      "https://adendasgadu.udc.es/614G01042.pdf\n",
      "/es/subject/614G01V01/614G01043/2019\n",
      "https://guiadocente.udc.es/guia_docent/index.php?centre=614&ensenyament=614G01&assignatura=614G01043&any_academic=2019_20&idioma=cast\n"
     ]
    },
    {
     "name": "stderr",
     "output_type": "stream",
     "text": [
      "/Users/elenatorro/.local/share/virtualenvs/notebooks-EjoTTmKj/lib/python3.7/site-packages/urllib3/connectionpool.py:986: InsecureRequestWarning: Unverified HTTPS request is being made to host 'guiadocente.udc.es'. Adding certificate verification is strongly advised. See: https://urllib3.readthedocs.io/en/latest/advanced-usage.html#ssl-warnings\n",
      "  InsecureRequestWarning,\n",
      "/Users/elenatorro/.local/share/virtualenvs/notebooks-EjoTTmKj/lib/python3.7/site-packages/urllib3/connectionpool.py:986: InsecureRequestWarning: Unverified HTTPS request is being made to host 'guiadocente.udc.es'. Adding certificate verification is strongly advised. See: https://urllib3.readthedocs.io/en/latest/advanced-usage.html#ssl-warnings\n",
      "  InsecureRequestWarning,\n"
     ]
    },
    {
     "name": "stdout",
     "output_type": "stream",
     "text": [
      "https://adendasgadu.udc.es/614G01043.pdf\n",
      "/es/subject/614G01V01/614G01044/2019\n",
      "https://guiadocente.udc.es/guia_docent/index.php?centre=614&ensenyament=614G01&assignatura=614G01044&any_academic=2019_20&idioma=cast\n"
     ]
    },
    {
     "name": "stderr",
     "output_type": "stream",
     "text": [
      "/Users/elenatorro/.local/share/virtualenvs/notebooks-EjoTTmKj/lib/python3.7/site-packages/urllib3/connectionpool.py:986: InsecureRequestWarning: Unverified HTTPS request is being made to host 'guiadocente.udc.es'. Adding certificate verification is strongly advised. See: https://urllib3.readthedocs.io/en/latest/advanced-usage.html#ssl-warnings\n",
      "  InsecureRequestWarning,\n",
      "/Users/elenatorro/.local/share/virtualenvs/notebooks-EjoTTmKj/lib/python3.7/site-packages/urllib3/connectionpool.py:986: InsecureRequestWarning: Unverified HTTPS request is being made to host 'guiadocente.udc.es'. Adding certificate verification is strongly advised. See: https://urllib3.readthedocs.io/en/latest/advanced-usage.html#ssl-warnings\n",
      "  InsecureRequestWarning,\n"
     ]
    },
    {
     "name": "stdout",
     "output_type": "stream",
     "text": [
      "https://adendasgadu.udc.es/614G01044.pdf\n",
      "/es/subject/614G01V01/614G01045/2019\n",
      "https://guiadocente.udc.es/guia_docent/index.php?centre=614&ensenyament=614G01&assignatura=614G01045&any_academic=2019_20&idioma=cast\n"
     ]
    },
    {
     "name": "stderr",
     "output_type": "stream",
     "text": [
      "/Users/elenatorro/.local/share/virtualenvs/notebooks-EjoTTmKj/lib/python3.7/site-packages/urllib3/connectionpool.py:986: InsecureRequestWarning: Unverified HTTPS request is being made to host 'guiadocente.udc.es'. Adding certificate verification is strongly advised. See: https://urllib3.readthedocs.io/en/latest/advanced-usage.html#ssl-warnings\n",
      "  InsecureRequestWarning,\n",
      "/Users/elenatorro/.local/share/virtualenvs/notebooks-EjoTTmKj/lib/python3.7/site-packages/urllib3/connectionpool.py:986: InsecureRequestWarning: Unverified HTTPS request is being made to host 'guiadocente.udc.es'. Adding certificate verification is strongly advised. See: https://urllib3.readthedocs.io/en/latest/advanced-usage.html#ssl-warnings\n",
      "  InsecureRequestWarning,\n"
     ]
    },
    {
     "name": "stdout",
     "output_type": "stream",
     "text": [
      "https://adendasgadu.udc.es/614G01045.pdf\n",
      "/es/subject/614G01V01/614G01046/2019\n",
      "https://guiadocente.udc.es/guia_docent/index.php?centre=614&ensenyament=614G01&assignatura=614G01046&any_academic=2019_20&idioma=cast\n"
     ]
    },
    {
     "name": "stderr",
     "output_type": "stream",
     "text": [
      "/Users/elenatorro/.local/share/virtualenvs/notebooks-EjoTTmKj/lib/python3.7/site-packages/urllib3/connectionpool.py:986: InsecureRequestWarning: Unverified HTTPS request is being made to host 'guiadocente.udc.es'. Adding certificate verification is strongly advised. See: https://urllib3.readthedocs.io/en/latest/advanced-usage.html#ssl-warnings\n",
      "  InsecureRequestWarning,\n",
      "/Users/elenatorro/.local/share/virtualenvs/notebooks-EjoTTmKj/lib/python3.7/site-packages/urllib3/connectionpool.py:986: InsecureRequestWarning: Unverified HTTPS request is being made to host 'guiadocente.udc.es'. Adding certificate verification is strongly advised. See: https://urllib3.readthedocs.io/en/latest/advanced-usage.html#ssl-warnings\n",
      "  InsecureRequestWarning,\n"
     ]
    },
    {
     "name": "stdout",
     "output_type": "stream",
     "text": [
      "https://adendasgadu.udc.es/614G01046.pdf\n",
      "/es/subject/614G01V01/614G01047/2019\n",
      "https://guiadocente.udc.es/guia_docent/index.php?centre=614&ensenyament=614G01&assignatura=614G01047&any_academic=2019_20&idioma=cast\n"
     ]
    },
    {
     "name": "stderr",
     "output_type": "stream",
     "text": [
      "/Users/elenatorro/.local/share/virtualenvs/notebooks-EjoTTmKj/lib/python3.7/site-packages/urllib3/connectionpool.py:986: InsecureRequestWarning: Unverified HTTPS request is being made to host 'guiadocente.udc.es'. Adding certificate verification is strongly advised. See: https://urllib3.readthedocs.io/en/latest/advanced-usage.html#ssl-warnings\n",
      "  InsecureRequestWarning,\n",
      "/Users/elenatorro/.local/share/virtualenvs/notebooks-EjoTTmKj/lib/python3.7/site-packages/urllib3/connectionpool.py:986: InsecureRequestWarning: Unverified HTTPS request is being made to host 'guiadocente.udc.es'. Adding certificate verification is strongly advised. See: https://urllib3.readthedocs.io/en/latest/advanced-usage.html#ssl-warnings\n",
      "  InsecureRequestWarning,\n"
     ]
    },
    {
     "name": "stdout",
     "output_type": "stream",
     "text": [
      "https://adendasgadu.udc.es/614G01047.pdf\n",
      "/es/subject/614G01V01/614G01048/2019\n",
      "https://guiadocente.udc.es/guia_docent/index.php?centre=614&ensenyament=614G01&assignatura=614G01048&any_academic=2019_20&idioma=cast\n"
     ]
    },
    {
     "name": "stderr",
     "output_type": "stream",
     "text": [
      "/Users/elenatorro/.local/share/virtualenvs/notebooks-EjoTTmKj/lib/python3.7/site-packages/urllib3/connectionpool.py:986: InsecureRequestWarning: Unverified HTTPS request is being made to host 'guiadocente.udc.es'. Adding certificate verification is strongly advised. See: https://urllib3.readthedocs.io/en/latest/advanced-usage.html#ssl-warnings\n",
      "  InsecureRequestWarning,\n",
      "/Users/elenatorro/.local/share/virtualenvs/notebooks-EjoTTmKj/lib/python3.7/site-packages/urllib3/connectionpool.py:986: InsecureRequestWarning: Unverified HTTPS request is being made to host 'guiadocente.udc.es'. Adding certificate verification is strongly advised. See: https://urllib3.readthedocs.io/en/latest/advanced-usage.html#ssl-warnings\n",
      "  InsecureRequestWarning,\n"
     ]
    },
    {
     "name": "stdout",
     "output_type": "stream",
     "text": [
      "https://adendasgadu.udc.es/614G01048.pdf\n",
      "/es/subject/614G01V01/614G01049/2019\n",
      "https://guiadocente.udc.es/guia_docent/index.php?centre=614&ensenyament=614G01&assignatura=614G01049&any_academic=2019_20&idioma=cast\n"
     ]
    },
    {
     "name": "stderr",
     "output_type": "stream",
     "text": [
      "/Users/elenatorro/.local/share/virtualenvs/notebooks-EjoTTmKj/lib/python3.7/site-packages/urllib3/connectionpool.py:986: InsecureRequestWarning: Unverified HTTPS request is being made to host 'guiadocente.udc.es'. Adding certificate verification is strongly advised. See: https://urllib3.readthedocs.io/en/latest/advanced-usage.html#ssl-warnings\n",
      "  InsecureRequestWarning,\n",
      "/Users/elenatorro/.local/share/virtualenvs/notebooks-EjoTTmKj/lib/python3.7/site-packages/urllib3/connectionpool.py:986: InsecureRequestWarning: Unverified HTTPS request is being made to host 'guiadocente.udc.es'. Adding certificate verification is strongly advised. See: https://urllib3.readthedocs.io/en/latest/advanced-usage.html#ssl-warnings\n",
      "  InsecureRequestWarning,\n"
     ]
    },
    {
     "name": "stdout",
     "output_type": "stream",
     "text": [
      "https://adendasgadu.udc.es/614G01049.pdf\n",
      "/es/subject/614G01V01/614G01050/2019\n",
      "https://guiadocente.udc.es/guia_docent/index.php?centre=614&ensenyament=614G01&assignatura=614G01050&any_academic=2019_20&idioma=cast\n"
     ]
    },
    {
     "name": "stderr",
     "output_type": "stream",
     "text": [
      "/Users/elenatorro/.local/share/virtualenvs/notebooks-EjoTTmKj/lib/python3.7/site-packages/urllib3/connectionpool.py:986: InsecureRequestWarning: Unverified HTTPS request is being made to host 'guiadocente.udc.es'. Adding certificate verification is strongly advised. See: https://urllib3.readthedocs.io/en/latest/advanced-usage.html#ssl-warnings\n",
      "  InsecureRequestWarning,\n",
      "/Users/elenatorro/.local/share/virtualenvs/notebooks-EjoTTmKj/lib/python3.7/site-packages/urllib3/connectionpool.py:986: InsecureRequestWarning: Unverified HTTPS request is being made to host 'guiadocente.udc.es'. Adding certificate verification is strongly advised. See: https://urllib3.readthedocs.io/en/latest/advanced-usage.html#ssl-warnings\n",
      "  InsecureRequestWarning,\n"
     ]
    },
    {
     "name": "stdout",
     "output_type": "stream",
     "text": [
      "https://adendasgadu.udc.es/614G01050.pdf\n",
      "/es/subject/614G01V01/614G01051/2019\n",
      "https://guiadocente.udc.es/guia_docent/index.php?centre=614&ensenyament=614G01&assignatura=614G01051&any_academic=2019_20&idioma=cast\n"
     ]
    },
    {
     "name": "stderr",
     "output_type": "stream",
     "text": [
      "/Users/elenatorro/.local/share/virtualenvs/notebooks-EjoTTmKj/lib/python3.7/site-packages/urllib3/connectionpool.py:986: InsecureRequestWarning: Unverified HTTPS request is being made to host 'guiadocente.udc.es'. Adding certificate verification is strongly advised. See: https://urllib3.readthedocs.io/en/latest/advanced-usage.html#ssl-warnings\n",
      "  InsecureRequestWarning,\n",
      "/Users/elenatorro/.local/share/virtualenvs/notebooks-EjoTTmKj/lib/python3.7/site-packages/urllib3/connectionpool.py:986: InsecureRequestWarning: Unverified HTTPS request is being made to host 'guiadocente.udc.es'. Adding certificate verification is strongly advised. See: https://urllib3.readthedocs.io/en/latest/advanced-usage.html#ssl-warnings\n",
      "  InsecureRequestWarning,\n"
     ]
    },
    {
     "name": "stdout",
     "output_type": "stream",
     "text": [
      "/es/subject/614G01V01/614G01052/2019\n",
      "https://guiadocente.udc.es/guia_docent/index.php?centre=614&ensenyament=614G01&assignatura=614G01052&any_academic=2019_20&idioma=cast\n"
     ]
    },
    {
     "name": "stderr",
     "output_type": "stream",
     "text": [
      "/Users/elenatorro/.local/share/virtualenvs/notebooks-EjoTTmKj/lib/python3.7/site-packages/urllib3/connectionpool.py:986: InsecureRequestWarning: Unverified HTTPS request is being made to host 'guiadocente.udc.es'. Adding certificate verification is strongly advised. See: https://urllib3.readthedocs.io/en/latest/advanced-usage.html#ssl-warnings\n",
      "  InsecureRequestWarning,\n",
      "/Users/elenatorro/.local/share/virtualenvs/notebooks-EjoTTmKj/lib/python3.7/site-packages/urllib3/connectionpool.py:986: InsecureRequestWarning: Unverified HTTPS request is being made to host 'guiadocente.udc.es'. Adding certificate verification is strongly advised. See: https://urllib3.readthedocs.io/en/latest/advanced-usage.html#ssl-warnings\n",
      "  InsecureRequestWarning,\n"
     ]
    },
    {
     "name": "stdout",
     "output_type": "stream",
     "text": [
      "https://adendasgadu.udc.es/614G01052.pdf\n",
      "/es/subject/614G01V01/614G01053/2019\n",
      "https://guiadocente.udc.es/guia_docent/index.php?centre=614&ensenyament=614G01&assignatura=614G01053&any_academic=2019_20&idioma=cast\n"
     ]
    },
    {
     "name": "stderr",
     "output_type": "stream",
     "text": [
      "/Users/elenatorro/.local/share/virtualenvs/notebooks-EjoTTmKj/lib/python3.7/site-packages/urllib3/connectionpool.py:986: InsecureRequestWarning: Unverified HTTPS request is being made to host 'guiadocente.udc.es'. Adding certificate verification is strongly advised. See: https://urllib3.readthedocs.io/en/latest/advanced-usage.html#ssl-warnings\n",
      "  InsecureRequestWarning,\n",
      "/Users/elenatorro/.local/share/virtualenvs/notebooks-EjoTTmKj/lib/python3.7/site-packages/urllib3/connectionpool.py:986: InsecureRequestWarning: Unverified HTTPS request is being made to host 'guiadocente.udc.es'. Adding certificate verification is strongly advised. See: https://urllib3.readthedocs.io/en/latest/advanced-usage.html#ssl-warnings\n",
      "  InsecureRequestWarning,\n"
     ]
    },
    {
     "name": "stdout",
     "output_type": "stream",
     "text": [
      "https://adendasgadu.udc.es/614G01053.pdf\n",
      "/es/subject/614G01V01/614G01054/2019\n",
      "https://guiadocente.udc.es/guia_docent/index.php?centre=614&ensenyament=614G01&assignatura=614G01054&any_academic=2019_20&idioma=cast\n"
     ]
    },
    {
     "name": "stderr",
     "output_type": "stream",
     "text": [
      "/Users/elenatorro/.local/share/virtualenvs/notebooks-EjoTTmKj/lib/python3.7/site-packages/urllib3/connectionpool.py:986: InsecureRequestWarning: Unverified HTTPS request is being made to host 'guiadocente.udc.es'. Adding certificate verification is strongly advised. See: https://urllib3.readthedocs.io/en/latest/advanced-usage.html#ssl-warnings\n",
      "  InsecureRequestWarning,\n",
      "/Users/elenatorro/.local/share/virtualenvs/notebooks-EjoTTmKj/lib/python3.7/site-packages/urllib3/connectionpool.py:986: InsecureRequestWarning: Unverified HTTPS request is being made to host 'guiadocente.udc.es'. Adding certificate verification is strongly advised. See: https://urllib3.readthedocs.io/en/latest/advanced-usage.html#ssl-warnings\n",
      "  InsecureRequestWarning,\n"
     ]
    },
    {
     "name": "stdout",
     "output_type": "stream",
     "text": [
      "/es/subject/614G01V01/614G01057/2019\n",
      "https://guiadocente.udc.es/guia_docent/index.php?centre=614&ensenyament=614G01&assignatura=614G01057&any_academic=2019_20&idioma=cast\n"
     ]
    },
    {
     "name": "stderr",
     "output_type": "stream",
     "text": [
      "/Users/elenatorro/.local/share/virtualenvs/notebooks-EjoTTmKj/lib/python3.7/site-packages/urllib3/connectionpool.py:986: InsecureRequestWarning: Unverified HTTPS request is being made to host 'guiadocente.udc.es'. Adding certificate verification is strongly advised. See: https://urllib3.readthedocs.io/en/latest/advanced-usage.html#ssl-warnings\n",
      "  InsecureRequestWarning,\n",
      "/Users/elenatorro/.local/share/virtualenvs/notebooks-EjoTTmKj/lib/python3.7/site-packages/urllib3/connectionpool.py:986: InsecureRequestWarning: Unverified HTTPS request is being made to host 'guiadocente.udc.es'. Adding certificate verification is strongly advised. See: https://urllib3.readthedocs.io/en/latest/advanced-usage.html#ssl-warnings\n",
      "  InsecureRequestWarning,\n"
     ]
    },
    {
     "name": "stdout",
     "output_type": "stream",
     "text": [
      "/es/subject/614G01V01/614G01058/2019\n",
      "https://guiadocente.udc.es/guia_docent/index.php?centre=614&ensenyament=614G01&assignatura=614G01058&any_academic=2019_20&idioma=cast\n"
     ]
    },
    {
     "name": "stderr",
     "output_type": "stream",
     "text": [
      "/Users/elenatorro/.local/share/virtualenvs/notebooks-EjoTTmKj/lib/python3.7/site-packages/urllib3/connectionpool.py:986: InsecureRequestWarning: Unverified HTTPS request is being made to host 'guiadocente.udc.es'. Adding certificate verification is strongly advised. See: https://urllib3.readthedocs.io/en/latest/advanced-usage.html#ssl-warnings\n",
      "  InsecureRequestWarning,\n",
      "/Users/elenatorro/.local/share/virtualenvs/notebooks-EjoTTmKj/lib/python3.7/site-packages/urllib3/connectionpool.py:986: InsecureRequestWarning: Unverified HTTPS request is being made to host 'guiadocente.udc.es'. Adding certificate verification is strongly advised. See: https://urllib3.readthedocs.io/en/latest/advanced-usage.html#ssl-warnings\n",
      "  InsecureRequestWarning,\n"
     ]
    },
    {
     "name": "stdout",
     "output_type": "stream",
     "text": [
      "https://adendasgadu.udc.es/614G01058.pdf\n",
      "/es/subject/614G01V01/614G01059/2019\n",
      "https://guiadocente.udc.es/guia_docent/index.php?centre=614&ensenyament=614G01&assignatura=614G01059&any_academic=2019_20&idioma=cast\n"
     ]
    },
    {
     "name": "stderr",
     "output_type": "stream",
     "text": [
      "/Users/elenatorro/.local/share/virtualenvs/notebooks-EjoTTmKj/lib/python3.7/site-packages/urllib3/connectionpool.py:986: InsecureRequestWarning: Unverified HTTPS request is being made to host 'guiadocente.udc.es'. Adding certificate verification is strongly advised. See: https://urllib3.readthedocs.io/en/latest/advanced-usage.html#ssl-warnings\n",
      "  InsecureRequestWarning,\n",
      "/Users/elenatorro/.local/share/virtualenvs/notebooks-EjoTTmKj/lib/python3.7/site-packages/urllib3/connectionpool.py:986: InsecureRequestWarning: Unverified HTTPS request is being made to host 'guiadocente.udc.es'. Adding certificate verification is strongly advised. See: https://urllib3.readthedocs.io/en/latest/advanced-usage.html#ssl-warnings\n",
      "  InsecureRequestWarning,\n"
     ]
    },
    {
     "name": "stdout",
     "output_type": "stream",
     "text": [
      "https://adendasgadu.udc.es/614G01059.pdf\n",
      "/es/subject/614G01V01/614G01060/2019\n",
      "https://guiadocente.udc.es/guia_docent/index.php?centre=614&ensenyament=614G01&assignatura=614G01060&any_academic=2019_20&idioma=cast\n"
     ]
    },
    {
     "name": "stderr",
     "output_type": "stream",
     "text": [
      "/Users/elenatorro/.local/share/virtualenvs/notebooks-EjoTTmKj/lib/python3.7/site-packages/urllib3/connectionpool.py:986: InsecureRequestWarning: Unverified HTTPS request is being made to host 'guiadocente.udc.es'. Adding certificate verification is strongly advised. See: https://urllib3.readthedocs.io/en/latest/advanced-usage.html#ssl-warnings\n",
      "  InsecureRequestWarning,\n",
      "/Users/elenatorro/.local/share/virtualenvs/notebooks-EjoTTmKj/lib/python3.7/site-packages/urllib3/connectionpool.py:986: InsecureRequestWarning: Unverified HTTPS request is being made to host 'guiadocente.udc.es'. Adding certificate verification is strongly advised. See: https://urllib3.readthedocs.io/en/latest/advanced-usage.html#ssl-warnings\n",
      "  InsecureRequestWarning,\n"
     ]
    },
    {
     "name": "stdout",
     "output_type": "stream",
     "text": [
      "https://adendasgadu.udc.es/614G01060.pdf\n",
      "/es/subject/614G01V01/614G01061/2019\n",
      "https://guiadocente.udc.es/guia_docent/index.php?centre=614&ensenyament=614G01&assignatura=614G01061&any_academic=2019_20&idioma=cast\n"
     ]
    },
    {
     "name": "stderr",
     "output_type": "stream",
     "text": [
      "/Users/elenatorro/.local/share/virtualenvs/notebooks-EjoTTmKj/lib/python3.7/site-packages/urllib3/connectionpool.py:986: InsecureRequestWarning: Unverified HTTPS request is being made to host 'guiadocente.udc.es'. Adding certificate verification is strongly advised. See: https://urllib3.readthedocs.io/en/latest/advanced-usage.html#ssl-warnings\n",
      "  InsecureRequestWarning,\n",
      "/Users/elenatorro/.local/share/virtualenvs/notebooks-EjoTTmKj/lib/python3.7/site-packages/urllib3/connectionpool.py:986: InsecureRequestWarning: Unverified HTTPS request is being made to host 'guiadocente.udc.es'. Adding certificate verification is strongly advised. See: https://urllib3.readthedocs.io/en/latest/advanced-usage.html#ssl-warnings\n",
      "  InsecureRequestWarning,\n"
     ]
    },
    {
     "name": "stdout",
     "output_type": "stream",
     "text": [
      "/es/subject/614G01V01/614G01064/2019\n",
      "https://guiadocente.udc.es/guia_docent/index.php?centre=614&ensenyament=614G01&assignatura=614G01064&any_academic=2019_20&idioma=cast\n"
     ]
    },
    {
     "name": "stderr",
     "output_type": "stream",
     "text": [
      "/Users/elenatorro/.local/share/virtualenvs/notebooks-EjoTTmKj/lib/python3.7/site-packages/urllib3/connectionpool.py:986: InsecureRequestWarning: Unverified HTTPS request is being made to host 'guiadocente.udc.es'. Adding certificate verification is strongly advised. See: https://urllib3.readthedocs.io/en/latest/advanced-usage.html#ssl-warnings\n",
      "  InsecureRequestWarning,\n",
      "/Users/elenatorro/.local/share/virtualenvs/notebooks-EjoTTmKj/lib/python3.7/site-packages/urllib3/connectionpool.py:986: InsecureRequestWarning: Unverified HTTPS request is being made to host 'guiadocente.udc.es'. Adding certificate verification is strongly advised. See: https://urllib3.readthedocs.io/en/latest/advanced-usage.html#ssl-warnings\n",
      "  InsecureRequestWarning,\n"
     ]
    },
    {
     "name": "stdout",
     "output_type": "stream",
     "text": [
      "https://adendasgadu.udc.es/614G01064.pdf\n",
      "/es/subject/614G01V01/614G01065/2019\n",
      "https://guiadocente.udc.es/guia_docent/index.php?centre=614&ensenyament=614G01&assignatura=614G01065&any_academic=2019_20&idioma=cast\n"
     ]
    },
    {
     "name": "stderr",
     "output_type": "stream",
     "text": [
      "/Users/elenatorro/.local/share/virtualenvs/notebooks-EjoTTmKj/lib/python3.7/site-packages/urllib3/connectionpool.py:986: InsecureRequestWarning: Unverified HTTPS request is being made to host 'guiadocente.udc.es'. Adding certificate verification is strongly advised. See: https://urllib3.readthedocs.io/en/latest/advanced-usage.html#ssl-warnings\n",
      "  InsecureRequestWarning,\n",
      "/Users/elenatorro/.local/share/virtualenvs/notebooks-EjoTTmKj/lib/python3.7/site-packages/urllib3/connectionpool.py:986: InsecureRequestWarning: Unverified HTTPS request is being made to host 'guiadocente.udc.es'. Adding certificate verification is strongly advised. See: https://urllib3.readthedocs.io/en/latest/advanced-usage.html#ssl-warnings\n",
      "  InsecureRequestWarning,\n"
     ]
    },
    {
     "name": "stdout",
     "output_type": "stream",
     "text": [
      "https://adendasgadu.udc.es/614G01065.pdf\n",
      "/es/subject/614G01V01/614G01066/2019\n",
      "https://guiadocente.udc.es/guia_docent/index.php?centre=614&ensenyament=614G01&assignatura=614G01066&any_academic=2019_20&idioma=cast\n"
     ]
    },
    {
     "name": "stderr",
     "output_type": "stream",
     "text": [
      "/Users/elenatorro/.local/share/virtualenvs/notebooks-EjoTTmKj/lib/python3.7/site-packages/urllib3/connectionpool.py:986: InsecureRequestWarning: Unverified HTTPS request is being made to host 'guiadocente.udc.es'. Adding certificate verification is strongly advised. See: https://urllib3.readthedocs.io/en/latest/advanced-usage.html#ssl-warnings\n",
      "  InsecureRequestWarning,\n",
      "/Users/elenatorro/.local/share/virtualenvs/notebooks-EjoTTmKj/lib/python3.7/site-packages/urllib3/connectionpool.py:986: InsecureRequestWarning: Unverified HTTPS request is being made to host 'guiadocente.udc.es'. Adding certificate verification is strongly advised. See: https://urllib3.readthedocs.io/en/latest/advanced-usage.html#ssl-warnings\n",
      "  InsecureRequestWarning,\n"
     ]
    },
    {
     "name": "stdout",
     "output_type": "stream",
     "text": [
      "https://adendasgadu.udc.es/614G01066.pdf\n",
      "/es/subject/614G01V01/614G01067/2019\n",
      "https://guiadocente.udc.es/guia_docent/index.php?centre=614&ensenyament=614G01&assignatura=614G01067&any_academic=2019_20&idioma=cast\n"
     ]
    },
    {
     "name": "stderr",
     "output_type": "stream",
     "text": [
      "/Users/elenatorro/.local/share/virtualenvs/notebooks-EjoTTmKj/lib/python3.7/site-packages/urllib3/connectionpool.py:986: InsecureRequestWarning: Unverified HTTPS request is being made to host 'guiadocente.udc.es'. Adding certificate verification is strongly advised. See: https://urllib3.readthedocs.io/en/latest/advanced-usage.html#ssl-warnings\n",
      "  InsecureRequestWarning,\n",
      "/Users/elenatorro/.local/share/virtualenvs/notebooks-EjoTTmKj/lib/python3.7/site-packages/urllib3/connectionpool.py:986: InsecureRequestWarning: Unverified HTTPS request is being made to host 'guiadocente.udc.es'. Adding certificate verification is strongly advised. See: https://urllib3.readthedocs.io/en/latest/advanced-usage.html#ssl-warnings\n",
      "  InsecureRequestWarning,\n"
     ]
    },
    {
     "name": "stdout",
     "output_type": "stream",
     "text": [
      "https://adendasgadu.udc.es/614G01067.pdf\n",
      "/es/subject/614G01V01/614G01068/2019\n",
      "https://guiadocente.udc.es/guia_docent/index.php?centre=614&ensenyament=614G01&assignatura=614G01068&any_academic=2019_20&idioma=cast\n"
     ]
    },
    {
     "name": "stderr",
     "output_type": "stream",
     "text": [
      "/Users/elenatorro/.local/share/virtualenvs/notebooks-EjoTTmKj/lib/python3.7/site-packages/urllib3/connectionpool.py:986: InsecureRequestWarning: Unverified HTTPS request is being made to host 'guiadocente.udc.es'. Adding certificate verification is strongly advised. See: https://urllib3.readthedocs.io/en/latest/advanced-usage.html#ssl-warnings\n",
      "  InsecureRequestWarning,\n",
      "/Users/elenatorro/.local/share/virtualenvs/notebooks-EjoTTmKj/lib/python3.7/site-packages/urllib3/connectionpool.py:986: InsecureRequestWarning: Unverified HTTPS request is being made to host 'guiadocente.udc.es'. Adding certificate verification is strongly advised. See: https://urllib3.readthedocs.io/en/latest/advanced-usage.html#ssl-warnings\n",
      "  InsecureRequestWarning,\n"
     ]
    },
    {
     "name": "stdout",
     "output_type": "stream",
     "text": [
      "/es/subject/614G01V01/614G01072/2019\n",
      "https://guiadocente.udc.es/guia_docent/index.php?centre=614&ensenyament=614G01&assignatura=614G01072&any_academic=2019_20&idioma=cast\n"
     ]
    },
    {
     "name": "stderr",
     "output_type": "stream",
     "text": [
      "/Users/elenatorro/.local/share/virtualenvs/notebooks-EjoTTmKj/lib/python3.7/site-packages/urllib3/connectionpool.py:986: InsecureRequestWarning: Unverified HTTPS request is being made to host 'guiadocente.udc.es'. Adding certificate verification is strongly advised. See: https://urllib3.readthedocs.io/en/latest/advanced-usage.html#ssl-warnings\n",
      "  InsecureRequestWarning,\n",
      "/Users/elenatorro/.local/share/virtualenvs/notebooks-EjoTTmKj/lib/python3.7/site-packages/urllib3/connectionpool.py:986: InsecureRequestWarning: Unverified HTTPS request is being made to host 'guiadocente.udc.es'. Adding certificate verification is strongly advised. See: https://urllib3.readthedocs.io/en/latest/advanced-usage.html#ssl-warnings\n",
      "  InsecureRequestWarning,\n"
     ]
    },
    {
     "name": "stdout",
     "output_type": "stream",
     "text": [
      "https://adendasgadu.udc.es/614G01072.pdf\n",
      "/es/subject/614G01V01/614G01073/2019\n",
      "https://guiadocente.udc.es/guia_docent/index.php?centre=614&ensenyament=614G01&assignatura=614G01073&any_academic=2019_20&idioma=cast\n"
     ]
    },
    {
     "name": "stderr",
     "output_type": "stream",
     "text": [
      "/Users/elenatorro/.local/share/virtualenvs/notebooks-EjoTTmKj/lib/python3.7/site-packages/urllib3/connectionpool.py:986: InsecureRequestWarning: Unverified HTTPS request is being made to host 'guiadocente.udc.es'. Adding certificate verification is strongly advised. See: https://urllib3.readthedocs.io/en/latest/advanced-usage.html#ssl-warnings\n",
      "  InsecureRequestWarning,\n",
      "/Users/elenatorro/.local/share/virtualenvs/notebooks-EjoTTmKj/lib/python3.7/site-packages/urllib3/connectionpool.py:986: InsecureRequestWarning: Unverified HTTPS request is being made to host 'guiadocente.udc.es'. Adding certificate verification is strongly advised. See: https://urllib3.readthedocs.io/en/latest/advanced-usage.html#ssl-warnings\n",
      "  InsecureRequestWarning,\n"
     ]
    },
    {
     "name": "stdout",
     "output_type": "stream",
     "text": [
      "https://adendasgadu.udc.es/614G01073.pdf\n",
      "/es/subject/614G01V01/614G01074/2019\n",
      "https://guiadocente.udc.es/guia_docent/index.php?centre=614&ensenyament=614G01&assignatura=614G01074&any_academic=2019_20&idioma=cast\n"
     ]
    },
    {
     "name": "stderr",
     "output_type": "stream",
     "text": [
      "/Users/elenatorro/.local/share/virtualenvs/notebooks-EjoTTmKj/lib/python3.7/site-packages/urllib3/connectionpool.py:986: InsecureRequestWarning: Unverified HTTPS request is being made to host 'guiadocente.udc.es'. Adding certificate verification is strongly advised. See: https://urllib3.readthedocs.io/en/latest/advanced-usage.html#ssl-warnings\n",
      "  InsecureRequestWarning,\n",
      "/Users/elenatorro/.local/share/virtualenvs/notebooks-EjoTTmKj/lib/python3.7/site-packages/urllib3/connectionpool.py:986: InsecureRequestWarning: Unverified HTTPS request is being made to host 'guiadocente.udc.es'. Adding certificate verification is strongly advised. See: https://urllib3.readthedocs.io/en/latest/advanced-usage.html#ssl-warnings\n",
      "  InsecureRequestWarning,\n"
     ]
    },
    {
     "name": "stdout",
     "output_type": "stream",
     "text": [
      "https://adendasgadu.udc.es/614G01074.pdf\n",
      "/es/subject/614G01V01/614G01075/2019\n",
      "https://guiadocente.udc.es/guia_docent/index.php?centre=614&ensenyament=614G01&assignatura=614G01075&any_academic=2019_20&idioma=cast\n"
     ]
    },
    {
     "name": "stderr",
     "output_type": "stream",
     "text": [
      "/Users/elenatorro/.local/share/virtualenvs/notebooks-EjoTTmKj/lib/python3.7/site-packages/urllib3/connectionpool.py:986: InsecureRequestWarning: Unverified HTTPS request is being made to host 'guiadocente.udc.es'. Adding certificate verification is strongly advised. See: https://urllib3.readthedocs.io/en/latest/advanced-usage.html#ssl-warnings\n",
      "  InsecureRequestWarning,\n",
      "/Users/elenatorro/.local/share/virtualenvs/notebooks-EjoTTmKj/lib/python3.7/site-packages/urllib3/connectionpool.py:986: InsecureRequestWarning: Unverified HTTPS request is being made to host 'guiadocente.udc.es'. Adding certificate verification is strongly advised. See: https://urllib3.readthedocs.io/en/latest/advanced-usage.html#ssl-warnings\n",
      "  InsecureRequestWarning,\n"
     ]
    },
    {
     "name": "stdout",
     "output_type": "stream",
     "text": [
      "/es/subject/614G01V01/614G01079/2019\n",
      "https://guiadocente.udc.es/guia_docent/index.php?centre=614&ensenyament=614G01&assignatura=614G01079&any_academic=2019_20&idioma=cast\n"
     ]
    },
    {
     "name": "stderr",
     "output_type": "stream",
     "text": [
      "/Users/elenatorro/.local/share/virtualenvs/notebooks-EjoTTmKj/lib/python3.7/site-packages/urllib3/connectionpool.py:986: InsecureRequestWarning: Unverified HTTPS request is being made to host 'guiadocente.udc.es'. Adding certificate verification is strongly advised. See: https://urllib3.readthedocs.io/en/latest/advanced-usage.html#ssl-warnings\n",
      "  InsecureRequestWarning,\n",
      "/Users/elenatorro/.local/share/virtualenvs/notebooks-EjoTTmKj/lib/python3.7/site-packages/urllib3/connectionpool.py:986: InsecureRequestWarning: Unverified HTTPS request is being made to host 'guiadocente.udc.es'. Adding certificate verification is strongly advised. See: https://urllib3.readthedocs.io/en/latest/advanced-usage.html#ssl-warnings\n",
      "  InsecureRequestWarning,\n"
     ]
    },
    {
     "name": "stdout",
     "output_type": "stream",
     "text": [
      "/es/subject/614G01V01/614G01080/2019\n",
      "https://guiadocente.udc.es/guia_docent/index.php?centre=614&ensenyament=614G01&assignatura=614G01080&any_academic=2019_20&idioma=cast\n"
     ]
    },
    {
     "name": "stderr",
     "output_type": "stream",
     "text": [
      "/Users/elenatorro/.local/share/virtualenvs/notebooks-EjoTTmKj/lib/python3.7/site-packages/urllib3/connectionpool.py:986: InsecureRequestWarning: Unverified HTTPS request is being made to host 'guiadocente.udc.es'. Adding certificate verification is strongly advised. See: https://urllib3.readthedocs.io/en/latest/advanced-usage.html#ssl-warnings\n",
      "  InsecureRequestWarning,\n",
      "/Users/elenatorro/.local/share/virtualenvs/notebooks-EjoTTmKj/lib/python3.7/site-packages/urllib3/connectionpool.py:986: InsecureRequestWarning: Unverified HTTPS request is being made to host 'guiadocente.udc.es'. Adding certificate verification is strongly advised. See: https://urllib3.readthedocs.io/en/latest/advanced-usage.html#ssl-warnings\n",
      "  InsecureRequestWarning,\n"
     ]
    },
    {
     "name": "stdout",
     "output_type": "stream",
     "text": [
      "/es/subject/614G01V01/614G01081/2019\n",
      "https://guiadocente.udc.es/guia_docent/index.php?centre=614&ensenyament=614G01&assignatura=614G01081&any_academic=2019_20&idioma=cast\n"
     ]
    },
    {
     "name": "stderr",
     "output_type": "stream",
     "text": [
      "/Users/elenatorro/.local/share/virtualenvs/notebooks-EjoTTmKj/lib/python3.7/site-packages/urllib3/connectionpool.py:986: InsecureRequestWarning: Unverified HTTPS request is being made to host 'guiadocente.udc.es'. Adding certificate verification is strongly advised. See: https://urllib3.readthedocs.io/en/latest/advanced-usage.html#ssl-warnings\n",
      "  InsecureRequestWarning,\n",
      "/Users/elenatorro/.local/share/virtualenvs/notebooks-EjoTTmKj/lib/python3.7/site-packages/urllib3/connectionpool.py:986: InsecureRequestWarning: Unverified HTTPS request is being made to host 'guiadocente.udc.es'. Adding certificate verification is strongly advised. See: https://urllib3.readthedocs.io/en/latest/advanced-usage.html#ssl-warnings\n",
      "  InsecureRequestWarning,\n"
     ]
    },
    {
     "name": "stdout",
     "output_type": "stream",
     "text": [
      "https://adendasgadu.udc.es/614G01081.pdf\n",
      "/es/subject/614G01V01/614G01082/2019\n",
      "https://guiadocente.udc.es/guia_docent/index.php?centre=614&ensenyament=614G01&assignatura=614G01082&any_academic=2019_20&idioma=cast\n"
     ]
    },
    {
     "name": "stderr",
     "output_type": "stream",
     "text": [
      "/Users/elenatorro/.local/share/virtualenvs/notebooks-EjoTTmKj/lib/python3.7/site-packages/urllib3/connectionpool.py:986: InsecureRequestWarning: Unverified HTTPS request is being made to host 'guiadocente.udc.es'. Adding certificate verification is strongly advised. See: https://urllib3.readthedocs.io/en/latest/advanced-usage.html#ssl-warnings\n",
      "  InsecureRequestWarning,\n",
      "/Users/elenatorro/.local/share/virtualenvs/notebooks-EjoTTmKj/lib/python3.7/site-packages/urllib3/connectionpool.py:986: InsecureRequestWarning: Unverified HTTPS request is being made to host 'guiadocente.udc.es'. Adding certificate verification is strongly advised. See: https://urllib3.readthedocs.io/en/latest/advanced-usage.html#ssl-warnings\n",
      "  InsecureRequestWarning,\n"
     ]
    },
    {
     "name": "stdout",
     "output_type": "stream",
     "text": [
      "/es/subject/614G01V01/614G01123/2019\n",
      "/es/subject/614G01V01/614G01062/2019\n",
      "https://guiadocente.udc.es/guia_docent/index.php?centre=614&ensenyament=614G01&assignatura=614G01062&any_academic=2019_20&idioma=cast\n"
     ]
    },
    {
     "name": "stderr",
     "output_type": "stream",
     "text": [
      "/Users/elenatorro/.local/share/virtualenvs/notebooks-EjoTTmKj/lib/python3.7/site-packages/urllib3/connectionpool.py:986: InsecureRequestWarning: Unverified HTTPS request is being made to host 'guiadocente.udc.es'. Adding certificate verification is strongly advised. See: https://urllib3.readthedocs.io/en/latest/advanced-usage.html#ssl-warnings\n",
      "  InsecureRequestWarning,\n",
      "/Users/elenatorro/.local/share/virtualenvs/notebooks-EjoTTmKj/lib/python3.7/site-packages/urllib3/connectionpool.py:986: InsecureRequestWarning: Unverified HTTPS request is being made to host 'guiadocente.udc.es'. Adding certificate verification is strongly advised. See: https://urllib3.readthedocs.io/en/latest/advanced-usage.html#ssl-warnings\n",
      "  InsecureRequestWarning,\n"
     ]
    },
    {
     "name": "stdout",
     "output_type": "stream",
     "text": [
      "https://adendasgadu.udc.es/614G01062.pdf\n",
      "/es/subject/614G01V01/614G01087/2019\n",
      "https://guiadocente.udc.es/guia_docent/index.php?centre=614&ensenyament=614G01&assignatura=614G01087&any_academic=2019_20&idioma=cast\n"
     ]
    },
    {
     "name": "stderr",
     "output_type": "stream",
     "text": [
      "/Users/elenatorro/.local/share/virtualenvs/notebooks-EjoTTmKj/lib/python3.7/site-packages/urllib3/connectionpool.py:986: InsecureRequestWarning: Unverified HTTPS request is being made to host 'guiadocente.udc.es'. Adding certificate verification is strongly advised. See: https://urllib3.readthedocs.io/en/latest/advanced-usage.html#ssl-warnings\n",
      "  InsecureRequestWarning,\n",
      "/Users/elenatorro/.local/share/virtualenvs/notebooks-EjoTTmKj/lib/python3.7/site-packages/urllib3/connectionpool.py:986: InsecureRequestWarning: Unverified HTTPS request is being made to host 'guiadocente.udc.es'. Adding certificate verification is strongly advised. See: https://urllib3.readthedocs.io/en/latest/advanced-usage.html#ssl-warnings\n",
      "  InsecureRequestWarning,\n"
     ]
    },
    {
     "name": "stdout",
     "output_type": "stream",
     "text": [
      "https://adendasgadu.udc.es/614G01087.pdf\n",
      "/es/subject/614G01V01/614G01092/2019\n",
      "https://guiadocente.udc.es/guia_docent/index.php?centre=614&ensenyament=614G01&assignatura=614G01092&any_academic=2019_20&idioma=cast\n"
     ]
    },
    {
     "name": "stderr",
     "output_type": "stream",
     "text": [
      "/Users/elenatorro/.local/share/virtualenvs/notebooks-EjoTTmKj/lib/python3.7/site-packages/urllib3/connectionpool.py:986: InsecureRequestWarning: Unverified HTTPS request is being made to host 'guiadocente.udc.es'. Adding certificate verification is strongly advised. See: https://urllib3.readthedocs.io/en/latest/advanced-usage.html#ssl-warnings\n",
      "  InsecureRequestWarning,\n",
      "/Users/elenatorro/.local/share/virtualenvs/notebooks-EjoTTmKj/lib/python3.7/site-packages/urllib3/connectionpool.py:986: InsecureRequestWarning: Unverified HTTPS request is being made to host 'guiadocente.udc.es'. Adding certificate verification is strongly advised. See: https://urllib3.readthedocs.io/en/latest/advanced-usage.html#ssl-warnings\n",
      "  InsecureRequestWarning,\n"
     ]
    },
    {
     "name": "stdout",
     "output_type": "stream",
     "text": [
      "https://adendasgadu.udc.es/614G01092.pdf\n",
      "/es/subject/614G01V01/614G01093/2019\n",
      "https://guiadocente.udc.es/guia_docent/index.php?centre=614&ensenyament=614G01&assignatura=614G01093&any_academic=2019_20&idioma=cast\n"
     ]
    },
    {
     "name": "stderr",
     "output_type": "stream",
     "text": [
      "/Users/elenatorro/.local/share/virtualenvs/notebooks-EjoTTmKj/lib/python3.7/site-packages/urllib3/connectionpool.py:986: InsecureRequestWarning: Unverified HTTPS request is being made to host 'guiadocente.udc.es'. Adding certificate verification is strongly advised. See: https://urllib3.readthedocs.io/en/latest/advanced-usage.html#ssl-warnings\n",
      "  InsecureRequestWarning,\n",
      "/Users/elenatorro/.local/share/virtualenvs/notebooks-EjoTTmKj/lib/python3.7/site-packages/urllib3/connectionpool.py:986: InsecureRequestWarning: Unverified HTTPS request is being made to host 'guiadocente.udc.es'. Adding certificate verification is strongly advised. See: https://urllib3.readthedocs.io/en/latest/advanced-usage.html#ssl-warnings\n",
      "  InsecureRequestWarning,\n"
     ]
    },
    {
     "name": "stdout",
     "output_type": "stream",
     "text": [
      "https://adendasgadu.udc.es/614G01093.pdf\n",
      "/es/subject/614G01V01/614G01098/2019\n",
      "https://guiadocente.udc.es/guia_docent/index.php?centre=614&ensenyament=614G01&assignatura=614G01098&any_academic=2019_20&idioma=cast\n"
     ]
    },
    {
     "name": "stderr",
     "output_type": "stream",
     "text": [
      "/Users/elenatorro/.local/share/virtualenvs/notebooks-EjoTTmKj/lib/python3.7/site-packages/urllib3/connectionpool.py:986: InsecureRequestWarning: Unverified HTTPS request is being made to host 'guiadocente.udc.es'. Adding certificate verification is strongly advised. See: https://urllib3.readthedocs.io/en/latest/advanced-usage.html#ssl-warnings\n",
      "  InsecureRequestWarning,\n",
      "/Users/elenatorro/.local/share/virtualenvs/notebooks-EjoTTmKj/lib/python3.7/site-packages/urllib3/connectionpool.py:986: InsecureRequestWarning: Unverified HTTPS request is being made to host 'guiadocente.udc.es'. Adding certificate verification is strongly advised. See: https://urllib3.readthedocs.io/en/latest/advanced-usage.html#ssl-warnings\n",
      "  InsecureRequestWarning,\n"
     ]
    },
    {
     "name": "stdout",
     "output_type": "stream",
     "text": [
      "https://adendasgadu.udc.es/614G01098.pdf\n",
      "/es/subject/614G01V01/614G01099/2019\n",
      "https://guiadocente.udc.es/guia_docent/index.php?centre=614&ensenyament=614G01&assignatura=614G01099&any_academic=2019_20&idioma=cast\n"
     ]
    },
    {
     "name": "stderr",
     "output_type": "stream",
     "text": [
      "/Users/elenatorro/.local/share/virtualenvs/notebooks-EjoTTmKj/lib/python3.7/site-packages/urllib3/connectionpool.py:986: InsecureRequestWarning: Unverified HTTPS request is being made to host 'guiadocente.udc.es'. Adding certificate verification is strongly advised. See: https://urllib3.readthedocs.io/en/latest/advanced-usage.html#ssl-warnings\n",
      "  InsecureRequestWarning,\n",
      "/Users/elenatorro/.local/share/virtualenvs/notebooks-EjoTTmKj/lib/python3.7/site-packages/urllib3/connectionpool.py:986: InsecureRequestWarning: Unverified HTTPS request is being made to host 'guiadocente.udc.es'. Adding certificate verification is strongly advised. See: https://urllib3.readthedocs.io/en/latest/advanced-usage.html#ssl-warnings\n",
      "  InsecureRequestWarning,\n"
     ]
    },
    {
     "name": "stdout",
     "output_type": "stream",
     "text": [
      "https://adendasgadu.udc.es/614G01099.pdf\n",
      "/es/subject/614G01V01/614G01106/2019\n",
      "https://guiadocente.udc.es/guia_docent/index.php?centre=614&ensenyament=614G01&assignatura=614G01106&any_academic=2019_20&idioma=cast\n"
     ]
    },
    {
     "name": "stderr",
     "output_type": "stream",
     "text": [
      "/Users/elenatorro/.local/share/virtualenvs/notebooks-EjoTTmKj/lib/python3.7/site-packages/urllib3/connectionpool.py:986: InsecureRequestWarning: Unverified HTTPS request is being made to host 'guiadocente.udc.es'. Adding certificate verification is strongly advised. See: https://urllib3.readthedocs.io/en/latest/advanced-usage.html#ssl-warnings\n",
      "  InsecureRequestWarning,\n",
      "/Users/elenatorro/.local/share/virtualenvs/notebooks-EjoTTmKj/lib/python3.7/site-packages/urllib3/connectionpool.py:986: InsecureRequestWarning: Unverified HTTPS request is being made to host 'guiadocente.udc.es'. Adding certificate verification is strongly advised. See: https://urllib3.readthedocs.io/en/latest/advanced-usage.html#ssl-warnings\n",
      "  InsecureRequestWarning,\n"
     ]
    },
    {
     "name": "stdout",
     "output_type": "stream",
     "text": [
      "https://adendasgadu.udc.es/614G01106.pdf\n",
      "/es/subject/614G01V01/614G01107/2019\n",
      "https://guiadocente.udc.es/guia_docent/index.php?centre=614&ensenyament=614G01&assignatura=614G01107&any_academic=2019_20&idioma=cast\n"
     ]
    },
    {
     "name": "stderr",
     "output_type": "stream",
     "text": [
      "/Users/elenatorro/.local/share/virtualenvs/notebooks-EjoTTmKj/lib/python3.7/site-packages/urllib3/connectionpool.py:986: InsecureRequestWarning: Unverified HTTPS request is being made to host 'guiadocente.udc.es'. Adding certificate verification is strongly advised. See: https://urllib3.readthedocs.io/en/latest/advanced-usage.html#ssl-warnings\n",
      "  InsecureRequestWarning,\n",
      "/Users/elenatorro/.local/share/virtualenvs/notebooks-EjoTTmKj/lib/python3.7/site-packages/urllib3/connectionpool.py:986: InsecureRequestWarning: Unverified HTTPS request is being made to host 'guiadocente.udc.es'. Adding certificate verification is strongly advised. See: https://urllib3.readthedocs.io/en/latest/advanced-usage.html#ssl-warnings\n",
      "  InsecureRequestWarning,\n"
     ]
    },
    {
     "name": "stdout",
     "output_type": "stream",
     "text": [
      "https://adendasgadu.udc.es/614G01107.pdf\n",
      "/es/subject/614G01V01/614G01112/2019\n",
      "https://guiadocente.udc.es/guia_docent/index.php?centre=614&ensenyament=614G01&assignatura=614G01112&any_academic=2019_20&idioma=cast\n"
     ]
    },
    {
     "name": "stderr",
     "output_type": "stream",
     "text": [
      "/Users/elenatorro/.local/share/virtualenvs/notebooks-EjoTTmKj/lib/python3.7/site-packages/urllib3/connectionpool.py:986: InsecureRequestWarning: Unverified HTTPS request is being made to host 'guiadocente.udc.es'. Adding certificate verification is strongly advised. See: https://urllib3.readthedocs.io/en/latest/advanced-usage.html#ssl-warnings\n",
      "  InsecureRequestWarning,\n",
      "/Users/elenatorro/.local/share/virtualenvs/notebooks-EjoTTmKj/lib/python3.7/site-packages/urllib3/connectionpool.py:986: InsecureRequestWarning: Unverified HTTPS request is being made to host 'guiadocente.udc.es'. Adding certificate verification is strongly advised. See: https://urllib3.readthedocs.io/en/latest/advanced-usage.html#ssl-warnings\n",
      "  InsecureRequestWarning,\n"
     ]
    },
    {
     "name": "stdout",
     "output_type": "stream",
     "text": [
      "https://adendasgadu.udc.es/614G01112.pdf\n",
      "/es/subject/614G01V01/614G01113/2019\n",
      "https://guiadocente.udc.es/guia_docent/index.php?centre=614&ensenyament=614G01&assignatura=614G01113&any_academic=2019_20&idioma=cast\n"
     ]
    },
    {
     "name": "stderr",
     "output_type": "stream",
     "text": [
      "/Users/elenatorro/.local/share/virtualenvs/notebooks-EjoTTmKj/lib/python3.7/site-packages/urllib3/connectionpool.py:986: InsecureRequestWarning: Unverified HTTPS request is being made to host 'guiadocente.udc.es'. Adding certificate verification is strongly advised. See: https://urllib3.readthedocs.io/en/latest/advanced-usage.html#ssl-warnings\n",
      "  InsecureRequestWarning,\n",
      "/Users/elenatorro/.local/share/virtualenvs/notebooks-EjoTTmKj/lib/python3.7/site-packages/urllib3/connectionpool.py:986: InsecureRequestWarning: Unverified HTTPS request is being made to host 'guiadocente.udc.es'. Adding certificate verification is strongly advised. See: https://urllib3.readthedocs.io/en/latest/advanced-usage.html#ssl-warnings\n",
      "  InsecureRequestWarning,\n"
     ]
    },
    {
     "name": "stdout",
     "output_type": "stream",
     "text": [
      "https://adendasgadu.udc.es/614G01113.pdf\n",
      "/es/subject/614G01V01/614G01118/2019\n",
      "https://guiadocente.udc.es/guia_docent/index.php?centre=614&ensenyament=614G01&assignatura=614G01118&any_academic=2019_20&idioma=cast\n"
     ]
    },
    {
     "name": "stderr",
     "output_type": "stream",
     "text": [
      "/Users/elenatorro/.local/share/virtualenvs/notebooks-EjoTTmKj/lib/python3.7/site-packages/urllib3/connectionpool.py:986: InsecureRequestWarning: Unverified HTTPS request is being made to host 'guiadocente.udc.es'. Adding certificate verification is strongly advised. See: https://urllib3.readthedocs.io/en/latest/advanced-usage.html#ssl-warnings\n",
      "  InsecureRequestWarning,\n",
      "/Users/elenatorro/.local/share/virtualenvs/notebooks-EjoTTmKj/lib/python3.7/site-packages/urllib3/connectionpool.py:986: InsecureRequestWarning: Unverified HTTPS request is being made to host 'guiadocente.udc.es'. Adding certificate verification is strongly advised. See: https://urllib3.readthedocs.io/en/latest/advanced-usage.html#ssl-warnings\n",
      "  InsecureRequestWarning,\n"
     ]
    },
    {
     "name": "stdout",
     "output_type": "stream",
     "text": [
      "https://adendasgadu.udc.es/614G01118.pdf\n",
      "/es/subject/614G01V01/614G01120/2019\n",
      "https://guiadocente.udc.es/guia_docent/index.php?centre=614&ensenyament=614G01&assignatura=614G01120&any_academic=2019_20&idioma=cast\n"
     ]
    },
    {
     "name": "stderr",
     "output_type": "stream",
     "text": [
      "/Users/elenatorro/.local/share/virtualenvs/notebooks-EjoTTmKj/lib/python3.7/site-packages/urllib3/connectionpool.py:986: InsecureRequestWarning: Unverified HTTPS request is being made to host 'guiadocente.udc.es'. Adding certificate verification is strongly advised. See: https://urllib3.readthedocs.io/en/latest/advanced-usage.html#ssl-warnings\n",
      "  InsecureRequestWarning,\n"
     ]
    },
    {
     "name": "stdout",
     "output_type": "stream",
     "text": [
      "https://adendasgadu.udc.es/614G01120.pdf\n"
     ]
    },
    {
     "name": "stderr",
     "output_type": "stream",
     "text": [
      "/Users/elenatorro/.local/share/virtualenvs/notebooks-EjoTTmKj/lib/python3.7/site-packages/urllib3/connectionpool.py:986: InsecureRequestWarning: Unverified HTTPS request is being made to host 'guiadocente.udc.es'. Adding certificate verification is strongly advised. See: https://urllib3.readthedocs.io/en/latest/advanced-usage.html#ssl-warnings\n",
      "  InsecureRequestWarning,\n"
     ]
    }
   ],
   "source": [
    "url = 'https://estudos.udc.es/es/study/detail/614G01V01#plan-structure'\n",
    "\n",
    "get_subjects(url)"
   ]
  },
  {
   "cell_type": "code",
   "execution_count": 6,
   "metadata": {},
   "outputs": [
    {
     "data": {
      "text/plain": [
       "[{'code': '614G01001',\n",
       "  'name': 'Programación I',\n",
       "  'subject_type': 'Formación básica',\n",
       "  'num_credits': 6,\n",
       "  'period': 1,\n",
       "  'course': 1,\n",
       "  'language': 'Español, Gallego',\n",
       "  'content': '\\n\\n\\nTema\\nSubtema\\n\\n\\n1 CONCEPTOS BÁSICOS  \\n1.1 Algoritmos \\r\\n1.1.1 Representación de algoritmos \\n\\r\\n1.2 Programas \\r\\n1.2.1 Tipos de programas \\n\\r\\n1.3 Lenguajes de programación \\r\\n1.3.1 Una visión histórica \\r\\n1.3.2 Clasificación de los lenguajes \\r\\n1.3.3 Instrucciones más importantes \\r\\n1.3.4 Propiedades de los lenguajes \\n\\r\\n1.4 Traductores y Compiladores\\n\\r\\n1.5 Estructura de un programa \\n\\r\\n1.6 Elementos de un programa \\r\\n1.6.1 Símbolos predefinidos \\r\\n1.6.2 Símbolos especiales \\r\\n1.6.3 Identificadores \\r\\n1.6.4 Etiquetas \\r\\n1.6.5 Comentarios \\r\\n1.6.6 Directivas \\r\\n1.6.7 Constantes \\r\\n1.6.8 Números \\r\\n1.6.9 Cadenas de carácteres \\r\\n1.6.10 Variables: Declaración e iniciación\\r\\n1.6.11 Variables: Dirección de Memoria\\n\\r\\n1.7 Salida y Entrada \\r\\n1.7.1 Sentencias de salida \\r\\n1.7.2 Sentencias de entrada \\n\\r\\n1.8 Tipos de datos y operadores\\r\\n1.8.1 Tipos de datos \\r\\n1.8.2 Operadores \\r\\n1.8.3 Expresiones\\n\\n\\n\\n2 SENTENCIAS DE CONTROL \\n2.1 Secuencial\\n\\r\\n2.2 Alternativa\\r\\n2.2.1 La sentencia condicional simple\\r\\n2.2.2 La sentencia condicional múltiple\\n\\r\\n2.3 Repetitiva \\r\\n2.3.1 Introducción\\r\\n2.3.2 Variables asociadas a los bucles \\r\\n2.3.3 Funcionamento de los diferentes tipos de bucles \\r\\n2.3.4 Bucle FOR\\r\\n2.3.5 Equivalencia entre bucles\\r\\n2.3.6 Errores en los bucles \\r\\n2.3.7 Diseño de bucles  \\n\\n\\n3 ARQUITECTURA DE UN PROGRAMA \\n3.1 Procedimientos \\r\\n3.1 Funciones i Procedimientos \\r\\n3.1.1 Tipos de funciones y procedimientos\\r\\n3.1.2 Parámetros por valor y referencia \\r\\n3.1.3 Parámetros protegidos \\r\\n3.1.4 La pila de activación de procedimientos y funciones \\r\\n3.1.5 Variables globales y locales: Alcance \\r\\n3.1.6 Efectos laterales\\n\\r\\n3.2 Recursividad\\r\\n3.2.1 Naturaleza de la recursividad\\r\\n3.2.2 Recursión infinita \\n\\n\\n\\n4 ESTRUCTURAS SIMPLES DE DATOS   \\n4.1 Arrays y Matrices\\r\\n4.1.1 Tipo de dato ARRAY\\r\\n4.1.2 Declaración de un Array \\r\\n4.1.3 Arrays de más de una dimensión \\r\\n4.1.4 Operaciones con Arrays y Matrices\\n\\r\\n4.2  Registros\\r\\n4.2.1 Tipo de dato registro\\r\\n4.2.2 Operaciones con registros\\n\\r\\n4.3 Cadenas de caracteres\\r\\n4.3.1 Cadenas de longitud fija\\r\\n4.3.2 Cadenas de longitud variable\\n\\r\\n4.4 Operaciones básicas sobre Arrays\\r\\n4.4.1 Búsqueda\\r\\n4.4.2 Ordenación \\n\\n\\n5 ENTRADA / SALIDA \\n5.1 Ficheros\\r\\n5.2 Tipos\\r\\n5.3 Operaciones y modos de acceso\\r\\n5.4 Funciones y procedimientos predefinidos específicos \\n\\n',\n",
       "  'mention': '',\n",
       "  'url': 'https://guiadocente.udc.es/guia_docent/index.php?centre=614&ensenyament=614G01&assignatura=614G01001&any_academic=2019_20&idioma=cast&fitxa_apartat=3&idioma_assig=cast',\n",
       "  'bibliography': '\\n\\n\\nBásica\\n\\n\\n\\n               Kernighan, Brian W. Englewood Cliffs  (1988). The C Programming Language. New Jersey. Prentice Hall \\n               K.N. King (2008). C programming. A modern Approach. Second Edition..  \\n               James L. Antonakos , Kenneth C. Mansfield  (2004). Programación estructurada en C. Madrid. Prentice-Hall \\n               Luis Joyanes Aguilar, Ignacio Zahonero Martínez (2005). Programación en C metodología, algoritmos y estructura de datos. Madrid. McGraw-Hill \\n               José R. García-Bermejo Giner (2008). Programación estructurada en C. Pearson  \\n               Luis Joyanes Aguilar (2011). Fundamentos de programación : algoritmos, estructuras de datos y objetos. Madrid. McGraw-Hill\\n\\n\\n\\n\\n \\n\\n\\n\\nComplementária\\n\\n\\n\\n               Gabriela Márquez, Sonia Osorio, Noemí Olvera (2011). Introducción a la Programación Estructurada en C. Pearson \\n               Andrés Marzal, Isabel García (2017). Introducción a la Programación con C. Publicacions de la Universitat Jaume I. Servei de Comunicació i Publicacions \\n               Luis Joyanes Aguilar  (2002). Programación en C. libro de problemas. Madrid. McGraw-Hill\\n\\n\\n\\n\\n \\n\\n'},\n",
       " {'code': '614G01002',\n",
       "  'name': 'Informática Básica',\n",
       "  'subject_type': 'Formación básica',\n",
       "  'num_credits': 6,\n",
       "  'period': 1,\n",
       "  'course': 1,\n",
       "  'language': 'Español, Gallego',\n",
       "  'content': '\\n\\n\\nTema\\nSubtema\\n\\n\\nPrincipios de la arquitectura de computadores \\nRepresentación de la información\\r\\nHistoria del hardware computacional\\r\\nArquitectura de un computador \\n\\n\\nPrincipios de Sistemas de Gestión de Bases de Datos e Introducción a los Sistemas Operativos \\nIntroducción a los Sistemas Operativos\\r\\nIntroducción a los Sistemas de Gestión de Bases de Datos\\r\\nIntroducción al modelo relacional\\r\\nIntroducción al SQL \\n\\n\\nPrincipios de Redes de Comunicacións \\nRedes: Introducción a Redes de Comunicaciones. Cableado y Topologías. El modelo OSI.  Conceptos básicos de Ethernet. Conceptos básicos de TCP/IP. Configuración de dispositivos finales. Funcionalidad básica de dispositivos de red: Switches y Routers.\\n\\n\\n',\n",
       "  'mention': '',\n",
       "  'url': 'https://guiadocente.udc.es/guia_docent/index.php?centre=614&ensenyament=614G01&assignatura=614G01002&any_academic=2019_20&idioma=cast&fitxa_apartat=3&idioma_assig=cast',\n",
       "  'bibliography': '\\n\\n\\nBásica\\n\\n\\n\\n               Ernesto Ariganello (2009). Reces Cisco. Guía de Estudio para la Certificación CCNA Routing y Switching. RA-MA \\n               Vicente Trigo Aranda (2010). Del ábaco a Internet. Creaciones Copyright \\n               A. Silberschatz; H. Korth; S. Sudarshan (2006). Fundamentos de Bases de Datos. Mc Graw Hill  \\n               A. Silberschatz; H. Korth; S. Sudarshan (2011). Database System Concepts (6th ed). McGraw-Hill  \\n               Elmasri, R.; Navathe, S.  (2007). Fundamentos de Sistemas de Bases de Datos. Addison-Wesley \\n               Miles J. Murdocca; Vincent P. Heuring (2002). Principios de arquitectura de computadoras. Prentice-Hall \\n               Allen B. Tucker, Robert E. Noonan (2001). Programming Languages: Principles and Paradigms. Mc Graw Hill \\n               Carretero et al. (2007). Sistemas Operativos, una visión aplicada (2ª ed). Mc Graw Hill \\n               Andrew S. Tanenbaum (2009). Sistemas Operativos Modernos (3ª ed). Prentice-Hall \\n               Andrew S. Tanenbaum (2009). Modern Operating Systems (3rd ed). Pearson-Prentice Hall \\n               Wendell Odom (2013). CCENT/CCNA ICND1 100-101 Official Cert Guide. Cisco Press\\n\\n\\n\\n\\n \\n\\n\\n\\nComplementária\\n\\n\\n\\n               W. Stallings (2004). Comunicaciones y Redes de Computadores. Pearson - Prentice Hall \\n               Silberschatz, A.; Galvin, P.B.; Gagne, G. (2005). Fundamentos de los Sistemas Operativos (7ª ed). Mc Graw Hill \\n               M. Meyers (2009). Redes. Administración y mantenimiento. Anaya\\n\\n\\n\\n\\n \\n\\n'},\n",
       " {'code': '614G01003',\n",
       "  'name': 'Cálculo',\n",
       "  'subject_type': 'Formación básica',\n",
       "  'num_credits': 6,\n",
       "  'period': 1,\n",
       "  'course': 1,\n",
       "  'language': 'Español, Gallego',\n",
       "  'content': '\\n\\n\\nTema\\nSubtema\\n\\n\\nFunciones reales de una variable real \\n- Conjuntos de números\\r\\n- Funciones reales de variable real\\r\\n- Funciones elementales\\r\\n- Límite de una función en un punto\\r\\n- Continuidad\\r\\n- Método de bisección\\r\\n- Interpolación de Lagrange \\n\\n\\nCálculo diferencial de funciones reales de una variable real \\n- Derivabilidad\\r\\n- Derivada de funciones elementales\\r\\n- Método de Newton-Raphson\\r\\n- Extremos relativos y absolutos\\r\\n- Teoremas de cálculo diferencial\\r\\n- Aplicaciones inmediatas de la derivación\\r\\n- Derivadas sucesivas\\r\\n- Teorema de Taylor\\r\\n- Derivación implícita y logarítmica\\n\\n\\n\\nCálculo integral de funciones reales de una variable real \\n- La integral de Riemann\\r\\n- Métodos elementales para el cálculo de primitivas\\r\\n- Integrales impropias\\r\\n- Aplicaciones de la integral\\r\\n- Integración numérica\\r\\n- Introducción a las ecuaciones diferenciales \\n\\n',\n",
       "  'mention': '',\n",
       "  'url': 'https://guiadocente.udc.es/guia_docent/index.php?centre=614&ensenyament=614G01&assignatura=614G01003&any_academic=2019_20&idioma=cast&fitxa_apartat=3&idioma_assig=cast',\n",
       "  'bibliography': '\\n\\n\\nBásica\\n\\n\\n\\n               R.T. Smith, R.B. Minton (2002). Calculus (Second edition). McGraw-Hill \\n               J. Stewart (2001). Cálculo de una variable. Thomson Learning \\n               M.T. Iglesias Otero (2011). MatLab para Cálculo en una variable. Andavira\\n\\n\\n\\n\\n \\n\\n\\n\\nComplementária\\n\\n\\n\\n               J. de Burgos (2010). Test de cálculo infinitesimal : (enunciados, respuestas y justificación). Madrd : García-Maroto \\n               B.D. Hahn, D.T. Valentine (2007). Essential Matlab for Engineers and Scientistics (3th ed.) . B.H. \\n               S. Josa (1992). Cómo iniciarse en la resolución de integrales. Edunsa \\n               S. Lantarón Sánchez, B. Llanas Juárez (2010). Matlab y Matemática Computacional . Bellisco Ediciones \\n               R. Larson, R. Hostetler, B.H. Edwards (2010). Cálculo Esencial. Cengage Learning \\n               C. Neuhauser (2004). Matemáticas para Ciencias. Pearson \\n               A.M. Ramos del Olmo, J.M. Rey Cabezas (2017). Matemáticas básicas para el acceso a la universidad. Ediciones Pirámide, Colección Ciencia y Técnica\\n\\n\\n\\n\\nPágina con applets interactivos: dm.udc.es/elearningBlog existelimite (con ejercicios resueltos): www.existelimite.com \\n\\n'},\n",
       " {'code': '614G01004',\n",
       "  'name': 'Matemática Discreta',\n",
       "  'subject_type': 'Formación básica',\n",
       "  'num_credits': 6,\n",
       "  'period': 1,\n",
       "  'course': 1,\n",
       "  'language': 'Español, Gallego',\n",
       "  'content': '\\n\\n',\n",
       "  'mention': '',\n",
       "  'url': 'https://guiadocente.udc.es/guia_docent/index.php?centre=614&ensenyament=614G01&assignatura=614G01004&any_academic=2019_20&idioma=cast&fitxa_apartat=3&idioma_assig=cast',\n",
       "  'bibliography': '\\n\\n'},\n",
       " {'code': '614G01009',\n",
       "  'name': 'Administración y Gestión de Organizaciones',\n",
       "  'subject_type': 'Formación básica',\n",
       "  'num_credits': 6,\n",
       "  'period': 1,\n",
       "  'course': 1,\n",
       "  'language': 'Español, Gallego',\n",
       "  'content': '\\n\\n\\nTema\\nSubtema\\n\\n\\n1 La empresa y el empresario en la Sociedad Actual.\\n\\nLa organización y su entorno: Análisis Económico.\\r\\nLa empresa como organización: Tipos de Empresas.\\r\\nLos subsistemas de la empresa.\\r\\nConcepto y funciones del empresario.\\r\\nEl plan de empresa y el modelo de negocio. \\n\\n\\n2 El subsistema de Información Contable. \\n\\nConcepto y funciones del sistema de información contable.\\r\\nConceptos básicos de Contabilidad Financiera.\\r\\nEl proceso general de contabilidad.\\r\\nLa creación de valor en la empresa. \\n\\n\\n3 Análisis económico-financiero de la empresa. \\n\\nAnálisis económico de la empresa.\\r\\nAnálisis financiero de la empresa. \\n\\n\\n4 Fundamentos de análisis de las operaciones financieras. \\nConcepto de capital financiero.\\r\\nLeyes financieras clásicas.\\r\\nRentas financieras.\\n\\n\\n\\n5 El subsistema Financiero: La decisión de inversión. \\nConcepto de inversión.\\r\\nTipos de inversión.\\r\\nMetodos de evaluación financiera de una inversión. \\n\\n\\n6 El subsistema Financiero: La decisión de financiación. \\n\\nEl coste de las fuentes financieras.\\r\\nFuentes financieras a corto plazo.\\r\\nFuentes financieras a largo plazo. \\n\\n\\n7 El subsistema Productivo. Los costes en la empresa. \\n\\nEl sistema de producción de la empresa: Concepto y funciones.\\r\\nConceptos básicos de costes.\\r\\nMétodos de asignación de costes. \\n\\n\\n8 El subsistema Comercial. \\n\\nEl sistema comercial de la empresa: Concepto y funciones.\\r\\nDecisiones sobre producto, precio, promoción y distribución.\\n\\n\\n\\n9 El subsistema de Recursos Humanos.\\n\\nEl sistema de recursos humanos de la empresa: Concepto y funciones.\\r\\nLa dirección de recursos humanos.\\n\\n\\n\\n\\n10 El Subsistema de Información Empresarial. \\nLa información como activo empresarial.\\r\\nEl sistema de información empresarial: Concepto y funciones. \\r\\nLos sistemas de información en la estrategia empresarial.  \\n\\n',\n",
       "  'mention': '',\n",
       "  'url': 'https://guiadocente.udc.es/guia_docent/index.php?centre=614&ensenyament=614G01&assignatura=614G01009&any_academic=2019_20&idioma=cast&fitxa_apartat=3&idioma_assig=cast',\n",
       "  'bibliography': '\\n\\n\\nBásica\\n\\n\\n\\n               Suárez Suárez, A. (2001). Curso de Economía de la Empresa. Editorial Pirámide \\n               Bueno Campos, Eduardo (2004). Curso básico de Economía de la Empresa. Editorial Pirámide \\n               Amat Salas, Oriol (2008). Contabilidad y finanzas para no financieros. Ediciones Deusto \\n               Boedo Vilabella, Lucía (2009). Las fuentes de financiación y su coste: aspectos conceptuales y operativa financiera. Editorial Netbiblo \\n               Boedo Vilabella, Lucía (2010). Evaluación de un proyecto de inversión en entornos de certeza, riesgo e incertidumbre . Reprografía Noroeste\\n\\n\\n\\n\\n\\t\\t\\t\\tEn el desarrollo de los diferentes temas se utilizarán materiales realizados por los profesores de la asignatura y recursos en línea, como los ofrecidos en la web del IGAPE. Estos materiales y recursos serán incluidos en el Moodle oficial de la asignatura. \\n\\n\\n\\nComplementária\\n\\n\\n\\n               Suárez Suárez, A (2005). Decisiones óptimas de inversión y financiación empresarial. Editorial Pirámide \\n               Remirez Prados, José Antonio (2010). Como entender los datos de la prensa económica. Editorial ESIC \\n               Omeñaca García, Jesús (2008). Contabilidad General. Ediciones Deusto \\n               Laudon, K. (2008). Essentials of Management Information Systems. Prentice-Hall International \\n               Aguado, J.; Lacalle, M; Cepeda, I (2005). Lecciones básicas de economía. International  Thomson Publishing \\n               Blackstaff, Michael (2001). Business and Finance for It People. Springer-Verlag\\n\\n\\n\\n\\n \\n\\n'},\n",
       " {'code': '614G01005',\n",
       "  'name': 'Tecnología Electrónica',\n",
       "  'subject_type': 'Formación básica',\n",
       "  'num_credits': 6,\n",
       "  'period': 2,\n",
       "  'course': 1,\n",
       "  'language': 'Español, Gallego',\n",
       "  'content': '\\n\\n\\nTema\\nSubtema\\n\\n\\nTema 1. Circuitos eléctricos \\n1.1 Conceptos básicos de electricidad. Ley de Ohm.\\r\\n1.2 Fuentes de tensión y de corriente. Potencia.\\r\\n1.3 Circuitos eléctricos. Reglas de Kirchhoff.\\r\\n1.4 Teoremas de Circuitos. \\n\\n\\nTema 2. Carga y descarga del condensador. Amplificadores \\n2.1 Formas de onda. Valores fundamentales.\\r\\n2.2 Comportamiento de los parámetros del condensador en función del tiempo.\\r\\n2.3 Circuito R-C en el dominio del tiempo.\\r\\n2.4 Circuitos R-C integrador y diferenciador.\\r\\n2.5 Fundamentos de amplificadores. \\n\\n\\nTema 3. Diodos de unión p-n \\n3.1 Principios físicos de los dispositivos semiconductores.\\r\\n3.2 Unión p-n.\\r\\n3.3 Característica V-I del diodo. Modelos lineales del diodo.\\r\\n3.4 Diodos de avalancha. Diodos LED. Fotodiodos. \\n\\n\\nTema 4. El transistor\\n\\n4.1 El transistor unipolar MOSFET.\\r\\n4.2 Características V-I en fuente común.\\r\\n4.3 Regiones de funcionamiento y modelos equivalentes lineales.\\r\\n4.4 El transistor MOSFET en amplificación y en conmutación.  \\n\\n\\nTema 5. Familias lógicas\\n\\n5.1 Introducción. Características generales de los circuitos digitales.\\r\\n5.2 Inversor CMOS.\\r\\n5.3 Puertas CMOS.\\r\\n5.4 Familias CMOS. \\n\\n',\n",
       "  'mention': '',\n",
       "  'url': 'https://guiadocente.udc.es/guia_docent/index.php?centre=614&ensenyament=614G01&assignatura=614G01005&any_academic=2019_20&idioma=cast&fitxa_apartat=3&idioma_assig=cast',\n",
       "  'bibliography': '\\n\\n\\nBásica\\n\\n\\n\\n                (). . \\n\\n\\n\\n\\n\\nApuntes de la asignatura. Profesores de la asignatura.\\nCircuitos eléctricos. Schaum. J.A.Edminister. Ed. McGraw Hill.\\nElectrónica. Allan R. Hambley. Ed. Prentice Hall\\nElectronics. Allan R. Hambley. Ed. Prentice Hall \\n\\n\\n\\nComplementária\\n\\n\\n\\n\\n\\n\\nElectricidad Básica. Problemas Resueltos. Julio C. Brégains y Paula M. Castro. Ed. Starbook, ISBN 978-84-15457-25-1, 2012.Electrónica Básica. Problemas Resueltos. Julio C. Brégains y Paula M. Castro. Ed. Starbook, 2012.  Introducción al análisis de circuitos. Robert L. Boylestad. Ec. Prentice HallIntroducción al análisis de circuitos. Un enfoque sistémico. Donald E. Scott. Ed. McGraw Hill.Microelectrónica. Circuitos y sistemas analógicos y digitales. Jacob Millman. Ed. Hispano Europea.Circuitos microelectrónicos. Adel S. Sedra y Kenneth C. Smith. Ed. OxfordPrincipios de electrónica. A.P.Malvino. Ed. McGraw-Hill.Electrónica: teoría de circuitos y dispositivos electrónicos. Robert L. Boylestad y Louis Nashelsky. Ed. Prentice Hall.Circuitos electrónicos. Análisis, simulación y diseño. Norbert R. Malik. Ed. Prentice Hall.Circuitos microelectrónicos. Análisis y diseño. M. H. Rashid. Ed. Thomson. \\n\\n'},\n",
       " {'code': '614G01006',\n",
       "  'name': 'Programación II',\n",
       "  'subject_type': 'Formación básica',\n",
       "  'num_credits': 6,\n",
       "  'period': 2,\n",
       "  'course': 1,\n",
       "  'language': 'Español, Gallego',\n",
       "  'content': '\\n\\n\\nTema\\nSubtema\\n\\n\\nGestión dinámica da memoria \\nOrganización dea memoria de un programa.\\r\\nDefinición de variables de tipo puntero.\\r\\nReserva y destrucción dinámica de memoria.\\r\\nAsignación y comparación. \\n\\n\\nIntroducción a los Tipos Abstractos de Datos \\nLa  abstracción  en  programación: Concepto, Evolución  a  través  de  la  historia  de  la  programación, TAD  y  Programación  orientada  a  objetos.\\r\\nLa  modularidad  en  programación.\\r\\nTipos  Abstractos  de  Datos: Definición  y  concepto, Diferencias  entre  tipo  de  dato,  estructuras  de  datos  y  TAD, Construcción  de  un  TAD, Ventajas  de  la  abstracción  de  datos. \\n\\n\\nListas \\nEspecificación informal del TAD Lista.\\r\\nImplementación del TAD Lista.\\r\\nEl TAD Lista ordenada: especificación e implementación.\\r\\nMultilistas y listas multiordenadas: concepto, representaciones y usos. \\n\\n\\nPilas \\nEspecificación informal del TAD Pila.\\r\\nImplementación del TAD Pila.\\r\\nAplicaciones en computación. \\n\\n\\nColas \\nEspecificación informal del TAD Cola.\\r\\nImplementación del TAD Cola.\\r\\nVariantes de las colas. Colas de prioridad.\\r\\nAplicaciones en computación. \\n\\n\\nÁrbores \\nDefinición de árbol y terminología\\r\\nTAD Árbol binario: Especificación  informal, Implementación. \\r\\nRecorridos de árboles. \\n\\n\\nÁrboles de búsqueda \\nÁrboles binarios de búsqueda.\\r\\nÁrboles AVL. \\n\\n',\n",
       "  'mention': '',\n",
       "  'url': 'https://guiadocente.udc.es/guia_docent/index.php?centre=614&ensenyament=614G01&assignatura=614G01006&any_academic=2019_20&idioma=cast&fitxa_apartat=3&idioma_assig=cast',\n",
       "  'bibliography': \"\\n\\n\\nBásica\\n\\n\\n\\n               Narasimha Karumanchi  (2017). Data Structures and Algorithms Made Easy, 5th Edition. CareerMonk Publications \\n               Ignacio Zahonero y Luis Joyanes Aguilar (2004). Algoritmos y estructuras de datos: Una perspectiva en C.  McGraw-Hill \\n               Kyle Loudon (1999). Mastering Algorithms with C. O'Reilly Media\\n\\n\\n\\n\\n \\n\\n\\n\\nComplementária\\n\\n\\n\\n               Reema Thareja (2014). Data Structures Using C - Second Edition. Oxford University Press \\n               Aaron M. Tenenbaum,? Yedidyah Langsam &? Moshe J. Augenstein (1989). Data Structures Using C. Prentice Hall \\n               Richard F. Gilberg & Behrouz A. Forouzan (2005). Data Structures: A Pseudocode Approach with C (2nd Ed). Cengage Learning \\n               Ignacio Zahonero y Luis Joyanes Aguilar (2005). Programación en C. Metodología, Algoritmos y Estructura de Datos, 2º Edición.  McGraw-Hill \\n               Luis Joyanes Aguilar, Andrés Castillo Sanz, Lucas Sánchez García e Ignacio Zahonero Martínez  (2002). Programación en C. Libro de problemas. McGraw-Hill \\n               Ignacio Zahonero, Lucas García Sánchez, Luis Joyanes Aguilar y Matilde Fernández Azuela (2005). Estructuras de datos en C (Serie Schaum). McGraw-Hill\\n\\n\\n\\n\\nPáxina oficial da contorna de desenvolvemento CLion: https://www.jetbrains.com/clion/ \\n\\n\"},\n",
       " {'code': '614G01007',\n",
       "  'name': 'Fundamentos de los Computadores',\n",
       "  'subject_type': 'Formación básica',\n",
       "  'num_credits': 6,\n",
       "  'period': 2,\n",
       "  'course': 1,\n",
       "  'language': 'Español, Gallego',\n",
       "  'content': '\\n\\n\\nTema\\nSubtema\\n\\n\\nI. Sistemas Digitales \\n- Sistemas Combinacionales\\r\\n- Sistemas Secuenciales\\n\\n\\n\\nII. Estructura, Organización y Funcionamiento de Bloques Funcionales Básicos \\n- Unidad de Procesamiento\\r\\n- Unidad de Control\\r\\n- Sistema de Entrada/Salida  \\n\\n',\n",
       "  'mention': '',\n",
       "  'url': 'https://guiadocente.udc.es/guia_docent/index.php?centre=614&ensenyament=614G01&assignatura=614G01007&any_academic=2019_20&idioma=cast&fitxa_apartat=3&idioma_assig=cast',\n",
       "  'bibliography': '\\n\\n\\nBásica\\n\\n\\n\\n               Thomas L. Floyd (2009). Digital Fundamentals (10th Edition). Pearson International Edition \\n               David A. Patterson, John L. Hennessy (2014). Computer organization and design : the hardware/software interface. Morgan Kaufmann Publishers  \\n               F. García Carballeira, J. Carretero, J.D. García Sánchez y D. Expósito Singh (2015). Problemas resueltos de estructura de computadores (2ª ed.). Paraninfo  \\n               Javier García Zubía (2003). Problemas resueltos de electrónica digital . Thomson\\n\\n\\n\\n\\n \\n\\n\\n\\nComplementária\\n\\n\\n\\n               David M. Harris & Sarah L. Harris (2013). Digital Design and Computer Architecture. Morgan Kaufmann Publishers \\n               Miles J. Murdocca y Vicent P. Heuring (2002). Principios de arquitectura de computadoras. Prentice Hall\\n\\n\\n\\n\\n \\n\\n'},\n",
       " {'code': '614G01008',\n",
       "  'name': 'Estadística',\n",
       "  'subject_type': 'Formación básica',\n",
       "  'num_credits': 6,\n",
       "  'period': 2,\n",
       "  'course': 1,\n",
       "  'language': 'Español, Gallego',\n",
       "  'content': '\\n\\n\\nTema\\nSubtema\\n\\n\\nProbabilidad \\nDefinición de probabilidad. Propiedades\\r\\nProbabilidad condicionada. Teorema de Bayes \\n\\n\\nVariables aleatorias \\nVariables aleatorias discretas\\r\\nVariables aleatorias continuas\\r\\nTeorema central del límite\\r\\nSimulación \\n\\n\\nEstadística descriptiva \\nDistribuciones de frecuencias\\r\\nRepresentaciones gráficas\\r\\nMedidas de posición y de dispersión \\n\\n\\nInferencia estadística \\nIntroducción\\r\\nEstimación puntual\\r\\nIntervalos de confianza\\r\\nContrastes de hipótesis paramétricos\\r\\nContrastes de hipótesis no paramétricos \\n\\n\\nRegresión simple \\nRegresión lineal simple\\r\\nRegresión no lineal \\n\\n',\n",
       "  'mention': '',\n",
       "  'url': 'https://guiadocente.udc.es/guia_docent/index.php?centre=614&ensenyament=614G01&assignatura=614G01008&any_academic=2019_20&idioma=cast&fitxa_apartat=3&idioma_assig=cast',\n",
       "  'bibliography': '\\n\\n\\nBásica\\n\\n\\n\\n               Cao, R., Francisco, M., Naya, S., Presedo, M.A., Vázquez, M., Vilar, J.A. y Vilar, J.M. (2001). Introducción a la Estadística y sus aplicaciones. Ediciones Pirámide \\n               Eguzkitza Arrizabalaga, J.M. (2014).  Laboratorio de estadística y probabilidad con R. Gami Editorial\\n\\n\\n\\n\\n \\n\\n\\n\\nComplementária\\n\\n\\n\\n               Blasco Lorenzo, A. y Pérez Díaz, S. (2015). Modelos aleatorios en ingeniería. Paraninfo \\n               Devore, J.L. (2005). Probabilidad y Estadística para Ingeniería y Ciencias. Thomson \\n               Gonick, L. y Smith, W. (2001). Á estatística ¡en caricaturas!. SGAPEIO \\n               Hernández, V., Ramos, E. y Yáñez, I. (2007). Probabilidad y sus aplicaciones en Ingeniería Informática. Ediciones Académicas \\n               Horgan, J.M. (2009). Probability with R. An Introduction with Computer Science Applications. Wiley \\n               Montgomery, D.C. y Runger, G.C. (2004). Probabilidad y Estadística aplicadas a la Ingeniería. McGraw-Hill \\n               Quintela del Río, A. (2013). El estadístico accidental. El autor \\n               R Development Core Team (2000). Introducción a R. http://www.r-project.org/ \\n               Ugarte, M.D., Militino, A.F., Arnholt, A.T. (2008). Probability and Statistics with R. Chapman and Hall/CRC\\n\\n\\n\\n\\n \\n\\n'},\n",
       " {'code': '614G01010',\n",
       "  'name': 'Álgebra',\n",
       "  'subject_type': 'Formación básica',\n",
       "  'num_credits': 6,\n",
       "  'period': 2,\n",
       "  'course': 1,\n",
       "  'language': 'Español, Gallego',\n",
       "  'content': '\\n\\n\\nTema\\nSubtema\\n\\n\\nTema 1: Aritmética modular y aplicación a la Criptografía. \\nNociones básicas de aritmética entera. Algoritmo de Euclides. Números primos. Ecuaciones diofánticas lineales. Congruencias. Aritmética modular. \\r\\nDefinición de criptosistema. Criptografía clásica. Criptografía simétrica y asimétrica. Ejemplos de criptosistemas.\\r\\nSistemas de numeración. Criterios de divisibilidad.  \\n\\n\\nTema 2: Sistemas de Ecuaciones Lineales, Matrices y Determinantes. \\nDefinición y propiedades de los sistemas de ecuaciones lineales. Sistemas escalonados. Método de Gauss. Matrices. Operaciones con matrices. Reducción a forma escalonada. Matriz invertible. Determinante de una matriz cuadrada, propiedades. \\n\\n\\nTema 3: Espacios Vectoriales. \\nDefinición y propiedades de los espacios vectoriales. Bases y coordenadas. Dimensión. Rango de un conjunto de vectores y rango de una matriz. Cálculo del rango. Cambio de base. Teorema de Rouché-Frobenius. \\n\\n\\nTema 4: Aplicaciones Lineales. \\nDefinición y propiedades de las aplicaciones lineales. Núcleo e imagen de una aplicación lineal. Matriz asociada a una aplicación lineal. Teorema de la dimensión. \\n\\n\\nTema 5: Códigos Lineales. \\nDefinición de códigos lineales. Parámetros de un código lineal. Distancia y peso de Hamming. Matriz generadora, matriz control de paridad. Corrección de errores en códigos lineales. Códigos de Hamming binarios. \\n\\n',\n",
       "  'mention': '',\n",
       "  'url': 'https://guiadocente.udc.es/guia_docent/index.php?centre=614&ensenyament=614G01&assignatura=614G01010&any_academic=2019_20&idioma=cast&fitxa_apartat=3&idioma_assig=cast',\n",
       "  'bibliography': '\\n\\n\\nBásica\\n\\n\\n\\n               Grossman, S. I. (1996). Álgebra lineal con aplicaciones. McGraw-Hill Interamericana México. \\n               Grossman, S. I. (1994). Elementary Linear Algebra with Applications. Wiley \\n               Merino, L. y Santos, E.  (2006). Álgebra Lineal con Métodos Elementales. Thomson. \\n               Cameron, P. J. (1998). Introduction to Algebra. Oxford University Press, Oxford. \\n               Rosen, K. H. (2004). Matemática Discreta y sus aplicaciones. McGraw-Hill Interamericana. \\n               Rosen, K. H. (2003). Discrete Mathematics and Its Applications. McGraw-Hill \\n               Biggs, N. L. (1994). Matemática Discreta. Madrid, Vicens Vives.  \\n               Lay, D. C. (2011). Linear Algebra and Its Applications. Pearson \\n               Lay, D. C.  (2007). Algebra Lineal y sus Aplicaciones. Prentice Hall\\n\\n\\n\\n\\n \\n\\n\\n\\nComplementária\\n\\n\\n\\n               Hernández, E.  (1994). Álgebra y Geometría. Addison-Wesley. \\n               Rojo, J. y Martín, I.  (2005). Ejercicios y problemas de Álgebra Lineal. McGraw-Hill. \\n               Lidl, R. y Pilz, G. (1998). Applied Abstract Algebra. Nueva York, Springer. \\n               Torrecilla Jover, B. (1999). Fermat. El Mago de los Números. Nivola. \\n               Van Lint, J. H. (1999). Introduction to Coding Theory. Berlín, Springer. \\n               Singh, S. (2000). Los Códigos Secretos. Debate \\n               Nakos, G. y Joyner, D. (1999). Álgebra lineal con aplicaciones. Thomson. \\n               Nakos, G. y Joyner, D. (1998). Linear Algebra with Applications. Brooks Cole Publising\\n\\n\\n\\n\\n \\n\\n'},\n",
       " {'code': '614G01011',\n",
       "  'name': 'Algoritmos',\n",
       "  'subject_type': 'Obligatoria',\n",
       "  'num_credits': 6,\n",
       "  'period': 1,\n",
       "  'course': 2,\n",
       "  'language': 'Español, Gallego',\n",
       "  'content': '\\n\\n\\nTema\\nSubtema\\n\\n\\nTema 1\\r\\nTítulo del tema: Análisis de Algoritmos.\\r\\nCódigo: T1\\r\\nPresentación: En este primer tema se plantea el análisis de la complejidad de los algoritmos como uno de los principales objetivos del curso.\\r\\nEn síntesis, se trata de añadir a los criterios que ya deben resultar familiares, los de estructuración y de corrección de los programas, el de la efi\\x1cciencia de los algoritmos. \\nUnidades de contenido:\\r\\n1. Análisis de la eficiencia de los algoritmos: Notaciones asintóticas, Modelo de computación, Verificación empírica del análisis.\\r\\n2. Cálculo de los tiempos de ejecución: Análisis de los casos peor y medio, Cálculo de la O, Resolución de recurrencias. \\n\\n\\nTema 2\\r\\nTítulo del tema: Estructuras de datos.\\r\\nCódigo: T2\\r\\nPresentación: En este segundo tema se propone una revisión de las estructuras de datos básicas (pilas, listas, colas, árboles, conjuntos y grafos) con el objetivo de estudiar todas las implicaciones que conlleva su uso en cuanto a las complejidades espacial y temporal.\\r\\nIgualmente se profundiza en el estudio de estructuras interesantes desde el punto de vista del tiempo de ejecución: las tablas de dispersión y los montículos, estructura ésta última a la que recurriremos más adelante cuando se trate de implementar mejoras en algoritmos de grafos y algún caso de programación dinámica. La complejidad de la operación de búsqueda puede servir como hilo conductor en buena parte de este tema.\\r\\nConviene en una introducción de esta parte del curso el insistir en los criterios de estructuración que debemos mantener en el diseño de cualquier aplicación, motivando el uso de tipos de datos abstractos y su consiguiente implementación mediante módulos. El objetivo es dar así las líneas generales de lo que se considera la disciplina de programación que debe exigirse al estudiante para la realización de las prácticas. \\nUnidades de contenido:\\r\\n 1. Pilas, colas, listas.\\r\\n 2. Árboles, montículos.\\r\\n 3. Dispersión (hashing).\\r\\n 4. Conjuntos disjuntos.\\r\\n 5. Grafos (representación). \\n\\n\\nTema 3\\r\\nTítulo del tema: Algoritmos sobre secuencias y conjuntos de datos\\r\\nCódigo: T3\\r\\nPresentación: El problema de la ordenación de una secuencia de elementos se convierte en esta parte del curso en una excusa ideal tanto para estudiar la complejidad de varios tipos de algoritmos como para presentar diferentes estrategias de diseño de algoritmos que se pueden extrapolar para la resolución de otros problemas.\\r\\nUno de los algoritmos a los que se le dedicará especial atención es a la ordenación rápida, ya que permite introducir la característica fundamental de los algoritmos aleatorios, que se comportan de forma distinta al ejecutarse con una misma entrada. Una consecuencia directa es que el calificativo de peor caso o mejor caso para una entrada deja de tener sentido, aspecto que es importante debatir en clase. \\nUnidades de contenido:\\r\\n 1. Algoritmos de búsqueda.\\r\\n 2. Algoritmos de ordenación: Inserción, Shell, Montículos (heapsort), Fusión (mergesort), Ordenación Rápida (quicksort).\\r\\n 3. Algoritmos aleatorios.\\n\\n\\n\\nTema 4\\r\\nTítulo del tema: Algoritmos voraces\\r\\nCódigo: T4\\r\\nPresentación: En este tema se estudian algoritmos ávidos o voraces. Una vez explicada la técnica a través de sus características generales que presentaremos con la ayuda de algún ejemplo, se estudiarán los algoritmos más representativos de esta categoría: los algoritmos de grafos, una solución al problema de la mochila y algún problema de\\r\\nplani\\x1cficación de tareas. \\nUnidades de contenido:\\r\\n 1. Problema de la mochila.\\r\\n 2. Algoritmos de grafos: Ordenación Topológica, Árbol de recubrimiento mínimo, Caminos mínimos.\\r\\n 3. Problemas de plani\\x1cficación de sistemas informáticos.\\n\\n\\n\\nTema 5\\r\\nTítulo del tema: Diseño de algoritmos por inducción\\r\\nCódigo: T5\\r\\nPresentación: En este punto, ya se habrá visto a lo largo del curso varios algoritmos que siguen la estrategia divide y vencerás: ordenación por fusión y ordenación rápida, búsqueda dicotómica, suma de la subsecuencia máxima. . . El trabajo propuesto en la primera unidad de este tema consiste básicamente en generalizar los planteamientos de dicha estrategia identifi\\x1ccando sus distintas características en cada uno de los algoritmos propuestos.\\r\\nEn la segunda unidad del tema se plantea usar una estrategia ascendente mediante la búsqueda de una solución general a partir de las soluciones de subproblemas elementales. Desde el punto de vista de la efi\\x1cciencia se cuestionará el uso de técnicas descendentes como divide y vencerás en determinadas situaciones. Mientras que con la opción de la programación dinámica se buscará un compromiso que permita, cuando sea posible, una optimización de la cantidad de memoria requerida por el algoritmo. \\nUnidades de contenido:\\r\\n 1. Divide y Vencerás.\\r\\n 2. Programación dinámica: Principio de optimalidad, Problema de la mochila.\\n\\n\\n\\nTema 6\\r\\nTítulo del tema: Exploración de grafos.\\r\\nCódigo: T6\\r\\nPresentación: El objetivo de este tema es el de dar una visión más amplia de las aplicaciones de los grafos en el tratamiento de problemas de diversa índole, así como la de no dejar de lado las técnicas algorítmicas ligadas al desarrollo de importantes áreas de la computación como la inteligencia artificial.\\r\\nLos algoritmos de grafos vistos en el tema de algoritmos voraces (T4) coinciden en realizar un recorrido de todos los nodos del grafo. Se insistirá entonces en cómo mejorar los tiempos de ejecución de los algoritmos que se presenten evitando un análisis exhaustivo de todos los nodos. \\nUnidades de contenido:\\r\\n 1. Juegos de estrategia.\\r\\n 2. Recorridos.\\r\\n 3. Algoritmos con retroceso.\\n\\n\\n\\nTema 7\\r\\nTítulo del tema: Complejidad Computacional.\\r\\nCódigo: T7\\r\\nPresentación: En este último tema planteamos un razonamiento sobre el conjunto de los algoritmos capaces de resolver cada tipo de problema. Hablaremos de las complejidades de los problemas, de cotas inferiores para la complejidad de los problemas y de NP-compleción, en definitiva, de las principales técnicas y conceptos que se utilizan en el estudio de la complejidad computacional. \\nUnidades de contenido:\\r\\n 1. NP-Completitud, Problemas NP-completos\\n\\n\\n',\n",
       "  'mention': '',\n",
       "  'url': 'https://guiadocente.udc.es/guia_docent/index.php?centre=614&ensenyament=614G01&assignatura=614G01011&any_academic=2019_20&idioma=cast&fitxa_apartat=3&idioma_assig=cast',\n",
       "  'bibliography': '\\n\\n\\nBásica\\n\\n\\n\\n               G. Brassard y P. Bratley (1997). Fundamentos de Algoritmia. Prentice Hall \\n               U. Manber (1989). Introduction to Algorithms - A Creative Approach. Addison Wesley \\n               M. A. Weiss (1995). Estructuras de Datos y Algoritmos. Addison Wesley\\n\\n\\n\\n\\n \\n\\n\\n\\nComplementária\\n\\n\\n\\n               R. Sedgewick (1988). Algorithms. Addison Wesley \\n               R. Peña Marí (2005). Diseño de Programas. Formalismo y Abstracción. Tercera edición.. Pearson Prentice Hall \\n               T. H. Cormen, C. E. Leiserson y R. L. Rivest (1990). Introduction to Algorithms. MIT Press  \\n               B. W. Kernighan y D. M. Ritchie (1991). El lenguaje de programación C, 2ª edición. Prentice Hall \\n               F. Aguado, F. Gago, M. Ladra, G. Pérez, C. Vidal y A. M. Vieites (2018). Problemas resueltos de Combinatoria. Laboratorio con SageMath. Paraninfo\\n\\n\\n\\n\\n \\n\\n'},\n",
       " {'code': '614G01012',\n",
       "  'name': 'Estructura de Computadores',\n",
       "  'subject_type': 'Obligatoria',\n",
       "  'num_credits': 6,\n",
       "  'period': 1,\n",
       "  'course': 2,\n",
       "  'language': 'Español, Gallego',\n",
       "  'content': '\\n\\n\\nTema\\nSubtema\\n\\n\\n1. Evaluación de prestaciones \\n1. Introducción\\r\\n2. Definición de métricas de rendimiento\\r\\n3. Evaluación y comparación de rendimiento\\r\\n4. Técnicas de medida y bechmarks \\n\\n\\n2. Introducción al paralelismo a nivel de instrucción \\n1. Introducción \\r\\n2. Dependencias y paralelismo a nivel de instrucción\\r\\n3. Riesgos en la ejecución\\r\\n4. Cauce segmentado en el MIPS \\n\\n\\n3.Procesamiento de saltos \\n1. Técnicas estáticas\\r\\n2. Técnicas dinámicas\\r\\n3. Salto retardado \\n\\n\\n4. Sistemas de Memorias \\n1. Introducción\\r\\n2. Memoria principal\\r\\n3. Jerarquía de memoria \\n\\n\\n5. Cachés \\n1. Introducción\\r\\n2. Operación de un sistema caché\\r\\n3. Métrica del rendimiento de una caché\\r\\n4. Técnicas de optimización \\n\\n\\n6. Memoria virtual \\n1. Introducción\\r\\n2. Sistemas paginados\\r\\n3. Sistemas segmentados \\n\\n\\n7. Sistemas de almacentamiento \\n1. Conceptos básicos\\r\\n2. Tipos de dispositivos de almacenamiento\\r\\n3. RAID de discos \\n\\n\\n8. Buses: conexión E/S con CPU/Memoria \\n1. Introducción\\r\\n2. Buses e interconexión\\r\\n3. Ejemplos de buses estándar \\n\\n',\n",
       "  'mention': '',\n",
       "  'url': 'https://guiadocente.udc.es/guia_docent/index.php?centre=614&ensenyament=614G01&assignatura=614G01012&any_academic=2019_20&idioma=cast&fitxa_apartat=3&idioma_assig=cast',\n",
       "  'bibliography': '\\n\\n\\nBásica\\n\\n\\n\\n               Patterson, D. A. y Hennessy, J. L. (2011). Estructura y Diseño de Computadores. La interfaz hardware/software. Reverté \\n               Hennessy, J. L. y Patterson, D. A.  (2011). Computer architecture. A quantitative approach. Morgan Kaufmann\\n\\n\\n\\n\\n \\n\\n\\n\\nComplementária\\n\\n\\n\\n               Hamacher, C., Vranesic, Z.,  Zaky, S. y Manjikian, N. (2011). Computer Organization and Embedded systems. McGraw-Hill \\n               Patterson, D. A. y Hennessy, J. L.  (2005). Computer organization and design: The hardware/software interface. Morgan Kaufmann  \\n               Stallings, W. (2009). Computer Organization and Architecture: Designing for Performance. Prentice Hall \\n               Kernighan, R. (1991). El lenguaje de programación C. Prentice Hall \\n               F. García, J. Carretero, J. D. García y D. Expósito (2009). Problemas Resueltos de Estructura de Computadores. Paraninfo\\n\\n\\n\\n\\n \\n\\n'},\n",
       " {'code': '614G01014',\n",
       "  'name': 'Paradigmas de Programación',\n",
       "  'subject_type': 'Obligatoria',\n",
       "  'num_credits': 6,\n",
       "  'period': 1,\n",
       "  'course': 2,\n",
       "  'language': 'Español, Gallego',\n",
       "  'content': '\\n\\n',\n",
       "  'mention': '',\n",
       "  'url': 'https://guiadocente.udc.es/guia_docent/index.php?centre=614&ensenyament=614G01&assignatura=614G01014&any_academic=2019_20&idioma=cast&fitxa_apartat=3&idioma_assig=cast',\n",
       "  'bibliography': '\\n\\n'},\n",
       " {'code': '614G01015',\n",
       "  'name': 'Diseño Software',\n",
       "  'subject_type': 'Obligatoria',\n",
       "  'num_credits': 6,\n",
       "  'period': 1,\n",
       "  'course': 2,\n",
       "  'language': 'Español, Gallego',\n",
       "  'content': '\\n\\n\\nTema\\nSubtema\\n\\n\\n1. Introducción \\n• Diseño software\\r\\n• Análisis y diseño orientado a objetos \\n\\n\\n2. Elementos Básicos de la Orientación a Objetos \\n• Clases y objetos\\r\\n• Identidad de objetos\\r\\n• Estado de objetos\\r\\n• Comportamento de objetos \\n\\n\\n3. Propiedades Básicas de la Orientación a Objetos \\n• Abstracción y encapsulamiento\\r\\n• Modularidad\\r\\n• Jerarquía\\r\\n• Polimorfismo\\r\\n• Tipificación\\r\\n• Ligadura dinámica \\n\\n\\n4. Lenguaje Unificado de Modelado (UML)  \\n• Introducción\\r\\n• Bloques básicos del UML\\r\\n• Diseño estático: Diagramas de clases\\r\\n• Diseño dinámico: Diagramas de interacción\\r\\n• Otros diagramas \\n\\n\\n5. Principios de Diseño \\n• Calidad en el diseño\\r\\n• Principios SOLID\\r\\n• Tipos de herencia \\n\\n\\n6. Patrones de Diseño \\n• Introducción a los patrones de diseño\\r\\n• Patrones elementales\\r\\n• Diseños adaptables a los cambios\\r\\n• Diseños débilmente acoplados\\r\\n• Patrones y colecciones de objetos\\r\\n• Otros patrones y principios \\n\\n\\nPrácticas \\n• Introducción a Java y NetBeans\\r\\n• Pruebas de software\\r\\n• Gestión de excepciones \\r\\n• Uso de un repositorio de código \\n\\n',\n",
       "  'mention': '',\n",
       "  'url': 'https://guiadocente.udc.es/guia_docent/index.php?centre=614&ensenyament=614G01&assignatura=614G01015&any_academic=2019_20&idioma=cast&fitxa_apartat=3&idioma_assig=cast',\n",
       "  'bibliography': \"\\n\\n\\nBásica\\n\\n\\n\\n               Sierra, K., Bates, B. (2005). Head First Java. O’Reilly \\n               Schildt, H. (2018). Java 9. Anaya Multimedia \\n               Booch J.; Rumbaugh J. y Jacobson I. (2006). El Lenguaje Unificado de Modelado (2ª ed.) The Unified Modeling Language (2nd ed.). Addison Wesley \\n               Martin, R.C. (2004). UML para programadores Java. UML for Java Programmers. Pearson \\n               Gamma, E.; Helm, R.; Johnson, R. y Vlissides J. (1996). Design Patterns: Elements of Reusable Object-oriented Software.. Addison Wesley\\n\\n\\n\\n\\n \\n\\n\\n\\nComplementária\\n\\n\\n\\n               \\tEckel, B. (2007). Piensa en Java (4ª ed.). Thinking in Java (4th ed.). Prentice-Hall \\n               Rumbaugh, J.; Jacobson, I. y Booch, J. (2004). The Unified Modeling Language Reference Manual. Addison Wesley \\n               Bloch, J. (2017). Effective Java (3rd ed.). Addison Wesley \\n               Martin, R.C.  (2012). Código limpio : manual de estilo para el desarrollo ágil de software. Anaya Multimedia \\n               Freeman, E., Freeman, E., Bates, B. (2004). Head First Design Patterns. O'Reilly \\n               Grand M. (2002). Patterns in Java. John Wiley & Sons\\n\\n\\n\\n\\n \\n\\n\"},\n",
       " {'code': '614G01013',\n",
       "  'name': 'Bases de Datos',\n",
       "  'subject_type': 'Obligatoria',\n",
       "  'num_credits': 6,\n",
       "  'period': 2,\n",
       "  'course': 2,\n",
       "  'language': 'Español, Gallego',\n",
       "  'content': '\\n\\n\\nTema\\nSubtema\\n\\n\\nBases de datos relacionales \\nLenguaje SQL: consultas avanzadas, DDL, SQL embebido, vistas. \\n\\n\\nDiseño de Bases de Datos \\nProblemas de diseño (Anomalías)\\r\\nFases de diseño\\r\\nNormalización\\r\\nDiseño conceptual\\r\\nPaso de ER a modelo Relacional\\n\\n\\n\\nSistemas de ficheros \\nFicheros.\\r\\nÍndices.\\n\\n\\n\\nConcurrencia y recuperación ante fallos \\nProblemas debidos a la concurrencia y fallos\\r\\nTransacciones\\r\\nTécnicas de recuperación ante fallos\\r\\nTécnicas de control de la concurrencia  \\n\\n',\n",
       "  'mention': '',\n",
       "  'url': 'https://guiadocente.udc.es/guia_docent/index.php?centre=614&ensenyament=614G01&assignatura=614G01013&any_academic=2019_20&idioma=cast&fitxa_apartat=3&idioma_assig=cast',\n",
       "  'bibliography': \"\\n\\n\\nBásica\\n\\n\\n\\n               A. Silberschatz; H. Korth; S. Sudarshan  (2010). Database System Concepts.  McGraw Hill \\n               Elmasri, R.; Navathe, S.  (2011). Database systems: models, languages, design, and application programming.  Addison-Wesley \\n               Alan Beaulieu  (2009). Learning SQL (2nd Ed). O'Reilly\\n\\n\\n\\n\\n \\n\\n\\n\\nComplementária\\n\\n\\n\\n               Cuadra, D.; Castro, E.; Iglesias, A. M.; Martínez, P.; Calle, F. J.; de Pablo, C.; Al-Jumaly, H.; Mo (2007). Desarrollo de Bases de Datos: casos prácticos desde el análisis a la implementación. Madrid: Ra-ma \\n               de Miguel, A,; Martínez, P.; Castro, E.; Cavero, M., Cuadra, D.; Iglesias, A. M.; Nieto, C. (2001). Diseño de bases de datos. Problemas resueltos. Madrid: Ra-ma\\n\\n\\n\\n\\n \\n\\n\"},\n",
       " {'code': '614G01017',\n",
       "  'name': 'Redes',\n",
       "  'subject_type': 'Obligatoria',\n",
       "  'num_credits': 6,\n",
       "  'period': 2,\n",
       "  'course': 2,\n",
       "  'language': 'Español, Gallego',\n",
       "  'content': '\\n\\n\\nTema\\nSubtema\\n\\n\\nIntroducción \\nRedes de ordenadores e Internet\\r\\nIntroducción a TCP/IP  \\n\\n\\nCapa de Aplicación  \\nProtocolos del nivel de aplicación I\\r\\nProtocolos del nivel de aplicación II \\n\\n\\nCapa de Transporte \\nUDP y TCP\\r\\nConexiones TCP\\r\\nIntercambio de datos TCP  \\n\\n\\nCapa de Red \\nIP y subredes\\r\\nEnrutamiento\\r\\nICMP\\r\\nIPv6 \\n\\n\\nCapa de Enlace \\nTCP/IP y el nivel de enlace\\r\\nTecnologías del nivel de enlace \\n\\n',\n",
       "  'mention': '',\n",
       "  'url': 'https://guiadocente.udc.es/guia_docent/index.php?centre=614&ensenyament=614G01&assignatura=614G01017&any_academic=2019_20&idioma=cast&fitxa_apartat=3&idioma_assig=cast',\n",
       "  'bibliography': '\\n\\n\\nBásica\\n\\n\\n\\n               James F. Kurose, Keith W. Ross (). Computer Networking. A top-down approach.. Addison Wesley \\n               W. Richard Stevens (2011). TCP/IP Illustrated, Vol. 1: The Protocols. Addison Wesley\\n\\n\\n\\n\\n \\n\\n\\n\\nComplementária\\n\\n\\n\\n\\n\\n\\n \\n\\n'},\n",
       " {'code': '614G01018',\n",
       "  'name': 'Concurrencia y Paralelismo',\n",
       "  'subject_type': 'Obligatoria',\n",
       "  'num_credits': 6,\n",
       "  'period': 2,\n",
       "  'course': 2,\n",
       "  'language': 'Español, Gallego',\n",
       "  'content': '\\n\\n\\nTema\\nSubtema\\n\\n\\nT1. Principios de programación concurrente \\n1.1 Conceptos.\\r\\n1.1.1 Arquitecturas hardware\\r\\n1.1.2 Sistemas operativos\\r\\n1,1.3 Procesos e Threads\\r\\n1.2 Programación Multiproceso (fork/join)\\r\\n1.3 Programación Multithread\\r\\n1.4 Sección crítica.\\r\\n1.5 Exclusión mutua\\r\\n1.6 Instruccións atómicas\\r\\n1.7 Sincronización mediante condicións\\r\\n1.8 Semáforos\\r\\n1.8.1 Mutex\\r\\n1.8.2 Semáforos\\r\\n1.9 Interbloqueo. Prevención, evitación, recuperación.\\r\\n1.10 Inanición.\\r\\n1.11 Comunicación e sincronización\\r\\n1.12 Escalabilidade \\n\\n\\nT2. Algoritmos concorrentes \\n2.1 Productores/consumidores.\\r\\n2.2 Lectores/escritores\\r\\n2.3 Filósofos ceando\\r\\n2.4 Compartición nula \\n\\n\\nT3. Principios de programación paralela \\n3.1 Conceptos\\r\\n     3.1.1 Niveis de paralelismo\\r\\n     3.1.2 Dependencias de datos\\r\\n3.2 Modelo de paso de mensaxes\\r\\n      3.2.1 Conceptos básicos\\r\\n      3.2.2 Comunicación punto a punto\\r\\n      3.2.3 Operacións colectivas\\r\\n3.3 Análise de algoritmos paralelos\\r\\n      3.3.1 Medidas de prestacións de algoritmos paralelos\\r\\n3.4 Metodoloxía da programación paralela\\r\\n      3.4.1Descomposición en tarefas\\r\\n      3.4.2 Asignación de tarefas\\r\\n      3.4.3 Técnicas de optimización\\r\\n3.5 Esquemas algorítmicos paralelos\\r\\n      3.5.1 Single Process Multiple Data\\r\\n      3.5.2 Paradigma Master/slave \\n\\n\\nT4. Deseño de algoritmos e aplicacións paralelas \\n4.1 Bibliotecas de paso de mensaxes\\r\\n4.2 Casos de estudo\\r\\n4.3 Evaluación de rendemento\\r\\n4.4 Aplicación de técnicas de optimización \\n\\n',\n",
       "  'mention': '',\n",
       "  'url': 'https://guiadocente.udc.es/guia_docent/index.php?centre=614&ensenyament=614G01&assignatura=614G01018&any_academic=2019_20&idioma=cast&fitxa_apartat=3&idioma_assig=cast',\n",
       "  'bibliography': '\\n\\n\\nBásica\\n\\n\\n\\n               Doug Lea (2000). Concurrent programming in Java design, principles and patterns . Reading, Massachusetts: Addison Wesley \\n               Joe Armstrong (2007). Programming Erlang: Software for a Concurrent World. United States: Pragmatic Programmers \\n               Francisco Almeida [et al.] (2008). Introducción a la Programación Paralela. Madrid: Paraninfo Cengage Learning \\n               Peter S. Pacheco (1997). Parallel Programming with MPI. San Francisco, California : Morgan Kauffman\\n\\n\\n\\n\\n \\n\\n\\n\\nComplementária\\n\\n\\n\\n               Wilkinson, B. y Allen, M.. (1999). Parallel Programming. Techniques and Applications Using Networked Workstations and Parallel Computers. . Upper Saddle River, New Jersey : Prentice Hall,\\n\\n\\n\\n\\n \\n\\n'},\n",
       " {'code': '614G01019',\n",
       "  'name': 'Proceso Software',\n",
       "  'subject_type': 'Obligatoria',\n",
       "  'num_credits': 6,\n",
       "  'period': 2,\n",
       "  'course': 2,\n",
       "  'language': 'Español, Gallego',\n",
       "  'content': '\\n\\n',\n",
       "  'mention': '',\n",
       "  'url': 'https://guiadocente.udc.es/guia_docent/index.php?centre=614&ensenyament=614G01&assignatura=614G01019&any_academic=2019_20&idioma=cast&fitxa_apartat=3&idioma_assig=cast',\n",
       "  'bibliography': '\\n\\n'},\n",
       " {'code': '614G01020',\n",
       "  'name': 'Sistemas Inteligentes',\n",
       "  'subject_type': 'Obligatoria',\n",
       "  'num_credits': 6,\n",
       "  'period': 2,\n",
       "  'course': 2,\n",
       "  'language': 'Español, Gallego',\n",
       "  'content': '\\n\\n\\nTema\\nSubtema\\n\\n\\n1. Introducción \\n1.1 Aspectos históricos\\r\\n1.2 Cuestiones preliminares\\r\\n1.3 Consideraciones generales \\n\\n\\n2. Resolución de Problemas \\n2.1 Introducción a la resolución de problemas en IA\\r\\n2.2 El concepto de “espacio de estados”\\r\\n2.3 Características generales de los procesos de búsqueda\\r\\n2.4 Métodos de búsqueda puros: anchura y profundidad\\r\\n2.5 Estrategias de exploración del espacio de estados  \\n\\n\\n3. Representaciones estructuradas del conocimiento \\n3.1 Aspectos generales\\r\\n3.2 Métodos declarativos de representación\\r\\n3.3 Métodos procedimentales de representación\\r\\n3.4 Ejemplos y realización de un caso práctico\\n\\n\\n\\n4. Sistemas de producción \\n4.1 Arquitectura: Base de conocimientos, memoria activa, motor de inferencias.\\r\\n4.2 Dinámica de los sistemas de producción\\r\\n4.3 Ciclo básico de un sistema de producción  \\n\\n\\n5. Breve Introducción al Razonamiento en IA \\n5.1 Fundamentos de razonamiento categórico\\r\\n5.2 Fundamentos de razonamiento bayesiano\\n\\n\\n\\n6. Sistemas Conexionistas: Origen y Contexto; Fundamentos Biológicos  \\n6.1 Evolución Histórica y Precursores. \\r\\n6.2 Nacimiento de los Sistemas Conexionistas. \\r\\n6.3. Bases Biológicas de los Sistemas Adaptativos\\r\\n6.4. Adquisición y organización de los conocimientos en Sistemas Adaptativos. \\n\\n\\n\\n7. Arquitectura, Alimentación y Aprendizaje de los Sistemas Conexionistas  \\n7.1. Elemento de procesado en Sistemas Conexionistas.\\r\\n7.2 Comparación entre el elemento biológico y el formal\\r\\n7.3 Alimentación y Arquitectura de los Sistemas Conexionistas.\\r\\n7.4 Aprendizaje en Sistemas Conexionistas. \\n\\n\\n8. Sistemas Conexionistas con Alimentación Hacia Delante  \\n8.1. Adaline \\r\\n8.2. Perceptrón \\r\\n8.3. Aplicaciones\\n\\n\\n\\n\\n9. Otros Modelos de Sistemas Conexionistas \\n9.1  Redes auto-organizativas\\r\\n9.2. Otros modelos auto-organizativos: Crecimiento de redes  \\r\\n9.3. Memorias de Hopfield   \\n\\n\\n10. Nuevas Aproximaciones en Sistemas de Inteligencia Sub-simbólica  \\n10.1 Computación Evolutiva.\\r\\n10.2 Vida Artificial.\\r\\n10.3 Tecnologías NBIC\\n\\n\\n',\n",
       "  'mention': '',\n",
       "  'url': 'https://guiadocente.udc.es/guia_docent/index.php?centre=614&ensenyament=614G01&assignatura=614G01020&any_academic=2019_20&idioma=cast&fitxa_apartat=3&idioma_assig=cast',\n",
       "  'bibliography': '\\n\\n\\nBásica\\n\\n\\n\\n               Russell & Norvig (2004). Inteligencia artificial: un enfoque moderno. Pearson (2ª ed) \\n               Moret et al. (2005). Fundamentos de inteligencia artificial. Servicio de publicaciones de la UDC (2ª ed, 2ª imp) \\n               José T. Palma, Roque Marín Morales et al. (2008). Inteligencia artificial - Técnicas, métodos y aplicaciones. McGraw Hill (1ª ed.)\\n\\n\\n\\n\\nTEMAS 6 y 7 Cajal, S.: “Textura del SistemaNervioso del Hombre y los Vertebrados”. Tomo I. Ed. Alianza. 1989.Haykin, S.: “Neural Networks: A\\r\\nComprehensive Foundation”. McMillan\\r\\n College Publishing. New York. 1994.Hertz,\\r\\nJ., Krogh, A. &amp; Palmer, R.: “Introduction to the Theory of Neural\\r\\nComputation”. Santa Fe Institute, Addison-Wesley Editores 1991.McCulloch,\\r\\nW. S., and Pitts, W.: “A Logical Calculus of the Ideas Inmanent in the Neural\\r\\nNets”. Buletin of Mathematical Biophysics, vol. 5, pp. 115-137. 1943.Minsky,M. &amp; Papert, S.: “Perceptrons”. Cambridge,MIT Press, 1969.Rosenblueth,\\r\\nA., Wiener, N, and Bigelow, J.: “Behavior, Purpose and Teleology”. Phylosophy\\r\\nof Science nº10, pp. 18-24. 1943.Wiener,\\r\\nN.: “Cibernetics or Control and Communications in the Animals and Machines”.\\r\\nEd. MIT. Press. 1948.TEMAS 8 y 9 Hertz,J., Krogh, A. &amp; Palmer, R.: “Introduction to the Theory of NeuralComputation”. Santa Fe Institute, Addison-Wesley Editores 1991.Hopfield,\\r\\nJ. &amp; Tank, D.: “Computing with Neural Circuits” A Model”. Science, vol.\\r\\n233, pp. 625-633. 1986.Kohonen,\\r\\nT.: “Self organizing maps”. Springer Velag. Berlín. Segunda Edición. 1995.Ríos, J.Pazos, A. y otros: “Estructura, Dinámica y Aplicaciones a las Redes NeuronasArtificiales”. Ed. Ceura. Madrid.1991.Isasi P, Galván I. Redes de Neuronas Artificiales. Un enfoque práctico. Prentice Hall. 2004TEMA 10Gestal M, Rivero D et al. Introducción a los Algoritmos Genéticos y la Programación Genética. Servicio de Publicacións da UDC. 2010. Yao, X. “Evolving Artificial Neural Networks”. In:Proc. IEEE, Vol. 87 nº9 1423-1447. 1999.  \\n\\n\\n\\nComplementária\\n\\n\\n\\n\\n\\n\\n \\n\\n'},\n",
       " {'code': '614G01021',\n",
       "  'name': 'Gestión de Proyectos',\n",
       "  'subject_type': 'Obligatoria',\n",
       "  'num_credits': 6,\n",
       "  'period': 1,\n",
       "  'course': 3,\n",
       "  'language': 'Español, Gallego',\n",
       "  'content': '\\n\\n',\n",
       "  'mention': '',\n",
       "  'url': 'https://guiadocente.udc.es/guia_docent/index.php?centre=614&ensenyament=614G01&assignatura=614G01021&any_academic=2019_20&idioma=cast&fitxa_apartat=3&idioma_assig=cast',\n",
       "  'bibliography': '\\n\\n'},\n",
       " {'code': '614G01022',\n",
       "  'name': 'Interfaces Hombre Máquina',\n",
       "  'subject_type': 'Obligatoria',\n",
       "  'num_credits': 6,\n",
       "  'period': 1,\n",
       "  'course': 3,\n",
       "  'language': 'Español, Gallego',\n",
       "  'content': '\\n\\n',\n",
       "  'mention': '',\n",
       "  'url': 'https://guiadocente.udc.es/guia_docent/index.php?centre=614&ensenyament=614G01&assignatura=614G01022&any_academic=2019_20&idioma=cast&fitxa_apartat=3&idioma_assig=cast',\n",
       "  'bibliography': '\\n\\n'},\n",
       " {'code': '614G01023',\n",
       "  'name': 'Internet y Sistemas Distribuidos',\n",
       "  'subject_type': 'Obligatoria',\n",
       "  'num_credits': 6,\n",
       "  'period': 1,\n",
       "  'course': 3,\n",
       "  'language': 'Español, Gallego',\n",
       "  'content': '\\n\\n',\n",
       "  'mention': '',\n",
       "  'url': 'https://guiadocente.udc.es/guia_docent/index.php?centre=614&ensenyament=614G01&assignatura=614G01023&any_academic=2019_20&idioma=cast&fitxa_apartat=3&idioma_assig=cast',\n",
       "  'bibliography': '\\n\\n'},\n",
       " {'code': '614G01024',\n",
       "  'name': 'Legislación y Seguridad Informática',\n",
       "  'subject_type': 'Obligatoria',\n",
       "  'num_credits': 6,\n",
       "  'period': 1,\n",
       "  'course': 3,\n",
       "  'language': 'Español, Gallego',\n",
       "  'content': '\\n\\n\\nTema\\nSubtema\\n\\n\\nFundamentos y categorías de ataques. \\n \\n\\n\\nLa trilogía (\"host discovery\", \"port scanning\", \"fingerprinting\") \\n \\n\\n\\nOcultación. \\n \\n\\n\\n“Sniffing”. \\n \\n\\n\\n[D]DoS. \\n \\n\\n\\nSeguridad a nivel físico. \\n \\n\\n\\nMonitorización y filtrado en seguridad de la información. \\n \\n\\n\\nCertificados digitales y autoridades de certificación. \\n \\n\\n\\nAuditorias de seguridad. \\n \\n\\n\\nLa regulación jurídica de la informática. \\n- Derecho. Elementos y conceptos jurídicos básicos.\\r\\n- Ética profesional y deontología.\\r\\n- Autorregulación. Códigos de conducta, códigos de práctica, códigos tipo. \\n\\n\\nLa prestación de servicios y la tutela de los derechos en la sociedad de la información. \\n- La prestación de servicios en la sociedad de la información. Servicios de intermediación. Servicios de certificación.\\r\\n- La contratación electrónica y la contratación informática.\\r\\n- Las comunicaciones comerciales electrónicas.\\r\\n- La firma electrónica.\\r\\n- La Administración electrónica.\\r\\n- La resolución judicial de conflictos.\\r\\n- Las soluciones extrajudiciales. La autorregulación. El arbitraje electrónico. \\n\\n\\nLa protección de los datos de carácter personal. \\n- Introducción y delimitaciones conceptuales.\\r\\n- Constitución, derechos fundamentales y protección de datos.\\r\\n- La legislación española de protección de datos de carácter personal. Disposiciones generales. Principios. Sujetos. Derechos. Obligaciones. Medidas de seguridad. Procedimientos.\\r\\n- Autorregulación y protección de datos personales.\\r\\n- Criminalidad informática y datos personales.\\n\\n\\n\\nTemario Prácticas. \\n- Seguridad (fundamentos y configuraciones básicas).\\r\\n- Categorías de ataques e identificación de recursos.\\r\\n- Autoridades de certificación\\r\\n- Auditorías de seguridad. \\n\\n',\n",
       "  'mention': '',\n",
       "  'url': 'https://guiadocente.udc.es/guia_docent/index.php?centre=614&ensenyament=614G01&assignatura=614G01024&any_academic=2019_20&idioma=cast&fitxa_apartat=3&idioma_assig=cast',\n",
       "  'bibliography': '\\n\\n\\nBásica\\n\\n\\n\\n               A. Santos del Riego (). Legislación [Protección] y Seguridad de la Información. http://psi-udc.blogspot.com \\n               debian.org (). Debian. http://www.debian.org/ \\n               yolinux (). yolinux. http://www.yolinux.com/ \\n               Packet Storm (). Packet Storm. http://packetstormsecurity.org/ \\n                (). Criptored. http://www.criptored.upm.es/ \\n               Miguel PEGUERA POCH (coord.) (2010). Principio de Derecho de la sociedad de la información. Cizur Menor: Aranzadi \\n               José APARICIO SALOM (2009). Estudio sobre la Ley Orgánica de protección de datos de carácter personal. Pamplona: Aranzadi \\n               Lorenzo COTINO, Julián VLAERO (coords.) (2010). Administración electrónica. Valencia: Tirant lo Blanch \\n               José Luis PIÑAR MAÑAS (dir.) (2011). electrónica y ciudadanos. Madrid: Civitas \\n               Manuel CASTELLS (2009). Comunicación y poder. Madrid: Alianza \\n               Miguel Ángel DAVARA RODRÍGUEZ (2008). Manual de Derecho informático. Pamplona: Aranzadi \\n               Antonio TRONCOSO (2010). La protección de datos personales. En busca del equilibrio. Valencia: Tirant lo Blanch \\n               Gonzalo F. GÁLLEGO HIGUERAS (2010). Código de Derecho informático y de las nuevas tecnologías. Madrid: Civitas \\n               Javier ORDUÑA, Gonzalo AGUILERA (dir.) (2009). Comercio, Administración y Registros electrónicos. Madrid: Civitas \\n               Willian Stallings (2014). Network Security Essentials. Applications and Standards. Prentice Hall\\n\\n\\n\\n\\n \\n\\n\\n\\nComplementária\\n\\n\\n\\n                (). Security Focus. http://www.securityfocus.com/ \\n                (). Common Vulnerabilities and Exposures (CVE). http://www.cve.mitre.org/ \\n                (). NIST Computer Security Division. http://csrc.nist.gov/ \\n                (). CERT:Computer Emergence Response Team. http://www.cert.org \\n                (). AntiOnline. http://www.antionline.com/ \\n                (). Delitos Informáticos. http://www.delitosinformaticos.com/ \\n                (). (in)secure magazine. http://www.net-security.org/insecure-archive.php \\n                (). Linux Journal. http://www.linuxjournal.com/ \\n                (). Security art work. http://www.securityartwork.com/ \\n                (). Security by default. http://www.securitybydefault.com/ \\n               Pekka HIMANEN (2002). La ética del hacker y el espíritu de la era de la información. Barcelona, Destino \\n               Lawrence LESSIG (2001). El código y otras leyes del ciberespacio. Madrid, Taurus \\n               Justo GÓMEZ NAVAJAS (2005). La protección de los datos personales. Cizur Menor, Thomson Civitas \\n               Fernando MIRÓ LLINARES (2005). Internet y delitos contra la propiedad intelectual. Valencia: Tirant lo Blanch \\n               Antoni FARRIOLS I SOLA (2006). La protección de datos de carácter personal en los centros de trabajo. Madrid: Cinca \\n               Pedro DE MIGUEL ASENSIO (2011). Derecho privado de internet. Madrid: Civitas \\n               Esther MORÓN LERMA (2002). Internet y Derecho penal. Pamplona: Aranzadi\\n\\n\\n\\n\\n \\n\\n'},\n",
       " {'code': '614G01025',\n",
       "  'name': 'Gestión de Infraestructuras',\n",
       "  'subject_type': 'Obligatoria',\n",
       "  'num_credits': 6,\n",
       "  'period': 1,\n",
       "  'course': 3,\n",
       "  'language': 'Español, Gallego',\n",
       "  'content': '\\n\\n',\n",
       "  'mention': '',\n",
       "  'url': 'https://guiadocente.udc.es/guia_docent/index.php?centre=614&ensenyament=614G01&assignatura=614G01025&any_academic=2019_20&idioma=cast&fitxa_apartat=3&idioma_assig=cast',\n",
       "  'bibliography': '\\n\\n'},\n",
       " {'code': '614G01026',\n",
       "  'name': 'Arquitectura del Software',\n",
       "  'subject_type': 'Optativa',\n",
       "  'num_credits': 6,\n",
       "  'period': 2,\n",
       "  'course': 3,\n",
       "  'language': 'Español, Gallego',\n",
       "  'content': \"\\n\\n\\nTema\\nSubtema\\n\\n\\nConcepto de arquitectura software \\nDefinición de arquitectura software\\r\\nEstructuras y vistas\\r\\n-  Notación\\r\\n--    C4\\r\\n--    Estándar IEEE 1471\\r\\nCiclo de vida y negocio de la arquitectura software \\n\\n\\nModelos y arquitecturas de referencia \\nParámetros de calidad en arquitectura software\\r\\nTipos de arquitecturas\\r\\n-  Arquitectura en capas\\r\\n-  Arquitectura de repositorio\\r\\n-  Arquitectura cliente/servidor (orientada a servicios)\\r\\n-  Arquitectura 'pipe and filter' (basada en componentes)\\r\\n-  Arquitecturas distribuidas\\r\\n--    Arquitecturas maestro/esclavo\\r\\n--    Arquitecturas cliente/servidor multicapa\\r\\n--    Arquitecturas P2P\\r\\n-  Otras arquitecturas\\r\\n--    Sistemas embebidos\\r\\n--    Sistemas orientados a aspectos \\n\\n\\nDiseño e integración de componentes. Patrones arquitecturales. \\nEstrategias de diseño\\r\\nPatrones de arquitectura\\r\\nReutilización\\r\\n-  Sistemas COTS y legacy\\r\\n-  Estilos de integración\\r\\n--    Transferencia de ficheros\\r\\n--    Compartición de fuentes de datos\\r\\n--    Invocación de procedimientos remotos\\r\\n--    Paso de mensajes\\r\\nReconstrucción / reingeniería de sistemas \\n\\n\\nTrazabilidad y pruebas de integración \\nProceso de integración\\r\\nVerificación y pruebas de integración\\r\\n-   Pruebas funcionales\\r\\n-   Pruebas no funcionales\\r\\nValidación y usabilidad \\n\\n\",\n",
       "  'mention': '',\n",
       "  'url': 'https://guiadocente.udc.es/guia_docent/index.php?centre=614&ensenyament=614G01&assignatura=614G01026&any_academic=2019_20&idioma=cast&fitxa_apartat=3&idioma_assig=cast',\n",
       "  'bibliography': \"\\n\\n\\nBásica\\n\\n\\n\\n               Sommerville, Ian (2011). Ingeniería de software. Addison Wesley \\n               Hohpe, Gregor (2004). Enterprise integration patterns designing, building and deploying messaging solutions. Addison-Wesley \\n               Clements, Paul [et al.] (2003). Documenting software architectures : views and beyond. Addison-Wesley \\n               Bass, Len [et al.] (2003). Software architecture in practice. Addison-Wesley \\n               Fowler, Martin (2003). Patterns of enterprise application architecture. Addison-Wesley \\n               Braude, Eric J. (2001). Software engineering an object-oriented perspective. John Wiley & Sons \\n               Schmidt, Douglas [et al.] (2000). Pattern-oriented software architecture. John Wiley & Sons \\n                Hébert, Fred (2013).  \\tLearn you some Erlang for great good : a beginner's guide. No Starch Press \\n               Bruce A. Tate [et al.] (2014).  \\tSeven more languages in seven weeks : languages that are shaping the future. The Pragmatic Boolshelf\\n\\n\\n\\n\\n \\n\\n\\n\\nComplementária\\n\\n\\n\\n\\n\\n\\n \\n\\n\"},\n",
       " {'code': '614G01027',\n",
       "  'name': 'Ingeniería de Requisitos',\n",
       "  'subject_type': 'Optativa',\n",
       "  'num_credits': 6,\n",
       "  'period': 2,\n",
       "  'course': 3,\n",
       "  'language': 'Español, Gallego',\n",
       "  'content': '\\n\\n',\n",
       "  'mention': '',\n",
       "  'url': 'https://guiadocente.udc.es/guia_docent/index.php?centre=614&ensenyament=614G01&assignatura=614G01027&any_academic=2019_20&idioma=cast&fitxa_apartat=3&idioma_assig=cast',\n",
       "  'bibliography': '\\n\\n'},\n",
       " {'code': '614G01028',\n",
       "  'name': 'Aseguramiento de la Calidad',\n",
       "  'subject_type': 'Optativa',\n",
       "  'num_credits': 6,\n",
       "  'period': 2,\n",
       "  'course': 3,\n",
       "  'language': 'Español, Gallego',\n",
       "  'content': '\\n\\n',\n",
       "  'mention': '',\n",
       "  'url': 'https://guiadocente.udc.es/guia_docent/index.php?centre=614&ensenyament=614G01&assignatura=614G01028&any_academic=2019_20&idioma=cast&fitxa_apartat=3&idioma_assig=cast',\n",
       "  'bibliography': '\\n\\n'},\n",
       " {'code': '614G01029',\n",
       "  'name': 'Bases de Datos Avanzadas',\n",
       "  'subject_type': 'Optativa',\n",
       "  'num_credits': 6,\n",
       "  'period': 2,\n",
       "  'course': 3,\n",
       "  'language': 'Español, Gallego',\n",
       "  'content': '\\n\\n',\n",
       "  'mention': '',\n",
       "  'url': 'https://guiadocente.udc.es/guia_docent/index.php?centre=614&ensenyament=614G01&assignatura=614G01029&any_academic=2019_20&idioma=cast&fitxa_apartat=3&idioma_assig=cast',\n",
       "  'bibliography': '\\n\\n'},\n",
       " {'code': '614G01030',\n",
       "  'name': 'Programación Avanzada',\n",
       "  'subject_type': 'Optativa',\n",
       "  'num_credits': 6,\n",
       "  'period': 2,\n",
       "  'course': 3,\n",
       "  'language': 'Español, Gallego',\n",
       "  'content': '\\n\\n',\n",
       "  'mention': '',\n",
       "  'url': 'https://guiadocente.udc.es/guia_docent/index.php?centre=614&ensenyament=614G01&assignatura=614G01030&any_academic=2019_20&idioma=cast&fitxa_apartat=3&idioma_assig=cast',\n",
       "  'bibliography': '\\n\\n'},\n",
       " {'code': '614G01031',\n",
       "  'name': 'Codiseño Hardware/software',\n",
       "  'subject_type': 'Optativa',\n",
       "  'num_credits': 6,\n",
       "  'period': 2,\n",
       "  'course': 3,\n",
       "  'language': 'Español, Gallego',\n",
       "  'content': '\\n\\n\\nTema\\nSubtema\\n\\n\\nFundamentos y Plataformas para codiseño hardware/software \\nDefinición de codiseño\\r\\nHardware de aplicación específica y reconfigurable \\n\\n\\nCodiseño Hardware/Software\\n\\nModelado transaccional y de flujo de datos\\r\\nModelado con precisión temporal  \\n\\n\\nModelos de flujo de datos y de control \\nModelado e implementación del flujo de datos\\r\\nAnálisis de los flujos de control y de datos \\n\\n\\nProcesadores programables de aplicación específica\\n\\nAceleradores y coprocesadores\\r\\nSistemas en un chip (SoC) \\n\\n',\n",
       "  'mention': '',\n",
       "  'url': 'https://guiadocente.udc.es/guia_docent/index.php?centre=614&ensenyament=614G01&assignatura=614G01031&any_academic=2019_20&idioma=cast&fitxa_apartat=3&idioma_assig=cast',\n",
       "  'bibliography': \"\\n\\n\\nBásica\\n\\n\\n\\n               Patrick R. Schaumont (2010). A Practical Introduction to Hardware/Software Codesign. Springer \\n               David C. Black e Jack Donovan  (2004). SystemC: From the ground up . Kluwer Academic Publishers  \\n               Peter J. Ashenden e Jim Lewis (2008). The Designer's Guide to VHDL, Third Edition (Systems on Silicon). Morgan Kaufmann\\n\\n\\n\\n\\n \\n\\n\\n\\nComplementária\\n\\n\\n\\n               Jayaram Bhasker  (1999). A VHDL Primer . Prentice Hall \\n               Wayne Wolf (). Computers as Components, 2nd edition. Principles of Embedded Computing System Design. Morgan Kaufmann\\n\\n\\n\\n\\n \\n\\n\"},\n",
       " {'code': '614G01032',\n",
       "  'name': 'Dispositivos Hardware e Interfaces',\n",
       "  'subject_type': 'Optativa',\n",
       "  'num_credits': 6,\n",
       "  'period': 2,\n",
       "  'course': 3,\n",
       "  'language': 'Español, Gallego',\n",
       "  'content': '\\n\\n',\n",
       "  'mention': '',\n",
       "  'url': 'https://guiadocente.udc.es/guia_docent/index.php?centre=614&ensenyament=614G01&assignatura=614G01032&any_academic=2019_20&idioma=cast&fitxa_apartat=3&idioma_assig=cast',\n",
       "  'bibliography': '\\n\\n'},\n",
       " {'code': '614G01033',\n",
       "  'name': 'Arquitectura de Computadores',\n",
       "  'subject_type': 'Optativa',\n",
       "  'num_credits': 6,\n",
       "  'period': 2,\n",
       "  'course': 3,\n",
       "  'language': 'Español, Gallego',\n",
       "  'content': '\\n\\n',\n",
       "  'mention': '',\n",
       "  'url': 'https://guiadocente.udc.es/guia_docent/index.php?centre=614&ensenyament=614G01&assignatura=614G01033&any_academic=2019_20&idioma=cast&fitxa_apartat=3&idioma_assig=cast',\n",
       "  'bibliography': '\\n\\n'},\n",
       " {'code': '614G01034',\n",
       "  'name': 'Software de Comunicaciones',\n",
       "  'subject_type': 'Optativa',\n",
       "  'num_credits': 6,\n",
       "  'period': 2,\n",
       "  'course': 3,\n",
       "  'language': 'Español, Gallego',\n",
       "  'content': '\\n\\n',\n",
       "  'mention': '',\n",
       "  'url': 'https://guiadocente.udc.es/guia_docent/index.php?centre=614&ensenyament=614G01&assignatura=614G01034&any_academic=2019_20&idioma=cast&fitxa_apartat=3&idioma_assig=cast',\n",
       "  'bibliography': '\\n\\n'},\n",
       " {'code': '614G01035',\n",
       "  'name': 'Procesamiento Digital de la Información',\n",
       "  'subject_type': 'Optativa',\n",
       "  'num_credits': 6,\n",
       "  'period': 2,\n",
       "  'course': 3,\n",
       "  'language': 'Español, Gallego',\n",
       "  'content': '\\n\\n',\n",
       "  'mention': '',\n",
       "  'url': 'https://guiadocente.udc.es/guia_docent/index.php?centre=614&ensenyament=614G01&assignatura=614G01035&any_academic=2019_20&idioma=cast&fitxa_apartat=3&idioma_assig=cast',\n",
       "  'bibliography': '\\n\\n'},\n",
       " {'code': '614G01036',\n",
       "  'name': 'Representación del Conocimiento y Razonamiento Automático',\n",
       "  'subject_type': 'Optativa',\n",
       "  'num_credits': 6,\n",
       "  'period': 2,\n",
       "  'course': 3,\n",
       "  'language': 'Español, Gallego',\n",
       "  'content': '\\n\\n',\n",
       "  'mention': '',\n",
       "  'url': 'https://guiadocente.udc.es/guia_docent/index.php?centre=614&ensenyament=614G01&assignatura=614G01036&any_academic=2019_20&idioma=cast&fitxa_apartat=3&idioma_assig=cast',\n",
       "  'bibliography': '\\n\\n'},\n",
       " {'code': '614G01038',\n",
       "  'name': 'Aprendizaje Automático',\n",
       "  'subject_type': 'Optativa',\n",
       "  'num_credits': 6,\n",
       "  'period': 2,\n",
       "  'course': 3,\n",
       "  'language': 'Español, Gallego',\n",
       "  'content': '\\n\\n',\n",
       "  'mention': '',\n",
       "  'url': 'https://guiadocente.udc.es/guia_docent/index.php?centre=614&ensenyament=614G01&assignatura=614G01038&any_academic=2019_20&idioma=cast&fitxa_apartat=3&idioma_assig=cast',\n",
       "  'bibliography': '\\n\\n'},\n",
       " {'code': '614G01039',\n",
       "  'name': 'Teoría de la computación',\n",
       "  'subject_type': 'Optativa',\n",
       "  'num_credits': 6,\n",
       "  'period': 2,\n",
       "  'course': 3,\n",
       "  'language': 'Español, Gallego',\n",
       "  'content': '\\n\\n',\n",
       "  'mention': '',\n",
       "  'url': 'https://guiadocente.udc.es/guia_docent/index.php?centre=614&ensenyament=614G01&assignatura=614G01039&any_academic=2019_20&idioma=cast&fitxa_apartat=3&idioma_assig=cast',\n",
       "  'bibliography': '\\n\\n'},\n",
       " {'code': '614G01040',\n",
       "  'name': 'Recuperación de la Información',\n",
       "  'subject_type': 'Optativa',\n",
       "  'num_credits': 6,\n",
       "  'period': 2,\n",
       "  'course': 3,\n",
       "  'language': 'Español, Gallego',\n",
       "  'content': '\\n\\n',\n",
       "  'mention': '',\n",
       "  'url': 'https://guiadocente.udc.es/guia_docent/index.php?centre=614&ensenyament=614G01&assignatura=614G01040&any_academic=2019_20&idioma=cast&fitxa_apartat=3&idioma_assig=cast',\n",
       "  'bibliography': '\\n\\n'},\n",
       " {'code': '614G01041',\n",
       "  'name': 'Análisis y Desarrollo de los Sistemas de Información',\n",
       "  'subject_type': 'Optativa',\n",
       "  'num_credits': 6,\n",
       "  'period': 2,\n",
       "  'course': 3,\n",
       "  'language': 'Español, Gallego',\n",
       "  'content': '\\n\\n',\n",
       "  'mention': '',\n",
       "  'url': 'https://guiadocente.udc.es/guia_docent/index.php?centre=614&ensenyament=614G01&assignatura=614G01041&any_academic=2019_20&idioma=cast&fitxa_apartat=3&idioma_assig=cast',\n",
       "  'bibliography': '\\n\\n'},\n",
       " {'code': '614G01042',\n",
       "  'name': 'Gestión de Proceso de Negocio',\n",
       "  'subject_type': 'Optativa',\n",
       "  'num_credits': 6,\n",
       "  'period': 2,\n",
       "  'course': 3,\n",
       "  'language': 'Español, Gallego',\n",
       "  'content': '\\n\\n',\n",
       "  'mention': '',\n",
       "  'url': 'https://guiadocente.udc.es/guia_docent/index.php?centre=614&ensenyament=614G01&assignatura=614G01042&any_academic=2019_20&idioma=cast&fitxa_apartat=3&idioma_assig=cast',\n",
       "  'bibliography': '\\n\\n'},\n",
       " {'code': '614G01043',\n",
       "  'name': 'Explotación de Almacenes de Datos',\n",
       "  'subject_type': 'Optativa',\n",
       "  'num_credits': 6,\n",
       "  'period': 2,\n",
       "  'course': 3,\n",
       "  'language': 'Español, Gallego',\n",
       "  'content': '\\n\\n\\nTema\\nSubtema\\n\\n\\nConceptos de Bases de Datos \\n \\n\\n\\nIntroducción a la Inteligencia de Negocio y al Data Warehouse\\n\\n \\n\\n\\n\\nDiseño de Data Warehouse \\n \\n\\n\\n\\nMinería de Datos \\n \\n\\n\\n',\n",
       "  'mention': '',\n",
       "  'url': 'https://guiadocente.udc.es/guia_docent/index.php?centre=614&ensenyament=614G01&assignatura=614G01043&any_academic=2019_20&idioma=cast&fitxa_apartat=3&idioma_assig=cast',\n",
       "  'bibliography': '\\n\\n\\nBásica\\n\\n\\n\\n               Kimball, R.; Ross, M (2013). The Data Warehouse Toolkit, 3rd edition. Wiley \\n               Kimball, R.; Ross, M.; Thornthwaite, W.; Mundy, J.; Becker, B.  (2008). The Data Warehouse Lifecycle Toolkit, 2nd edition. John Wiley and Sons \\n               Inmon, W. H.  (2002). Building the Data Warehouse, 3nd edition. Wiley \\n               Sharda, R. Delen, D.; Turban, E. (2014). Business Intelligence: A managerial perspective on analytics. Prentice Hall \\n               Tan, P.; Steinbach, M.; Kumar, V. (2006). Introduction to Data Mining . Addison-Wesley \\n               Williams, G. (2011). Data Mining with Rattle and R. Springer\\n\\n\\n\\n\\n \\n\\n\\n\\nComplementária\\n\\n\\n\\n               Inmon, W. H.; Strauss, D.; Neushloss, G.  (2008). The Architecture for the Next Generation of Data Warehousing . Morgan Kaufman  \\n               Golfarelli, M.; Rizzi, S.  (2009). Data Warehouse Design: Modern Principles and Methodologies . McGraw-Hill  \\n               Mazón López, N.; Pardillo Vela, J.; Trujillo Mondejar. J. C.  (2011). Diseño y explotación de almacenes de datos . Editorial Club Universitario  \\n               Elmasri, R.; Navathe, S. (2011). Fundamentals of Database Systems. Addison-Wesley \\n               García-Molina, H.; Ullman, J.; Widom, J. (2009). Database System. The complete book.. Prentice Hall\\n\\n\\n\\n\\n \\n\\n'},\n",
       " {'code': '614G01044',\n",
       "  'name': 'Calidad en Sistemas de Información',\n",
       "  'subject_type': 'Optativa',\n",
       "  'num_credits': 6,\n",
       "  'period': 2,\n",
       "  'course': 3,\n",
       "  'language': 'Español, Gallego',\n",
       "  'content': '\\n\\n\\nTema\\nSubtema\\n\\n\\nTema 1: Introducción al Control de Calidad de Sistemas de Información.  \\nConcepto, necesidad, requisitos.\\r\\nNiveles y Tareas de QA. \\r\\nSistemas de Control de Calidad (QMS) .\\r\\nPlanificación de QA y revisiones de calidad. \\n\\n\\nTema 2: El proceso de una Auditoría  de Sistemas de Información \\nConcepto, necesidad, funciones.\\r\\nAnálisis de riesgos.\\r\\nControles internos.\\r\\nPlanificación de auditoría y evidencias de auditoría. \\r\\nEjecución de una auditoría. \\n\\n\\nTema 3: IT Governance (Gobierno Tecnológico) \\nConcepto y  necesidad.\\r\\nEstrategias de Sistemas de Información frente a estrategias corporativas.\\r\\nMarcos: COBIT.\\r\\nAuditoría de estructuras de IT governance.\\r\\nControl de riesgos. \\n\\n\\nTema 4: Protección de activos de Sistemas de Información.  \\nConcepto y necesidad.\\r\\nProtección de Sistemas de Información.\\r\\nProtección lógica y aplicada de Sistemas de Información.\\r\\nSeguridad física y de entorno. \\r\\nAuditoría de marcos de control de seguridad.  \\n\\n\\nTema 5: Continuidad del negocio y recuperación ante situaciones de desastre. \\nConceptos generales. \\r\\nPlan de continuidad y componentes.\\r\\nAuditoría del plan de continuidad. \\n\\n\\nTema 6: Aspectos Legales en Sistemas de Información. \\nNormativa legal española\\r\\nProtección de datos. \\n\\n',\n",
       "  'mention': '',\n",
       "  'url': 'https://guiadocente.udc.es/guia_docent/index.php?centre=614&ensenyament=614G01&assignatura=614G01044&any_academic=2019_20&idioma=cast&fitxa_apartat=3&idioma_assig=cast',\n",
       "  'bibliography': '\\n\\n\\nBásica\\n\\n\\n\\n               Sandra Senft y Frederick Gallegos (2008). Information Technology Control and Audit. Auerbach Publishers Inc \\n               Chris Davis, Mike Schiller, Kevin Wheeler (2006).  IT Auditing: Using Controls to Protect Information Assets.  McGraw-Hill \\n               ISACA (2012). Cobit 5: A Business Framework for the Governance and Management of Enterprise IT..  \\n               ISACA (). http://www.isaca.org.  \\n               Mario G. Piattini Velthuis, Félix O. García Rubio, Ignacio García Rodríguez de Guzmán, Francisco J.  (2015). Calidad de sistemas de información 2nd ed. RAMA\\n\\n\\n\\n\\n \\n\\n\\n\\nComplementária\\n\\n\\n\\n\\n\\n\\n \\n\\n'},\n",
       " {'code': '614G01045',\n",
       "  'name': 'Modelado Avanzado de Información',\n",
       "  'subject_type': 'Optativa',\n",
       "  'num_credits': 6,\n",
       "  'period': 2,\n",
       "  'course': 3,\n",
       "  'language': 'Español, Gallego',\n",
       "  'content': '\\n\\n',\n",
       "  'mention': '',\n",
       "  'url': 'https://guiadocente.udc.es/guia_docent/index.php?centre=614&ensenyament=614G01&assignatura=614G01045&any_academic=2019_20&idioma=cast&fitxa_apartat=3&idioma_assig=cast',\n",
       "  'bibliography': '\\n\\n'},\n",
       " {'code': '614G01046',\n",
       "  'name': 'Calidad en la Gestion TIC',\n",
       "  'subject_type': 'Optativa',\n",
       "  'num_credits': 6,\n",
       "  'period': 2,\n",
       "  'course': 3,\n",
       "  'language': 'Español, Gallego',\n",
       "  'content': '\\n\\n\\nTema\\nSubtema\\n\\n\\nIntroducción \\nOrganizaciónes y TIC\\r\\nGestión de servicios \\n\\n\\nBuenas prácticas de gestión de servicios \\nConceptos generales\\r\\nIntroducción a ITIL v3 \\n\\n\\nEl ciclo de vida de un servicio \\nCiclo de vida de un servicio\\r\\nEstrategia del servicio\\r\\nDiseño del servicio\\r\\nTransición del servicio\\r\\nOperación del servicio\\r\\nMejora continua del servicio \\n\\n\\nDiseño de servicios \\nConceptos genéricos y definiciones\\r\\nPrincipios clave y modelos\\r\\nProcesos \\n\\n\\nTransición de servicios \\nConceptos genéricos y definiciones\\r\\nPrincipios clave y modelos\\r\\nProcesos \\n\\n\\nOperación de sevicios \\nConceptos genéricos y definiciones\\r\\nPrincipios claves y modelos\\r\\nProcesos\\r\\nFunciones \\n\\n\\nEstrategia de servicios \\nIntroducción\\r\\nProcesos \\n\\n\\nMejora continua de servicios \\nPrincipios clave y modelos\\r\\nProcesos \\n\\n',\n",
       "  'mention': '',\n",
       "  'url': 'https://guiadocente.udc.es/guia_docent/index.php?centre=614&ensenyament=614G01&assignatura=614G01046&any_academic=2019_20&idioma=cast&fitxa_apartat=3&idioma_assig=cast',\n",
       "  'bibliography': '\\n\\n\\nBásica\\n\\n\\n\\n               Office of Government Commerce (2012). Passing your ITIL Foundation exam. The Stationery Office \\n               Brady Orand (2011). Foundations of IT Service management with ITIL 2011. CreateSpace \\n               Peter Farenden (2011). ITIL for dummies. Oxford : John Wiley &amp; Sons\\n\\n\\n\\n\\n \\n\\n\\n\\nComplementária\\n\\n\\n\\n               Cabinet Office (2011). ITIL Service Strategy. TSO (The Stationery Office) \\n               Cabinet Office (2011). ITIL Service Design. TSO (The Stationery Office) \\n               Cabinet Office (2011). ITIL Service Transition. TSO (The Stationery Office) \\n               Cabinet Office (2011). ITIL Service Operation. TSO (The Stationery Office) \\n               Cabinet Office (2011). ITIL Continual Service Improvement. TSO (The Stationery Office)\\n\\n\\n\\n\\n \\n\\n'},\n",
       " {'code': '614G01047',\n",
       "  'name': 'Administración de Sistemas Operativos',\n",
       "  'subject_type': 'Optativa',\n",
       "  'num_credits': 6,\n",
       "  'period': 2,\n",
       "  'course': 3,\n",
       "  'language': 'Español, Gallego',\n",
       "  'content': '\\n\\n',\n",
       "  'mention': '',\n",
       "  'url': 'https://guiadocente.udc.es/guia_docent/index.php?centre=614&ensenyament=614G01&assignatura=614G01047&any_academic=2019_20&idioma=cast&fitxa_apartat=3&idioma_assig=cast',\n",
       "  'bibliography': '\\n\\n'},\n",
       " {'code': '614G01048',\n",
       "  'name': 'Administración de Redes',\n",
       "  'subject_type': 'Optativa',\n",
       "  'num_credits': 6,\n",
       "  'period': 2,\n",
       "  'course': 3,\n",
       "  'language': 'Español, Gallego',\n",
       "  'content': '\\n\\n',\n",
       "  'mention': '',\n",
       "  'url': 'https://guiadocente.udc.es/guia_docent/index.php?centre=614&ensenyament=614G01&assignatura=614G01048&any_academic=2019_20&idioma=cast&fitxa_apartat=3&idioma_assig=cast',\n",
       "  'bibliography': '\\n\\n'},\n",
       " {'code': '614G01049',\n",
       "  'name': 'Programación Integrativa',\n",
       "  'subject_type': 'Optativa',\n",
       "  'num_credits': 6,\n",
       "  'period': 2,\n",
       "  'course': 3,\n",
       "  'language': 'Español, Gallego',\n",
       "  'content': '\\n\\n',\n",
       "  'mention': '',\n",
       "  'url': 'https://guiadocente.udc.es/guia_docent/index.php?centre=614&ensenyament=614G01&assignatura=614G01049&any_academic=2019_20&idioma=cast&fitxa_apartat=3&idioma_assig=cast',\n",
       "  'bibliography': '\\n\\n'},\n",
       " {'code': '614G01050',\n",
       "  'name': 'Administración de Bases de Datos',\n",
       "  'subject_type': 'Optativa',\n",
       "  'num_credits': 6,\n",
       "  'period': 2,\n",
       "  'course': 3,\n",
       "  'language': 'Español, Gallego',\n",
       "  'content': '\\n\\n',\n",
       "  'mention': '',\n",
       "  'url': 'https://guiadocente.udc.es/guia_docent/index.php?centre=614&ensenyament=614G01&assignatura=614G01050&any_academic=2019_20&idioma=cast&fitxa_apartat=3&idioma_assig=cast',\n",
       "  'bibliography': '\\n\\n'},\n",
       " {'code': '614G01051',\n",
       "  'name': 'Metodologías de Desarrollo',\n",
       "  'subject_type': 'Optativa',\n",
       "  'num_credits': 6,\n",
       "  'period': 2,\n",
       "  'course': 4,\n",
       "  'language': 'Español, Gallego',\n",
       "  'content': '\\n\\n',\n",
       "  'mention': '',\n",
       "  'url': 'https://guiadocente.udc.es/guia_docent/index.php?centre=614&ensenyament=614G01&assignatura=614G01051&any_academic=2019_20&idioma=cast&fitxa_apartat=3&idioma_assig=cast',\n",
       "  'bibliography': '\\n\\n'},\n",
       " {'code': '614G01052',\n",
       "  'name': 'Marcos de Desarrollo',\n",
       "  'subject_type': 'Optativa',\n",
       "  'num_credits': 6,\n",
       "  'period': 1,\n",
       "  'course': 4,\n",
       "  'language': 'Español, Gallego',\n",
       "  'content': '\\n\\n',\n",
       "  'mention': '',\n",
       "  'url': 'https://guiadocente.udc.es/guia_docent/index.php?centre=614&ensenyament=614G01&assignatura=614G01052&any_academic=2019_20&idioma=cast&fitxa_apartat=3&idioma_assig=cast',\n",
       "  'bibliography': '\\n\\n'},\n",
       " {'code': '614G01053',\n",
       "  'name': 'Validación y Verificación del Software',\n",
       "  'subject_type': 'Optativa',\n",
       "  'num_credits': 6,\n",
       "  'period': 1,\n",
       "  'course': 4,\n",
       "  'language': 'Español, Gallego',\n",
       "  'content': '\\n\\n\\nTema\\nSubtema\\n\\n\\nBloque I: Validación de software\\n\\nI.1 Especificación, diseño y ejecución de pruebas\\r\\n   I1.1. Niveles y tipos de pruebas\\r\\n   I1.2. Propiedades y trazabilidad de requisitos\\r\\n   I1.3. Automatización\\r\\nI.2 Gestión de pruebas: planificación, evaluación, métricas y revisiones \\n\\n\\nBloque II: Métodos formales y razonamiento automático\\n\\nII.1 Introducción: Deducción natural y cálculo de secuentes\\r\\nII.2 Prueba automática utilizando PVS\\r\\nII.3 ¿Qué és y para que se utiliza un probador de teoremas?\\r\\nII.4 Lenguaje de especificación de PVS: Tipos, expresiones, teorías, subtipado\\r\\nII.5 Probador PVS: tácticas, recursión, razonamiento ecuacional \\n\\n\\nBloque III: Comprobación por modelos (model checking) \\nIII.1 Introducción a las lógicas modales temporales\\r\\nIII.2 Especificación de propiedades: deadlocks, safety, liveness, fairness\\r\\nIII.3 Funcionamiento de un comprobador por modelos\\r\\nIII.4 Introducción al manejo de una herramienta de model checking \\n\\n',\n",
       "  'mention': '',\n",
       "  'url': 'https://guiadocente.udc.es/guia_docent/index.php?centre=614&ensenyament=614G01&assignatura=614G01053&any_academic=2019_20&idioma=cast&fitxa_apartat=3&idioma_assig=cast',\n",
       "  'bibliography': '\\n\\n\\nBásica\\n\\n\\n\\n               Mordechai Ben-Ari (2012). Mathematical Logic for Computer Science. Springer \\n               Ron Patton (2001). Software testing. Sams \\n               Peter Farrell-Vinay (2008). Manage software testing. Auerbach \\n               Kent Beck (2002). Test Driven Development (By Example). Addison-Wesley \\n               Hébert, Fred (2019). Property-based testing with PropEr, Erlang, and Elixir : find bugs before your users do. The Pragmatic Bookshelf \\n               Gerard J. Holzmann (2003). The SPIN model checker: primer and reference manual. Addison-Wesley \\n               Mordechai Ben-Ari (2001). Mathematical Logic for Computer Science. Springer \\n               Zohar Manna and Amir Pnueli (1991). The Temporal Logic of Reactive and Concurrent Systems. Specification. Springer \\n               Zohar Manna and Amir Pnueli (1995). The Temporal Logic of Reactive and Concurrent Systems. Safety. Springer\\n\\n\\n\\n\\n \\n\\n\\n\\nComplementária\\n\\n\\n\\n\\n\\n\\n \\n\\n'},\n",
       " {'code': '614G01054',\n",
       "  'name': 'Herramientas de Desarrollo',\n",
       "  'subject_type': 'Optativa',\n",
       "  'num_credits': 6,\n",
       "  'period': 1,\n",
       "  'course': 4,\n",
       "  'language': 'Español, Gallego',\n",
       "  'content': '\\n\\n',\n",
       "  'mention': '',\n",
       "  'url': 'https://guiadocente.udc.es/guia_docent/index.php?centre=614&ensenyament=614G01&assignatura=614G01054&any_academic=2019_20&idioma=cast&fitxa_apartat=3&idioma_assig=cast',\n",
       "  'bibliography': '\\n\\n'},\n",
       " {'code': '614G01057',\n",
       "  'name': 'Métodos Estadísticos',\n",
       "  'subject_type': 'Optativa',\n",
       "  'num_credits': 6,\n",
       "  'period': 1,\n",
       "  'course': 4,\n",
       "  'language': 'Español, Gallego',\n",
       "  'content': '\\n\\n',\n",
       "  'mention': '',\n",
       "  'url': 'https://guiadocente.udc.es/guia_docent/index.php?centre=614&ensenyament=614G01&assignatura=614G01057&any_academic=2019_20&idioma=cast&fitxa_apartat=3&idioma_assig=cast',\n",
       "  'bibliography': '\\n\\n'},\n",
       " {'code': '614G01058',\n",
       "  'name': 'Programación de Sistemas',\n",
       "  'subject_type': 'Optativa',\n",
       "  'num_credits': 6,\n",
       "  'period': 1,\n",
       "  'course': 4,\n",
       "  'language': 'Español, Gallego',\n",
       "  'content': '\\n\\n\\nTema\\nSubtema\\n\\n\\n1.1. Introducción a la Programación de Sistemas \\t \\nIntroducción a la Programación de Sistemas\\r\\nPresentación de la asignatura  \\n\\n\\n1.2. Introducción a Android  \\nHistoria y evolución\\r\\nArquitectura y características\\r\\nComponentes principales\\r\\nManifiesto \\n\\n\\n1.3. Herramientas de desarrollo \\nInstalación del SDK y Android Studio\\r\\nAplicación básica y estructura de una aplicación\\r\\nDepuración y testing\\r\\nRecursos de aplicaciones \\n\\n\\n2.1. Actividades, Fragmentos e Intents  \\nActividades y ciclo de vida\\r\\nIntents explícitos e implícitos\\r\\nPaso de parámetros\\r\\nFragmentos estáticos y dinámicos\\r\\nComunicación entre fragmentos \\n\\n\\n2.2. Interfaz de usuario \\nLayouts y Vistas\\r\\nEventos\\r\\nNotificaciones\\r\\nMenúes y ToolBar\\r\\nDiálogos\\r\\nListas y Adaptadores \\n\\n\\n2.3. Trabajando en segundo plano \\nServicios locales y remotos\\r\\nBroadcast Receivers \\t\\t\\r\\nHilos, tareas y mensajes\\r\\nJobs\\r\\nAppWidgets \\n\\n\\n3.1. Arquitecturas de aplicaciones  \\nTipos de arquitecturas\\r\\nDistribución en capas\\r\\nIntercambios \\n\\n\\n3.2. Persistencia de datos  \\nPreferencias\\r\\nFicheros internos y externos\\r\\nBase de datos: SQL y ROOM\\r\\nProveedor de Contenidos \\t\\t \\n\\n\\n3.3. Interconexión \\nComunicaciones\\r\\nConexión vía Post\\r\\nProtocolos: XML y JSON \\r\\nServicios de red avanzados  \\n\\n\\n4.1. Servicios del sistema y Sensores \\nServicios del sistema\\r\\nConectividad\\r\\nServicios wifi y teléfono\\r\\nSensores \\n\\n\\n4.2. Localización y Mapas \\nLocalización\\r\\nMapas (librería Google Maps)\\r\\nServicios de localización \\n\\n\\n4.3. Distribución \\nPublicación\\r\\nPermisos\\r\\nMonetización y Publicidad\\r\\nOptimización \\n\\n',\n",
       "  'mention': '',\n",
       "  'url': 'https://guiadocente.udc.es/guia_docent/index.php?centre=614&ensenyament=614G01&assignatura=614G01058&any_academic=2019_20&idioma=cast&fitxa_apartat=3&idioma_assig=cast',\n",
       "  'bibliography': \"\\n\\n\\nBásica\\n\\n\\n\\n               Wie Meng Lee (2012). Android 4 Desarrollo de aplicaciones.  Wrox (Anaya Multimedia) \\n               Jesús Tomás Gironés (2012). El gran libro de Android. Marcombo \\n               Reto Meier (2016). Professional Android. WRox \\n               Joan Ribas Lequerica  (2014). Manual imprescindible de desarrollo de aplicaciones para Android. Anaya Multimedia \\n               Erik Hellman (2013). Android Programming: Pushing the Limits. Wiley \\n               Scott McCracken (2012). Android. Curso de desarrollo de aplicaciones. Inforbook \\n               Joseph Annuzzi, Lauren Darcey y Shane Conder (2015). Introduction to Android Application Development. Android Essentials. Addison-Wesley\\n\\n\\n\\n\\n \\n\\n\\n\\nComplementária\\n\\n\\n\\n               Lauren Darcey y Shane Conder (2012). Android Application development in 24 hours. SAMS \\n               Joshua J. Drake , Zach Lanier , Collin Mulliner , Pau Oliva Fora, Stephen A. Ridley , Georg Wichersk (2014). Android Hacker's Handbook. Wiley \\n               Joan Ribas Lequerica (2012). Desarrollo de aplicaciones para Android. Anaya \\n               José Enrique Amaro Soriano (2012). Android. Programación de dispositivos móviles a través de ejemplos. Marcombo \\n               Anders Goransson (2014). Efficient Android Threading: Asynchronous Processing Techniques for Android Applications. O'Reilly Media\\n\\n\\n\\n\\n \\n\\n\"},\n",
       " {'code': '614G01059',\n",
       "  'name': 'Ingeniería de Infraestructuras Informáticas',\n",
       "  'subject_type': 'Optativa',\n",
       "  'num_credits': 6,\n",
       "  'period': 1,\n",
       "  'course': 4,\n",
       "  'language': 'Español, Gallego',\n",
       "  'content': '\\n\\n',\n",
       "  'mention': '',\n",
       "  'url': 'https://guiadocente.udc.es/guia_docent/index.php?centre=614&ensenyament=614G01&assignatura=614G01059&any_academic=2019_20&idioma=cast&fitxa_apartat=3&idioma_assig=cast',\n",
       "  'bibliography': '\\n\\n'},\n",
       " {'code': '614G01060',\n",
       "  'name': 'Sistemas Empotrados',\n",
       "  'subject_type': 'Optativa',\n",
       "  'num_credits': 6,\n",
       "  'period': 1,\n",
       "  'course': 4,\n",
       "  'language': 'Español, Gallego',\n",
       "  'content': '\\n\\n',\n",
       "  'mention': '',\n",
       "  'url': 'https://guiadocente.udc.es/guia_docent/index.php?centre=614&ensenyament=614G01&assignatura=614G01060&any_academic=2019_20&idioma=cast&fitxa_apartat=3&idioma_assig=cast',\n",
       "  'bibliography': '\\n\\n'},\n",
       " {'code': '614G01061',\n",
       "  'name': 'Redes Mobiles y Sin cables',\n",
       "  'subject_type': 'Optativa',\n",
       "  'num_credits': 6,\n",
       "  'period': 1,\n",
       "  'course': 4,\n",
       "  'language': 'Español, Gallego',\n",
       "  'content': '\\n\\n',\n",
       "  'mention': '',\n",
       "  'url': 'https://guiadocente.udc.es/guia_docent/index.php?centre=614&ensenyament=614G01&assignatura=614G01061&any_academic=2019_20&idioma=cast&fitxa_apartat=3&idioma_assig=cast',\n",
       "  'bibliography': '\\n\\n'},\n",
       " {'code': '614G01064',\n",
       "  'name': 'Métodos Numéricos para la Informática',\n",
       "  'subject_type': 'Optativa',\n",
       "  'num_credits': 6,\n",
       "  'period': 1,\n",
       "  'course': 4,\n",
       "  'language': 'Español, Gallego',\n",
       "  'content': '\\n\\n',\n",
       "  'mention': '',\n",
       "  'url': 'https://guiadocente.udc.es/guia_docent/index.php?centre=614&ensenyament=614G01&assignatura=614G01064&any_academic=2019_20&idioma=cast&fitxa_apartat=3&idioma_assig=cast',\n",
       "  'bibliography': '\\n\\n'},\n",
       " {'code': '614G01065',\n",
       "  'name': 'Diseño de los Lenguajes de Programación',\n",
       "  'subject_type': 'Optativa',\n",
       "  'num_credits': 6,\n",
       "  'period': 1,\n",
       "  'course': 4,\n",
       "  'language': 'Español, Gallego',\n",
       "  'content': '\\n\\n\\nTema\\nSubtema\\n\\n\\nFormalización de los sistemas de tipos \\nSemántica operacional, denotacional y axiómática \\r\\nIntroducción al lambda cálculo \\r\\nLambda cálculo tipado  \\n\\n\\nLenguajes orientados a objetos \\nFundamentos de diseño de lenguajes orientados a objetos \\r\\nProblemas de tipado de los lenguajes orientados a objetos  \\n\\n\\nPrincipios de diseño de lenguajes de programción \\nNombres, ámbito y ligazón \\r\\nFlujo de control \\r\\nTipos de datos \\r\\nSubrutinas  \\n\\n\\nComputabilidad y complejidad  \\nComputabilidad y lambda cálculo\\r\\nClases de complejidad  \\n\\n',\n",
       "  'mention': '',\n",
       "  'url': 'https://guiadocente.udc.es/guia_docent/index.php?centre=614&ensenyament=614G01&assignatura=614G01065&any_academic=2019_20&idioma=cast&fitxa_apartat=3&idioma_assig=cast',\n",
       "  'bibliography': '\\n\\n\\nBásica\\n\\n\\n\\n               Benjamin C. Pierce (2002). Types and Programming Languages. The MIT Press, Cambridge, MA \\n               Kim B. Bruce (2002). Foundations of Object-Oriented Languages: Types and Semantics. The MIT Press, Cambridge, MA \\n               Michael L. Scott (2009). Programming Language Pragmatics. Third edition. Morgan Kaufmann Publishers, Burlington, MA \\n               Fortnow, Lance (2013). P, NP, and the search for the impossible. Princeton University Press\\n\\n\\n\\n\\n \\n\\n\\n\\nComplementária\\n\\n\\n\\n               Franklyn A. Turbak and David K. Gifford (2008). Design Concepts in Programming Languages. MIT Press, Cambridge, MA \\n               Robert W. Sebesta (2010). Concepts of Programming Languages. Pearson \\n               David A. Watt (2004). Programming Language Design Concepts. John Wiley and sons, Chichester, West Suusex, England\\n\\n\\n\\n\\n \\n\\n'},\n",
       " {'code': '614G01066',\n",
       "  'name': 'Computación Gráfica y Visualización',\n",
       "  'subject_type': 'Optativa',\n",
       "  'num_credits': 6,\n",
       "  'period': 1,\n",
       "  'course': 4,\n",
       "  'language': 'Español, Gallego',\n",
       "  'content': '\\n\\n',\n",
       "  'mention': '',\n",
       "  'url': 'https://guiadocente.udc.es/guia_docent/index.php?centre=614&ensenyament=614G01&assignatura=614G01066&any_academic=2019_20&idioma=cast&fitxa_apartat=3&idioma_assig=cast',\n",
       "  'bibliography': '\\n\\n'},\n",
       " {'code': '614G01067',\n",
       "  'name': 'Procesamiento de Lenguajes',\n",
       "  'subject_type': 'Optativa',\n",
       "  'num_credits': 6,\n",
       "  'period': 1,\n",
       "  'course': 4,\n",
       "  'language': 'Español, Gallego',\n",
       "  'content': '\\n\\n',\n",
       "  'mention': '',\n",
       "  'url': 'https://guiadocente.udc.es/guia_docent/index.php?centre=614&ensenyament=614G01&assignatura=614G01067&any_academic=2019_20&idioma=cast&fitxa_apartat=3&idioma_assig=cast',\n",
       "  'bibliography': '\\n\\n'},\n",
       " {'code': '614G01068',\n",
       "  'name': 'Visión Artificial',\n",
       "  'subject_type': 'Optativa',\n",
       "  'num_credits': 6,\n",
       "  'period': 1,\n",
       "  'course': 4,\n",
       "  'language': 'Español, Gallego',\n",
       "  'content': '\\n\\n',\n",
       "  'mention': '',\n",
       "  'url': 'https://guiadocente.udc.es/guia_docent/index.php?centre=614&ensenyament=614G01&assignatura=614G01068&any_academic=2019_20&idioma=cast&fitxa_apartat=3&idioma_assig=cast',\n",
       "  'bibliography': '\\n\\n'},\n",
       " {'code': '614G01072',\n",
       "  'name': 'Integración de Datos',\n",
       "  'subject_type': 'Optativa',\n",
       "  'num_credits': 6,\n",
       "  'period': 1,\n",
       "  'course': 4,\n",
       "  'language': 'Español, Gallego',\n",
       "  'content': '\\n\\n',\n",
       "  'mention': '',\n",
       "  'url': 'https://guiadocente.udc.es/guia_docent/index.php?centre=614&ensenyament=614G01&assignatura=614G01072&any_academic=2019_20&idioma=cast&fitxa_apartat=3&idioma_assig=cast',\n",
       "  'bibliography': '\\n\\n'},\n",
       " {'code': '614G01073',\n",
       "  'name': 'Sistemas de Información Empresarial',\n",
       "  'subject_type': 'Optativa',\n",
       "  'num_credits': 6,\n",
       "  'period': 1,\n",
       "  'course': 4,\n",
       "  'language': 'Español, Gallego',\n",
       "  'content': '\\n\\n',\n",
       "  'mention': '',\n",
       "  'url': 'https://guiadocente.udc.es/guia_docent/index.php?centre=614&ensenyament=614G01&assignatura=614G01073&any_academic=2019_20&idioma=cast&fitxa_apartat=3&idioma_assig=cast',\n",
       "  'bibliography': '\\n\\n'},\n",
       " {'code': '614G01074',\n",
       "  'name': 'Sectores de Negocio',\n",
       "  'subject_type': 'Optativa',\n",
       "  'num_credits': 6,\n",
       "  'period': 1,\n",
       "  'course': 4,\n",
       "  'language': 'Español, Gallego',\n",
       "  'content': '\\n\\n',\n",
       "  'mention': '',\n",
       "  'url': 'https://guiadocente.udc.es/guia_docent/index.php?centre=614&ensenyament=614G01&assignatura=614G01074&any_academic=2019_20&idioma=cast&fitxa_apartat=3&idioma_assig=cast',\n",
       "  'bibliography': '\\n\\n'},\n",
       " {'code': '614G01075',\n",
       "  'name': 'Arquitectura de los sistemas de Información',\n",
       "  'subject_type': 'Optativa',\n",
       "  'num_credits': 6,\n",
       "  'period': 1,\n",
       "  'course': 4,\n",
       "  'language': 'Español, Gallego',\n",
       "  'content': '\\n\\n',\n",
       "  'mention': '',\n",
       "  'url': 'https://guiadocente.udc.es/guia_docent/index.php?centre=614&ensenyament=614G01&assignatura=614G01075&any_academic=2019_20&idioma=cast&fitxa_apartat=3&idioma_assig=cast',\n",
       "  'bibliography': '\\n\\n'},\n",
       " {'code': '614G01079',\n",
       "  'name': 'Seguridad en los sistemas Informáticos',\n",
       "  'subject_type': 'Optativa',\n",
       "  'num_credits': 6,\n",
       "  'period': 1,\n",
       "  'course': 4,\n",
       "  'language': 'Español, Gallego',\n",
       "  'content': '\\n\\n',\n",
       "  'mention': '',\n",
       "  'url': 'https://guiadocente.udc.es/guia_docent/index.php?centre=614&ensenyament=614G01&assignatura=614G01079&any_academic=2019_20&idioma=cast&fitxa_apartat=3&idioma_assig=cast',\n",
       "  'bibliography': '\\n\\n'},\n",
       " {'code': '614G01080',\n",
       "  'name': 'Integración de Aplicaciones',\n",
       "  'subject_type': 'Optativa',\n",
       "  'num_credits': 6,\n",
       "  'period': 1,\n",
       "  'course': 4,\n",
       "  'language': 'Español, Gallego',\n",
       "  'content': '\\n\\n',\n",
       "  'mention': '',\n",
       "  'url': 'https://guiadocente.udc.es/guia_docent/index.php?centre=614&ensenyament=614G01&assignatura=614G01080&any_academic=2019_20&idioma=cast&fitxa_apartat=3&idioma_assig=cast',\n",
       "  'bibliography': '\\n\\n'},\n",
       " {'code': '614G01081',\n",
       "  'name': 'Servicios Multimedia',\n",
       "  'subject_type': 'Optativa',\n",
       "  'num_credits': 6,\n",
       "  'period': 1,\n",
       "  'course': 4,\n",
       "  'language': 'Español, Gallego',\n",
       "  'content': '\\n\\n',\n",
       "  'mention': '',\n",
       "  'url': 'https://guiadocente.udc.es/guia_docent/index.php?centre=614&ensenyament=614G01&assignatura=614G01081&any_academic=2019_20&idioma=cast&fitxa_apartat=3&idioma_assig=cast',\n",
       "  'bibliography': '\\n\\n'},\n",
       " {'code': '614G01082',\n",
       "  'name': 'Diseño de Redes',\n",
       "  'subject_type': 'Optativa',\n",
       "  'num_credits': 6,\n",
       "  'period': 1,\n",
       "  'course': 4,\n",
       "  'language': 'Español, Gallego',\n",
       "  'content': '\\n\\n',\n",
       "  'mention': '',\n",
       "  'url': 'https://guiadocente.udc.es/guia_docent/index.php?centre=614&ensenyament=614G01&assignatura=614G01082&any_academic=2019_20&idioma=cast&fitxa_apartat=3&idioma_assig=cast',\n",
       "  'bibliography': '\\n\\n'},\n",
       " {'code': '614G01062',\n",
       "  'name': 'Contornos Inmersivos, Interactivos y de entretenimiento',\n",
       "  'subject_type': 'Optativa',\n",
       "  'num_credits': 6,\n",
       "  'period': 2,\n",
       "  'course': 4,\n",
       "  'language': 'Español, Gallego',\n",
       "  'content': '\\n\\n\\nTema\\nSubtema\\n\\n\\n1. Introducción \\n1. Introducción  \\n\\n\\n2. Programación de videojuegos y animaciones \\n2.1. Introducción\\r\\n2.2. Perspectiva histórica\\r\\n2.3. Programación en 2D\\r\\n2.4. Motores 3D\\r\\n2.5. Inteligencia artificial en juegos\\r\\n2.6. Desarrollo multiplataforma  \\n\\n\\n3. Contornos Inmersivos e de Visualización avanzada \\n3.1 Realidad Virtual\\r\\n3.2 Realidad Aumentada\\r\\n3.3 Multiversos  \\n\\n\\n4. Periféricos \\n4.1. Periféricos  \\n\\n',\n",
       "  'mention': '',\n",
       "  'url': 'https://guiadocente.udc.es/guia_docent/index.php?centre=614&ensenyament=614G01&assignatura=614G01062&any_academic=2019_20&idioma=cast&fitxa_apartat=3&idioma_assig=cast',\n",
       "  'bibliography': '\\n\\n\\nBásica\\n\\n\\n\\n               Ian Millington (). Artificial Intelligence for Games. Elsevier \\n               Will Goldstone (2011). Unity Game Development Essentials. Packt Publishing \\n               Ninad Sathaye (2010). Python Multimedia: Beginners Guide. Packt Publishing \\n               Juan José Domínguez (2011). Tecnología Digital y Realidad Virtual.  \\n               Stephen Cawood, Mark Fiala (2008). Augmented reality: a practical guide.  \\n               Mat Buckland (2005). Programming Game AI by Example. Wordware Publishing Inc.\\n\\n\\n\\n\\n \\n\\n\\n\\nComplementária\\n\\n\\n\\n\\n\\n\\n \\n\\n'},\n",
       " {'code': '614G01087',\n",
       "  'name': 'Proyectos de Desarrollo Software',\n",
       "  'subject_type': 'Optativa',\n",
       "  'num_credits': 6,\n",
       "  'period': 2,\n",
       "  'course': 4,\n",
       "  'language': 'Español, Gallego',\n",
       "  'content': '\\n\\n',\n",
       "  'mention': '',\n",
       "  'url': 'https://guiadocente.udc.es/guia_docent/index.php?centre=614&ensenyament=614G01&assignatura=614G01087&any_academic=2019_20&idioma=cast&fitxa_apartat=3&idioma_assig=cast',\n",
       "  'bibliography': '\\n\\n\\n- “Metrics and models in software quality engineering”.\\r\\n  Stephen H. Kan. Addison-Wesley.\\n- Software Engineering Institute:\\r\\n  http://www.sei.cmu.edu/. \\n- International\\r\\n  Function Point Users’ Group (IFPUG): http://www.ifpug.org.- Peopleware Productivite Projects and Teams. Third Edition (2013). Tom DeMarco y Timothy Lister. Dorset House Publishing.- Practical Softwre Project Estimation. 3rd. Edition (2010). ISBSG. McGraw-Hill.\\n\\n\\n'},\n",
       " {'code': '614G01092',\n",
       "  'name': 'Trabajo Fin de Grado. especialidad ingeniería del Software',\n",
       "  'subject_type': 'Obligatoria',\n",
       "  'num_credits': 12,\n",
       "  'period': 2,\n",
       "  'course': 4,\n",
       "  'language': 'Español, Gallego',\n",
       "  'content': '\\n\\n',\n",
       "  'mention': '',\n",
       "  'url': 'https://guiadocente.udc.es/guia_docent/index.php?centre=614&ensenyament=614G01&assignatura=614G01092&any_academic=2019_20&idioma=cast&fitxa_apartat=3&idioma_assig=cast',\n",
       "  'bibliography': '\\n\\n'},\n",
       " {'code': '614G01093',\n",
       "  'name': 'Administración de Infraestructuras Informáticas',\n",
       "  'subject_type': 'Optativa',\n",
       "  'num_credits': 6,\n",
       "  'period': 2,\n",
       "  'course': 4,\n",
       "  'language': 'Español, Gallego',\n",
       "  'content': '\\n\\n',\n",
       "  'mention': '',\n",
       "  'url': 'https://guiadocente.udc.es/guia_docent/index.php?centre=614&ensenyament=614G01&assignatura=614G01093&any_academic=2019_20&idioma=cast&fitxa_apartat=3&idioma_assig=cast',\n",
       "  'bibliography': '\\n\\n'},\n",
       " {'code': '614G01098',\n",
       "  'name': 'Robótica',\n",
       "  'subject_type': 'Optativa',\n",
       "  'num_credits': 6,\n",
       "  'period': 2,\n",
       "  'course': 4,\n",
       "  'language': 'Español, Gallego',\n",
       "  'content': '\\n\\n\\nTema\\nSubtema\\n\\n\\nIntroducción a la robótica autónoma  \\n¿Qué es un robot autónomo?\\r\\nHistoria\\r\\nSensores y actuadores\\r\\nComportamientos\\r\\nPlanificación\\r\\nAprendizaje y evolución \\n\\n\\nElementos de un sistema robótico \\nSistema robótico\\r\\nActuadores e efectores\\r\\nSensores\\r\\nArquitecturas de control \\n\\n\\nRobótica basada en comportamiento  \\nAntecedentes\\r\\nArquitecturas de control clásicas\\r\\nArquitecturas de control\\n\\n\\n\\nRobótica basada en conocimiento  \\nConocimiento\\r\\nRobótica tradicional deliberativa\\r\\nNavegación \\n\\n\\n\\nAproximaciones híbridas \\nPrincipales arquitecturas híbridas\\r\\nRobótica cognitiva \\n\\n\\nRobótica evolutiva \\nTécnicas evolutivas\\r\\nAplicación a la robótica \\n\\n\\nAprendizaje en robótica autónoma \\nAprendizaje en sistemas de clasificación\\r\\nAprendizaje por refuerzo: Q-learning\\r\\nCombinación de aprendizaje por refuerzo y conexionista \\n\\n',\n",
       "  'mention': '',\n",
       "  'url': 'https://guiadocente.udc.es/guia_docent/index.php?centre=614&ensenyament=614G01&assignatura=614G01098&any_academic=2019_20&idioma=cast&fitxa_apartat=3&idioma_assig=cast',\n",
       "  'bibliography': '\\n\\n\\nBásica\\n\\n\\n\\n               Santos, J., Duro, R.J. (2005). Evolución Artificial y Robótica Autónoma. RA-MA \\n               Arkin, R.C.  (1998). Behavior Based Robotics. MIT Press \\n               Mataric, Maja J. (2007). The Robotics Primer. MIT Press \\n               Bekey, A. (2005). Autonomous Robots. MIT Press\\n\\n\\n\\n\\n\\r\\n<!--[if gte mso 10]>\\r\\n<style>\\r\\n /* Style Definitions */\\r\\n table.MsoNormalTable\\r\\n\\t{mso-style-name:\"Tabla normal\";\\r\\n\\tmso-tstyle-rowband-size:0;\\r\\n\\tmso-tstyle-colband-size:0;\\r\\n\\tmso-style-noshow:yes;\\r\\n\\tmso-style-priority:99;\\r\\n\\tmso-style-qformat:yes;\\r\\n\\tmso-style-parent:\"\";\\r\\n\\tmso-padding-alt:0cm 5.4pt 0cm 5.4pt;\\r\\n\\tmso-para-margin:0cm;\\r\\n\\tmso-para-margin-bottom:.0001pt;\\r\\n\\tmso-pagination:widow-orphan;\\r\\n\\tfont-size:11.0pt;\\r\\n\\tfont-family:\"Calibri\",\"sans-serif\";\\r\\n\\tmso-ascii-font-family:Calibri;\\r\\n\\tmso-ascii-theme-font:minor-latin;\\r\\n\\tmso-fareast-font-family:\"Times New Roman\";\\r\\n\\tmso-fareast-theme-font:minor-fareast;\\r\\n\\tmso-hansi-font-family:Calibri;\\r\\n\\tmso-hansi-theme-font:minor-latin;\\r\\n\\tmso-bidi-font-family:\"Times New Roman\";\\r\\n\\tmso-bidi-theme-font:minor-bidi;}\\r\\n&nbsp; \\n\\n\\n\\nComplementária\\n\\n\\n\\n               Santos, J. (2007).  Vida Artificial. Realizaciones Computacionales. ServicioPublicaciones UDC \\n               Nolfi, S., Floreano, D. (2000). Evolutionary Robotics. MIT Press \\n               Floreano, D. and Mattiussi, C.  (2008). Bio-Inspired Artificial Intelligence. Tema 7. MIT Press \\n               Pfeifer, R. and Scheier, C.  (1999). Understanding Intelligence. MIT Press \\n               Salido, J.  (2009). Cibernética aplicada. Robots educativos. Ra-Ma \\n               Sutton, R.S., Burton A.G. (1998). Reinforcement Learning. MIT Press \\n               Thurn, S., Burgard, W., Fox, D. (2005). Probabilistic Robotics. MIT Press\\n\\n\\n\\n\\n\\r\\n<!--[if gte mso 10]>\\r\\n<style>\\r\\n /* Style Definitions */\\r\\n table.MsoNormalTable\\r\\n\\t{mso-style-name:\"Tabla normal\";\\r\\n\\tmso-tstyle-rowband-size:0;\\r\\n\\tmso-tstyle-colband-size:0;\\r\\n\\tmso-style-noshow:yes;\\r\\n\\tmso-style-priority:99;\\r\\n\\tmso-style-qformat:yes;\\r\\n\\tmso-style-parent:\"\";\\r\\n\\tmso-padding-alt:0cm 5.4pt 0cm 5.4pt;\\r\\n\\tmso-para-margin:0cm;\\r\\n\\tmso-para-margin-bottom:.0001pt;\\r\\n\\tmso-pagination:widow-orphan;\\r\\n\\tfont-size:11.0pt;\\r\\n\\tfont-family:\"Calibri\",\"sans-serif\";\\r\\n\\tmso-ascii-font-family:Calibri;\\r\\n\\tmso-ascii-theme-font:minor-latin;\\r\\n\\tmso-fareast-font-family:\"Times New Roman\";\\r\\n\\tmso-fareast-theme-font:minor-fareast;\\r\\n\\tmso-hansi-font-family:Calibri;\\r\\n\\tmso-hansi-theme-font:minor-latin;\\r\\n\\tmso-bidi-font-family:\"Times New Roman\";\\r\\n\\tmso-bidi-theme-font:minor-bidi;}\\r\\n&nbsp; \\n\\n'},\n",
       " {'code': '614G01099',\n",
       "  'name': 'Trabajo Fin de Grado. Especialidad Ingeniería de Computadores',\n",
       "  'subject_type': 'Obligatoria',\n",
       "  'num_credits': 12,\n",
       "  'period': 2,\n",
       "  'course': 4,\n",
       "  'language': 'Español, Gallego',\n",
       "  'content': '\\n\\n',\n",
       "  'mention': '',\n",
       "  'url': 'https://guiadocente.udc.es/guia_docent/index.php?centre=614&ensenyament=614G01&assignatura=614G01099&any_academic=2019_20&idioma=cast&fitxa_apartat=3&idioma_assig=cast',\n",
       "  'bibliography': '\\n\\n'},\n",
       " {'code': '614G01106',\n",
       "  'name': 'Trabajo Fin de Grado. Especialidad Computación.',\n",
       "  'subject_type': 'Obligatoria',\n",
       "  'num_credits': 12,\n",
       "  'period': 2,\n",
       "  'course': 4,\n",
       "  'language': 'Español, Gallego',\n",
       "  'content': '\\n\\n',\n",
       "  'mention': '',\n",
       "  'url': 'https://guiadocente.udc.es/guia_docent/index.php?centre=614&ensenyament=614G01&assignatura=614G01106&any_academic=2019_20&idioma=cast&fitxa_apartat=3&idioma_assig=cast',\n",
       "  'bibliography': '\\n\\n'},\n",
       " {'code': '614G01107',\n",
       "  'name': 'Planificación de Sistemas de Información',\n",
       "  'subject_type': 'Optativa',\n",
       "  'num_credits': 6,\n",
       "  'period': 2,\n",
       "  'course': 4,\n",
       "  'language': 'Español, Gallego',\n",
       "  'content': '\\n\\n',\n",
       "  'mention': '',\n",
       "  'url': 'https://guiadocente.udc.es/guia_docent/index.php?centre=614&ensenyament=614G01&assignatura=614G01107&any_academic=2019_20&idioma=cast&fitxa_apartat=3&idioma_assig=cast',\n",
       "  'bibliography': '\\n\\n'},\n",
       " {'code': '614G01112',\n",
       "  'name': 'Trabajo Fin de Grado. Especialidad Sistemas de Información',\n",
       "  'subject_type': 'Obligatoria',\n",
       "  'num_credits': 12,\n",
       "  'period': 2,\n",
       "  'course': 4,\n",
       "  'language': 'Español, Gallego',\n",
       "  'content': '\\n\\n',\n",
       "  'mention': '',\n",
       "  'url': 'https://guiadocente.udc.es/guia_docent/index.php?centre=614&ensenyament=614G01&assignatura=614G01112&any_academic=2019_20&idioma=cast&fitxa_apartat=3&idioma_assig=cast',\n",
       "  'bibliography': '\\n\\n'},\n",
       " {'code': '614G01113',\n",
       "  'name': 'Administración de Infraestructuras y Sistemas Informáticos',\n",
       "  'subject_type': 'Optativa',\n",
       "  'num_credits': 6,\n",
       "  'period': 2,\n",
       "  'course': 4,\n",
       "  'language': 'Español, Gallego',\n",
       "  'content': '\\n\\n',\n",
       "  'mention': '',\n",
       "  'url': 'https://guiadocente.udc.es/guia_docent/index.php?centre=614&ensenyament=614G01&assignatura=614G01113&any_academic=2019_20&idioma=cast&fitxa_apartat=3&idioma_assig=cast',\n",
       "  'bibliography': '\\n\\n'},\n",
       " {'code': '614G01118',\n",
       "  'name': 'Trabajo Fin de Grado. Especialidad Tecnología de la Información',\n",
       "  'subject_type': 'Obligatoria',\n",
       "  'num_credits': 12,\n",
       "  'period': 2,\n",
       "  'course': 4,\n",
       "  'language': 'Español, Gallego',\n",
       "  'content': '\\n\\n',\n",
       "  'mention': '',\n",
       "  'url': 'https://guiadocente.udc.es/guia_docent/index.php?centre=614&ensenyament=614G01&assignatura=614G01118&any_academic=2019_20&idioma=cast&fitxa_apartat=3&idioma_assig=cast',\n",
       "  'bibliography': '\\n\\n'}]"
      ]
     },
     "execution_count": 6,
     "metadata": {},
     "output_type": "execute_result"
    }
   ],
   "source": [
    "subjects_list"
   ]
  },
  {
   "cell_type": "code",
   "execution_count": 7,
   "metadata": {},
   "outputs": [
    {
     "data": {
      "text/plain": [
       "81"
      ]
     },
     "execution_count": 7,
     "metadata": {},
     "output_type": "execute_result"
    }
   ],
   "source": [
    "len(subjects_list)"
   ]
  },
  {
   "cell_type": "code",
   "execution_count": 8,
   "metadata": {},
   "outputs": [],
   "source": [
    "SUBJECT_COLUMNS = ['code', 'name', 'subject_type', 'num_credits', 'period', 'course', 'language', 'content', 'mention', 'url', 'bibliography']\n",
    "\n"
   ]
  },
  {
   "cell_type": "code",
   "execution_count": 9,
   "metadata": {},
   "outputs": [],
   "source": [
    "df = pd.DataFrame(subjects_list, columns=SUBJECT_COLUMNS)"
   ]
  },
  {
   "cell_type": "code",
   "execution_count": 10,
   "metadata": {},
   "outputs": [],
   "source": [
    "df.to_csv('{}_subjects.csv'.format(DEGREE_NAME))"
   ]
  },
  {
   "cell_type": "code",
   "execution_count": null,
   "metadata": {},
   "outputs": [],
   "source": []
  }
 ],
 "metadata": {
  "kernelspec": {
   "display_name": "Python 3",
   "language": "python",
   "name": "python3"
  },
  "language_info": {
   "codemirror_mode": {
    "name": "ipython",
    "version": 3
   },
   "file_extension": ".py",
   "mimetype": "text/x-python",
   "name": "python",
   "nbconvert_exporter": "python",
   "pygments_lexer": "ipython3",
   "version": "3.7.7"
  }
 },
 "nbformat": 4,
 "nbformat_minor": 4
}
