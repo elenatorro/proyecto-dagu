{
 "cells": [
  {
   "cell_type": "code",
   "execution_count": 1,
   "metadata": {},
   "outputs": [],
   "source": [
    "DEGREE_NAME = 'grado_en_ingenieria_informatica'\n",
    "UNIVERSITY_NAME = 'universidad_carlos_iii_de_madrid'"
   ]
  },
  {
   "cell_type": "code",
   "execution_count": 2,
   "metadata": {},
   "outputs": [],
   "source": [
    "DEGREE_DATA = {\n",
    "    'code': '218',\n",
    "    'university': 'Universidad Carlos III de Madrid',\n",
    "    'name': 'Grado en Ingeniería Informática',\n",
    "    'summary': '''\n",
    "    ''',\n",
    "    'area': 'Campus de Leganés, Campus de Colmenarejo',\n",
    "    'years': 4,\n",
    "    'num_credits': 240,\n",
    "    'num_places': 190,\n",
    "    'faculty': 'Escuela Politécnica Superior',\n",
    "    'url': '',\n",
    "    'price_1': 39.53,\n",
    "    'price_2': 39.53,\n",
    "    'price_3': 39.53,\n",
    "    'price_4': 39.53,\n",
    "    'total_min_price': 240 * 39.53,\n",
    "    'admission_mark': 7.990,\n",
    "    'profile': '''\n",
    "    ''',\n",
    "    'opportunities': '',\n",
    "    'learning_mode': '',\n",
    "    'mobility_program': '''\n",
    "    ''',\n",
    "    'working_practices': '''\n",
    "    ''',\n",
    "    'basic_skills': '''\n",
    "    ''',\n",
    "    'specific_skills': '''\n",
    "    ''',\n",
    "    'transversal_skills': '''\n",
    "    ''',\n",
    "    'double_degree': False,\n",
    "    'schedule': '',\n",
    "    'subjects': '',\n",
    "    'languages': '',\n",
    "    'mentions': '''\n",
    "        Computación, Ingeniería de Computadores y Sistemas de Información.\n",
    "    '''\n",
    "}"
   ]
  },
  {
   "cell_type": "code",
   "execution_count": 3,
   "metadata": {},
   "outputs": [],
   "source": [
    "import requests\n",
    "from bs4 import BeautifulSoup\n",
    "import pandas as pd\n",
    "\n",
    "SUBJECT_TYPE = {\n",
    "    'FB': 'Formación Básica',\n",
    "    'O': 'Obligatoria',\n",
    "    'P': 'Optativa',\n",
    "    'O-P': 'Optativa, Obligatoria',\n",
    "    'TFG': 'Trabajo Fin de Grado'\n",
    "}\n",
    "\n",
    "subjects_list = []"
   ]
  },
  {
   "cell_type": "code",
   "execution_count": 4,
   "metadata": {},
   "outputs": [],
   "source": [
    "def get_subject(url):\n",
    "    page = requests.get(url, verify=False)\n",
    "    soup = BeautifulSoup(page.content, 'html.parser')\n",
    "    \n",
    "    name = soup.select('.asignatura')[0].getText(strip=True)\n",
    "    code = soup.select('.asignatura')[1].getText().replace('(', '').replace(')', '')\n",
    "    subject_type = soup.select('.container-fluid > div > .col.izquierda')[0].getText(strip=True).replace('Tipo:', '')\n",
    "    num_credits = float(soup.select('.container-fluid > div > .col.izquierda')[1].getText(strip=True).replace('Créditos:', '').replace('ECTS', ''))\n",
    "\n",
    "    period = 0\n",
    "    course = 0\n",
    "\n",
    "    try:\n",
    "        course_str = soup.select('.container-fluid > div > .col.izquierda')[2].getText(strip=True)\n",
    "        course = int(course_str.replace('Curso:', '').replace('º', ''))\n",
    "    except ValueError:\n",
    "        print('course')\n",
    "        print(course_str)\n",
    "\n",
    "    try:\n",
    "        period_str = soup.select('.container-fluid > div > .col.izquierda')[3].getText(strip=True)\n",
    "        period = period_str.replace('Cuatrimestre:', '').replace('º', '')\n",
    "\n",
    "        if period:\n",
    "            period = int(period)\n",
    "\n",
    "    except ValueError:\n",
    "        print('period')\n",
    "        print(period_str)\n",
    "\n",
    "    languages = [] # TODO\n",
    "    language = 'Español'\n",
    "\n",
    "    panels = soup.select('.panel-heading')\n",
    "    panels_body = soup.select('.panel-body')\n",
    "    bibliography = ''\n",
    "    content = ''\n",
    "\n",
    "    for i in range(len(panels)):\n",
    "        panel_text = panels[i].getText()\n",
    "        if 'Bibliografía' in panel_text:\n",
    "            bibliography = panel_text.encode()\n",
    "        elif 'contenidos' in panel_text:\n",
    "            content = panel_text.encode()\n",
    "    \n",
    "    subject_data = {\n",
    "     'code': code,\n",
    "     'name': name,\n",
    "     'subject_type': subject_type,\n",
    "     'num_credits': num_credits,\n",
    "     'period': period,\n",
    "     'course': course,\n",
    "     'language': language,\n",
    "     'content': content,\n",
    "     'mention': '',\n",
    "     'url': url,\n",
    "     'bibliography': bibliography\n",
    "    }\n",
    "    \n",
    "    subjects_list.append(subject_data)"
   ]
  },
  {
   "cell_type": "code",
   "execution_count": 5,
   "metadata": {},
   "outputs": [],
   "source": [
    "def get_subjects(url):\n",
    "    page = requests.get(url)\n",
    "    soup = BeautifulSoup(page.content, 'html.parser')\n",
    "\n",
    "    subjects = soup.select('td[data-label=\"Asignatura\"] > a')\n",
    "\n",
    "    for subject in subjects:\n",
    "        subject_url = subject.get('href')\n",
    "        name = subject.getText(strip=True)\n",
    "\n",
    "        if 'Habilidades' not in name:\n",
    "            get_subject(subject_url)"
   ]
  },
  {
   "cell_type": "code",
   "execution_count": 6,
   "metadata": {},
   "outputs": [
    {
     "name": "stderr",
     "output_type": "stream",
     "text": [
      "/Users/elenatorro/.local/share/virtualenvs/unknowniversity-5YM2mFLK/lib/python3.7/site-packages/urllib3/connectionpool.py:986: InsecureRequestWarning: Unverified HTTPS request is being made to host 'aplicaciones.uc3m.es'. Adding certificate verification is strongly advised. See: https://urllib3.readthedocs.io/en/latest/advanced-usage.html#ssl-warnings\n",
      "  InsecureRequestWarning,\n"
     ]
    },
    {
     "ename": "TypeError",
     "evalue": "can only concatenate str (not \"bytes\") to str",
     "output_type": "error",
     "traceback": [
      "\u001b[0;31m---------------------------------------------------------------------------\u001b[0m",
      "\u001b[0;31mTypeError\u001b[0m                                 Traceback (most recent call last)",
      "\u001b[0;32m<ipython-input-6-9a17404462d3>\u001b[0m in \u001b[0;36m<module>\u001b[0;34m\u001b[0m\n\u001b[1;32m      1\u001b[0m \u001b[0murl\u001b[0m \u001b[0;34m=\u001b[0m \u001b[0;34m'https://www.uc3m.es/grado/informatica#programa'\u001b[0m\u001b[0;34m\u001b[0m\u001b[0;34m\u001b[0m\u001b[0m\n\u001b[1;32m      2\u001b[0m \u001b[0;34m\u001b[0m\u001b[0m\n\u001b[0;32m----> 3\u001b[0;31m \u001b[0mget_subjects\u001b[0m\u001b[0;34m(\u001b[0m\u001b[0murl\u001b[0m\u001b[0;34m)\u001b[0m\u001b[0;34m\u001b[0m\u001b[0;34m\u001b[0m\u001b[0m\n\u001b[0m",
      "\u001b[0;32m<ipython-input-5-7b374fdbe5ed>\u001b[0m in \u001b[0;36mget_subjects\u001b[0;34m(url)\u001b[0m\n\u001b[1;32m     10\u001b[0m \u001b[0;34m\u001b[0m\u001b[0m\n\u001b[1;32m     11\u001b[0m         \u001b[0;32mif\u001b[0m \u001b[0;34m'Habilidades'\u001b[0m \u001b[0;32mnot\u001b[0m \u001b[0;32min\u001b[0m \u001b[0mname\u001b[0m\u001b[0;34m:\u001b[0m\u001b[0;34m\u001b[0m\u001b[0;34m\u001b[0m\u001b[0m\n\u001b[0;32m---> 12\u001b[0;31m             \u001b[0mget_subject\u001b[0m\u001b[0;34m(\u001b[0m\u001b[0msubject_url\u001b[0m\u001b[0;34m)\u001b[0m\u001b[0;34m\u001b[0m\u001b[0;34m\u001b[0m\u001b[0m\n\u001b[0m",
      "\u001b[0;32m<ipython-input-4-2f7289f79dc4>\u001b[0m in \u001b[0;36mget_subject\u001b[0;34m(url)\u001b[0m\n\u001b[1;32m     42\u001b[0m             \u001b[0mbibliography\u001b[0m \u001b[0;34m+=\u001b[0m \u001b[0mpanel_text\u001b[0m\u001b[0;34m.\u001b[0m\u001b[0mencode\u001b[0m\u001b[0;34m(\u001b[0m\u001b[0;34m)\u001b[0m\u001b[0;34m\u001b[0m\u001b[0;34m\u001b[0m\u001b[0m\n\u001b[1;32m     43\u001b[0m         \u001b[0;32melif\u001b[0m \u001b[0;34m'contenidos'\u001b[0m \u001b[0;32min\u001b[0m \u001b[0mpanel_text\u001b[0m\u001b[0;34m:\u001b[0m\u001b[0;34m\u001b[0m\u001b[0;34m\u001b[0m\u001b[0m\n\u001b[0;32m---> 44\u001b[0;31m             \u001b[0mcontent\u001b[0m \u001b[0;34m+=\u001b[0m \u001b[0mpanel_text\u001b[0m\u001b[0;34m.\u001b[0m\u001b[0mencode\u001b[0m\u001b[0;34m(\u001b[0m\u001b[0;34m)\u001b[0m\u001b[0;34m\u001b[0m\u001b[0;34m\u001b[0m\u001b[0m\n\u001b[0m\u001b[1;32m     45\u001b[0m \u001b[0;34m\u001b[0m\u001b[0m\n\u001b[1;32m     46\u001b[0m     subject_data = {\n",
      "\u001b[0;31mTypeError\u001b[0m: can only concatenate str (not \"bytes\") to str"
     ]
    }
   ],
   "source": [
    "url = 'https://www.uc3m.es/grado/informatica#programa'\n",
    "\n",
    "get_subjects(url)"
   ]
  },
  {
   "cell_type": "code",
   "execution_count": null,
   "metadata": {},
   "outputs": [],
   "source": [
    "subjects_list"
   ]
  },
  {
   "cell_type": "code",
   "execution_count": null,
   "metadata": {},
   "outputs": [],
   "source": [
    "SUBJECT_COLUMNS = ['code', 'name', 'subject_type', 'num_credits', 'period', 'course', 'language', 'content', 'mention', 'url', 'bibliography']\n",
    "\n"
   ]
  },
  {
   "cell_type": "code",
   "execution_count": null,
   "metadata": {},
   "outputs": [],
   "source": [
    "df = pd.DataFrame(subjects_list, columns=SUBJECT_COLUMNS)"
   ]
  },
  {
   "cell_type": "code",
   "execution_count": null,
   "metadata": {},
   "outputs": [],
   "source": [
    "df.head()"
   ]
  },
  {
   "cell_type": "code",
   "execution_count": null,
   "metadata": {},
   "outputs": [],
   "source": [
    "df.to_csv('{}_subjects.csv'.format(DEGREE_NAME))"
   ]
  },
  {
   "cell_type": "code",
   "execution_count": null,
   "metadata": {},
   "outputs": [],
   "source": [
    "df.tail()"
   ]
  },
  {
   "cell_type": "code",
   "execution_count": null,
   "metadata": {},
   "outputs": [],
   "source": []
  }
 ],
 "metadata": {
  "kernelspec": {
   "display_name": "Python 3",
   "language": "python",
   "name": "python3"
  },
  "language_info": {
   "codemirror_mode": {
    "name": "ipython",
    "version": 3
   },
   "file_extension": ".py",
   "mimetype": "text/x-python",
   "name": "python",
   "nbconvert_exporter": "python",
   "pygments_lexer": "ipython3",
   "version": "3.7.7"
  }
 },
 "nbformat": 4,
 "nbformat_minor": 4
}
