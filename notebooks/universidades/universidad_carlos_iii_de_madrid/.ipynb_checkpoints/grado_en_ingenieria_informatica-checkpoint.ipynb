{
 "cells": [
  {
   "cell_type": "code",
   "execution_count": 1,
   "metadata": {},
   "outputs": [],
   "source": [
    "DEGREE_NAME = 'grado_en_ingenieria_informatica'\n",
    "UNIVERSITY_NAME = 'universidad_carlos_iii_de_madrid'"
   ]
  },
  {
   "cell_type": "code",
   "execution_count": 2,
   "metadata": {},
   "outputs": [],
   "source": [
    "DEGREE_DATA = {\n",
    "    'code': '218',\n",
    "    'university': 'Universidad Carlos III de Madrid',\n",
    "    'name': 'Grado en Ingeniería Informática',\n",
    "    'summary': '''\n",
    "    ''',\n",
    "    'area': 'Campus de Leganés, Campus de Colmenarejo',\n",
    "    'years': 4,\n",
    "    'num_credits': 240,\n",
    "    'num_places': 190,\n",
    "    'faculty': 'Escuela Politécnica Superior',\n",
    "    'url': '',\n",
    "    'price_1': 39.53,\n",
    "    'price_2': 39.53,\n",
    "    'price_3': 39.53,\n",
    "    'price_4': 39.53,\n",
    "    'total_min_price': 240 * 39.53,\n",
    "    'admission_mark': 7.990,\n",
    "    'profile': '''\n",
    "    ''',\n",
    "    'opportunities': '',\n",
    "    'learning_mode': '',\n",
    "    'mobility_program': '''\n",
    "    ''',\n",
    "    'working_practices': '''\n",
    "    ''',\n",
    "    'basic_skills': '''\n",
    "    ''',\n",
    "    'specific_skills': '''\n",
    "    ''',\n",
    "    'transversal_skills': '''\n",
    "    ''',\n",
    "    'double_degree': False,\n",
    "    'schedule': '',\n",
    "    'subjects': '',\n",
    "    'languages': '',\n",
    "    'mentions': '''\n",
    "        Computación, Ingeniería de Computadores y Sistemas de Información.\n",
    "    '''\n",
    "}"
   ]
  },
  {
   "cell_type": "code",
   "execution_count": 3,
   "metadata": {},
   "outputs": [],
   "source": [
    "import requests\n",
    "from bs4 import BeautifulSoup\n",
    "import pandas as pd\n",
    "\n",
    "SUBJECT_TYPE = {\n",
    "    'FB': 'Formación Básica',\n",
    "    'O': 'Obligatoria',\n",
    "    'P': 'Optativa',\n",
    "    'O-P': 'Optativa, Obligatoria',\n",
    "    'TFG': 'Trabajo Fin de Grado'\n",
    "}\n",
    "\n",
    "subjects_list = []"
   ]
  },
  {
   "cell_type": "code",
   "execution_count": 4,
   "metadata": {},
   "outputs": [],
   "source": [
    "def get_subject(url):\n",
    "    page = requests.get(url, verify=False)\n",
    "    soup = BeautifulSoup(page.content, 'html.parser')\n",
    "    \n",
    "    name = soup.select('.asignatura')[0].getText(strip=True)\n",
    "    code = soup.select('.asignatura')[1].getText().replace('(', '').replace(')', '')\n",
    "    subject_type = soup.select('.container-fluid > div > .col.izquierda')[0].getText(strip=True).replace('Tipo:', '')\n",
    "    num_credits = float(soup.select('.container-fluid > div > .col.izquierda')[1].getText(strip=True).replace('Créditos:', '').replace('ECTS', ''))\n",
    "\n",
    "    course = int(soup.select('.container-fluid > div > .col.izquierda')[2].getText(strip=True).replace('Curso:', '').replace('º', ''))\n",
    "    period = int(soup.select('.container-fluid > div > .col.izquierda')[3].getText(strip=True).replace('Cuatrimestre:', '').replace('º', ''))\n",
    "\n",
    "    languages = [] # TODO\n",
    "    language = 'Español'\n",
    "\n",
    "    panels = soup.select('.panel-heading')\n",
    "    panels_body = soup.select('.panel-body')\n",
    "    bibliography = ''\n",
    "    content = ''\n",
    "\n",
    "    for i in range(len(panels)):\n",
    "        if 'Bibliografía' in panels[i].getText(strip=True):\n",
    "            bibliography += panels_body[i].getText(strip=True)\n",
    "        elif 'contenidos' in panels[i].getText(strip=True):\n",
    "            content += panels_body[i].getText(strip=True)\n",
    "    \n",
    "    subject_data = {\n",
    "     'code': code,\n",
    "     'name': name,\n",
    "     'subject_type': subject_type,\n",
    "     'num_credits': num_credits,\n",
    "     'period': period,\n",
    "     'course': course,\n",
    "     'language': language,\n",
    "     'content': content,\n",
    "     'mention': '',\n",
    "     'url': url,\n",
    "     'bibliography': bibliography\n",
    "    }\n",
    "    \n",
    "    subjects_list.append(subject_data)"
   ]
  },
  {
   "cell_type": "code",
   "execution_count": 6,
   "metadata": {},
   "outputs": [],
   "source": [
    "def get_subjects(url):\n",
    "    page = requests.get(url)\n",
    "    soup = BeautifulSoup(page.content, 'html.parser')\n",
    "\n",
    "    subjects = soup.select('td[data-label=\"Asignatura\"] > a')\n",
    "\n",
    "    for subject in subjects:\n",
    "        subject_url = subject.get('href')\n",
    "        name = subject.getText(strip=True)\n",
    "\n",
    "        if 'Habilidades' not in name:\n",
    "            get_subject(subject_url)\n",
    "        else:\n",
    "            subjects_list.append({\n",
    "             'code': None,\n",
    "             'name': name,\n",
    "             'subject_type': 'Formación Transversal',\n",
    "             'num_credits': 3,\n",
    "             'period': 0,\n",
    "             'course': 0,\n",
    "             'language': '',\n",
    "             'content': '''\n",
    "                Las Humanidades proporcionan al alumno unas competencias y formación transversales para todos los Grados de la Universidad. Los 6 créditos de Humanidades se obtendrán superando dos cursos de 3 créditos cada uno a elegir entre los ofertados para cada titulación. \n",
    "                Estos son cursos transversales pueden ser desarrollados desde cualquier titulación y complementan la formación del alumnado en temas de actualidad y de interés para un desarrollo más amplio de sus competencias; tanto académicas como enfocadas a la vida diaria.\n",
    "                Los cursos se dividen en ámbitos temáticos de interés tales como Humanidades Digitales, Artes Escénicas, Estudios de Género e Igualdad, etc.\n",
    "             ''',\n",
    "             'mention': '',\n",
    "             'url': subject_url,\n",
    "             'bibliography': ''\n",
    "            })"
   ]
  },
  {
   "cell_type": "code",
   "execution_count": 7,
   "metadata": {},
   "outputs": [
    {
     "name": "stdout",
     "output_type": "stream",
     "text": [
      "aaahhh\n"
     ]
    },
    {
     "name": "stderr",
     "output_type": "stream",
     "text": [
      "/Users/elenatorro/.local/share/virtualenvs/notebooks-EjoTTmKj/lib/python3.7/site-packages/urllib3/connectionpool.py:986: InsecureRequestWarning: Unverified HTTPS request is being made to host 'aplicaciones.uc3m.es'. Adding certificate verification is strongly advised. See: https://urllib3.readthedocs.io/en/latest/advanced-usage.html#ssl-warnings\n",
      "  InsecureRequestWarning,\n"
     ]
    },
    {
     "name": "stdout",
     "output_type": "stream",
     "text": [
      "aaahhh\n"
     ]
    },
    {
     "name": "stderr",
     "output_type": "stream",
     "text": [
      "/Users/elenatorro/.local/share/virtualenvs/notebooks-EjoTTmKj/lib/python3.7/site-packages/urllib3/connectionpool.py:986: InsecureRequestWarning: Unverified HTTPS request is being made to host 'aplicaciones.uc3m.es'. Adding certificate verification is strongly advised. See: https://urllib3.readthedocs.io/en/latest/advanced-usage.html#ssl-warnings\n",
      "  InsecureRequestWarning,\n"
     ]
    },
    {
     "name": "stdout",
     "output_type": "stream",
     "text": [
      "aaahhh\n"
     ]
    },
    {
     "name": "stderr",
     "output_type": "stream",
     "text": [
      "/Users/elenatorro/.local/share/virtualenvs/notebooks-EjoTTmKj/lib/python3.7/site-packages/urllib3/connectionpool.py:986: InsecureRequestWarning: Unverified HTTPS request is being made to host 'aplicaciones.uc3m.es'. Adding certificate verification is strongly advised. See: https://urllib3.readthedocs.io/en/latest/advanced-usage.html#ssl-warnings\n",
      "  InsecureRequestWarning,\n"
     ]
    },
    {
     "name": "stdout",
     "output_type": "stream",
     "text": [
      "aaahhh\n"
     ]
    },
    {
     "name": "stderr",
     "output_type": "stream",
     "text": [
      "/Users/elenatorro/.local/share/virtualenvs/notebooks-EjoTTmKj/lib/python3.7/site-packages/urllib3/connectionpool.py:986: InsecureRequestWarning: Unverified HTTPS request is being made to host 'aplicaciones.uc3m.es'. Adding certificate verification is strongly advised. See: https://urllib3.readthedocs.io/en/latest/advanced-usage.html#ssl-warnings\n",
      "  InsecureRequestWarning,\n"
     ]
    },
    {
     "name": "stdout",
     "output_type": "stream",
     "text": [
      "aaahhh\n"
     ]
    },
    {
     "name": "stderr",
     "output_type": "stream",
     "text": [
      "/Users/elenatorro/.local/share/virtualenvs/notebooks-EjoTTmKj/lib/python3.7/site-packages/urllib3/connectionpool.py:986: InsecureRequestWarning: Unverified HTTPS request is being made to host 'aplicaciones.uc3m.es'. Adding certificate verification is strongly advised. See: https://urllib3.readthedocs.io/en/latest/advanced-usage.html#ssl-warnings\n",
      "  InsecureRequestWarning,\n"
     ]
    },
    {
     "name": "stdout",
     "output_type": "stream",
     "text": [
      "aaahhh\n"
     ]
    },
    {
     "ename": "NameError",
     "evalue": "name 'code' is not defined",
     "output_type": "error",
     "traceback": [
      "\u001b[0;31m---------------------------------------------------------------------------\u001b[0m",
      "\u001b[0;31mNameError\u001b[0m                                 Traceback (most recent call last)",
      "\u001b[0;32m<ipython-input-7-9a17404462d3>\u001b[0m in \u001b[0;36m<module>\u001b[0;34m\u001b[0m\n\u001b[1;32m      1\u001b[0m \u001b[0murl\u001b[0m \u001b[0;34m=\u001b[0m \u001b[0;34m'https://www.uc3m.es/grado/informatica#programa'\u001b[0m\u001b[0;34m\u001b[0m\u001b[0;34m\u001b[0m\u001b[0m\n\u001b[1;32m      2\u001b[0m \u001b[0;34m\u001b[0m\u001b[0m\n\u001b[0;32m----> 3\u001b[0;31m \u001b[0mget_subjects\u001b[0m\u001b[0;34m(\u001b[0m\u001b[0murl\u001b[0m\u001b[0;34m)\u001b[0m\u001b[0;34m\u001b[0m\u001b[0;34m\u001b[0m\u001b[0m\n\u001b[0m",
      "\u001b[0;32m<ipython-input-6-246cf0dfcbe7>\u001b[0m in \u001b[0;36mget_subjects\u001b[0;34m(url)\u001b[0m\n\u001b[1;32m     15\u001b[0m         \u001b[0;32melse\u001b[0m\u001b[0;34m:\u001b[0m\u001b[0;34m\u001b[0m\u001b[0;34m\u001b[0m\u001b[0m\n\u001b[1;32m     16\u001b[0m             subjects_list.append({\n\u001b[0;32m---> 17\u001b[0;31m              \u001b[0;34m'code'\u001b[0m\u001b[0;34m:\u001b[0m \u001b[0mcode\u001b[0m\u001b[0;34m,\u001b[0m\u001b[0;34m\u001b[0m\u001b[0;34m\u001b[0m\u001b[0m\n\u001b[0m\u001b[1;32m     18\u001b[0m              \u001b[0;34m'name'\u001b[0m\u001b[0;34m:\u001b[0m \u001b[0mname\u001b[0m\u001b[0;34m,\u001b[0m\u001b[0;34m\u001b[0m\u001b[0;34m\u001b[0m\u001b[0m\n\u001b[1;32m     19\u001b[0m              \u001b[0;34m'subject_type'\u001b[0m\u001b[0;34m:\u001b[0m \u001b[0;34m'Formación Transversal'\u001b[0m\u001b[0;34m,\u001b[0m\u001b[0;34m\u001b[0m\u001b[0;34m\u001b[0m\u001b[0m\n",
      "\u001b[0;31mNameError\u001b[0m: name 'code' is not defined"
     ]
    }
   ],
   "source": [
    "url = 'https://www.uc3m.es/grado/informatica#programa'\n",
    "\n",
    "get_subjects(url)"
   ]
  },
  {
   "cell_type": "code",
   "execution_count": null,
   "metadata": {},
   "outputs": [],
   "source": [
    "subjects_list"
   ]
  },
  {
   "cell_type": "code",
   "execution_count": null,
   "metadata": {},
   "outputs": [],
   "source": [
    "df = pd.DataFrame(subjects_list, columns=SUBJECT_COLUMNS)"
   ]
  },
  {
   "cell_type": "code",
   "execution_count": null,
   "metadata": {},
   "outputs": [],
   "source": [
    "df.head()"
   ]
  },
  {
   "cell_type": "code",
   "execution_count": null,
   "metadata": {},
   "outputs": [],
   "source": [
    "df.to_csv('{}_subjects.csv'.format(DEGREE_NAME))"
   ]
  }
 ],
 "metadata": {
  "kernelspec": {
   "display_name": "Python 3",
   "language": "python",
   "name": "python3"
  },
  "language_info": {
   "codemirror_mode": {
    "name": "ipython",
    "version": 3
   },
   "file_extension": ".py",
   "mimetype": "text/x-python",
   "name": "python",
   "nbconvert_exporter": "python",
   "pygments_lexer": "ipython3",
   "version": "3.7.7"
  }
 },
 "nbformat": 4,
 "nbformat_minor": 4
}
