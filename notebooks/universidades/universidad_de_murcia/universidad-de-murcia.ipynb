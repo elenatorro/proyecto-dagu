{
 "cells": [
  {
   "cell_type": "markdown",
   "metadata": {},
   "source": [
    "## Degrees"
   ]
  },
  {
   "cell_type": "code",
   "execution_count": 1,
   "metadata": {},
   "outputs": [],
   "source": [
    "import requests\n",
    "from bs4 import BeautifulSoup\n",
    "import pandas as pd"
   ]
  },
  {
   "cell_type": "code",
   "execution_count": null,
   "metadata": {},
   "outputs": [],
   "source": [
    "BASE_URL = 'https://www.um.es{0}'\n",
    "DEGREES_URL = 'https://www.um.es/web/estudios/grados'\n",
    "DEGREE_URL = 'https://www.um.es/web/{0}/contenido/estudios/grados/{0}'\n",
    "UNIVERSITY_NAME = 'universidad-de-murcia'\n",
    "\n",
    "SUBJECT_COLUMNS = [\n",
    "    'code',\n",
    "    'name',\n",
    "    'url',\n",
    "    'subject_type',\n",
    "    'credits',\n",
    "    'period',\n",
    "    'course_number'\n",
    "]\n",
    "\n",
    "DEGREE_COLUMNS = [\n",
    "    'code',\n",
    "    'name',\n",
    "    'university',\n",
    "    'area',\n",
    "    'faculty',\n",
    "    'url',\n",
    "    'price 1',\n",
    "    'price 2',\n",
    "    'price 3',\n",
    "    'price 4+',\n",
    "    'content',\n",
    "    'skills',\n",
    "    'profile',\n",
    "    'opportunities',\n",
    "    'num_subjects'\n",
    "]"
   ]
  },
  {
   "cell_type": "code",
   "execution_count": null,
   "metadata": {},
   "outputs": [],
   "source": [
    "# https://www.um.es/web/estudios/normativa/tasas\n",
    "PRICES = {\n",
    "    'Grado en Arquitectura': [16.78, 33.56, 72.71, 100.68],\n",
    "    'Grado en Fundamentos de Arquitectura': [16.78, 33.56, 72.71, 100.68],\n",
    "    'Grado en Arquitectura Naval e Ingeniería de Sistemas Marinos': [16.78, 33.56, 72.71, 100.68],\n",
    "    'Grado en Bellas Artes': [16.78, 33.56, 72.71, 100.68],\n",
    "    'Grado en Biología': [16.78, 33.56, 72.71, 100.68],\n",
    "    'Grado en Bioquímica': [16.78, 33.56, 72.71, 100.68],\n",
    "    'Grado en Biotecnología': [16.78, 33.56, 72.71, 100.68],\n",
    "    'Grado en Ciencia y Tecnología de los Alimentos': [16.78, 33.56, 72.71, 100.68],\n",
    "    'Grado en Ciencias Ambientales': [16.78, 33.56, 72.71, 100.68],\n",
    "    'Grado en Ciencias de la Actividad Física y del Deporte': [16.78, 33.56, 72.71, 100.68],\n",
    "    'Grado en Enfermería': [16.78, 33.56, 72.71, 100.68],\n",
    "    'Grado en Farmacia': [16.78, 33.56, 72.71, 100.68],\n",
    "    'Grado en Física': [16.78, 33.56, 72.71, 100.68],\n",
    "    'Grado en Fisioterapia': [16.78, 33.56, 72.71, 100.68],\n",
    "    'Grado en Ingeniería Electrónica Industrial y Automática': [16.78, 33.56, 72.71, 100.68],\n",
    "    'Grado en Ingeniería Agroalimentaria y de Sistemas Biológicos': [16.78, 33.56, 72.71, 100.68],\n",
    "    'Grado en Ingeniería Civil': [16.78, 33.56, 72.71, 100.68],\n",
    "    'Grado en Ingeniería de Edificación': [16.78, 33.56, 72.71, 100.68],\n",
    "    'Grado en Ingeniería de la Hortofruticultura y Jardinería': [16.78, 33.56, 72.71, 100.68],\n",
    "    'Grado en Ingeniería de las Industrias Agroalimentarias': [16.78, 33.56, 72.71, 100.68],\n",
    "    'Grado en Ingeniería de Organización Industrial': [16.78, 33.56, 72.71, 100.68],\n",
    "    'Grado en Ingeniería de Recursos Minerales y Energía': [16.78, 33.56, 72.71, 100.68],\n",
    "    'Grado en Ingeniería Eléctrica': [16.78, 33.56, 72.71, 100.68],\n",
    "    'Grado en Ingeniería en Sistemas de Telecomunicación': [16.78, 33.56, 72.71, 100.68],\n",
    "    'Grado en Ingeniería en Tecnologías Industriales': [16.78, 33.56, 72.71, 100.68],\n",
    "    'Grado en Ingeniería Informática': [16.78, 33.56, 72.71, 100.68],\n",
    "    'Grado en Ingeniería Mecánica': [16.78, 33.56, 72.71, 100.68],\n",
    "    'Grado en Ingeniería Química': [16.78, 33.56, 72.71, 100.68],\n",
    "    'Grado en Ingeniería Química Industrial': [16.78, 33.56, 72.71, 100.68],\n",
    "    'Grado en Ingeniería Telemática': [16.78, 33.56, 72.71, 100.68],\n",
    "    'Grado en Logopedia': [16.78, 33.56, 72.71, 100.68],\n",
    "    'Grado en Medicina': [16.78, 33.56, 72.71, 100.68],\n",
    "    'Grado en Nutrición Humana y Dietética': [16.78, 33.56, 72.71, 100.68],\n",
    "    'Grado en Odontología': [16.78, 33.56, 72.71, 100.68],\n",
    "    'Grado en Óptica y Optometría': [16.78, 33.56, 72.71, 100.68],\n",
    "    'Grado en Psicología': [16.78, 33.56, 72.71, 100.68],\n",
    "    'Grado en Química': [16.78, 33.56, 72.71, 100.68],\n",
    "    'Grado en Veterinaria ': [16.78, 33.56, 72.71, 100.68],\n",
    "    'Grado en Administración y Dirección de Empresas': [14.38, 28.77, 62,32, 86.30],\n",
    "    'Grado en Ciencias Políticas, Gobierno y Administración Pública': [14.38, 28.77, 62,32, 86.30],\n",
    "    'Grado en Comunicación Audiovisual': [14.38, 28.77, 62,32, 86.30],\n",
    "    'Grado en Criminología': [14.38, 28.77, 62,32, 86.30],\n",
    "    'Grado en Derecho': [14.38, 28.77, 62,32, 86.30],\n",
    "    'Grado en Economía': [14.38, 28.77, 62,32, 86.30],\n",
    "    'Grado en Educación Infantil': [14.38, 28.77, 62,32, 86.30],\n",
    "    'Grado en Educación Primaria': [14.38, 28.77, 62,32, 86.30],\n",
    "    'Grado en Educación Social': [14.38, 28.77, 62,32, 86.30],\n",
    "    'Grado en Estudios Franceses': [14.38, 28.77, 62,32, 86.30],\n",
    "    'Grado en Estudios Ingleses': [14.38, 28.77, 62,32, 86.30],\n",
    "    'Grado en Filología Clásica': [14.38, 28.77, 62,32, 86.30],\n",
    "    'Grado en Filosofía': [14.38, 28.77, 62,32, 86.30],\n",
    "    'Grado en Geografía y Ordenación del Territorio': [14.38, 28.77, 62,32, 86.30],\n",
    "    'Grado en Historia': [14.38, 28.77, 62,32, 86.30],\n",
    "    'Grado en Historia del Arte': [14.38, 28.77, 62,32, 86.30],\n",
    "    'Grado en Información y Documentación': [14.38, 28.77, 62,32, 86.30],\n",
    "    'Grado en Lengua y Literatura Españolas': [14.38, 28.77, 62,32, 86.30],\n",
    "    'Grado en Marketing': [14.38, 28.77, 62,32, 86.30],\n",
    "    'Grado en Matemáticas': [14.38, 28.77, 62,32, 86.30],\n",
    "    'Grado en Pedagogía': [14.38, 28.77, 62,32, 86.30],\n",
    "    'Grado en Periodismo': [14.38, 28.77, 62,32, 86.30],\n",
    "    'Grado en Publicidad y Relaciones Públicas': [14.38, 28.77, 62,32, 86.30],\n",
    "    'Grado en Relaciones Internacionales': [14.38, 28.77, 62,32, 86.30],\n",
    "    'Grado en Relaciones Laborales y Recursos Humanos': [14.38, 28.77, 62,32, 86.30],\n",
    "    'Grado en Seguridad': [14.38, 28.77, 62,32, 86.30],\n",
    "    'Grado en Sociología': [14.38, 28.77, 62,32, 86.30],\n",
    "    'Grado en Trabajo Social': [14.38, 28.77, 62,32, 86.30],\n",
    "    'Grado en Traducción e Interpretación': [14.38, 28.77, 62,32, 86.30],\n",
    "    'Grado en Turismo ': [14.38, 28.77, 62,32, 86.30]\n",
    "}"
   ]
  },
  {
   "cell_type": "code",
   "execution_count": null,
   "metadata": {},
   "outputs": [],
   "source": [
    "page = requests.get(DEGREES_URL)\n",
    "soup = BeautifulSoup(page.content, 'html.parser')"
   ]
  },
  {
   "cell_type": "code",
   "execution_count": null,
   "metadata": {},
   "outputs": [],
   "source": [
    "def get_degree_list(soup):\n",
    "    degree_areas = list(map(lambda x: x.getText(), soup.select('.journal-content-article > h2')))\n",
    "    degree_tables = soup.select('.enlaces_titulaciones')\n",
    "    degree_list = []\n",
    "\n",
    "    for index, degree_table in enumerate(degree_tables):\n",
    "        area = degree_areas[index]\n",
    "\n",
    "        for degree_list_item in degree_table.select('li > a'):\n",
    "            name = degree_list_item.get_text()\n",
    "            degree_url = degree_list_item.get('href')\n",
    "            url = degree_url if 'http' in degree_url else BASE_URL.format(degree_url)\n",
    "\n",
    "            data = [name, url]\n",
    "\n",
    "            degree_list.append(data)\n",
    "\n",
    "    return degree_list"
   ]
  },
  {
   "cell_type": "code",
   "execution_count": null,
   "metadata": {},
   "outputs": [],
   "source": [
    "def get_degree_soups(degree_list):\n",
    "    degree_soups = []\n",
    "\n",
    "    for degree in degree_list:\n",
    "        page = requests.get(degree[1])\n",
    "        degree_soups.append(BeautifulSoup(page.content, 'html.parser'))\n",
    "    \n",
    "    return degree_soups"
   ]
  },
  {
   "cell_type": "code",
   "execution_count": null,
   "metadata": {},
   "outputs": [],
   "source": [
    "def get_degree_content(soup, url):\n",
    "    page = requests.get('{0}/description'.format(url))\n",
    "    content = BeautifulSoup(page.content, 'html.parser')\n",
    "    \n",
    "    "
   ]
  },
  {
   "cell_type": "code",
   "execution_count": null,
   "metadata": {},
   "outputs": [],
   "source": [
    "def get_degree_links(soup):\n",
    "    links = {}\n",
    "\n",
    "    links['description_url'] = set_url_base(info_links[2].get('href'));\n",
    "    links['profile_url'] = set_url_base(info_links[3].get('href'));\n",
    "    links['opportunities_url'] = set_url_base(info_links[5].get('href'));\n",
    "    links['subjects_url'] = set_url_base(data_links[1].get('href'));\n",
    "\n",
    "    return links"
   ]
  },
  {
   "cell_type": "code",
   "execution_count": null,
   "metadata": {},
   "outputs": [],
   "source": [
    "def save_degree(degree_soups, degree_list):\n",
    "    for index, soup in enumerate(degree_soups):\n",
    "        links = get_degree_links(soup)\n",
    "        content = get_degree_content(soup)\n",
    "        skills = get_degree_skills(links)\n",
    "        profile = get_degree_profile(links)\n",
    "        opportunities = get_degree_opportunities(links)\n",
    "        subjects = get_degree_subjects(links)\n",
    "\n",
    "        degree_list[index].append(content)\n",
    "        degree_list[index].append(skills)\n",
    "        degree_list[index].append(profile)\n",
    "        degree_list[index].append(opportunities)\n",
    "        degree_list[index].append(len(subjects))\n",
    "\n",
    "        degree_subjects_df = pd.DataFrame(subjects, columns=SUBJECT_COLUMNS)\n",
    "        degree_subjects_df.to_csv('{0}-degree-{1}.csv'.format(UNIVERSITY_NAME, degree_list[index][0]))\n",
    "\n",
    "    degrees_df = pd.DataFrame(degree_list, columns=DEGREE_COLUMNS)\n",
    "    degrees_df.to_csv('{0}.csv'.format(UNIVERSITY_NAME))"
   ]
  },
  {
   "cell_type": "code",
   "execution_count": null,
   "metadata": {},
   "outputs": [],
   "source": [
    "degree_list = get_degree_list(soup)\n",
    "degree_soups = get_degree_soups(degree_list)"
   ]
  },
  {
   "cell_type": "code",
   "execution_count": null,
   "metadata": {},
   "outputs": [],
   "source": [
    "save_degree(degree_soups, degree_list)"
   ]
  }
 ],
 "metadata": {
  "kernelspec": {
   "display_name": "Python 3",
   "language": "python",
   "name": "python3"
  },
  "language_info": {
   "codemirror_mode": {
    "name": "ipython",
    "version": 3
   },
   "file_extension": ".py",
   "mimetype": "text/x-python",
   "name": "python",
   "nbconvert_exporter": "python",
   "pygments_lexer": "ipython3",
   "version": "3.7.7"
  }
 },
 "nbformat": 4,
 "nbformat_minor": 4
}
